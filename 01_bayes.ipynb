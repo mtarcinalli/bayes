{
 "cells": [
  {
   "cell_type": "markdown",
   "metadata": {},
   "source": [
    "# Naive Bayes"
   ]
  },
  {
   "cell_type": "code",
   "execution_count": 1,
   "metadata": {},
   "outputs": [],
   "source": [
    "import csv"
   ]
  },
  {
   "cell_type": "code",
   "execution_count": 2,
   "metadata": {},
   "outputs": [],
   "source": [
    "def carregar(arquivo):\n",
    "    data = []\n",
    "    with open(arquivo) as csv_file:\n",
    "        csv_reader = csv.reader(csv_file, delimiter=';')\n",
    "        count = 0\n",
    "        for row in csv_reader:\n",
    "            if count != 0:\n",
    "                data.append(tuple(row))\n",
    "            count += 1\n",
    "    return(data)"
   ]
  },
  {
   "cell_type": "code",
   "execution_count": 3,
   "metadata": {},
   "outputs": [],
   "source": [
    "def treinamento(data):\n",
    "    total = len(data)\n",
    "    classes = list(set([x[-1] for x in data]))\n",
    "    combdata = {}\n",
    "    pdata = {}\n",
    "    for row in data:\n",
    "        classe = (row[-1])\n",
    "        if classe in combdata:\n",
    "            combdata[classe] += 1\n",
    "        else:\n",
    "            combdata[classe] = 1    \n",
    "        for d in row[:-1]:\n",
    "            if d in combdata:\n",
    "                combdata[d] += 1\n",
    "            else:\n",
    "                combdata[d] = 1\n",
    "            key = (d,classe)\n",
    "            if key in combdata:\n",
    "                combdata[key] += 1\n",
    "            else:\n",
    "                combdata[key] = 1\n",
    "    # calculando probabilidades\n",
    "    probdata = {}\n",
    "    for c in combdata:\n",
    "        if type(c) == tuple:\n",
    "            probdata[c] = combdata[c] / combdata[c[1]]\n",
    "        else:\n",
    "            probdata[c] = combdata[c] / total\n",
    "    probdata['classes'] = classes\n",
    "    return(probdata)"
   ]
  },
  {
   "cell_type": "code",
   "execution_count": 4,
   "metadata": {},
   "outputs": [],
   "source": [
    "def verificar(probdata, tupla):\n",
    "    probClasse = {}\n",
    "    valClasse = 0\n",
    "    maxClasse = ''\n",
    "    for classe in probdata['classes']:\n",
    "        numerador = 1\n",
    "        denominador = 1\n",
    "        for v in tupla:\n",
    "            key = (v, classe)\n",
    "            if key in probdata:\n",
    "                numerador = numerador * probdata[key]\n",
    "            else:\n",
    "                numerador = numerador * 0.001\n",
    "            denominador = denominador * probdata[v]\n",
    "        numerador = numerador * probdata[classe]\n",
    "        probClasse[classe] = numerador / denominador\n",
    "        print(classe,probClasse[classe])\n",
    "        if probClasse[classe] > valClasse:\n",
    "            valClasse = probClasse[classe]\n",
    "            maxClasse = classe\n",
    "    return(maxClasse)"
   ]
  },
  {
   "cell_type": "markdown",
   "metadata": {},
   "source": [
    "# dataset tempo"
   ]
  },
  {
   "cell_type": "code",
   "execution_count": 5,
   "metadata": {},
   "outputs": [
    {
     "data": {
      "text/plain": [
       "[('sunny', 'no'),\n",
       " ('overcast', 'yes'),\n",
       " ('rainny', 'yes'),\n",
       " ('sunny', 'yes'),\n",
       " ('sunny', 'yes'),\n",
       " ('overcast', 'yes'),\n",
       " ('rainny', 'no'),\n",
       " ('rainny', 'no'),\n",
       " ('sunny', 'yes'),\n",
       " ('rainny', 'yes'),\n",
       " ('sunny', 'no'),\n",
       " ('overcast', 'yes'),\n",
       " ('overcast', 'yes'),\n",
       " ('rainny', 'no')]"
      ]
     },
     "execution_count": 5,
     "metadata": {},
     "output_type": "execute_result"
    }
   ],
   "source": [
    "tempo =  carregar('data/tempo.csv')\n",
    "tempo"
   ]
  },
  {
   "cell_type": "code",
   "execution_count": 6,
   "metadata": {},
   "outputs": [],
   "source": [
    "modeloTempo = treinamento(tempo)"
   ]
  },
  {
   "cell_type": "code",
   "execution_count": 7,
   "metadata": {},
   "outputs": [
    {
     "name": "stdout",
     "output_type": "stream",
     "text": [
      "yes 0.6\n",
      "no 0.4\n"
     ]
    },
    {
     "data": {
      "text/plain": [
       "'yes'"
      ]
     },
     "execution_count": 7,
     "metadata": {},
     "output_type": "execute_result"
    }
   ],
   "source": [
    "verificar(modeloTempo, ['sunny'])"
   ]
  },
  {
   "cell_type": "code",
   "execution_count": 8,
   "metadata": {},
   "outputs": [
    {
     "name": "stdout",
     "output_type": "stream",
     "text": [
      "yes 1.0\n",
      "no 0.00125\n"
     ]
    },
    {
     "data": {
      "text/plain": [
       "'yes'"
      ]
     },
     "execution_count": 8,
     "metadata": {},
     "output_type": "execute_result"
    }
   ],
   "source": [
    "verificar(modeloTempo, ['overcast'])"
   ]
  },
  {
   "cell_type": "code",
   "execution_count": 9,
   "metadata": {},
   "outputs": [
    {
     "name": "stdout",
     "output_type": "stream",
     "text": [
      "yes 0.39999999999999997\n",
      "no 0.6\n"
     ]
    },
    {
     "data": {
      "text/plain": [
       "'no'"
      ]
     },
     "execution_count": 9,
     "metadata": {},
     "output_type": "execute_result"
    }
   ],
   "source": [
    "verificar(modeloTempo, ['rainny'])"
   ]
  },
  {
   "cell_type": "markdown",
   "metadata": {},
   "source": [
    "# dataset tenis"
   ]
  },
  {
   "cell_type": "code",
   "execution_count": 10,
   "metadata": {},
   "outputs": [
    {
     "data": {
      "text/plain": [
       "[('sol', 'quente', 'alta', 'falso', 'não'),\n",
       " ('sol', 'quente', 'alta', 'verdadeiro', 'não'),\n",
       " ('nublado', 'quente', 'alta', 'falso', 'sim'),\n",
       " ('chuva', 'agradável', 'alta', 'falso', 'sim'),\n",
       " ('chuva', 'fria', 'normal', 'falso', 'sim'),\n",
       " ('chuva', 'fria', 'normal', 'verdadeiro', 'não'),\n",
       " ('nublado', 'fria', 'normal', 'verdadeiro', 'sim'),\n",
       " ('sol', 'agradável', 'alta', 'falso', 'não'),\n",
       " ('sol', 'fria', 'normal', 'falso', 'sim'),\n",
       " ('chuva', 'agradável', 'normal', 'falso', 'sim'),\n",
       " ('sol', 'agradável', 'normal', 'verdadeiro', 'sim'),\n",
       " ('nublado', 'agradável', 'alta', 'verdadeiro', 'sim'),\n",
       " ('nublado', 'quente', 'normal', 'falso', 'sim'),\n",
       " ('chuva', 'agradável', 'alta', 'verdadeiro', 'não')]"
      ]
     },
     "execution_count": 10,
     "metadata": {},
     "output_type": "execute_result"
    }
   ],
   "source": [
    "tenis = carregar('data/tenis.csv')\n",
    "tenis"
   ]
  },
  {
   "cell_type": "code",
   "execution_count": 11,
   "metadata": {},
   "outputs": [],
   "source": [
    "modeloTenis = treinamento(tenis)"
   ]
  },
  {
   "cell_type": "code",
   "execution_count": 12,
   "metadata": {},
   "outputs": [
    {
     "name": "stdout",
     "output_type": "stream",
     "text": [
      "sim 0.2419753086419753\n",
      "não 0.9408\n",
      "não\n"
     ]
    }
   ],
   "source": [
    "tupla = ('sol', 'fria', 'alta', 'verdadeiro')\n",
    "print(verificar(modeloTenis, tupla))"
   ]
  },
  {
   "cell_type": "code",
   "execution_count": 13,
   "metadata": {},
   "outputs": [
    {
     "name": "stdout",
     "output_type": "stream",
     "text": [
      "sim 0.7259259259259259\n",
      "não 0.15680000000000005\n",
      "sim\n"
     ]
    }
   ],
   "source": [
    "tupla = ('chuva', 'fria', 'normal', 'verdadeiro')\n",
    "print(verificar(modeloTenis, tupla))"
   ]
  },
  {
   "cell_type": "code",
   "execution_count": null,
   "metadata": {},
   "outputs": [],
   "source": []
  },
  {
   "cell_type": "code",
   "execution_count": null,
   "metadata": {},
   "outputs": [],
   "source": []
  },
  {
   "cell_type": "code",
   "execution_count": null,
   "metadata": {},
   "outputs": [],
   "source": []
  },
  {
   "cell_type": "code",
   "execution_count": null,
   "metadata": {},
   "outputs": [],
   "source": []
  },
  {
   "cell_type": "code",
   "execution_count": null,
   "metadata": {},
   "outputs": [],
   "source": []
  },
  {
   "cell_type": "code",
   "execution_count": null,
   "metadata": {},
   "outputs": [],
   "source": []
  },
  {
   "cell_type": "code",
   "execution_count": null,
   "metadata": {},
   "outputs": [],
   "source": []
  },
  {
   "cell_type": "code",
   "execution_count": null,
   "metadata": {},
   "outputs": [],
   "source": []
  },
  {
   "cell_type": "code",
   "execution_count": null,
   "metadata": {},
   "outputs": [],
   "source": []
  },
  {
   "cell_type": "code",
   "execution_count": null,
   "metadata": {},
   "outputs": [],
   "source": []
  }
 ],
 "metadata": {
  "kernelspec": {
   "display_name": "Python 3",
   "language": "python",
   "name": "python3"
  },
  "language_info": {
   "codemirror_mode": {
    "name": "ipython",
    "version": 3
   },
   "file_extension": ".py",
   "mimetype": "text/x-python",
   "name": "python",
   "nbconvert_exporter": "python",
   "pygments_lexer": "ipython3",
   "version": "3.7.3"
  }
 },
 "nbformat": 4,
 "nbformat_minor": 4
}
