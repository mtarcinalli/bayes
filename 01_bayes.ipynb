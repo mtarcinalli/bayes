{
 "cells": [
  {
   "cell_type": "markdown",
   "metadata": {},
   "source": [
    "# Naive Bayes"
   ]
  },
  {
   "cell_type": "code",
   "execution_count": 1,
   "metadata": {},
   "outputs": [],
   "source": [
    "import warnings\n",
    "import numpy as np\n",
    "from mlxtend.plotting import plot_decision_regions\n",
    "warnings.filterwarnings('ignore')"
   ]
  },
  {
   "cell_type": "code",
   "execution_count": 2,
   "metadata": {},
   "outputs": [],
   "source": [
    "#%%writefile classificador.py\n",
    "import csv\n",
    "import random\n",
    "\n",
    "class Classificador:\n",
    "    dados = []\n",
    "    modelo = {}\n",
    "    \n",
    "    def carregar(self, arquivo, delimiter=';', quoteChar='\"', ignoraLinha1=True, ignoraColuna1=False):\n",
    "        self.dados = []\n",
    "        with open(arquivo) as csv_file:\n",
    "            csv_reader = csv.reader(csv_file, delimiter=delimiter, quoting=csv.QUOTE_NONNUMERIC)\n",
    "            if ignoraLinha1:\n",
    "                next(csv_reader)                  \n",
    "            for i, row in enumerate(csv_reader):\n",
    "                if type(row[-1]) != str:\n",
    "                    row[-1] = str(int(row[-1]))\n",
    "                if ignoraColuna1:\n",
    "                    self.dados.append(tuple(row[1:]))\n",
    "                else:\n",
    "                    self.dados.append(tuple(row))\n",
    "    \n",
    "    def carregarTexto(self, arquivo):\n",
    "        dataset = []\n",
    "        # lista com todas as palavras encontradas\n",
    "        palavras = []\n",
    "        # carregando dataset\n",
    "        # pré-processamento:\n",
    "        # - remoção pontuação\n",
    "        # - conversão para minusculas\n",
    "        # - remoção de palavras com menos de 3 caracteres\n",
    "        with open(arquivo) as file:\n",
    "            for line in file:\n",
    "                frase = ''\n",
    "                for ch in line[:-2].lower():\n",
    "                    if ch.isalpha():\n",
    "                        frase += ch\n",
    "                    else:\n",
    "                        frase += ' '\n",
    "                # conversão da frase em lista de palavras\n",
    "                frase = [ x for x in frase.strip().split(' ') if x != '' and len(x) > 3 ]\n",
    "                classificacao = int(line[-2])\n",
    "                dataset.append((frase,classificacao))\n",
    "                palavras += frase\n",
    "        # removendo repetição de palavras\n",
    "        palavras = list(set(palavras))\n",
    "        # convertendo frases para matriz com atributos nominais\n",
    "        # ps<i> : indica que a palavra de indice <i> foi encontrada\n",
    "        # pn<i> : indica que a palavra de indice <i> não foi encontrada\n",
    "        dataset2 = []\n",
    "        for x in dataset:\n",
    "            aux = []\n",
    "            for i,p in enumerate(palavras):\n",
    "                if p in x[0]:\n",
    "                    aux.append('ps'+str(i))\n",
    "                else:\n",
    "                    aux.append('pn'+str(i))\n",
    "            aux.append(str(x[1]))\n",
    "            dataset2.append(aux)\n",
    "        self.dados = dataset2\n",
    "    \n",
    "    def treinar(self):\n",
    "        total = len(self.dados)\n",
    "        classes = list(set([x[-1] for x in self.dados]))\n",
    "        combdata = {}\n",
    "        pdata = {}\n",
    "        for row in self.dados:\n",
    "            classe = (row[-1])\n",
    "            if classe in combdata:\n",
    "                combdata[classe] += 1\n",
    "            else:\n",
    "                combdata[classe] = 1    \n",
    "            for i, d in enumerate(row[:-1]):\n",
    "                # variavel continua\n",
    "                if type(d) != str:\n",
    "                    ind = 'i'+str(i)\n",
    "                    if ind in combdata:\n",
    "                        combdata[ind].append(float(d))\n",
    "                    else:\n",
    "                        combdata[ind] = [ float(d) ]\n",
    "                    key = (ind,classe)    \n",
    "                    if key in combdata:\n",
    "                        combdata[key].append(float(d))\n",
    "                    else:\n",
    "                        combdata[key] = [float(d)]\n",
    "                # variavel nominal\n",
    "                else:\n",
    "                    if d in combdata:\n",
    "                        combdata[d] += 1\n",
    "                    else:\n",
    "                        combdata[d] = 1\n",
    "                    key = (d,classe)\n",
    "                    if key in combdata:\n",
    "                        combdata[key] += 1\n",
    "                    else:\n",
    "                        combdata[key] = 1\n",
    "        # calculando probabilidades\n",
    "        self.modelo = {}\n",
    "        for c in combdata:\n",
    "            if type(c) == tuple:\n",
    "                if type(combdata[c]) != list:\n",
    "                    self.modelo[c] = combdata[c] / combdata[c[1]]\n",
    "                else:\n",
    "                    media =  sum(combdata[c])/len(combdata[c])\n",
    "                    desvio = (sum([(x-media)**2 for x in combdata[c]])/(len(combdata[c])-1))**0.5\n",
    "                    self.modelo[c] = {\n",
    "                        'media' : media,\n",
    "                        'desvio' : desvio\n",
    "                    }\n",
    "            else:\n",
    "                if type(combdata[c]) != list:\n",
    "                    self.modelo[c] = combdata[c] / total\n",
    "                else:\n",
    "                    media =  sum(combdata[c])/len(combdata[c])\n",
    "                    desvio = (sum([(x-media)**2 for x in combdata[c]])/(len(combdata[c])-1))**0.5\n",
    "                    self.modelo[c] = {\n",
    "                        'media' : media,\n",
    "                        'desvio' : desvio\n",
    "                    }\n",
    "        self.modelo['classes'] = classes\n",
    "    \n",
    "    def g(self, x, media, desvio):\n",
    "        p1 = 1 / ( (2*3.141592653589793)**0.5 * desvio  )\n",
    "        p2 = 2.718281828459045 ** (-((x - media) ** 2) / (2 * desvio ** 2))\n",
    "        return p1 * p2\n",
    "    \n",
    "    def predizer(self, tupla, debug=False):\n",
    "        probClasse = {}\n",
    "        valClasse = 0\n",
    "        maxClasse = ''\n",
    "        for classe in self.modelo['classes']:\n",
    "            numerador = 1\n",
    "            denominador = 1\n",
    "            for i, v in enumerate(tupla):\n",
    "                # atributo nominal\n",
    "                if type(v) == str:\n",
    "                    key = (v, classe)\n",
    "                    if key in self.modelo:\n",
    "                        numerador = numerador * self.modelo[key]\n",
    "                    else:\n",
    "                        numerador = numerador * 0.001\n",
    "                    if v in self.modelo:\n",
    "                        denominador = denominador * self.modelo[v]\n",
    "                    else:\n",
    "                        denominador = denominador * 0.001\n",
    "                # atributo continuo\n",
    "                else:\n",
    "                    v = float(v)\n",
    "                    key1 = ('i'+str(i),classe)\n",
    "                    key2 = 'i'+str(i)\n",
    "                    if key1 in self.modelo:\n",
    "                        numerador = numerador * self.g(v,self.modelo[key1]['media'],self.modelo[key1]['desvio'])\n",
    "                    denominador = denominador * self.g(v,self.modelo[key2]['media'],self.modelo[key2]['desvio'])\n",
    "            numerador = numerador * self.modelo[classe]\n",
    "            probClasse[classe] = numerador / denominador\n",
    "            if debug:\n",
    "                print(classe,probClasse[classe])\n",
    "            if probClasse[classe] > valClasse:\n",
    "                valClasse = probClasse[classe]\n",
    "                maxClasse = classe\n",
    "        return(maxClasse)        \n",
    "    \n",
    "    # método necessário para gerar gráfico\n",
    "    def predict(self, tuplas):\n",
    "        res = []\n",
    "        for t in tuplas:\n",
    "            res.append(int(self.predizer(t)))\n",
    "        return(np.array(res))\n",
    "\n",
    "    def graficoFronteira(self):\n",
    "        X = np.array([ [float(x[0]),float(x[1])] for x in self.dados ])\n",
    "        y = np.array([ int(float(x[2])) for x in self.dados ])\n",
    "        plot_decision_regions(X, y, clf=self, legend=2)\n",
    "        \n",
    "def validacaoCruzada(clf, porcentagem=0.7):\n",
    "    dados = clf.dados\n",
    "    random.shuffle(dados)\n",
    "    dadosTreinamento = dados[:int(len(dados)*porcentagem)]\n",
    "    dadosTestes = dados[int(len(dados)*porcentagem):]\n",
    "    clf2 = Classificador()\n",
    "    clf2.dados = dadosTreinamento\n",
    "    clf2.treinar()\n",
    "    ok = 0\n",
    "    for tupla in dadosTestes:\n",
    "        #tupl = [ float(x) for x in tupla[:-1]]\n",
    "        tupl = tupla[:-1]\n",
    "        pred = clf2.predizer(tupl, debug=False) \n",
    "        if pred == tupla[-1]:\n",
    "            ok += 1\n",
    "    print('Conj Teste:',len(dadosTestes))\n",
    "    print('Acertos   :',ok)\n",
    "    print('Acurácia  :',ok/len(dadosTestes)*100,'%')"
   ]
  },
  {
   "cell_type": "markdown",
   "metadata": {},
   "source": [
    "# dataset tempo"
   ]
  },
  {
   "cell_type": "code",
   "execution_count": 3,
   "metadata": {},
   "outputs": [
    {
     "name": "stdout",
     "output_type": "stream",
     "text": [
      "\"temp\";\"yesno\"\r\n",
      "\"sunny\";\"no\"\r\n",
      "\"overcast\";\"yes\"\r\n",
      "\"rainny\";\"yes\"\r\n",
      "\"sunny\";\"yes\"\r\n",
      "\"sunny\";\"yes\"\r\n",
      "\"overcast\";\"yes\"\r\n",
      "\"rainny\";\"no\"\r\n",
      "\"rainny\";\"no\"\r\n",
      "\"sunny\";\"yes\"\r\n"
     ]
    }
   ],
   "source": [
    "!head data/tempo.csv"
   ]
  },
  {
   "cell_type": "code",
   "execution_count": 4,
   "metadata": {},
   "outputs": [
    {
     "name": "stdout",
     "output_type": "stream",
     "text": [
      "14 data/tempo.csv\r\n"
     ]
    }
   ],
   "source": [
    "!wc -l data/tempo.csv"
   ]
  },
  {
   "cell_type": "code",
   "execution_count": 5,
   "metadata": {},
   "outputs": [
    {
     "name": "stdout",
     "output_type": "stream",
     "text": [
      "14\n"
     ]
    },
    {
     "data": {
      "text/plain": [
       "[('sunny', 'no'),\n",
       " ('overcast', 'yes'),\n",
       " ('rainny', 'yes'),\n",
       " ('sunny', 'yes'),\n",
       " ('sunny', 'yes'),\n",
       " ('overcast', 'yes'),\n",
       " ('rainny', 'no'),\n",
       " ('rainny', 'no'),\n",
       " ('sunny', 'yes'),\n",
       " ('rainny', 'yes'),\n",
       " ('sunny', 'no'),\n",
       " ('overcast', 'yes'),\n",
       " ('overcast', 'yes'),\n",
       " ('rainny', 'no')]"
      ]
     },
     "execution_count": 5,
     "metadata": {},
     "output_type": "execute_result"
    }
   ],
   "source": [
    "tempo = Classificador()\n",
    "tempo.carregar('data/tempo.csv')\n",
    "print(len(tempo.dados))\n",
    "tempo.dados"
   ]
  },
  {
   "cell_type": "code",
   "execution_count": 6,
   "metadata": {},
   "outputs": [
    {
     "data": {
      "text/plain": [
       "{'no': 0.35714285714285715,\n",
       " 'sunny': 0.35714285714285715,\n",
       " ('sunny', 'no'): 0.4,\n",
       " 'yes': 0.6428571428571429,\n",
       " 'overcast': 0.2857142857142857,\n",
       " ('overcast', 'yes'): 0.4444444444444444,\n",
       " 'rainny': 0.35714285714285715,\n",
       " ('rainny', 'yes'): 0.2222222222222222,\n",
       " ('sunny', 'yes'): 0.3333333333333333,\n",
       " ('rainny', 'no'): 0.6,\n",
       " 'classes': ['yes', 'no']}"
      ]
     },
     "execution_count": 6,
     "metadata": {},
     "output_type": "execute_result"
    }
   ],
   "source": [
    "tempo.treinar()\n",
    "tempo.modelo"
   ]
  },
  {
   "cell_type": "code",
   "execution_count": 7,
   "metadata": {},
   "outputs": [
    {
     "name": "stdout",
     "output_type": "stream",
     "text": [
      "yes 0.6\n",
      "no 0.4\n"
     ]
    },
    {
     "data": {
      "text/plain": [
       "'yes'"
      ]
     },
     "execution_count": 7,
     "metadata": {},
     "output_type": "execute_result"
    }
   ],
   "source": [
    "tempo.predizer(['sunny'], debug=True)"
   ]
  },
  {
   "cell_type": "code",
   "execution_count": 8,
   "metadata": {},
   "outputs": [
    {
     "name": "stdout",
     "output_type": "stream",
     "text": [
      "yes 1.0\n",
      "no 0.00125\n"
     ]
    },
    {
     "data": {
      "text/plain": [
       "'yes'"
      ]
     },
     "execution_count": 8,
     "metadata": {},
     "output_type": "execute_result"
    }
   ],
   "source": [
    "tempo.predizer(['overcast'], debug=True)"
   ]
  },
  {
   "cell_type": "code",
   "execution_count": 9,
   "metadata": {},
   "outputs": [
    {
     "name": "stdout",
     "output_type": "stream",
     "text": [
      "yes 0.39999999999999997\n",
      "no 0.6\n"
     ]
    },
    {
     "data": {
      "text/plain": [
       "'no'"
      ]
     },
     "execution_count": 9,
     "metadata": {},
     "output_type": "execute_result"
    }
   ],
   "source": [
    "tempo.predizer(['rainny'], debug=True)"
   ]
  },
  {
   "cell_type": "markdown",
   "metadata": {},
   "source": [
    "# dataset tenis"
   ]
  },
  {
   "cell_type": "code",
   "execution_count": 10,
   "metadata": {},
   "outputs": [
    {
     "name": "stdout",
     "output_type": "stream",
     "text": [
      "\"Aparência\";\"Temperatura\";\"Umidade\";\"Ventando\";\"Jogar\"\r\n",
      "\"sol\";\"quente\";\"alta\";\"falso\";\"não\"\r\n",
      "\"sol\";\"quente\";\"alta\";\"verdadeiro\";\"não\"\r\n",
      "\"nublado\";\"quente\";\"alta\";\"falso\";\"sim\"\r\n",
      "\"chuva\";\"agradável\";\"alta\";\"falso\";\"sim\"\r\n",
      "\"chuva\";\"fria\";\"normal\";\"falso\";\"sim\"\r\n",
      "\"chuva\";\"fria\";\"normal\";\"verdadeiro\";\"não\"\r\n",
      "\"nublado\";\"fria\";\"normal\";\"verdadeiro\";\"sim\"\r\n",
      "\"sol\";\"agradável\";\"alta\";\"falso\";\"não\"\r\n",
      "\"sol\";\"fria\";\"normal\";\"falso\";\"sim\"\r\n"
     ]
    }
   ],
   "source": [
    "!head data/tenis.csv"
   ]
  },
  {
   "cell_type": "code",
   "execution_count": 11,
   "metadata": {},
   "outputs": [
    {
     "name": "stdout",
     "output_type": "stream",
     "text": [
      "14 data/tenis.csv\r\n"
     ]
    }
   ],
   "source": [
    "!wc -l data/tenis.csv"
   ]
  },
  {
   "cell_type": "code",
   "execution_count": 12,
   "metadata": {},
   "outputs": [
    {
     "name": "stdout",
     "output_type": "stream",
     "text": [
      "14\n"
     ]
    },
    {
     "data": {
      "text/plain": [
       "[('sol', 'quente', 'alta', 'falso', 'não'),\n",
       " ('sol', 'quente', 'alta', 'verdadeiro', 'não'),\n",
       " ('nublado', 'quente', 'alta', 'falso', 'sim'),\n",
       " ('chuva', 'agradável', 'alta', 'falso', 'sim'),\n",
       " ('chuva', 'fria', 'normal', 'falso', 'sim'),\n",
       " ('chuva', 'fria', 'normal', 'verdadeiro', 'não'),\n",
       " ('nublado', 'fria', 'normal', 'verdadeiro', 'sim'),\n",
       " ('sol', 'agradável', 'alta', 'falso', 'não'),\n",
       " ('sol', 'fria', 'normal', 'falso', 'sim'),\n",
       " ('chuva', 'agradável', 'normal', 'falso', 'sim'),\n",
       " ('sol', 'agradável', 'normal', 'verdadeiro', 'sim'),\n",
       " ('nublado', 'agradável', 'alta', 'verdadeiro', 'sim'),\n",
       " ('nublado', 'quente', 'normal', 'falso', 'sim'),\n",
       " ('chuva', 'agradável', 'alta', 'verdadeiro', 'não')]"
      ]
     },
     "execution_count": 12,
     "metadata": {},
     "output_type": "execute_result"
    }
   ],
   "source": [
    "tenis = Classificador()\n",
    "tenis.carregar('data/tenis.csv')\n",
    "print(len(tenis.dados))\n",
    "tenis.dados"
   ]
  },
  {
   "cell_type": "code",
   "execution_count": 13,
   "metadata": {},
   "outputs": [
    {
     "data": {
      "text/plain": [
       "{'não': 0.35714285714285715,\n",
       " 'sol': 0.35714285714285715,\n",
       " ('sol', 'não'): 0.6,\n",
       " 'quente': 0.2857142857142857,\n",
       " ('quente', 'não'): 0.4,\n",
       " 'alta': 0.5,\n",
       " ('alta', 'não'): 0.8,\n",
       " 'falso': 0.5714285714285714,\n",
       " ('falso', 'não'): 0.4,\n",
       " 'verdadeiro': 0.42857142857142855,\n",
       " ('verdadeiro', 'não'): 0.6,\n",
       " 'sim': 0.6428571428571429,\n",
       " 'nublado': 0.2857142857142857,\n",
       " ('nublado', 'sim'): 0.4444444444444444,\n",
       " ('quente', 'sim'): 0.2222222222222222,\n",
       " ('alta', 'sim'): 0.3333333333333333,\n",
       " ('falso', 'sim'): 0.6666666666666666,\n",
       " 'chuva': 0.35714285714285715,\n",
       " ('chuva', 'sim'): 0.3333333333333333,\n",
       " 'agradável': 0.42857142857142855,\n",
       " ('agradável', 'sim'): 0.4444444444444444,\n",
       " 'fria': 0.2857142857142857,\n",
       " ('fria', 'sim'): 0.3333333333333333,\n",
       " 'normal': 0.5,\n",
       " ('normal', 'sim'): 0.6666666666666666,\n",
       " ('chuva', 'não'): 0.4,\n",
       " ('fria', 'não'): 0.2,\n",
       " ('normal', 'não'): 0.2,\n",
       " ('verdadeiro', 'sim'): 0.3333333333333333,\n",
       " ('agradável', 'não'): 0.4,\n",
       " ('sol', 'sim'): 0.2222222222222222,\n",
       " 'classes': ['sim', 'não']}"
      ]
     },
     "execution_count": 13,
     "metadata": {},
     "output_type": "execute_result"
    }
   ],
   "source": [
    "tenis.treinar()\n",
    "tenis.modelo"
   ]
  },
  {
   "cell_type": "code",
   "execution_count": 14,
   "metadata": {},
   "outputs": [
    {
     "name": "stdout",
     "output_type": "stream",
     "text": [
      "sim 0.2419753086419753\n",
      "não 0.9408\n"
     ]
    },
    {
     "data": {
      "text/plain": [
       "'não'"
      ]
     },
     "execution_count": 14,
     "metadata": {},
     "output_type": "execute_result"
    }
   ],
   "source": [
    "tenis.predizer(['sol', 'fria', 'alta', 'verdadeiro'], debug=True)"
   ]
  },
  {
   "cell_type": "code",
   "execution_count": 15,
   "metadata": {},
   "outputs": [
    {
     "name": "stdout",
     "output_type": "stream",
     "text": [
      "sim 0.7259259259259259\n",
      "não 0.15680000000000005\n"
     ]
    },
    {
     "data": {
      "text/plain": [
       "'sim'"
      ]
     },
     "execution_count": 15,
     "metadata": {},
     "output_type": "execute_result"
    }
   ],
   "source": [
    "tenis.predizer(['chuva', 'fria', 'normal', 'verdadeiro'], debug=True)"
   ]
  },
  {
   "cell_type": "markdown",
   "metadata": {},
   "source": [
    "# tenis2 dataset: atributos continuos"
   ]
  },
  {
   "cell_type": "code",
   "execution_count": 16,
   "metadata": {},
   "outputs": [
    {
     "name": "stdout",
     "output_type": "stream",
     "text": [
      "\"Aparência\";\"Temperatura\";\"Umidade\";\"Ventando\";\"Jogar\"\r\n",
      "\"sol\";85;85;\"falso\";\"não\"\r\n",
      "\"sol\";80;90;\"verdadeiro\";\"não\"\r\n",
      "\"nublado\";83;86;\"falso\";\"sim\"\r\n",
      "\"chuva\";70;96;\"falso\";\"sim\"\r\n",
      "\"chuva\";68;80;\"falso\";\"sim\"\r\n",
      "\"chuva\";65;70;\"verdadeiro\";\"não\"\r\n",
      "\"nublado\";64;65;\"verdadeiro\";\"sim\"\r\n",
      "\"sol\";72;95;\"falso\";\"não\"\r\n",
      "\"sol\";69;70;\"falso\";\"sim\"\r\n"
     ]
    }
   ],
   "source": [
    "!head data/tenis2.csv"
   ]
  },
  {
   "cell_type": "code",
   "execution_count": 17,
   "metadata": {},
   "outputs": [
    {
     "name": "stdout",
     "output_type": "stream",
     "text": [
      "14 data/tenis2.csv\r\n"
     ]
    }
   ],
   "source": [
    "!wc -l data/tenis2.csv"
   ]
  },
  {
   "cell_type": "code",
   "execution_count": 18,
   "metadata": {},
   "outputs": [
    {
     "name": "stdout",
     "output_type": "stream",
     "text": [
      "14\n"
     ]
    },
    {
     "data": {
      "text/plain": [
       "[('sol', 85.0, 85.0, 'falso', 'não'),\n",
       " ('sol', 80.0, 90.0, 'verdadeiro', 'não'),\n",
       " ('nublado', 83.0, 86.0, 'falso', 'sim'),\n",
       " ('chuva', 70.0, 96.0, 'falso', 'sim'),\n",
       " ('chuva', 68.0, 80.0, 'falso', 'sim'),\n",
       " ('chuva', 65.0, 70.0, 'verdadeiro', 'não'),\n",
       " ('nublado', 64.0, 65.0, 'verdadeiro', 'sim'),\n",
       " ('sol', 72.0, 95.0, 'falso', 'não'),\n",
       " ('sol', 69.0, 70.0, 'falso', 'sim'),\n",
       " ('chuva', 75.0, 80.0, 'falso', 'sim'),\n",
       " ('sol', 75.0, 70.0, 'verdadeiro', 'sim'),\n",
       " ('nublado', 72.0, 90.0, 'verdadeiro', 'sim'),\n",
       " ('nublado', 81.0, 75.0, 'falso', 'sim'),\n",
       " ('chuva', 71.0, 91.0, 'verdadeiro', 'não')]"
      ]
     },
     "execution_count": 18,
     "metadata": {},
     "output_type": "execute_result"
    }
   ],
   "source": [
    "tenis2 = Classificador()\n",
    "tenis2.carregar('data/tenis2.csv')\n",
    "print(len(tenis2.dados))\n",
    "tenis2.dados"
   ]
  },
  {
   "cell_type": "code",
   "execution_count": 19,
   "metadata": {},
   "outputs": [
    {
     "data": {
      "text/plain": [
       "{'não': 0.35714285714285715,\n",
       " 'sol': 0.35714285714285715,\n",
       " ('sol', 'não'): 0.6,\n",
       " 'i1': {'media': 73.57142857142857, 'desvio': 6.57166745862975},\n",
       " ('i1', 'não'): {'media': 74.6, 'desvio': 7.893034904268446},\n",
       " 'i2': {'media': 81.64285714285714, 'desvio': 10.285218242007035},\n",
       " ('i2', 'não'): {'media': 86.2, 'desvio': 9.731392500562292},\n",
       " 'falso': 0.5714285714285714,\n",
       " ('falso', 'não'): 0.4,\n",
       " 'verdadeiro': 0.42857142857142855,\n",
       " ('verdadeiro', 'não'): 0.6,\n",
       " 'sim': 0.6428571428571429,\n",
       " 'nublado': 0.2857142857142857,\n",
       " ('nublado', 'sim'): 0.4444444444444444,\n",
       " ('i1', 'sim'): {'media': 73.0, 'desvio': 6.164414002968976},\n",
       " ('i2', 'sim'): {'media': 79.11111111111111, 'desvio': 10.215728613814635},\n",
       " ('falso', 'sim'): 0.6666666666666666,\n",
       " 'chuva': 0.35714285714285715,\n",
       " ('chuva', 'sim'): 0.3333333333333333,\n",
       " ('chuva', 'não'): 0.4,\n",
       " ('verdadeiro', 'sim'): 0.3333333333333333,\n",
       " ('sol', 'sim'): 0.2222222222222222,\n",
       " 'classes': ['sim', 'não']}"
      ]
     },
     "execution_count": 19,
     "metadata": {},
     "output_type": "execute_result"
    }
   ],
   "source": [
    "tenis2.treinar()\n",
    "tenis2.modelo"
   ]
  },
  {
   "cell_type": "code",
   "execution_count": 20,
   "metadata": {},
   "outputs": [
    {
     "name": "stdout",
     "output_type": "stream",
     "text": [
      "sim 0.2984141388375451\n",
      "não 0.6661952433370804\n"
     ]
    },
    {
     "data": {
      "text/plain": [
       "'não'"
      ]
     },
     "execution_count": 20,
     "metadata": {},
     "output_type": "execute_result"
    }
   ],
   "source": [
    "tenis2.predizer(['sol', 83, 73, 'verdadeiro'], debug=True)"
   ]
  },
  {
   "cell_type": "markdown",
   "metadata": {},
   "source": [
    "# dataset iris"
   ]
  },
  {
   "cell_type": "code",
   "execution_count": 21,
   "metadata": {},
   "outputs": [
    {
     "name": "stdout",
     "output_type": "stream",
     "text": [
      "5.1,3.5,1.4,0.2,\"Iris-setosa\"\r\n",
      "4.9,3.0,1.4,0.2,\"Iris-setosa\"\r\n",
      "4.7,3.2,1.3,0.2,\"Iris-setosa\"\r\n",
      "4.6,3.1,1.5,0.2,\"Iris-setosa\"\r\n",
      "5.0,3.6,1.4,0.2,\"Iris-setosa\"\r\n",
      "5.4,3.9,1.7,0.4,\"Iris-setosa\"\r\n",
      "4.6,3.4,1.4,0.3,\"Iris-setosa\"\r\n",
      "5.0,3.4,1.5,0.2,\"Iris-setosa\"\r\n",
      "4.4,2.9,1.4,0.2,\"Iris-setosa\"\r\n",
      "4.9,3.1,1.5,0.1,\"Iris-setosa\"\r\n"
     ]
    }
   ],
   "source": [
    "!head data/iris/iris.data"
   ]
  },
  {
   "cell_type": "code",
   "execution_count": 22,
   "metadata": {},
   "outputs": [
    {
     "name": "stdout",
     "output_type": "stream",
     "text": [
      "149 data/iris/iris.data\r\n"
     ]
    }
   ],
   "source": [
    "!wc -l data/iris/iris.data"
   ]
  },
  {
   "cell_type": "code",
   "execution_count": 23,
   "metadata": {},
   "outputs": [
    {
     "name": "stdout",
     "output_type": "stream",
     "text": [
      "10\n"
     ]
    },
    {
     "data": {
      "text/plain": [
       "[(5.1, 3.5, 1.4, 0.2, 'Iris-setosa'),\n",
       " (4.9, 3.0, 1.4, 0.2, 'Iris-setosa'),\n",
       " (4.7, 3.2, 1.3, 0.2, 'Iris-setosa'),\n",
       " (4.6, 3.1, 1.5, 0.2, 'Iris-setosa'),\n",
       " (5.0, 3.6, 1.4, 0.2, 'Iris-setosa'),\n",
       " (5.4, 3.9, 1.7, 0.4, 'Iris-setosa'),\n",
       " (4.6, 3.4, 1.4, 0.3, 'Iris-setosa'),\n",
       " (5.0, 3.4, 1.5, 0.2, 'Iris-setosa'),\n",
       " (4.4, 2.9, 1.4, 0.2, 'Iris-setosa'),\n",
       " (4.9, 3.1, 1.5, 0.1, 'Iris-setosa'),\n",
       " (5.4, 3.7, 1.5, 0.2, 'Iris-setosa'),\n",
       " (4.8, 3.4, 1.6, 0.2, 'Iris-setosa'),\n",
       " (4.8, 3.0, 1.4, 0.1, 'Iris-setosa'),\n",
       " (4.3, 3.0, 1.1, 0.1, 'Iris-setosa'),\n",
       " (5.8, 4.0, 1.2, 0.2, 'Iris-setosa'),\n",
       " (5.7, 4.4, 1.5, 0.4, 'Iris-setosa'),\n",
       " (5.4, 3.9, 1.3, 0.4, 'Iris-setosa'),\n",
       " (5.1, 3.5, 1.4, 0.3, 'Iris-setosa'),\n",
       " (5.7, 3.8, 1.7, 0.3, 'Iris-setosa'),\n",
       " (5.1, 3.8, 1.5, 0.3, 'Iris-setosa'),\n",
       " (5.4, 3.4, 1.7, 0.2, 'Iris-setosa'),\n",
       " (5.1, 3.7, 1.5, 0.4, 'Iris-setosa'),\n",
       " (4.6, 3.6, 1.0, 0.2, 'Iris-setosa'),\n",
       " (5.1, 3.3, 1.7, 0.5, 'Iris-setosa'),\n",
       " (4.8, 3.4, 1.9, 0.2, 'Iris-setosa'),\n",
       " (5.0, 3.0, 1.6, 0.2, 'Iris-setosa'),\n",
       " (5.0, 3.4, 1.6, 0.4, 'Iris-setosa'),\n",
       " (5.2, 3.5, 1.5, 0.2, 'Iris-setosa'),\n",
       " (5.2, 3.4, 1.4, 0.2, 'Iris-setosa'),\n",
       " (4.7, 3.2, 1.6, 0.2, 'Iris-setosa'),\n",
       " (4.8, 3.1, 1.6, 0.2, 'Iris-setosa'),\n",
       " (5.4, 3.4, 1.5, 0.4, 'Iris-setosa'),\n",
       " (5.2, 4.1, 1.5, 0.1, 'Iris-setosa'),\n",
       " (5.5, 4.2, 1.4, 0.2, 'Iris-setosa'),\n",
       " (4.9, 3.1, 1.5, 0.1, 'Iris-setosa'),\n",
       " (5.0, 3.2, 1.2, 0.2, 'Iris-setosa'),\n",
       " (5.5, 3.5, 1.3, 0.2, 'Iris-setosa'),\n",
       " (4.9, 3.1, 1.5, 0.1, 'Iris-setosa'),\n",
       " (4.4, 3.0, 1.3, 0.2, 'Iris-setosa'),\n",
       " (5.1, 3.4, 1.5, 0.2, 'Iris-setosa'),\n",
       " (5.0, 3.5, 1.3, 0.3, 'Iris-setosa'),\n",
       " (4.5, 2.3, 1.3, 0.3, 'Iris-setosa'),\n",
       " (4.4, 3.2, 1.3, 0.2, 'Iris-setosa'),\n",
       " (5.0, 3.5, 1.6, 0.6, 'Iris-setosa'),\n",
       " (5.1, 3.8, 1.9, 0.4, 'Iris-setosa'),\n",
       " (4.8, 3.0, 1.4, 0.3, 'Iris-setosa'),\n",
       " (5.1, 3.8, 1.6, 0.2, 'Iris-setosa'),\n",
       " (4.6, 3.2, 1.4, 0.2, 'Iris-setosa'),\n",
       " (5.3, 3.7, 1.5, 0.2, 'Iris-setosa'),\n",
       " (5.0, 3.3, 1.4, 0.2, 'Iris-setosa'),\n",
       " (7.0, 3.2, 4.7, 1.4, 'Iris-versicolor'),\n",
       " (6.4, 3.2, 4.5, 1.5, 'Iris-versicolor'),\n",
       " (6.9, 3.1, 4.9, 1.5, 'Iris-versicolor'),\n",
       " (5.5, 2.3, 4.0, 1.3, 'Iris-versicolor'),\n",
       " (6.5, 2.8, 4.6, 1.5, 'Iris-versicolor'),\n",
       " (5.7, 2.8, 4.5, 1.3, 'Iris-versicolor'),\n",
       " (6.3, 3.3, 4.7, 1.6, 'Iris-versicolor'),\n",
       " (4.9, 2.4, 3.3, 1.0, 'Iris-versicolor'),\n",
       " (6.6, 2.9, 4.6, 1.3, 'Iris-versicolor'),\n",
       " (5.2, 2.7, 3.9, 1.4, 'Iris-versicolor'),\n",
       " (5.0, 2.0, 3.5, 1.0, 'Iris-versicolor'),\n",
       " (5.9, 3.0, 4.2, 1.5, 'Iris-versicolor'),\n",
       " (6.0, 2.2, 4.0, 1.0, 'Iris-versicolor'),\n",
       " (6.1, 2.9, 4.7, 1.4, 'Iris-versicolor'),\n",
       " (5.6, 2.9, 3.6, 1.3, 'Iris-versicolor'),\n",
       " (6.7, 3.1, 4.4, 1.4, 'Iris-versicolor'),\n",
       " (5.6, 3.0, 4.5, 1.5, 'Iris-versicolor'),\n",
       " (5.8, 2.7, 4.1, 1.0, 'Iris-versicolor'),\n",
       " (6.2, 2.2, 4.5, 1.5, 'Iris-versicolor'),\n",
       " (5.6, 2.5, 3.9, 1.1, 'Iris-versicolor'),\n",
       " (5.9, 3.2, 4.8, 1.8, 'Iris-versicolor'),\n",
       " (6.1, 2.8, 4.0, 1.3, 'Iris-versicolor'),\n",
       " (6.3, 2.5, 4.9, 1.5, 'Iris-versicolor'),\n",
       " (6.1, 2.8, 4.7, 1.2, 'Iris-versicolor'),\n",
       " (6.4, 2.9, 4.3, 1.3, 'Iris-versicolor'),\n",
       " (6.6, 3.0, 4.4, 1.4, 'Iris-versicolor'),\n",
       " (6.8, 2.8, 4.8, 1.4, 'Iris-versicolor'),\n",
       " (6.7, 3.0, 5.0, 1.7, 'Iris-versicolor'),\n",
       " (6.0, 2.9, 4.5, 1.5, 'Iris-versicolor'),\n",
       " (5.7, 2.6, 3.5, 1.0, 'Iris-versicolor'),\n",
       " (5.5, 2.4, 3.8, 1.1, 'Iris-versicolor'),\n",
       " (5.5, 2.4, 3.7, 1.0, 'Iris-versicolor'),\n",
       " (5.8, 2.7, 3.9, 1.2, 'Iris-versicolor'),\n",
       " (6.0, 2.7, 5.1, 1.6, 'Iris-versicolor'),\n",
       " (5.4, 3.0, 4.5, 1.5, 'Iris-versicolor'),\n",
       " (6.0, 3.4, 4.5, 1.6, 'Iris-versicolor'),\n",
       " (6.7, 3.1, 4.7, 1.5, 'Iris-versicolor'),\n",
       " (6.3, 2.3, 4.4, 1.3, 'Iris-versicolor'),\n",
       " (5.6, 3.0, 4.1, 1.3, 'Iris-versicolor'),\n",
       " (5.5, 2.5, 4.0, 1.3, 'Iris-versicolor'),\n",
       " (5.5, 2.6, 4.4, 1.2, 'Iris-versicolor'),\n",
       " (6.1, 3.0, 4.6, 1.4, 'Iris-versicolor'),\n",
       " (5.8, 2.6, 4.0, 1.2, 'Iris-versicolor'),\n",
       " (5.0, 2.3, 3.3, 1.0, 'Iris-versicolor'),\n",
       " (5.6, 2.7, 4.2, 1.3, 'Iris-versicolor'),\n",
       " (5.7, 3.0, 4.2, 1.2, 'Iris-versicolor'),\n",
       " (5.7, 2.9, 4.2, 1.3, 'Iris-versicolor'),\n",
       " (6.2, 2.9, 4.3, 1.3, 'Iris-versicolor'),\n",
       " (5.1, 2.5, 3.0, 1.1, 'Iris-versicolor'),\n",
       " (5.7, 2.8, 4.1, 1.3, 'Iris-versicolor'),\n",
       " (6.3, 3.3, 6.0, 2.5, 'Iris-virginica'),\n",
       " (5.8, 2.7, 5.1, 1.9, 'Iris-virginica'),\n",
       " (7.1, 3.0, 5.9, 2.1, 'Iris-virginica'),\n",
       " (6.3, 2.9, 5.6, 1.8, 'Iris-virginica'),\n",
       " (6.5, 3.0, 5.8, 2.2, 'Iris-virginica'),\n",
       " (7.6, 3.0, 6.6, 2.1, 'Iris-virginica'),\n",
       " (4.9, 2.5, 4.5, 1.7, 'Iris-virginica'),\n",
       " (7.3, 2.9, 6.3, 1.8, 'Iris-virginica'),\n",
       " (6.7, 2.5, 5.8, 1.8, 'Iris-virginica'),\n",
       " (7.2, 3.6, 6.1, 2.5, 'Iris-virginica'),\n",
       " (6.5, 3.2, 5.1, 2.0, 'Iris-virginica'),\n",
       " (6.4, 2.7, 5.3, 1.9, 'Iris-virginica'),\n",
       " (6.8, 3.0, 5.5, 2.1, 'Iris-virginica'),\n",
       " (5.7, 2.5, 5.0, 2.0, 'Iris-virginica'),\n",
       " (5.8, 2.8, 5.1, 2.4, 'Iris-virginica'),\n",
       " (6.4, 3.2, 5.3, 2.3, 'Iris-virginica'),\n",
       " (6.5, 3.0, 5.5, 1.8, 'Iris-virginica'),\n",
       " (7.7, 3.8, 6.7, 2.2, 'Iris-virginica'),\n",
       " (7.7, 2.6, 6.9, 2.3, 'Iris-virginica'),\n",
       " (6.0, 2.2, 5.0, 1.5, 'Iris-virginica'),\n",
       " (6.9, 3.2, 5.7, 2.3, 'Iris-virginica'),\n",
       " (5.6, 2.8, 4.9, 2.0, 'Iris-virginica'),\n",
       " (7.7, 2.8, 6.7, 2.0, 'Iris-virginica'),\n",
       " (6.3, 2.7, 4.9, 1.8, 'Iris-virginica'),\n",
       " (6.7, 3.3, 5.7, 2.1, 'Iris-virginica'),\n",
       " (7.2, 3.2, 6.0, 1.8, 'Iris-virginica'),\n",
       " (6.2, 2.8, 4.8, 1.8, 'Iris-virginica'),\n",
       " (6.1, 3.0, 4.9, 1.8, 'Iris-virginica'),\n",
       " (6.4, 2.8, 5.6, 2.1, 'Iris-virginica'),\n",
       " (7.2, 3.0, 5.8, 1.6, 'Iris-virginica'),\n",
       " (7.4, 2.8, 6.1, 1.9, 'Iris-virginica'),\n",
       " (7.9, 3.8, 6.4, 2.0, 'Iris-virginica'),\n",
       " (6.4, 2.8, 5.6, 2.2, 'Iris-virginica'),\n",
       " (6.3, 2.8, 5.1, 1.5, 'Iris-virginica'),\n",
       " (6.1, 2.6, 5.6, 1.4, 'Iris-virginica'),\n",
       " (7.7, 3.0, 6.1, 2.3, 'Iris-virginica'),\n",
       " (6.3, 3.4, 5.6, 2.4, 'Iris-virginica'),\n",
       " (6.4, 3.1, 5.5, 1.8, 'Iris-virginica'),\n",
       " (6.0, 3.0, 4.8, 1.8, 'Iris-virginica'),\n",
       " (6.9, 3.1, 5.4, 2.1, 'Iris-virginica'),\n",
       " (6.7, 3.1, 5.6, 2.4, 'Iris-virginica'),\n",
       " (6.9, 3.1, 5.1, 2.3, 'Iris-virginica'),\n",
       " (5.8, 2.7, 5.1, 1.9, 'Iris-virginica'),\n",
       " (6.8, 3.2, 5.9, 2.3, 'Iris-virginica'),\n",
       " (6.7, 3.3, 5.7, 2.5, 'Iris-virginica'),\n",
       " (6.7, 3.0, 5.2, 2.3, 'Iris-virginica'),\n",
       " (6.3, 2.5, 5.0, 1.9, 'Iris-virginica'),\n",
       " (6.5, 3.0, 5.2, 2.0, 'Iris-virginica'),\n",
       " (6.2, 3.4, 5.4, 2.3, 'Iris-virginica'),\n",
       " (5.9, 3.0, 5.1, 1.8, 'Iris-virginica')]"
      ]
     },
     "execution_count": 23,
     "metadata": {},
     "output_type": "execute_result"
    }
   ],
   "source": [
    "iris = Classificador()\n",
    "iris.carregar('data/iris/iris.data', delimiter=',', ignoraLinha1=False)\n",
    "print(len(iris.dados[:10]))\n",
    "iris.dados"
   ]
  },
  {
   "cell_type": "code",
   "execution_count": 24,
   "metadata": {},
   "outputs": [
    {
     "data": {
      "text/plain": [
       "{'Iris-setosa': 0.3333333333333333,\n",
       " 'i0': {'media': 5.843333333333335, 'desvio': 0.8280661279778629},\n",
       " ('i0', 'Iris-setosa'): {'media': 5.005999999999999,\n",
       "  'desvio': 0.3524896872134512},\n",
       " 'i1': {'media': 3.0540000000000007, 'desvio': 0.4335943113621737},\n",
       " ('i1', 'Iris-setosa'): {'media': 3.4180000000000006,\n",
       "  'desvio': 0.38102439795469095},\n",
       " 'i2': {'media': 3.7586666666666693, 'desvio': 1.7644204199522617},\n",
       " ('i2', 'Iris-setosa'): {'media': 1.464, 'desvio': 0.1735111594364455},\n",
       " 'i3': {'media': 1.1986666666666672, 'desvio': 0.7631607417008414},\n",
       " ('i3', 'Iris-setosa'): {'media': 0.2439999999999999,\n",
       "  'desvio': 0.10720950308167837},\n",
       " 'Iris-versicolor': 0.3333333333333333,\n",
       " ('i0', 'Iris-versicolor'): {'media': 5.936, 'desvio': 0.5161711470638635},\n",
       " ('i1', 'Iris-versicolor'): {'media': 2.7700000000000005,\n",
       "  'desvio': 0.3137983233784114},\n",
       " ('i2', 'Iris-versicolor'): {'media': 4.26, 'desvio': 0.46991097723995806},\n",
       " ('i3', 'Iris-versicolor'): {'media': 1.3259999999999998,\n",
       "  'desvio': 0.197752680004544},\n",
       " 'Iris-virginica': 0.3333333333333333,\n",
       " ('i0', 'Iris-virginica'): {'media': 6.587999999999998,\n",
       "  'desvio': 0.635879593274432},\n",
       " ('i1', 'Iris-virginica'): {'media': 2.9739999999999998,\n",
       "  'desvio': 0.3224966381726376},\n",
       " ('i2', 'Iris-virginica'): {'media': 5.552, 'desvio': 0.5518946956639835},\n",
       " ('i3', 'Iris-virginica'): {'media': 2.026, 'desvio': 0.27465005563666733},\n",
       " 'classes': ['Iris-versicolor', 'Iris-virginica', 'Iris-setosa']}"
      ]
     },
     "execution_count": 24,
     "metadata": {},
     "output_type": "execute_result"
    }
   ],
   "source": [
    "iris.treinar()\n",
    "iris.modelo"
   ]
  },
  {
   "cell_type": "code",
   "execution_count": 25,
   "metadata": {},
   "outputs": [
    {
     "name": "stdout",
     "output_type": "stream",
     "text": [
      "Iris-versicolor 2.707818334185056e-15\n",
      "Iris-virginica 4.906984002426971e-23\n",
      "Iris-setosa 140.3852259221931\n"
     ]
    },
    {
     "data": {
      "text/plain": [
       "'Iris-setosa'"
      ]
     },
     "execution_count": 25,
     "metadata": {},
     "output_type": "execute_result"
    }
   ],
   "source": [
    "iris.predizer([4.4, 2.9, 1.4, 0.2], debug=True)"
   ]
  },
  {
   "cell_type": "code",
   "execution_count": 26,
   "metadata": {},
   "outputs": [
    {
     "name": "stdout",
     "output_type": "stream",
     "text": [
      "Iris-versicolor 7.565112455183329e-17\n",
      "Iris-virginica 3.873965053644404e-15\n",
      "Iris-setosa 5.492230633371175e-146\n"
     ]
    },
    {
     "data": {
      "text/plain": [
       "'Iris-virginica'"
      ]
     },
     "execution_count": 26,
     "metadata": {},
     "output_type": "execute_result"
    }
   ],
   "source": [
    "iris.predizer([4.4, 5, 6, 0.2], debug=True)"
   ]
  },
  {
   "cell_type": "code",
   "execution_count": 27,
   "metadata": {},
   "outputs": [
    {
     "name": "stdout",
     "output_type": "stream",
     "text": [
      "Conj Teste: 45\n",
      "Acertos   : 43\n",
      "Acurácia  : 95.55555555555556 %\n"
     ]
    }
   ],
   "source": [
    "validacaoCruzada(iris, 0.7)"
   ]
  },
  {
   "cell_type": "markdown",
   "metadata": {},
   "source": [
    "# dataset iris 2 dimensões"
   ]
  },
  {
   "cell_type": "code",
   "execution_count": 28,
   "metadata": {},
   "outputs": [
    {
     "name": "stdout",
     "output_type": "stream",
     "text": [
      "5.1,1.4,0\r\n",
      "4.9,1.4,0\r\n",
      "4.7,1.3,0\r\n",
      "4.6,1.5,0\r\n",
      "5.0,1.4,0\r\n",
      "5.4,1.7,0\r\n",
      "4.6,1.4,0\r\n",
      "5.0,1.5,0\r\n",
      "4.4,1.4,0\r\n",
      "4.9,1.5,0\r\n"
     ]
    }
   ],
   "source": [
    "!head data/iris/iris2dim.csv"
   ]
  },
  {
   "cell_type": "code",
   "execution_count": 29,
   "metadata": {},
   "outputs": [
    {
     "name": "stdout",
     "output_type": "stream",
     "text": [
      "150 data/iris/iris2dim.csv\r\n"
     ]
    }
   ],
   "source": [
    "!wc -l data/iris/iris2dim.csv"
   ]
  },
  {
   "cell_type": "code",
   "execution_count": 30,
   "metadata": {},
   "outputs": [
    {
     "data": {
      "image/png": "[encoded data removed]",
      "text/plain": [
       "<Figure size 432x288 with 1 Axes>"
      ]
     },
     "metadata": {
      "needs_background": "light"
     },
     "output_type": "display_data"
    }
   ],
   "source": [
    "iris2dim = Classificador()\n",
    "iris2dim.carregar('data/iris/iris2dim.csv', delimiter=',', ignoraLinha1=False)\n",
    "iris2dim.treinar()\n",
    "iris2dim.graficoFronteira()"
   ]
  },
  {
   "cell_type": "code",
   "execution_count": 31,
   "metadata": {},
   "outputs": [
    {
     "name": "stdout",
     "output_type": "stream",
     "text": [
      "Conj Teste: 45\n",
      "Acertos   : 40\n",
      "Acurácia  : 88.88888888888889 %\n"
     ]
    }
   ],
   "source": [
    "validacaoCruzada(iris2dim, 0.7)"
   ]
  },
  {
   "cell_type": "markdown",
   "metadata": {},
   "source": [
    "# mlbench.cassini"
   ]
  },
  {
   "cell_type": "code",
   "execution_count": 32,
   "metadata": {},
   "outputs": [
    {
     "name": "stdout",
     "output_type": "stream",
     "text": [
      "\n",
      "R version 3.6.3 (2020-02-29) -- \"Holding the Windsock\"\n",
      "Copyright (C) 2020 The R Foundation for Statistical Computing\n",
      "Platform: x86_64-pc-linux-gnu (64-bit)\n",
      "\n",
      "R é um software livre e vem sem GARANTIA ALGUMA.\n",
      "Você pode redistribuí-lo sob certas circunstâncias.\n",
      "Digite 'license()' ou 'licence()' para detalhes de distribuição.\n",
      "\n",
      "R é um projeto colaborativo com muitos contribuidores.\n",
      "Digite 'contributors()' para obter mais informações e\n",
      "'citation()' para saber como citar o R ou pacotes do R em publicações.\n",
      "\n",
      "Digite 'demo()' para demonstrações, 'help()' para o sistema on-line de ajuda,\n",
      "ou 'help.start()' para abrir o sistema de ajuda em HTML no seu navegador.\n",
      "Digite 'q()' para sair do R.\n",
      "\n",
      "> library(mlbench); write.csv(mlbench.cassini(500), 'data/cassini500.csv')\n",
      "> \n",
      "> \n"
     ]
    }
   ],
   "source": [
    "# baixando dataset do R\n",
    "!R -e \"library(mlbench); write.csv(mlbench.cassini(500), 'data/cassini500.csv')\""
   ]
  },
  {
   "cell_type": "code",
   "execution_count": 33,
   "metadata": {},
   "outputs": [
    {
     "data": {
      "image/png": "[encoded data removed]",
      "text/plain": [
       "<Figure size 432x288 with 1 Axes>"
      ]
     },
     "metadata": {
      "needs_background": "light"
     },
     "output_type": "display_data"
    }
   ],
   "source": [
    "cassini = Classificador()\n",
    "cassini.carregar('data/cassini500.csv', delimiter=',', ignoraColuna1=True)\n",
    "cassini.treinar()\n",
    "cassini.graficoFronteira()"
   ]
  },
  {
   "cell_type": "code",
   "execution_count": 34,
   "metadata": {},
   "outputs": [
    {
     "name": "stdout",
     "output_type": "stream",
     "text": [
      "Conj Teste: 150\n",
      "Acertos   : 150\n",
      "Acurácia  : 100.0 %\n"
     ]
    }
   ],
   "source": [
    "validacaoCruzada(cassini, 0.7)"
   ]
  },
  {
   "cell_type": "markdown",
   "metadata": {},
   "source": [
    "# mlbench.circle"
   ]
  },
  {
   "cell_type": "code",
   "execution_count": 35,
   "metadata": {},
   "outputs": [
    {
     "name": "stdout",
     "output_type": "stream",
     "text": [
      "\n",
      "R version 3.6.3 (2020-02-29) -- \"Holding the Windsock\"\n",
      "Copyright (C) 2020 The R Foundation for Statistical Computing\n",
      "Platform: x86_64-pc-linux-gnu (64-bit)\n",
      "\n",
      "R é um software livre e vem sem GARANTIA ALGUMA.\n",
      "Você pode redistribuí-lo sob certas circunstâncias.\n",
      "Digite 'license()' ou 'licence()' para detalhes de distribuição.\n",
      "\n",
      "R é um projeto colaborativo com muitos contribuidores.\n",
      "Digite 'contributors()' para obter mais informações e\n",
      "'citation()' para saber como citar o R ou pacotes do R em publicações.\n",
      "\n",
      "Digite 'demo()' para demonstrações, 'help()' para o sistema on-line de ajuda,\n",
      "ou 'help.start()' para abrir o sistema de ajuda em HTML no seu navegador.\n",
      "Digite 'q()' para sair do R.\n",
      "\n",
      "> library(mlbench); write.csv(mlbench.circle(200), 'data/circle200.csv')\n",
      "> \n",
      "> \n"
     ]
    }
   ],
   "source": [
    "# baixando dataset do R\n",
    "!R -e \"library(mlbench); write.csv(mlbench.circle(200), 'data/circle200.csv')\""
   ]
  },
  {
   "cell_type": "code",
   "execution_count": 36,
   "metadata": {},
   "outputs": [
    {
     "data": {
      "image/png": "[encoded data removed]",
      "text/plain": [
       "<Figure size 432x288 with 1 Axes>"
      ]
     },
     "metadata": {
      "needs_background": "light"
     },
     "output_type": "display_data"
    }
   ],
   "source": [
    "circle = Classificador()\n",
    "circle.carregar('data/circle200.csv', delimiter=',', ignoraColuna1=True)\n",
    "circle.treinar()\n",
    "circle.graficoFronteira()"
   ]
  },
  {
   "cell_type": "code",
   "execution_count": 37,
   "metadata": {},
   "outputs": [
    {
     "name": "stdout",
     "output_type": "stream",
     "text": [
      "Conj Teste: 60\n",
      "Acertos   : 57\n",
      "Acurácia  : 95.0 %\n"
     ]
    }
   ],
   "source": [
    "validacaoCruzada(circle, 0.7)"
   ]
  },
  {
   "cell_type": "markdown",
   "metadata": {},
   "source": [
    "# mlbench.hypercube"
   ]
  },
  {
   "cell_type": "code",
   "execution_count": 38,
   "metadata": {},
   "outputs": [
    {
     "name": "stdout",
     "output_type": "stream",
     "text": [
      "\n",
      "R version 3.6.3 (2020-02-29) -- \"Holding the Windsock\"\n",
      "Copyright (C) 2020 The R Foundation for Statistical Computing\n",
      "Platform: x86_64-pc-linux-gnu (64-bit)\n",
      "\n",
      "R é um software livre e vem sem GARANTIA ALGUMA.\n",
      "Você pode redistribuí-lo sob certas circunstâncias.\n",
      "Digite 'license()' ou 'licence()' para detalhes de distribuição.\n",
      "\n",
      "R é um projeto colaborativo com muitos contribuidores.\n",
      "Digite 'contributors()' para obter mais informações e\n",
      "'citation()' para saber como citar o R ou pacotes do R em publicações.\n",
      "\n",
      "Digite 'demo()' para demonstrações, 'help()' para o sistema on-line de ajuda,\n",
      "ou 'help.start()' para abrir o sistema de ajuda em HTML no seu navegador.\n",
      "Digite 'q()' para sair do R.\n",
      "\n",
      "> library(mlbench); write.csv(mlbench.hypercube(500, 2), 'data/hypercube.csv')\n",
      "> \n",
      "> \n"
     ]
    }
   ],
   "source": [
    "# baixando dataset do R\n",
    "!R -e \"library(mlbench); write.csv(mlbench.hypercube(500, 2), 'data/hypercube.csv')\""
   ]
  },
  {
   "cell_type": "code",
   "execution_count": 39,
   "metadata": {},
   "outputs": [
    {
     "data": {
      "image/png": "[encoded data removed]",
      "text/plain": [
       "<Figure size 432x288 with 1 Axes>"
      ]
     },
     "metadata": {
      "needs_background": "light"
     },
     "output_type": "display_data"
    }
   ],
   "source": [
    "clf = Classificador()\n",
    "clf.carregar('data/hypercube.csv', delimiter=',', ignoraColuna1=True)\n",
    "clf.treinar()\n",
    "clf.graficoFronteira()"
   ]
  },
  {
   "cell_type": "code",
   "execution_count": 40,
   "metadata": {},
   "outputs": [
    {
     "name": "stdout",
     "output_type": "stream",
     "text": [
      "Conj Teste: 150\n",
      "Acertos   : 150\n",
      "Acurácia  : 100.0 %\n"
     ]
    }
   ],
   "source": [
    "validacaoCruzada(clf, 0.7)"
   ]
  },
  {
   "cell_type": "markdown",
   "metadata": {},
   "source": [
    "# mlbench.ringnorm"
   ]
  },
  {
   "cell_type": "code",
   "execution_count": 41,
   "metadata": {},
   "outputs": [
    {
     "name": "stdout",
     "output_type": "stream",
     "text": [
      "\n",
      "R version 3.6.3 (2020-02-29) -- \"Holding the Windsock\"\n",
      "Copyright (C) 2020 The R Foundation for Statistical Computing\n",
      "Platform: x86_64-pc-linux-gnu (64-bit)\n",
      "\n",
      "R é um software livre e vem sem GARANTIA ALGUMA.\n",
      "Você pode redistribuí-lo sob certas circunstâncias.\n",
      "Digite 'license()' ou 'licence()' para detalhes de distribuição.\n",
      "\n",
      "R é um projeto colaborativo com muitos contribuidores.\n",
      "Digite 'contributors()' para obter mais informações e\n",
      "'citation()' para saber como citar o R ou pacotes do R em publicações.\n",
      "\n",
      "Digite 'demo()' para demonstrações, 'help()' para o sistema on-line de ajuda,\n",
      "ou 'help.start()' para abrir o sistema de ajuda em HTML no seu navegador.\n",
      "Digite 'q()' para sair do R.\n",
      "\n",
      "> library(mlbench); write.csv(mlbench.ringnorm(500,2), 'data/ringnorm.csv')\n",
      "> \n",
      "> \n"
     ]
    }
   ],
   "source": [
    "# baixando dataset do R\n",
    "!R -e \"library(mlbench); write.csv(mlbench.ringnorm(500,2), 'data/ringnorm.csv')\""
   ]
  },
  {
   "cell_type": "code",
   "execution_count": 42,
   "metadata": {},
   "outputs": [
    {
     "data": {
      "image/png": "[encoded data removed]",
      "text/plain": [
       "<Figure size 432x288 with 1 Axes>"
      ]
     },
     "metadata": {
      "needs_background": "light"
     },
     "output_type": "display_data"
    }
   ],
   "source": [
    "clf = Classificador()\n",
    "clf.carregar('data/ringnorm.csv', delimiter=',', ignoraColuna1=True)\n",
    "clf.treinar()\n",
    "clf.graficoFronteira()"
   ]
  },
  {
   "cell_type": "code",
   "execution_count": 43,
   "metadata": {},
   "outputs": [
    {
     "name": "stdout",
     "output_type": "stream",
     "text": [
      "Conj Teste: 150\n",
      "Acertos   : 121\n",
      "Acurácia  : 80.66666666666666 %\n"
     ]
    }
   ],
   "source": [
    "validacaoCruzada(clf, 0.7)"
   ]
  },
  {
   "cell_type": "markdown",
   "metadata": {},
   "source": [
    "# mlbench.shapes"
   ]
  },
  {
   "cell_type": "code",
   "execution_count": 44,
   "metadata": {},
   "outputs": [
    {
     "name": "stdout",
     "output_type": "stream",
     "text": [
      "\n",
      "R version 3.6.3 (2020-02-29) -- \"Holding the Windsock\"\n",
      "Copyright (C) 2020 The R Foundation for Statistical Computing\n",
      "Platform: x86_64-pc-linux-gnu (64-bit)\n",
      "\n",
      "R é um software livre e vem sem GARANTIA ALGUMA.\n",
      "Você pode redistribuí-lo sob certas circunstâncias.\n",
      "Digite 'license()' ou 'licence()' para detalhes de distribuição.\n",
      "\n",
      "R é um projeto colaborativo com muitos contribuidores.\n",
      "Digite 'contributors()' para obter mais informações e\n",
      "'citation()' para saber como citar o R ou pacotes do R em publicações.\n",
      "\n",
      "Digite 'demo()' para demonstrações, 'help()' para o sistema on-line de ajuda,\n",
      "ou 'help.start()' para abrir o sistema de ajuda em HTML no seu navegador.\n",
      "Digite 'q()' para sair do R.\n",
      "\n",
      "> library(mlbench); write.csv(mlbench.shapes(500), 'data/shapes.csv')\n",
      "> \n",
      "> \n"
     ]
    }
   ],
   "source": [
    "# baixando dataset do R\n",
    "!R -e \"library(mlbench); write.csv(mlbench.shapes(500), 'data/shapes.csv')\""
   ]
  },
  {
   "cell_type": "code",
   "execution_count": 45,
   "metadata": {},
   "outputs": [
    {
     "data": {
      "image/png": "[encoded data removed]",
      "text/plain": [
       "<Figure size 432x288 with 1 Axes>"
      ]
     },
     "metadata": {
      "needs_background": "light"
     },
     "output_type": "display_data"
    }
   ],
   "source": [
    "clf = Classificador()\n",
    "clf.carregar('data/shapes.csv', delimiter=',', ignoraColuna1=True)\n",
    "clf.treinar()\n",
    "clf.graficoFronteira()"
   ]
  },
  {
   "cell_type": "code",
   "execution_count": 46,
   "metadata": {},
   "outputs": [
    {
     "name": "stdout",
     "output_type": "stream",
     "text": [
      "Conj Teste: 150\n",
      "Acertos   : 150\n",
      "Acurácia  : 100.0 %\n"
     ]
    }
   ],
   "source": [
    "validacaoCruzada(clf, 0.7)"
   ]
  },
  {
   "cell_type": "markdown",
   "metadata": {},
   "source": [
    "# mlbench.simplex"
   ]
  },
  {
   "cell_type": "code",
   "execution_count": 47,
   "metadata": {},
   "outputs": [
    {
     "name": "stdout",
     "output_type": "stream",
     "text": [
      "\n",
      "R version 3.6.3 (2020-02-29) -- \"Holding the Windsock\"\n",
      "Copyright (C) 2020 The R Foundation for Statistical Computing\n",
      "Platform: x86_64-pc-linux-gnu (64-bit)\n",
      "\n",
      "R é um software livre e vem sem GARANTIA ALGUMA.\n",
      "Você pode redistribuí-lo sob certas circunstâncias.\n",
      "Digite 'license()' ou 'licence()' para detalhes de distribuição.\n",
      "\n",
      "R é um projeto colaborativo com muitos contribuidores.\n",
      "Digite 'contributors()' para obter mais informações e\n",
      "'citation()' para saber como citar o R ou pacotes do R em publicações.\n",
      "\n",
      "Digite 'demo()' para demonstrações, 'help()' para o sistema on-line de ajuda,\n",
      "ou 'help.start()' para abrir o sistema de ajuda em HTML no seu navegador.\n",
      "Digite 'q()' para sair do R.\n",
      "\n",
      "> library(mlbench); write.csv(mlbench.simplex(500, 2), 'data/simplex.csv')\n",
      "> \n",
      "> \n"
     ]
    }
   ],
   "source": [
    "# baixando dataset do R\n",
    "!R -e \"library(mlbench); write.csv(mlbench.simplex(500, 2), 'data/simplex.csv')\""
   ]
  },
  {
   "cell_type": "code",
   "execution_count": 48,
   "metadata": {},
   "outputs": [
    {
     "data": {
      "image/png": "[encoded data removed]",
      "text/plain": [
       "<Figure size 432x288 with 1 Axes>"
      ]
     },
     "metadata": {
      "needs_background": "light"
     },
     "output_type": "display_data"
    }
   ],
   "source": [
    "clf = Classificador()\n",
    "clf.carregar('data/simplex.csv', delimiter=',', ignoraColuna1=True)\n",
    "clf.treinar()\n",
    "clf.graficoFronteira()"
   ]
  },
  {
   "cell_type": "code",
   "execution_count": 49,
   "metadata": {},
   "outputs": [
    {
     "name": "stdout",
     "output_type": "stream",
     "text": [
      "Conj Teste: 113\n",
      "Acertos   : 113\n",
      "Acurácia  : 100.0 %\n"
     ]
    }
   ],
   "source": [
    "validacaoCruzada(clf, 0.7)"
   ]
  },
  {
   "cell_type": "markdown",
   "metadata": {},
   "source": [
    "# mlbench.smiley"
   ]
  },
  {
   "cell_type": "code",
   "execution_count": 50,
   "metadata": {},
   "outputs": [
    {
     "name": "stdout",
     "output_type": "stream",
     "text": [
      "\n",
      "R version 3.6.3 (2020-02-29) -- \"Holding the Windsock\"\n",
      "Copyright (C) 2020 The R Foundation for Statistical Computing\n",
      "Platform: x86_64-pc-linux-gnu (64-bit)\n",
      "\n",
      "R é um software livre e vem sem GARANTIA ALGUMA.\n",
      "Você pode redistribuí-lo sob certas circunstâncias.\n",
      "Digite 'license()' ou 'licence()' para detalhes de distribuição.\n",
      "\n",
      "R é um projeto colaborativo com muitos contribuidores.\n",
      "Digite 'contributors()' para obter mais informações e\n",
      "'citation()' para saber como citar o R ou pacotes do R em publicações.\n",
      "\n",
      "Digite 'demo()' para demonstrações, 'help()' para o sistema on-line de ajuda,\n",
      "ou 'help.start()' para abrir o sistema de ajuda em HTML no seu navegador.\n",
      "Digite 'q()' para sair do R.\n",
      "\n",
      "> library(mlbench); write.csv(mlbench.smiley(500), 'data/smiley.csv')\n",
      "> \n",
      "> \n"
     ]
    }
   ],
   "source": [
    "# baixando dataset do R\n",
    "!R -e \"library(mlbench); write.csv(mlbench.smiley(500), 'data/smiley.csv')\""
   ]
  },
  {
   "cell_type": "code",
   "execution_count": 51,
   "metadata": {},
   "outputs": [
    {
     "data": {
      "image/png": "[encoded data removed]",
      "text/plain": [
       "<Figure size 432x288 with 1 Axes>"
      ]
     },
     "metadata": {
      "needs_background": "light"
     },
     "output_type": "display_data"
    }
   ],
   "source": [
    "clf = Classificador()\n",
    "clf.carregar('data/smiley.csv', delimiter=',', ignoraColuna1=True)\n",
    "clf.treinar()\n",
    "clf.graficoFronteira()"
   ]
  },
  {
   "cell_type": "code",
   "execution_count": 52,
   "metadata": {},
   "outputs": [
    {
     "name": "stdout",
     "output_type": "stream",
     "text": [
      "Conj Teste: 150\n",
      "Acertos   : 150\n",
      "Acurácia  : 100.0 %\n"
     ]
    }
   ],
   "source": [
    "validacaoCruzada(clf, 0.7)"
   ]
  },
  {
   "cell_type": "markdown",
   "metadata": {},
   "source": [
    "# mlbench.spirals"
   ]
  },
  {
   "cell_type": "code",
   "execution_count": 53,
   "metadata": {},
   "outputs": [
    {
     "name": "stdout",
     "output_type": "stream",
     "text": [
      "\n",
      "R version 3.6.3 (2020-02-29) -- \"Holding the Windsock\"\n",
      "Copyright (C) 2020 The R Foundation for Statistical Computing\n",
      "Platform: x86_64-pc-linux-gnu (64-bit)\n",
      "\n",
      "R é um software livre e vem sem GARANTIA ALGUMA.\n",
      "Você pode redistribuí-lo sob certas circunstâncias.\n",
      "Digite 'license()' ou 'licence()' para detalhes de distribuição.\n",
      "\n",
      "R é um projeto colaborativo com muitos contribuidores.\n",
      "Digite 'contributors()' para obter mais informações e\n",
      "'citation()' para saber como citar o R ou pacotes do R em publicações.\n",
      "\n",
      "Digite 'demo()' para demonstrações, 'help()' para o sistema on-line de ajuda,\n",
      "ou 'help.start()' para abrir o sistema de ajuda em HTML no seu navegador.\n",
      "Digite 'q()' para sair do R.\n",
      "\n",
      "> library(mlbench); write.csv(mlbench.spirals(500), 'data/spirals.csv')\n",
      "> \n",
      "> \n"
     ]
    }
   ],
   "source": [
    "# baixando dataset do R\n",
    "!R -e \"library(mlbench); write.csv(mlbench.spirals(500), 'data/spirals.csv')\""
   ]
  },
  {
   "cell_type": "code",
   "execution_count": 54,
   "metadata": {},
   "outputs": [
    {
     "data": {
      "image/png": "[encoded data removed]",
      "text/plain": [
       "<Figure size 432x288 with 1 Axes>"
      ]
     },
     "metadata": {
      "needs_background": "light"
     },
     "output_type": "display_data"
    }
   ],
   "source": [
    "clf = Classificador()\n",
    "clf.carregar('data/spirals.csv', delimiter=',', ignoraColuna1=True)\n",
    "clf.treinar()\n",
    "clf.graficoFronteira()"
   ]
  },
  {
   "cell_type": "code",
   "execution_count": 55,
   "metadata": {},
   "outputs": [
    {
     "name": "stdout",
     "output_type": "stream",
     "text": [
      "Conj Teste: 150\n",
      "Acertos   : 69\n",
      "Acurácia  : 46.0 %\n"
     ]
    }
   ],
   "source": [
    "validacaoCruzada(clf, 0.7)"
   ]
  },
  {
   "cell_type": "markdown",
   "metadata": {},
   "source": [
    "# mlbench.spirals"
   ]
  },
  {
   "cell_type": "code",
   "execution_count": 56,
   "metadata": {},
   "outputs": [
    {
     "name": "stdout",
     "output_type": "stream",
     "text": [
      "\n",
      "R version 3.6.3 (2020-02-29) -- \"Holding the Windsock\"\n",
      "Copyright (C) 2020 The R Foundation for Statistical Computing\n",
      "Platform: x86_64-pc-linux-gnu (64-bit)\n",
      "\n",
      "R é um software livre e vem sem GARANTIA ALGUMA.\n",
      "Você pode redistribuí-lo sob certas circunstâncias.\n",
      "Digite 'license()' ou 'licence()' para detalhes de distribuição.\n",
      "\n",
      "R é um projeto colaborativo com muitos contribuidores.\n",
      "Digite 'contributors()' para obter mais informações e\n",
      "'citation()' para saber como citar o R ou pacotes do R em publicações.\n",
      "\n",
      "Digite 'demo()' para demonstrações, 'help()' para o sistema on-line de ajuda,\n",
      "ou 'help.start()' para abrir o sistema de ajuda em HTML no seu navegador.\n",
      "Digite 'q()' para sair do R.\n",
      "\n",
      "> library(mlbench); write.csv(mlbench.spirals(1000, 4), 'data/spirals2.csv')\n",
      "> \n",
      "> \n"
     ]
    }
   ],
   "source": [
    "#### baixando dataset do R\n",
    "!R -e \"library(mlbench); write.csv(mlbench.spirals(1000, 4), 'data/spirals2.csv')\""
   ]
  },
  {
   "cell_type": "code",
   "execution_count": 57,
   "metadata": {},
   "outputs": [
    {
     "data": {
      "image/png": "[encoded data removed]",
      "text/plain": [
       "<Figure size 432x288 with 1 Axes>"
      ]
     },
     "metadata": {
      "needs_background": "light"
     },
     "output_type": "display_data"
    }
   ],
   "source": [
    "clf = Classificador()\n",
    "clf.carregar('data/spirals2.csv', delimiter=',', ignoraColuna1=True)\n",
    "clf.treinar()\n",
    "clf.graficoFronteira()"
   ]
  },
  {
   "cell_type": "code",
   "execution_count": 58,
   "metadata": {},
   "outputs": [
    {
     "name": "stdout",
     "output_type": "stream",
     "text": [
      "Conj Teste: 300\n",
      "Acertos   : 140\n",
      "Acurácia  : 46.666666666666664 %\n"
     ]
    }
   ],
   "source": [
    "validacaoCruzada(clf, 0.7)"
   ]
  },
  {
   "cell_type": "markdown",
   "metadata": {},
   "source": [
    "# mlbench.threenorm"
   ]
  },
  {
   "cell_type": "code",
   "execution_count": 59,
   "metadata": {},
   "outputs": [
    {
     "name": "stdout",
     "output_type": "stream",
     "text": [
      "\n",
      "R version 3.6.3 (2020-02-29) -- \"Holding the Windsock\"\n",
      "Copyright (C) 2020 The R Foundation for Statistical Computing\n",
      "Platform: x86_64-pc-linux-gnu (64-bit)\n",
      "\n",
      "R é um software livre e vem sem GARANTIA ALGUMA.\n",
      "Você pode redistribuí-lo sob certas circunstâncias.\n",
      "Digite 'license()' ou 'licence()' para detalhes de distribuição.\n",
      "\n",
      "R é um projeto colaborativo com muitos contribuidores.\n",
      "Digite 'contributors()' para obter mais informações e\n",
      "'citation()' para saber como citar o R ou pacotes do R em publicações.\n",
      "\n",
      "Digite 'demo()' para demonstrações, 'help()' para o sistema on-line de ajuda,\n",
      "ou 'help.start()' para abrir o sistema de ajuda em HTML no seu navegador.\n",
      "Digite 'q()' para sair do R.\n",
      "\n",
      "> library(mlbench); write.csv(mlbench.threenorm(500, 2), 'data/threenorm.csv')\n",
      "> \n",
      "> \n"
     ]
    }
   ],
   "source": [
    "# baixando dataset do R\n",
    "!R -e \"library(mlbench); write.csv(mlbench.threenorm(500, 2), 'data/threenorm.csv')\""
   ]
  },
  {
   "cell_type": "code",
   "execution_count": 60,
   "metadata": {},
   "outputs": [
    {
     "data": {
      "image/png": "[encoded data removed]",
      "text/plain": [
       "<Figure size 432x288 with 1 Axes>"
      ]
     },
     "metadata": {
      "needs_background": "light"
     },
     "output_type": "display_data"
    }
   ],
   "source": [
    "clf = Classificador()\n",
    "clf.carregar('data/threenorm.csv', delimiter=',', ignoraColuna1=True)\n",
    "clf.treinar()\n",
    "clf.graficoFronteira()"
   ]
  },
  {
   "cell_type": "code",
   "execution_count": 61,
   "metadata": {},
   "outputs": [
    {
     "name": "stdout",
     "output_type": "stream",
     "text": [
      "Conj Teste: 150\n",
      "Acertos   : 135\n",
      "Acurácia  : 90.0 %\n"
     ]
    }
   ],
   "source": [
    "validacaoCruzada(clf, 0.7)"
   ]
  },
  {
   "cell_type": "markdown",
   "metadata": {},
   "source": [
    "# mlbench.twonorm"
   ]
  },
  {
   "cell_type": "code",
   "execution_count": 62,
   "metadata": {},
   "outputs": [
    {
     "name": "stdout",
     "output_type": "stream",
     "text": [
      "\n",
      "R version 3.6.3 (2020-02-29) -- \"Holding the Windsock\"\n",
      "Copyright (C) 2020 The R Foundation for Statistical Computing\n",
      "Platform: x86_64-pc-linux-gnu (64-bit)\n",
      "\n",
      "R é um software livre e vem sem GARANTIA ALGUMA.\n",
      "Você pode redistribuí-lo sob certas circunstâncias.\n",
      "Digite 'license()' ou 'licence()' para detalhes de distribuição.\n",
      "\n",
      "R é um projeto colaborativo com muitos contribuidores.\n",
      "Digite 'contributors()' para obter mais informações e\n",
      "'citation()' para saber como citar o R ou pacotes do R em publicações.\n",
      "\n",
      "Digite 'demo()' para demonstrações, 'help()' para o sistema on-line de ajuda,\n",
      "ou 'help.start()' para abrir o sistema de ajuda em HTML no seu navegador.\n",
      "Digite 'q()' para sair do R.\n",
      "\n",
      "> library(mlbench); write.csv(mlbench.twonorm(500, 2), 'data/twonorm.csv')\n",
      "> \n",
      "> \n"
     ]
    }
   ],
   "source": [
    "# baixando dataset do R\n",
    "!R -e \"library(mlbench); write.csv(mlbench.twonorm(500, 2), 'data/twonorm.csv')\""
   ]
  },
  {
   "cell_type": "code",
   "execution_count": 63,
   "metadata": {},
   "outputs": [
    {
     "data": {
      "image/png": "[encoded data removed]",
      "text/plain": [
       "<Figure size 432x288 with 1 Axes>"
      ]
     },
     "metadata": {
      "needs_background": "light"
     },
     "output_type": "display_data"
    }
   ],
   "source": [
    "clf = Classificador()\n",
    "clf.carregar('data/twonorm.csv', delimiter=',', ignoraColuna1=True)\n",
    "clf.treinar()\n",
    "clf.graficoFronteira()"
   ]
  },
  {
   "cell_type": "code",
   "execution_count": 64,
   "metadata": {},
   "outputs": [
    {
     "name": "stdout",
     "output_type": "stream",
     "text": [
      "Conj Teste: 150\n",
      "Acertos   : 148\n",
      "Acurácia  : 98.66666666666667 %\n"
     ]
    }
   ],
   "source": [
    "validacaoCruzada(clf, 0.7)"
   ]
  },
  {
   "cell_type": "markdown",
   "metadata": {},
   "source": [
    "# mlbench.xor"
   ]
  },
  {
   "cell_type": "code",
   "execution_count": 65,
   "metadata": {},
   "outputs": [
    {
     "name": "stdout",
     "output_type": "stream",
     "text": [
      "\n",
      "R version 3.6.3 (2020-02-29) -- \"Holding the Windsock\"\n",
      "Copyright (C) 2020 The R Foundation for Statistical Computing\n",
      "Platform: x86_64-pc-linux-gnu (64-bit)\n",
      "\n",
      "R é um software livre e vem sem GARANTIA ALGUMA.\n",
      "Você pode redistribuí-lo sob certas circunstâncias.\n",
      "Digite 'license()' ou 'licence()' para detalhes de distribuição.\n",
      "\n",
      "R é um projeto colaborativo com muitos contribuidores.\n",
      "Digite 'contributors()' para obter mais informações e\n",
      "'citation()' para saber como citar o R ou pacotes do R em publicações.\n",
      "\n",
      "Digite 'demo()' para demonstrações, 'help()' para o sistema on-line de ajuda,\n",
      "ou 'help.start()' para abrir o sistema de ajuda em HTML no seu navegador.\n",
      "Digite 'q()' para sair do R.\n",
      "\n",
      "> library(mlbench); write.csv(mlbench.xor(500, d=2), 'data/xor2d.csv')\n",
      "> \n",
      "> \n"
     ]
    }
   ],
   "source": [
    "# baixando dataset do R\n",
    "!R -e \"library(mlbench); write.csv(mlbench.xor(500, d=2), 'data/xor2d.csv')\""
   ]
  },
  {
   "cell_type": "code",
   "execution_count": 66,
   "metadata": {},
   "outputs": [
    {
     "data": {
      "image/png": "[encoded data removed]",
      "text/plain": [
       "<Figure size 432x288 with 1 Axes>"
      ]
     },
     "metadata": {
      "needs_background": "light"
     },
     "output_type": "display_data"
    }
   ],
   "source": [
    "clf = Classificador()\n",
    "clf.carregar('data/xor2d.csv', delimiter=',', ignoraColuna1=True)\n",
    "clf.treinar()\n",
    "clf.graficoFronteira()"
   ]
  },
  {
   "cell_type": "code",
   "execution_count": 67,
   "metadata": {},
   "outputs": [
    {
     "name": "stdout",
     "output_type": "stream",
     "text": [
      "Conj Teste: 150\n",
      "Acertos   : 78\n",
      "Acurácia  : 52.0 %\n"
     ]
    }
   ],
   "source": [
    "validacaoCruzada(clf, 0.7)"
   ]
  },
  {
   "cell_type": "markdown",
   "metadata": {},
   "source": [
    "# Análise Texto\n",
    "\n",
    "The attributes are text sentences, extracted from reviews of products, movies, and restaurants\n",
    "\n",
    "Papers:\n",
    "\n",
    "'From Group to Individual Labels using Deep Features', Kotzias et. al,. KDD 2015\n"
   ]
  },
  {
   "cell_type": "markdown",
   "metadata": {},
   "source": [
    "## dataset amazon"
   ]
  },
  {
   "cell_type": "code",
   "execution_count": 68,
   "metadata": {},
   "outputs": [
    {
     "name": "stdout",
     "output_type": "stream",
     "text": [
      "1000 data/sentiment/amazon_cells_labelled.txt\r\n"
     ]
    }
   ],
   "source": [
    "!wc -l data/sentiment/amazon_cells_labelled.txt"
   ]
  },
  {
   "cell_type": "code",
   "execution_count": 69,
   "metadata": {},
   "outputs": [
    {
     "name": "stdout",
     "output_type": "stream",
     "text": [
      "So there is no way for me to plug it in here in the US unless I go by a converter.\t0\r\n",
      "Good case, Excellent value.\t1\r\n",
      "Great for the jawbone.\t1\r\n",
      "Tied to charger for conversations lasting more than 45 minutes.MAJOR PROBLEMS!!\t0\r\n",
      "The mic is great.\t1\r\n",
      "I have to jiggle the plug to get it to line up right to get decent volume.\t0\r\n",
      "If you have several dozen or several hundred contacts, then imagine the fun of sending each of them one by one.\t0\r\n",
      "If you are Razr owner...you must have this!\t1\r\n",
      "Needless to say, I wasted my money.\t0\r\n",
      "What a waste of money and time!.\t0\r\n"
     ]
    }
   ],
   "source": [
    "!head data/sentiment/amazon_cells_labelled.txt"
   ]
  },
  {
   "cell_type": "code",
   "execution_count": 70,
   "metadata": {},
   "outputs": [
    {
     "data": {
      "text/plain": [
       "{'0': 500, '1': 500}"
      ]
     },
     "execution_count": 70,
     "metadata": {},
     "output_type": "execute_result"
    }
   ],
   "source": [
    "arq = 'data/sentiment/amazon_cells_labelled.txt'\n",
    "contaClasse = {}\n",
    "with open(arq) as file:\n",
    "    for line in file:\n",
    "        classificacao = str(int(line[-2]))\n",
    "        if classificacao in contaClasse:\n",
    "            contaClasse[classificacao] += 1\n",
    "        else:\n",
    "            contaClasse[classificacao] = 1\n",
    "contaClasse"
   ]
  },
  {
   "cell_type": "code",
   "execution_count": 71,
   "metadata": {},
   "outputs": [
    {
     "name": "stdout",
     "output_type": "stream",
     "text": [
      "Conj Teste: 300\n",
      "Acertos   : 233\n",
      "Acurácia  : 77.66666666666666 %\n"
     ]
    }
   ],
   "source": [
    "amazon = Classificador()\n",
    "amazon.carregarTexto('data/sentiment/amazon_cells_labelled.txt')\n",
    "validacaoCruzada(amazon)"
   ]
  },
  {
   "cell_type": "code",
   "execution_count": 72,
   "metadata": {},
   "outputs": [
    {
     "name": "stdout",
     "output_type": "stream",
     "text": [
      "1629\n",
      "['pn0', 'pn1', 'pn2', 'pn3', 'pn4', 'pn5', 'pn6', 'pn7', 'pn8', 'pn9']\n"
     ]
    }
   ],
   "source": [
    "print(len(amazon.dados[0]))\n",
    "print(amazon.dados[0][:10])"
   ]
  },
  {
   "cell_type": "markdown",
   "metadata": {},
   "source": [
    "# dataset imdb"
   ]
  },
  {
   "cell_type": "code",
   "execution_count": 73,
   "metadata": {},
   "outputs": [
    {
     "name": "stdout",
     "output_type": "stream",
     "text": [
      "1000 data/sentiment/imdb_labelled.txt\r\n"
     ]
    }
   ],
   "source": [
    "!wc -l data/sentiment/imdb_labelled.txt"
   ]
  },
  {
   "cell_type": "code",
   "execution_count": 74,
   "metadata": {},
   "outputs": [
    {
     "name": "stdout",
     "output_type": "stream",
     "text": [
      "A very, very, very slow-moving, aimless movie about a distressed, drifting young man.  \t0\r\n",
      "Not sure who was more lost - the flat characters or the audience, nearly half of whom walked out.  \t0\r\n",
      "Attempting artiness with black & white and clever camera angles, the movie disappointed - became even more ridiculous - as the acting was poor and the plot and lines almost non-existent.  \t0\r\n",
      "Very little music or anything to speak of.  \t0\r\n",
      "The best scene in the movie was when Gerardo is trying to find a song that keeps running through his head.  \t1\r\n",
      "The rest of the movie lacks art, charm, meaning... If it's about emptiness, it works I guess because it's empty.  \t0\r\n",
      "Wasted two hours.  \t0\r\n",
      "Saw the movie today and thought it was a good effort, good messages for kids.  \t1\r\n",
      "A bit predictable.  \t0\r\n",
      "Loved the casting of Jimmy Buffet as the science teacher.  \t1\r\n"
     ]
    }
   ],
   "source": [
    "!head data/sentiment/imdb_labelled.txt"
   ]
  },
  {
   "cell_type": "code",
   "execution_count": 75,
   "metadata": {},
   "outputs": [
    {
     "data": {
      "text/plain": [
       "{'0': 500, '1': 500}"
      ]
     },
     "execution_count": 75,
     "metadata": {},
     "output_type": "execute_result"
    }
   ],
   "source": [
    "arq = 'data/sentiment/imdb_labelled.txt'\n",
    "contaClasse = {}\n",
    "with open(arq) as file:\n",
    "    for line in file:\n",
    "        classificacao = str(int(line[-2]))\n",
    "        if classificacao in contaClasse:\n",
    "            contaClasse[classificacao] += 1\n",
    "        else:\n",
    "            contaClasse[classificacao] = 1\n",
    "contaClasse"
   ]
  },
  {
   "cell_type": "code",
   "execution_count": 76,
   "metadata": {},
   "outputs": [
    {
     "name": "stdout",
     "output_type": "stream",
     "text": [
      "Conj Teste: 300\n",
      "Acertos   : 224\n",
      "Acurácia  : 74.66666666666667 %\n"
     ]
    }
   ],
   "source": [
    "imdb = Classificador()\n",
    "imdb.carregarTexto('data/sentiment/imdb_labelled.txt')\n",
    "validacaoCruzada(imdb)"
   ]
  },
  {
   "cell_type": "markdown",
   "metadata": {},
   "source": [
    "# dataset yelp"
   ]
  },
  {
   "cell_type": "code",
   "execution_count": 77,
   "metadata": {},
   "outputs": [
    {
     "name": "stdout",
     "output_type": "stream",
     "text": [
      "1000 data/sentiment/yelp_labelled.txt\r\n"
     ]
    }
   ],
   "source": [
    "!wc -l data/sentiment/yelp_labelled.txt"
   ]
  },
  {
   "cell_type": "code",
   "execution_count": 78,
   "metadata": {},
   "outputs": [
    {
     "name": "stdout",
     "output_type": "stream",
     "text": [
      "Wow... Loved this place.\t1\r\n",
      "Crust is not good.\t0\r\n",
      "Not tasty and the texture was just nasty.\t0\r\n",
      "Stopped by during the late May bank holiday off Rick Steve recommendation and loved it.\t1\r\n",
      "The selection on the menu was great and so were the prices.\t1\r\n",
      "Now I am getting angry and I want my damn pho.\t0\r\n",
      "Honeslty it didn't taste THAT fresh.)\t0\r\n",
      "The potatoes were like rubber and you could tell they had been made up ahead of time being kept under a warmer.\t0\r\n",
      "The fries were great too.\t1\r\n",
      "A great touch.\t1\r\n"
     ]
    }
   ],
   "source": [
    "!head data/sentiment/yelp_labelled.txt"
   ]
  },
  {
   "cell_type": "code",
   "execution_count": 79,
   "metadata": {},
   "outputs": [
    {
     "data": {
      "text/plain": [
       "{'1': 500, '0': 500}"
      ]
     },
     "execution_count": 79,
     "metadata": {},
     "output_type": "execute_result"
    }
   ],
   "source": [
    "arq = 'data/sentiment/yelp_labelled.txt'\n",
    "contaClasse = {}\n",
    "with open(arq) as file:\n",
    "    for line in file:\n",
    "        classificacao = str(int(line[-2]))\n",
    "        if classificacao in contaClasse:\n",
    "            contaClasse[classificacao] += 1\n",
    "        else:\n",
    "            contaClasse[classificacao] = 1\n",
    "contaClasse"
   ]
  },
  {
   "cell_type": "code",
   "execution_count": 80,
   "metadata": {},
   "outputs": [
    {
     "name": "stdout",
     "output_type": "stream",
     "text": [
      "Conj Teste: 300\n",
      "Acertos   : 229\n",
      "Acurácia  : 76.33333333333333 %\n"
     ]
    }
   ],
   "source": [
    "yelp = Classificador()\n",
    "yelp.carregarTexto('data/sentiment/yelp_labelled.txt')\n",
    "validacaoCruzada(yelp)"
   ]
  }
 ],
 "metadata": {
  "kernelspec": {
   "display_name": "Python 3",
   "language": "python",
   "name": "python3"
  },
  "language_info": {
   "codemirror_mode": {
    "name": "ipython",
    "version": 3
   },
   "file_extension": ".py",
   "mimetype": "text/x-python",
   "name": "python",
   "nbconvert_exporter": "python",
   "pygments_lexer": "ipython3",
   "version": "3.7.3"
  }
 },
 "nbformat": 4,
 "nbformat_minor": 4
}
