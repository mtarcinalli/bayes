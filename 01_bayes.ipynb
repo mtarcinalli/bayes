{
 "cells": [
  {
   "cell_type": "markdown",
   "metadata": {},
   "source": [
    "# Naive Bayes"
   ]
  },
  {
   "cell_type": "code",
   "execution_count": 90,
   "metadata": {},
   "outputs": [],
   "source": [
    "import csv"
   ]
  },
  {
   "cell_type": "code",
   "execution_count": 126,
   "metadata": {},
   "outputs": [
    {
     "name": "stdout",
     "output_type": "stream",
     "text": [
      "14\n",
      "[('sol', 'quente', 'alta', 'falso', 'não'), ('sol', 'quente', 'alta', 'verdadeiro', 'não'), ('nublado', 'quente', 'alta', 'falso', 'sim'), ('chuva', 'agradável', 'alta', 'falso', 'sim'), ('chuva', 'fria', 'normal', 'falso', 'sim'), ('chuva', 'fria', 'normal', 'verdadeiro', 'não'), ('nublado', 'fria', 'normal', 'verdadeiro', 'sim'), ('sol', 'agradável', 'alta', 'falso', 'não'), ('sol', 'fria', 'normal', 'falso', 'sim'), ('chuva', 'agradável', 'normal', 'falso', 'sim'), ('sol', 'agradável', 'normal', 'verdadeiro', 'sim'), ('nublado', 'agradável', 'alta', 'verdadeiro', 'sim'), ('nublado', 'quente', 'normal', 'falso', 'sim'), ('chuva', 'agradável', 'alta', 'verdadeiro', 'não')]\n"
     ]
    }
   ],
   "source": [
    "arquivo='data/tempo.csv'\n",
    "arquivo='data/tenis.csv'\n",
    "data = []\n",
    "with open(arquivo) as csv_file:\n",
    "    csv_reader = csv.reader(csv_file, delimiter=';')\n",
    "    count = 0\n",
    "    for row in csv_reader:\n",
    "        if count != 0:\n",
    "            data.append(tuple(row))\n",
    "        count += 1\n",
    "print(len(data))\n",
    "print(data)"
   ]
  },
  {
   "cell_type": "code",
   "execution_count": 137,
   "metadata": {},
   "outputs": [
    {
     "data": {
      "text/plain": [
       "[('sol', 'quente', 'alta', 'falso', 'não'),\n",
       " ('sol', 'quente', 'alta', 'verdadeiro', 'não'),\n",
       " ('nublado', 'quente', 'alta', 'falso', 'sim'),\n",
       " ('chuva', 'agradável', 'alta', 'falso', 'sim'),\n",
       " ('chuva', 'fria', 'normal', 'falso', 'sim'),\n",
       " ('chuva', 'fria', 'normal', 'verdadeiro', 'não'),\n",
       " ('nublado', 'fria', 'normal', 'verdadeiro', 'sim'),\n",
       " ('sol', 'agradável', 'alta', 'falso', 'não'),\n",
       " ('sol', 'fria', 'normal', 'falso', 'sim'),\n",
       " ('chuva', 'agradável', 'normal', 'falso', 'sim'),\n",
       " ('sol', 'agradável', 'normal', 'verdadeiro', 'sim'),\n",
       " ('nublado', 'agradável', 'alta', 'verdadeiro', 'sim'),\n",
       " ('nublado', 'quente', 'normal', 'falso', 'sim'),\n",
       " ('chuva', 'agradável', 'alta', 'verdadeiro', 'não')]"
      ]
     },
     "execution_count": 137,
     "metadata": {},
     "output_type": "execute_result"
    }
   ],
   "source": [
    "data"
   ]
  },
  {
   "cell_type": "code",
   "execution_count": 114,
   "metadata": {},
   "outputs": [
    {
     "data": {
      "text/plain": [
       "14"
      ]
     },
     "execution_count": 114,
     "metadata": {},
     "output_type": "execute_result"
    }
   ],
   "source": [
    "len(data)"
   ]
  },
  {
   "cell_type": "code",
   "execution_count": 115,
   "metadata": {},
   "outputs": [],
   "source": [
    "total = len(data)\n",
    "cdata = {}\n",
    "pdata = {}\n",
    "combdata = {}\n",
    "pcombdata = {}\n",
    "for d in data:\n",
    "    if d in combdata:\n",
    "        combdata[d] += 1\n",
    "    else:\n",
    "        combdata[d] = 1\n",
    "    for i, key in enumerate(d):\n",
    "        if key in cdata:\n",
    "            cdata[key] += 1 \n",
    "        else:\n",
    "            cdata[key] = 1\n",
    "        pdata[key] = cdata[key] / total\n",
    "\n",
    "for comb in combdata:\n",
    "    pcombdata[comb] = combdata[comb] / cdata[comb[1]] * pdata[comb[1]] / pdata[comb[0]]"
   ]
  },
  {
   "cell_type": "code",
   "execution_count": null,
   "metadata": {},
   "outputs": [],
   "source": [
    "total = len(data)\n",
    "cdata = {}\n",
    "pdata = {}\n",
    "combdata = {}\n",
    "pcombdata = {}\n",
    "for d in data:\n",
    "    if d in combdata:\n",
    "        combdata[d] += 1\n",
    "    else:\n",
    "        combdata[d] = 1\n",
    "    for i, key in enumerate(d):\n",
    "        if key in cdata:\n",
    "            cdata[key] += 1 \n",
    "        else:\n",
    "            cdata[key] = 1\n",
    "        pdata[key] = cdata[key] / total\n",
    "\n",
    "for comb in combdata:\n",
    "    pcombdata[comb] = combdata[comb] / cdata[comb[1]] * pdata[comb[1]] / pdata[comb[0]]"
   ]
  },
  {
   "cell_type": "code",
   "execution_count": 160,
   "metadata": {},
   "outputs": [
    {
     "data": {
      "text/plain": [
       "{'não': 5,\n",
       " 'sol': 5,\n",
       " ('sol', 'não'): 3,\n",
       " 'quente': 4,\n",
       " ('quente', 'não'): 2,\n",
       " 'alta': 7,\n",
       " ('alta', 'não'): 4,\n",
       " 'falso': 8,\n",
       " ('falso', 'não'): 2,\n",
       " 'verdadeiro': 6,\n",
       " ('verdadeiro', 'não'): 3,\n",
       " 'sim': 9,\n",
       " 'nublado': 4,\n",
       " ('nublado', 'sim'): 4,\n",
       " ('quente', 'sim'): 2,\n",
       " ('alta', 'sim'): 3,\n",
       " ('falso', 'sim'): 6,\n",
       " 'chuva': 5,\n",
       " ('chuva', 'sim'): 3,\n",
       " 'agradável': 6,\n",
       " ('agradável', 'sim'): 4,\n",
       " 'fria': 4,\n",
       " ('fria', 'sim'): 3,\n",
       " 'normal': 7,\n",
       " ('normal', 'sim'): 6,\n",
       " ('chuva', 'não'): 2,\n",
       " ('fria', 'não'): 1,\n",
       " ('normal', 'não'): 1,\n",
       " ('verdadeiro', 'sim'): 3,\n",
       " ('agradável', 'não'): 2,\n",
       " ('sol', 'sim'): 2}"
      ]
     },
     "execution_count": 160,
     "metadata": {},
     "output_type": "execute_result"
    }
   ],
   "source": [
    "total = len(data)\n",
    "classes = list(set([x[-1] for x in data]))\n",
    "combdata = {}\n",
    "pdata = {}\n",
    "for row in data:\n",
    "    classe = (row[-1])\n",
    "    if classe in combdata:\n",
    "        combdata[classe] += 1\n",
    "    else:\n",
    "        combdata[classe] = 1    \n",
    "    for d in row[:-1]:\n",
    "        if d in combdata:\n",
    "            combdata[d] += 1\n",
    "        else:\n",
    "            combdata[d] = 1\n",
    "        key = (d,classe)\n",
    "        if key in combdata:\n",
    "            combdata[key] += 1\n",
    "        else:\n",
    "            combdata[key] = 1\n",
    "combdata\n"
   ]
  },
  {
   "cell_type": "code",
   "execution_count": 166,
   "metadata": {},
   "outputs": [
    {
     "data": {
      "text/plain": [
       "{'não': 0.35714285714285715,\n",
       " 'sol': 0.35714285714285715,\n",
       " ('sol', 'não'): 0.6,\n",
       " 'quente': 0.2857142857142857,\n",
       " ('quente', 'não'): 0.4,\n",
       " 'alta': 0.5,\n",
       " ('alta', 'não'): 0.8,\n",
       " 'falso': 0.5714285714285714,\n",
       " ('falso', 'não'): 0.4,\n",
       " 'verdadeiro': 0.42857142857142855,\n",
       " ('verdadeiro', 'não'): 0.6,\n",
       " 'sim': 0.6428571428571429,\n",
       " 'nublado': 0.2857142857142857,\n",
       " ('nublado', 'sim'): 0.4444444444444444,\n",
       " ('quente', 'sim'): 0.2222222222222222,\n",
       " ('alta', 'sim'): 0.3333333333333333,\n",
       " ('falso', 'sim'): 0.6666666666666666,\n",
       " 'chuva': 0.35714285714285715,\n",
       " ('chuva', 'sim'): 0.3333333333333333,\n",
       " 'agradável': 0.42857142857142855,\n",
       " ('agradável', 'sim'): 0.4444444444444444,\n",
       " 'fria': 0.2857142857142857,\n",
       " ('fria', 'sim'): 0.3333333333333333,\n",
       " 'normal': 0.5,\n",
       " ('normal', 'sim'): 0.6666666666666666,\n",
       " ('chuva', 'não'): 0.4,\n",
       " ('fria', 'não'): 0.2,\n",
       " ('normal', 'não'): 0.2,\n",
       " ('verdadeiro', 'sim'): 0.3333333333333333,\n",
       " ('agradável', 'não'): 0.4,\n",
       " ('sol', 'sim'): 0.2222222222222222,\n",
       " 'classes': ['sim', 'não']}"
      ]
     },
     "execution_count": 166,
     "metadata": {},
     "output_type": "execute_result"
    }
   ],
   "source": [
    "probdata = {}\n",
    "for c in combdata:\n",
    "    if type(c) == tuple:\n",
    "        probdata[c] = combdata[c] / combdata[c[1]]\n",
    "    else:\n",
    "        probdata[c] = combdata[c] / total\n",
    "probdata['classes'] = classes\n",
    "probdata"
   ]
  },
  {
   "cell_type": "code",
   "execution_count": null,
   "metadata": {},
   "outputs": [],
   "source": []
  },
  {
   "cell_type": "code",
   "execution_count": 191,
   "metadata": {},
   "outputs": [],
   "source": [
    "def verificar(probdata, tupla):\n",
    "    probClasse = {}\n",
    "    valClasse = 0\n",
    "    maxClasse = ''\n",
    "    for classe in probdata['classes']:\n",
    "        numerador = 1\n",
    "        denominador = 1\n",
    "        for v in tupla:\n",
    "            key = (v, classe)\n",
    "            numerador = numerador * probdata[key]\n",
    "            denominador = denominador * probdata[v]\n",
    "        numerador = numerador * probdata[classe]\n",
    "        probClasse[classe] = numerador / denominador\n",
    "        print(classe,probClasse[classe])\n",
    "        if probClasse[classe] > valClasse:\n",
    "            valClasse = probClasse[classe]\n",
    "            maxClasse = classe\n",
    "    return(maxClasse)\n"
   ]
  },
  {
   "cell_type": "code",
   "execution_count": 192,
   "metadata": {},
   "outputs": [
    {
     "name": "stdout",
     "output_type": "stream",
     "text": [
      "sim 0.2419753086419753\n",
      "não 0.9408\n",
      "não\n"
     ]
    }
   ],
   "source": [
    "tupla = ('sol', 'fria', 'alta', 'verdadeiro')\n",
    "print(verificar(probdata, tupla))"
   ]
  },
  {
   "cell_type": "code",
   "execution_count": 193,
   "metadata": {},
   "outputs": [
    {
     "name": "stdout",
     "output_type": "stream",
     "text": [
      "sim 0.7259259259259259\n",
      "não 0.15680000000000005\n",
      "sim\n"
     ]
    }
   ],
   "source": [
    "tupla = ('chuva', 'fria', 'normal', 'verdadeiro')\n",
    "print(verificar(probdata, tupla))"
   ]
  },
  {
   "cell_type": "code",
   "execution_count": null,
   "metadata": {},
   "outputs": [],
   "source": []
  },
  {
   "cell_type": "code",
   "execution_count": 123,
   "metadata": {},
   "outputs": [
    {
     "name": "stdout",
     "output_type": "stream",
     "text": [
      "('sunny', 'no')\n",
      "sunny\n",
      "no\n",
      "('overcast', 'yes')\n",
      "overcast\n",
      "yes\n",
      "('rainny', 'yes')\n",
      "rainny\n",
      "yes\n",
      "('sunny', 'yes')\n",
      "sunny\n",
      "yes\n",
      "('rainny', 'no')\n",
      "rainny\n",
      "no\n"
     ]
    }
   ],
   "source": [
    "for comb in combdata:\n",
    "    print(comb)\n",
    "    for c in comb[:-1]:\n",
    "        print(c)\n",
    "        print(comb[-1])\n",
    "    \n",
    "    pcombdata[comb] = combdata[comb] / cdata[comb[1]] * pdata[comb[1]] / pdata[comb[0]]"
   ]
  },
  {
   "cell_type": "code",
   "execution_count": 120,
   "metadata": {},
   "outputs": [
    {
     "data": {
      "text/plain": [
       "{('sunny', 'no'): 0.4,\n",
       " ('overcast', 'yes'): 1.0,\n",
       " ('rainny', 'yes'): 0.39999999999999997,\n",
       " ('sunny', 'yes'): 0.6,\n",
       " ('rainny', 'no'): 0.6}"
      ]
     },
     "execution_count": 120,
     "metadata": {},
     "output_type": "execute_result"
    }
   ],
   "source": [
    "pcombdata"
   ]
  },
  {
   "cell_type": "code",
   "execution_count": 116,
   "metadata": {},
   "outputs": [
    {
     "data": {
      "text/plain": [
       "{('sunny', 'no'): 2,\n",
       " ('overcast', 'yes'): 4,\n",
       " ('rainny', 'yes'): 2,\n",
       " ('sunny', 'yes'): 3,\n",
       " ('rainny', 'no'): 3}"
      ]
     },
     "execution_count": 116,
     "metadata": {},
     "output_type": "execute_result"
    }
   ],
   "source": [
    "combdata"
   ]
  },
  {
   "cell_type": "code",
   "execution_count": 117,
   "metadata": {},
   "outputs": [
    {
     "data": {
      "text/plain": [
       "{'sunny': 5, 'no': 5, 'overcast': 4, 'yes': 9, 'rainny': 5}"
      ]
     },
     "execution_count": 117,
     "metadata": {},
     "output_type": "execute_result"
    }
   ],
   "source": [
    "cdata"
   ]
  },
  {
   "cell_type": "code",
   "execution_count": 118,
   "metadata": {},
   "outputs": [
    {
     "data": {
      "text/plain": [
       "{'sunny': 0.35714285714285715,\n",
       " 'no': 0.35714285714285715,\n",
       " 'overcast': 0.2857142857142857,\n",
       " 'yes': 0.6428571428571429,\n",
       " 'rainny': 0.35714285714285715}"
      ]
     },
     "execution_count": 118,
     "metadata": {},
     "output_type": "execute_result"
    }
   ],
   "source": [
    "pdata"
   ]
  },
  {
   "cell_type": "code",
   "execution_count": 119,
   "metadata": {},
   "outputs": [
    {
     "data": {
      "text/plain": [
       "{('sunny', 'no'): 0.4,\n",
       " ('overcast', 'yes'): 1.0,\n",
       " ('rainny', 'yes'): 0.39999999999999997,\n",
       " ('sunny', 'yes'): 0.6,\n",
       " ('rainny', 'no'): 0.6}"
      ]
     },
     "execution_count": 119,
     "metadata": {},
     "output_type": "execute_result"
    }
   ],
   "source": [
    "pcombdata"
   ]
  },
  {
   "cell_type": "markdown",
   "metadata": {},
   "source": [
    "Problem: Players will play if weather is sunny. Is this statement is correct?\n",
    "\n",
    "We can solve it using above discussed method of posterior probability.\n",
    "\n",
    "P(Yes | Sunny) = P( Sunny | Yes) * P(Yes) / P (Sunny)\n",
    "\n",
    "Here we have P (Sunny |Yes) = 3/9 = 0.33, P(Sunny) = 5/14 = 0.36, P( Yes)= 9/14 = 0.64\n",
    "\n",
    "Now, P (Yes | Sunny) = 0.33 * 0.64 / 0.36 = 0.60, which has higher probability."
   ]
  },
  {
   "cell_type": "code",
   "execution_count": null,
   "metadata": {},
   "outputs": [],
   "source": []
  },
  {
   "cell_type": "code",
   "execution_count": null,
   "metadata": {},
   "outputs": [],
   "source": []
  },
  {
   "cell_type": "code",
   "execution_count": null,
   "metadata": {},
   "outputs": [],
   "source": []
  },
  {
   "cell_type": "code",
   "execution_count": null,
   "metadata": {},
   "outputs": [],
   "source": []
  },
  {
   "cell_type": "code",
   "execution_count": null,
   "metadata": {},
   "outputs": [],
   "source": []
  }
 ],
 "metadata": {
  "kernelspec": {
   "display_name": "Python 3",
   "language": "python",
   "name": "python3"
  },
  "language_info": {
   "codemirror_mode": {
    "name": "ipython",
    "version": 3
   },
   "file_extension": ".py",
   "mimetype": "text/x-python",
   "name": "python",
   "nbconvert_exporter": "python",
   "pygments_lexer": "ipython3",
   "version": "3.7.3"
  }
 },
 "nbformat": 4,
 "nbformat_minor": 4
}
