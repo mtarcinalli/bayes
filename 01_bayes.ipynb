{
 "cells": [
  {
   "cell_type": "markdown",
   "metadata": {},
   "source": [
    "# Naive Bayes"
   ]
  },
  {
   "cell_type": "code",
   "execution_count": 1,
   "metadata": {},
   "outputs": [],
   "source": [
    "import csv"
   ]
  },
  {
   "cell_type": "code",
   "execution_count": 2,
   "metadata": {},
   "outputs": [],
   "source": [
    "def carregar(arquivo):\n",
    "    data = []\n",
    "    with open(arquivo) as csv_file:\n",
    "        csv_reader = csv.reader(csv_file, delimiter=';')\n",
    "        count = 0\n",
    "        for row in csv_reader:\n",
    "            if count != 0:\n",
    "                data.append(tuple(row))\n",
    "            count += 1\n",
    "    return(data)"
   ]
  },
  {
   "cell_type": "code",
   "execution_count": 3,
   "metadata": {},
   "outputs": [],
   "source": [
    "def treinamento(data):\n",
    "    total = len(data)\n",
    "    classes = list(set([x[-1] for x in data]))\n",
    "    combdata = {}\n",
    "    pdata = {}\n",
    "    for row in data:\n",
    "        classe = (row[-1])\n",
    "        if classe in combdata:\n",
    "            combdata[classe] += 1\n",
    "        else:\n",
    "            combdata[classe] = 1    \n",
    "        for d in row[:-1]:\n",
    "            if d in combdata:\n",
    "                combdata[d] += 1\n",
    "            else:\n",
    "                combdata[d] = 1\n",
    "            key = (d,classe)\n",
    "            if key in combdata:\n",
    "                combdata[key] += 1\n",
    "            else:\n",
    "                combdata[key] = 1\n",
    "    # calculando probabilidades\n",
    "    probdata = {}\n",
    "    for c in combdata:\n",
    "        if type(c) == tuple:\n",
    "            probdata[c] = combdata[c] / combdata[c[1]]\n",
    "        else:\n",
    "            probdata[c] = combdata[c] / total\n",
    "    probdata['classes'] = classes\n",
    "    return(probdata)"
   ]
  },
  {
   "cell_type": "code",
   "execution_count": 4,
   "metadata": {},
   "outputs": [],
   "source": [
    "def verificar(probdata, tupla):\n",
    "    probClasse = {}\n",
    "    valClasse = 0\n",
    "    maxClasse = ''\n",
    "    for classe in probdata['classes']:\n",
    "        numerador = 1\n",
    "        denominador = 1\n",
    "        for v in tupla:\n",
    "            key = (v, classe)\n",
    "            if key in probdata:\n",
    "                numerador = numerador * probdata[key]\n",
    "            else:\n",
    "                numerador = numerador * 0.001\n",
    "            denominador = denominador * probdata[v]\n",
    "        numerador = numerador * probdata[classe]\n",
    "        probClasse[classe] = numerador / denominador\n",
    "        print(classe,probClasse[classe])\n",
    "        if probClasse[classe] > valClasse:\n",
    "            valClasse = probClasse[classe]\n",
    "            maxClasse = classe\n",
    "    return(maxClasse)"
   ]
  },
  {
   "cell_type": "markdown",
   "metadata": {},
   "source": [
    "# dataset tempo"
   ]
  },
  {
   "cell_type": "code",
   "execution_count": 106,
   "metadata": {},
   "outputs": [
    {
     "data": {
      "text/plain": [
       "[('sunny', 'no'),\n",
       " ('overcast', 'yes'),\n",
       " ('rainny', 'yes'),\n",
       " ('sunny', 'yes'),\n",
       " ('sunny', 'yes'),\n",
       " ('overcast', 'yes'),\n",
       " ('rainny', 'no'),\n",
       " ('rainny', 'no'),\n",
       " ('sunny', 'yes'),\n",
       " ('rainny', 'yes'),\n",
       " ('sunny', 'no'),\n",
       " ('overcast', 'yes'),\n",
       " ('overcast', 'yes'),\n",
       " ('rainny', 'no')]"
      ]
     },
     "execution_count": 106,
     "metadata": {},
     "output_type": "execute_result"
    }
   ],
   "source": [
    "tempo =  carregar('data/tempo.csv')\n",
    "tempo"
   ]
  },
  {
   "cell_type": "code",
   "execution_count": 107,
   "metadata": {},
   "outputs": [
    {
     "name": "stdout",
     "output_type": "stream",
     "text": [
      "{'no': 5, 'sunny': 5, ('sunny', 'no'): 2, 'yes': 9, 'overcast': 4, ('overcast', 'yes'): 4, 'rainny': 5, ('rainny', 'yes'): 2, ('sunny', 'yes'): 3, ('rainny', 'no'): 3}\n"
     ]
    }
   ],
   "source": [
    "modeloTempo = treinamento(tempo)"
   ]
  },
  {
   "cell_type": "code",
   "execution_count": 108,
   "metadata": {},
   "outputs": [
    {
     "name": "stdout",
     "output_type": "stream",
     "text": [
      "yes 0.6\n",
      "no 0.4\n"
     ]
    },
    {
     "data": {
      "text/plain": [
       "'yes'"
      ]
     },
     "execution_count": 108,
     "metadata": {},
     "output_type": "execute_result"
    }
   ],
   "source": [
    "verificar(modeloTempo, ['sunny'])"
   ]
  },
  {
   "cell_type": "code",
   "execution_count": 109,
   "metadata": {},
   "outputs": [
    {
     "name": "stdout",
     "output_type": "stream",
     "text": [
      "yes 1.0\n",
      "no 0.00125\n"
     ]
    },
    {
     "data": {
      "text/plain": [
       "'yes'"
      ]
     },
     "execution_count": 109,
     "metadata": {},
     "output_type": "execute_result"
    }
   ],
   "source": [
    "verificar(modeloTempo, ['overcast'])"
   ]
  },
  {
   "cell_type": "code",
   "execution_count": 110,
   "metadata": {},
   "outputs": [
    {
     "name": "stdout",
     "output_type": "stream",
     "text": [
      "yes 0.39999999999999997\n",
      "no 0.6\n"
     ]
    },
    {
     "data": {
      "text/plain": [
       "'no'"
      ]
     },
     "execution_count": 110,
     "metadata": {},
     "output_type": "execute_result"
    }
   ],
   "source": [
    "verificar(modeloTempo, ['rainny'])"
   ]
  },
  {
   "cell_type": "markdown",
   "metadata": {},
   "source": [
    "# dataset tenis"
   ]
  },
  {
   "cell_type": "code",
   "execution_count": 102,
   "metadata": {},
   "outputs": [
    {
     "data": {
      "text/plain": [
       "[('sol', 'quente', 'alta', 'falso', 'não'),\n",
       " ('sol', 'quente', 'alta', 'verdadeiro', 'não'),\n",
       " ('nublado', 'quente', 'alta', 'falso', 'sim'),\n",
       " ('chuva', 'agradável', 'alta', 'falso', 'sim'),\n",
       " ('chuva', 'fria', 'normal', 'falso', 'sim'),\n",
       " ('chuva', 'fria', 'normal', 'verdadeiro', 'não'),\n",
       " ('nublado', 'fria', 'normal', 'verdadeiro', 'sim'),\n",
       " ('sol', 'agradável', 'alta', 'falso', 'não'),\n",
       " ('sol', 'fria', 'normal', 'falso', 'sim'),\n",
       " ('chuva', 'agradável', 'normal', 'falso', 'sim'),\n",
       " ('sol', 'agradável', 'normal', 'verdadeiro', 'sim'),\n",
       " ('nublado', 'agradável', 'alta', 'verdadeiro', 'sim'),\n",
       " ('nublado', 'quente', 'normal', 'falso', 'sim'),\n",
       " ('chuva', 'agradável', 'alta', 'verdadeiro', 'não')]"
      ]
     },
     "execution_count": 102,
     "metadata": {},
     "output_type": "execute_result"
    }
   ],
   "source": [
    "tenis = carregar('data/tenis.csv')\n",
    "tenis"
   ]
  },
  {
   "cell_type": "code",
   "execution_count": 103,
   "metadata": {},
   "outputs": [
    {
     "name": "stdout",
     "output_type": "stream",
     "text": [
      "{'não': 5, 'sol': 5, ('sol', 'não'): 3, 'quente': 4, ('quente', 'não'): 2, 'alta': 7, ('alta', 'não'): 4, 'falso': 8, ('falso', 'não'): 2, 'verdadeiro': 6, ('verdadeiro', 'não'): 3, 'sim': 9, 'nublado': 4, ('nublado', 'sim'): 4, ('quente', 'sim'): 2, ('alta', 'sim'): 3, ('falso', 'sim'): 6, 'chuva': 5, ('chuva', 'sim'): 3, 'agradável': 6, ('agradável', 'sim'): 4, 'fria': 4, ('fria', 'sim'): 3, 'normal': 7, ('normal', 'sim'): 6, ('chuva', 'não'): 2, ('fria', 'não'): 1, ('normal', 'não'): 1, ('verdadeiro', 'sim'): 3, ('agradável', 'não'): 2, ('sol', 'sim'): 2}\n"
     ]
    }
   ],
   "source": [
    "modeloTenis = treinamento(tenis)"
   ]
  },
  {
   "cell_type": "code",
   "execution_count": 104,
   "metadata": {},
   "outputs": [
    {
     "name": "stdout",
     "output_type": "stream",
     "text": [
      "sim 0.2419753086419753\n",
      "não 0.9408\n",
      "não\n"
     ]
    }
   ],
   "source": [
    "tupla = ('sol', 'fria', 'alta', 'verdadeiro')\n",
    "print(verificar(modeloTenis, tupla))"
   ]
  },
  {
   "cell_type": "code",
   "execution_count": 105,
   "metadata": {},
   "outputs": [
    {
     "name": "stdout",
     "output_type": "stream",
     "text": [
      "sim 0.7259259259259259\n",
      "não 0.15680000000000005\n",
      "sim\n"
     ]
    }
   ],
   "source": [
    "tupla = ('chuva', 'fria', 'normal', 'verdadeiro')\n",
    "print(verificar(modeloTenis, tupla))"
   ]
  },
  {
   "cell_type": "code",
   "execution_count": 20,
   "metadata": {},
   "outputs": [
    {
     "data": {
      "text/plain": [
       "3.0"
      ]
     },
     "execution_count": 20,
     "metadata": {},
     "output_type": "execute_result"
    }
   ],
   "source": [
    "9 ** 0.5"
   ]
  },
  {
   "cell_type": "code",
   "execution_count": 29,
   "metadata": {},
   "outputs": [],
   "source": [
    "import math"
   ]
  },
  {
   "cell_type": "code",
   "execution_count": 30,
   "metadata": {},
   "outputs": [
    {
     "data": {
      "text/plain": [
       "3.141592653589793"
      ]
     },
     "execution_count": 30,
     "metadata": {},
     "output_type": "execute_result"
    }
   ],
   "source": [
    "math.pi"
   ]
  },
  {
   "cell_type": "markdown",
   "metadata": {},
   "source": [
    "# atributos continuos"
   ]
  },
  {
   "cell_type": "code",
   "execution_count": 17,
   "metadata": {},
   "outputs": [],
   "source": [
    "from math import e"
   ]
  },
  {
   "cell_type": "code",
   "execution_count": 48,
   "metadata": {},
   "outputs": [
    {
     "data": {
      "text/plain": [
       "[('sol', '85.01', '85', 'falso', 'não'),\n",
       " ('sol', '80', '90', 'verdadeiro', 'não'),\n",
       " ('nublado', '83', '86', 'falso', 'sim'),\n",
       " ('chuva', '70', '96', 'falso', 'sim'),\n",
       " ('chuva', '68', '80', 'falso', 'sim'),\n",
       " ('chuva', '65', '70', 'verdadeiro', 'não'),\n",
       " ('nublado', '64', '65', 'verdadeiro', 'sim'),\n",
       " ('sol', '72', '95', 'falso', 'não'),\n",
       " ('sol', '69', '70', 'falso', 'sim'),\n",
       " ('chuva', '75', '80', 'falso', 'sim'),\n",
       " ('sol', '75', '70', 'verdadeiro', 'sim'),\n",
       " ('nublado', '72', '90', 'verdadeiro', 'sim'),\n",
       " ('nublado', '81', '75', 'falso', 'sim'),\n",
       " ('chuva', '71', '91', 'verdadeiro', 'não')]"
      ]
     },
     "execution_count": 48,
     "metadata": {},
     "output_type": "execute_result"
    }
   ],
   "source": [
    "tenis2 = carregar('data/tenis2.csv')\n",
    "tenis2"
   ]
  },
  {
   "cell_type": "code",
   "execution_count": 101,
   "metadata": {},
   "outputs": [
    {
     "name": "stdout",
     "output_type": "stream",
     "text": [
      "{'não': 5, 'sol': 5, ('sol', 'não'): 3, 'i1': [85.01, 80.0, 83.0, 70.0, 68.0, 65.0, 64.0, 72.0, 69.0, 75.0, 75.0, 72.0, 81.0, 71.0], ('i1', 'não'): [85.01, 80.0, 65.0, 72.0, 71.0], 'i2': [85.0, 90.0, 86.0, 96.0, 80.0, 70.0, 65.0, 95.0, 70.0, 80.0, 70.0, 90.0, 75.0, 91.0], ('i2', 'não'): [85.0, 90.0, 70.0, 95.0, 91.0], 'falso': 8, ('falso', 'não'): 2, 'verdadeiro': 6, ('verdadeiro', 'não'): 3, 'sim': 9, 'nublado': 4, ('nublado', 'sim'): 4, ('i1', 'sim'): [83.0, 70.0, 68.0, 64.0, 69.0, 75.0, 75.0, 72.0, 81.0], ('i2', 'sim'): [86.0, 96.0, 80.0, 65.0, 70.0, 80.0, 70.0, 90.0, 75.0], ('falso', 'sim'): 6, 'chuva': 5, ('chuva', 'sim'): 3, ('chuva', 'não'): 2, ('verdadeiro', 'sim'): 3, ('sol', 'sim'): 2}\n"
     ]
    },
    {
     "data": {
      "text/plain": [
       "{'não': 0.35714285714285715,\n",
       " 'sol': 0.35714285714285715,\n",
       " ('sol', 'não'): 0.6,\n",
       " 'i1': {'media': 73.57214285714285, 'desvio': 6.573005609860131},\n",
       " ('i1', 'não'): {'media': 74.602, 'desvio': 7.896329527065093},\n",
       " 'i2': {'media': 81.64285714285714, 'desvio': 10.285218242007035},\n",
       " ('i2', 'não'): {'media': 86.2, 'desvio': 9.731392500562292},\n",
       " 'falso': 0.5714285714285714,\n",
       " ('falso', 'não'): 0.4,\n",
       " 'verdadeiro': 0.42857142857142855,\n",
       " ('verdadeiro', 'não'): 0.6,\n",
       " 'sim': 0.6428571428571429,\n",
       " 'nublado': 0.2857142857142857,\n",
       " ('nublado', 'sim'): 0.4444444444444444,\n",
       " ('i1', 'sim'): {'media': 73.0, 'desvio': 6.164414002968976},\n",
       " ('i2', 'sim'): {'media': 79.11111111111111, 'desvio': 10.215728613814635},\n",
       " ('falso', 'sim'): 0.6666666666666666,\n",
       " 'chuva': 0.35714285714285715,\n",
       " ('chuva', 'sim'): 0.3333333333333333,\n",
       " ('chuva', 'não'): 0.4,\n",
       " ('verdadeiro', 'sim'): 0.3333333333333333,\n",
       " ('sol', 'sim'): 0.2222222222222222,\n",
       " 'classes': ['sim', 'não']}"
      ]
     },
     "execution_count": 101,
     "metadata": {},
     "output_type": "execute_result"
    }
   ],
   "source": [
    "def treinamento(data):\n",
    "    total = len(data)\n",
    "    classes = list(set([x[-1] for x in data]))\n",
    "    combdata = {}\n",
    "    pdata = {}\n",
    "    for row in data:\n",
    "        classe = (row[-1])\n",
    "        if classe in combdata:\n",
    "            combdata[classe] += 1\n",
    "        else:\n",
    "            combdata[classe] = 1    \n",
    "        for i, d in enumerate(row[:-1]):\n",
    "            \n",
    "            # variavel continua\n",
    "            if d.replace('.','',1).isdigit():\n",
    "                ind = 'i'+str(i)\n",
    "                if ind in combdata:\n",
    "                    combdata[ind].append(float(d))\n",
    "                    #= { \n",
    "                    #    'soma' : combdata[ind]['soma']+float(d), \n",
    "                    #    'qtd' : combdata[ind]['qtd']+1\n",
    "                    #}\n",
    "                else:\n",
    "                    combdata[ind] = [ float(d) ]\n",
    "                        #'soma' : float(d), \n",
    "                        #'qtd' :1\n",
    "                    #}\n",
    "                    \n",
    "                key = (ind,classe)    \n",
    "                if key in combdata:\n",
    "                    combdata[key].append(float(d))\n",
    "                        #'soma' : combdata[key]['soma']+float(d), \n",
    "                        #'qtd' : combdata[key]['qtd']+1\n",
    "                    #}\n",
    "                else:\n",
    "                    combdata[key] = [float(d)]\n",
    "                        #'soma' : float(d), \n",
    "                        #'qtd' :1\n",
    "                    #}\n",
    "            # variavel nominal\n",
    "            else:\n",
    "                if d in combdata:\n",
    "                    combdata[d] += 1\n",
    "                else:\n",
    "                    combdata[d] = 1\n",
    "                key = (d,classe)\n",
    "                if key in combdata:\n",
    "                    combdata[key] += 1\n",
    "                else:\n",
    "                    combdata[key] = 1\n",
    "    # calculando probabilidades\n",
    "    print(combdata)\n",
    "    probdata = {}\n",
    "    for c in combdata:\n",
    "        if type(c) == tuple:\n",
    "            if type(combdata[c]) != list:\n",
    "                probdata[c] = combdata[c] / combdata[c[1]]\n",
    "            else:\n",
    "                media =  sum(combdata[c])/len(combdata[c])\n",
    "                desvio = (sum([(x-media)**2 for x in combdata[c]])/(len(combdata[c])-1))**0.5\n",
    "                probdata[c] = {\n",
    "                    'media' : media,\n",
    "                    'desvio' : desvio\n",
    "                }\n",
    "        else:\n",
    "            if type(combdata[c]) != list:\n",
    "                probdata[c] = combdata[c] / total\n",
    "            else:\n",
    "                media =  sum(combdata[c])/len(combdata[c])\n",
    "                desvio = (sum([(x-media)**2 for x in combdata[c]])/(len(combdata[c])-1))**0.5\n",
    "                probdata[c] = {\n",
    "                    'media' : media,\n",
    "                    'desvio' : desvio\n",
    "                }\n",
    "    \n",
    "    \n",
    "    probdata['classes'] = classes\n",
    "    return(probdata)\n",
    "\n",
    "modeloTenis2 = treinamento2(tenis2)\n",
    "modeloTenis2"
   ]
  },
  {
   "cell_type": "code",
   "execution_count": 94,
   "metadata": {},
   "outputs": [
    {
     "name": "stdout",
     "output_type": "stream",
     "text": [
      "1.6833333333333333   0.10274023338281627\n"
     ]
    }
   ],
   "source": [
    "lista = [1.55, 1.70, 1.80]\n",
    "media =  sum(lista)/len(lista)\n",
    "desvio = (sum([(x-media)**2 for x in lista])/len(lista))**0.5\n",
    "print(media,' ',desvio)\n"
   ]
  },
  {
   "cell_type": "code",
   "execution_count": 73,
   "metadata": {},
   "outputs": [
    {
     "name": "stdout",
     "output_type": "stream",
     "text": [
      "d 85.01 <class 'str'> True 1\n",
      "d 85 <class 'str'> True 2\n",
      "d 80 <class 'str'> True 1\n"
     ]
    },
    {
     "ename": "TypeError",
     "evalue": "can only concatenate str (not \"float\") to str",
     "output_type": "error",
     "traceback": [
      "\u001b[0;31m---------------------------------------------------------------------------\u001b[0m",
      "\u001b[0;31mTypeError\u001b[0m                                 Traceback (most recent call last)",
      "\u001b[0;32m<ipython-input-73-cc213ccde9d3>\u001b[0m in \u001b[0;36m<module>\u001b[0;34m()\u001b[0m\n\u001b[0;32m----> 1\u001b[0;31m \u001b[0mmodeloTenis2\u001b[0m \u001b[0;34m=\u001b[0m \u001b[0mtreinamento2\u001b[0m\u001b[0;34m(\u001b[0m\u001b[0mtenis2\u001b[0m\u001b[0;34m)\u001b[0m\u001b[0;34m\u001b[0m\u001b[0;34m\u001b[0m\u001b[0m\n\u001b[0m",
      "\u001b[0;32m<ipython-input-72-69fe5d205075>\u001b[0m in \u001b[0;36mtreinamento2\u001b[0;34m(data)\u001b[0m\n\u001b[1;32m     17\u001b[0m                 \u001b[0mind\u001b[0m \u001b[0;34m=\u001b[0m \u001b[0;34m'i'\u001b[0m\u001b[0;34m+\u001b[0m\u001b[0mstr\u001b[0m\u001b[0;34m(\u001b[0m\u001b[0mi\u001b[0m\u001b[0;34m)\u001b[0m\u001b[0;34m\u001b[0m\u001b[0;34m\u001b[0m\u001b[0m\n\u001b[1;32m     18\u001b[0m                 \u001b[0;32mif\u001b[0m \u001b[0mind\u001b[0m \u001b[0;32min\u001b[0m \u001b[0mcombdata\u001b[0m\u001b[0;34m:\u001b[0m\u001b[0;34m\u001b[0m\u001b[0;34m\u001b[0m\u001b[0m\n\u001b[0;32m---> 19\u001b[0;31m                     \u001b[0mcombdata\u001b[0m\u001b[0;34m[\u001b[0m\u001b[0mind\u001b[0m\u001b[0;34m]\u001b[0m \u001b[0;34m=\u001b[0m \u001b[0;34m{\u001b[0m\u001b[0;34m'media'\u001b[0m\u001b[0;34m:\u001b[0m\u001b[0;36m0\u001b[0m\u001b[0;34m,\u001b[0m \u001b[0;34m'desvio'\u001b[0m\u001b[0;34m:\u001b[0m \u001b[0;36m0\u001b[0m\u001b[0;34m,\u001b[0m \u001b[0;34m'soma'\u001b[0m\u001b[0;34m:\u001b[0m \u001b[0mcombdata\u001b[0m\u001b[0;34m[\u001b[0m\u001b[0mind\u001b[0m\u001b[0;34m]\u001b[0m\u001b[0;34m[\u001b[0m\u001b[0;34m'soma'\u001b[0m\u001b[0;34m]\u001b[0m\u001b[0;34m+\u001b[0m\u001b[0mfloat\u001b[0m\u001b[0;34m(\u001b[0m\u001b[0md\u001b[0m\u001b[0;34m)\u001b[0m\u001b[0;34m,\u001b[0m \u001b[0;34m'qtd'\u001b[0m\u001b[0;34m:\u001b[0m\u001b[0mcombdata\u001b[0m\u001b[0;34m[\u001b[0m\u001b[0mind\u001b[0m\u001b[0;34m]\u001b[0m\u001b[0;34m[\u001b[0m\u001b[0;34m'soma'\u001b[0m\u001b[0;34m]\u001b[0m\u001b[0;34m+\u001b[0m\u001b[0;36m1\u001b[0m\u001b[0;34m}\u001b[0m\u001b[0;34m\u001b[0m\u001b[0;34m\u001b[0m\u001b[0m\n\u001b[0m\u001b[1;32m     20\u001b[0m                 \u001b[0;32melse\u001b[0m\u001b[0;34m:\u001b[0m\u001b[0;34m\u001b[0m\u001b[0;34m\u001b[0m\u001b[0m\n\u001b[1;32m     21\u001b[0m                     \u001b[0mcombdata\u001b[0m\u001b[0;34m[\u001b[0m\u001b[0mind\u001b[0m\u001b[0;34m]\u001b[0m \u001b[0;34m=\u001b[0m \u001b[0;34m{\u001b[0m\u001b[0;34m'media'\u001b[0m\u001b[0;34m:\u001b[0m\u001b[0;36m0\u001b[0m\u001b[0;34m,\u001b[0m \u001b[0;34m'desvio'\u001b[0m\u001b[0;34m:\u001b[0m \u001b[0;36m0\u001b[0m\u001b[0;34m,\u001b[0m \u001b[0;34m'soma'\u001b[0m\u001b[0;34m:\u001b[0m \u001b[0md\u001b[0m\u001b[0;34m,\u001b[0m \u001b[0;34m'qtd'\u001b[0m\u001b[0;34m:\u001b[0m\u001b[0;36m1\u001b[0m\u001b[0;34m}\u001b[0m\u001b[0;34m\u001b[0m\u001b[0;34m\u001b[0m\u001b[0m\n",
      "\u001b[0;31mTypeError\u001b[0m: can only concatenate str (not \"float\") to str"
     ]
    }
   ],
   "source": [
    "modeloTenis2 = treinamento2(tenis2)"
   ]
  },
  {
   "cell_type": "code",
   "execution_count": 41,
   "metadata": {},
   "outputs": [
    {
     "data": {
      "text/plain": [
       "{'não': 0.35714285714285715,\n",
       " 'sol': 0.35714285714285715,\n",
       " ('sol', 'não'): 0.6,\n",
       " '85': 0.14285714285714285,\n",
       " ('85', 'não'): 0.4,\n",
       " 'falso': 0.5714285714285714,\n",
       " ('falso', 'não'): 0.4,\n",
       " '80': 0.21428571428571427,\n",
       " ('80', 'não'): 0.2,\n",
       " '90': 0.14285714285714285,\n",
       " ('90', 'não'): 0.2,\n",
       " 'verdadeiro': 0.42857142857142855,\n",
       " ('verdadeiro', 'não'): 0.6,\n",
       " 'sim': 0.6428571428571429,\n",
       " 'nublado': 0.2857142857142857,\n",
       " ('nublado', 'sim'): 0.4444444444444444,\n",
       " '83': 0.07142857142857142,\n",
       " ('83', 'sim'): 0.1111111111111111,\n",
       " '86': 0.07142857142857142,\n",
       " ('86', 'sim'): 0.1111111111111111,\n",
       " ('falso', 'sim'): 0.6666666666666666,\n",
       " 'chuva': 0.35714285714285715,\n",
       " ('chuva', 'sim'): 0.3333333333333333,\n",
       " '70': 0.2857142857142857,\n",
       " ('70', 'sim'): 0.3333333333333333,\n",
       " '96': 0.07142857142857142,\n",
       " ('96', 'sim'): 0.1111111111111111,\n",
       " '68': 0.07142857142857142,\n",
       " ('68', 'sim'): 0.1111111111111111,\n",
       " ('80', 'sim'): 0.2222222222222222,\n",
       " ('chuva', 'não'): 0.4,\n",
       " '65': 0.14285714285714285,\n",
       " ('65', 'não'): 0.2,\n",
       " ('70', 'não'): 0.2,\n",
       " '64': 0.07142857142857142,\n",
       " ('64', 'sim'): 0.1111111111111111,\n",
       " ('65', 'sim'): 0.1111111111111111,\n",
       " ('verdadeiro', 'sim'): 0.3333333333333333,\n",
       " '72': 0.14285714285714285,\n",
       " ('72', 'não'): 0.2,\n",
       " '95': 0.07142857142857142,\n",
       " ('95', 'não'): 0.2,\n",
       " ('sol', 'sim'): 0.2222222222222222,\n",
       " '69': 0.07142857142857142,\n",
       " ('69', 'sim'): 0.1111111111111111,\n",
       " '75': 0.21428571428571427,\n",
       " ('75', 'sim'): 0.3333333333333333,\n",
       " ('72', 'sim'): 0.1111111111111111,\n",
       " ('90', 'sim'): 0.1111111111111111,\n",
       " '81': 0.07142857142857142,\n",
       " ('81', 'sim'): 0.1111111111111111,\n",
       " '71': 0.07142857142857142,\n",
       " ('71', 'não'): 0.2,\n",
       " '91': 0.07142857142857142,\n",
       " ('91', 'não'): 0.2,\n",
       " 'classes': ['sim', 'não']}"
      ]
     },
     "execution_count": 41,
     "metadata": {},
     "output_type": "execute_result"
    }
   ],
   "source": [
    "modeloTenis2"
   ]
  },
  {
   "cell_type": "code",
   "execution_count": 139,
   "metadata": {},
   "outputs": [
    {
     "name": "stdout",
     "output_type": "stream",
     "text": [
      "sim\n",
      "numerador 0.2222222222222222\n",
      "numerador 0.017361136822063646\n",
      "numerador 0.03265385524788524\n",
      "numerador 0.3333333333333333\n",
      "sim 0.29830336029759913\n",
      "não\n",
      "numerador 0.6\n",
      "numerador 0.02869917673110001\n",
      "numerador 0.016338135629001715\n",
      "numerador 0.6\n",
      "não 0.6661640966995964\n",
      "não\n"
     ]
    }
   ],
   "source": [
    "def verificar(probdata, tupla):\n",
    "    probClasse = {}\n",
    "    valClasse = 0\n",
    "    maxClasse = ''\n",
    "    for classe in probdata['classes']:\n",
    "        print(classe)\n",
    "        numerador = 1\n",
    "        denominador = 1\n",
    "        i=0\n",
    "        for v in tupla:\n",
    "            if type(v) == str:\n",
    "                key = (v, classe)\n",
    "                if key in probdata:\n",
    "                    numerador = numerador * probdata[key]\n",
    "                    print('numerador',probdata[key])\n",
    "                else:\n",
    "                    numerador = numerador * 0.001\n",
    "                denominador = denominador * probdata[v]\n",
    "            else:\n",
    "                i += 1\n",
    "                key1 = ('i'+str(i),classe)\n",
    "                key2 = 'i'+str(i)\n",
    "                #print(key1,key2)\n",
    "                #print(probdata[key1],v)\n",
    "                print('numerador',g(v,probdata[key1]['media'],probdata[key1]['desvio']))\n",
    "                numerador = numerador * g(v,probdata[key1]['media'],probdata[key1]['desvio'])\n",
    "                #print(probdata[key2],v)\n",
    "                denominador = denominador * g(v,probdata[key2]['media'],probdata[key2]['desvio'])\n",
    "                \n",
    "        numerador = numerador * probdata[classe]\n",
    "        probClasse[classe] = numerador / denominador\n",
    "        print(classe,probClasse[classe])\n",
    "        if probClasse[classe] > valClasse:\n",
    "            valClasse = probClasse[classe]\n",
    "            maxClasse = classe\n",
    "    return(maxClasse)\n",
    "\n",
    "tupla = ('sol', 83, 73, 'verdadeiro')\n",
    "print(verificar(modeloTenis2, tupla))"
   ]
  },
  {
   "cell_type": "code",
   "execution_count": 32,
   "metadata": {},
   "outputs": [
    {
     "name": "stdout",
     "output_type": "stream",
     "text": [
      "0.017340835222313836\n",
      "0.028688396603888434\n",
      "0.021676800985283348\n"
     ]
    }
   ],
   "source": [
    "def g(x, media, desvio):\n",
    "    p1 = 1 / ( (2*3.141592653589793)**0.5 * desvio  )\n",
    "    p2 = 2.718281828459045 ** (-((x - media) ** 2) / (2 * desvio ** 2))\n",
    "    return p1 * p2\n",
    "    \n",
    "    \n",
    "print(g(83, 73.00, 6.16)) # 0.017\n",
    "print(g(83, 74.60, 7.89)) # 0.029\n",
    "print(g(83, 73.57, 6.57)) # 0.022"
   ]
  },
  {
   "cell_type": "code",
   "execution_count": 123,
   "metadata": {},
   "outputs": [
    {
     "name": "stdout",
     "output_type": "stream",
     "text": [
      "sol\n",
      "83\n"
     ]
    },
    {
     "ename": "KeyError",
     "evalue": "83",
     "output_type": "error",
     "traceback": [
      "\u001b[0;31m---------------------------------------------------------------------------\u001b[0m",
      "\u001b[0;31mKeyError\u001b[0m                                  Traceback (most recent call last)",
      "\u001b[0;32m<ipython-input-123-75f44ddcb397>\u001b[0m in \u001b[0;36m<module>\u001b[0;34m()\u001b[0m\n\u001b[1;32m      1\u001b[0m \u001b[0mtupla\u001b[0m \u001b[0;34m=\u001b[0m \u001b[0;34m(\u001b[0m\u001b[0;34m'sol'\u001b[0m\u001b[0;34m,\u001b[0m \u001b[0;36m83\u001b[0m\u001b[0;34m,\u001b[0m \u001b[0;36m73\u001b[0m\u001b[0;34m,\u001b[0m \u001b[0;34m'verdadeiro'\u001b[0m\u001b[0;34m)\u001b[0m\u001b[0;34m\u001b[0m\u001b[0;34m\u001b[0m\u001b[0m\n\u001b[0;32m----> 2\u001b[0;31m \u001b[0mprint\u001b[0m\u001b[0;34m(\u001b[0m\u001b[0mverificar\u001b[0m\u001b[0;34m(\u001b[0m\u001b[0mmodeloTenis2\u001b[0m\u001b[0;34m,\u001b[0m \u001b[0mtupla\u001b[0m\u001b[0;34m)\u001b[0m\u001b[0;34m)\u001b[0m\u001b[0;34m\u001b[0m\u001b[0;34m\u001b[0m\u001b[0m\n\u001b[0m",
      "\u001b[0;32m<ipython-input-121-3955b818e04c>\u001b[0m in \u001b[0;36mverificar\u001b[0;34m(probdata, tupla)\u001b[0m\n\u001b[1;32m     15\u001b[0m             \u001b[0;31m#print(probdata[v])\u001b[0m\u001b[0;34m\u001b[0m\u001b[0;34m\u001b[0m\u001b[0;34m\u001b[0m\u001b[0m\n\u001b[1;32m     16\u001b[0m             \u001b[0;31m#print(type(probdata[v]))\u001b[0m\u001b[0;34m\u001b[0m\u001b[0;34m\u001b[0m\u001b[0;34m\u001b[0m\u001b[0m\n\u001b[0;32m---> 17\u001b[0;31m             \u001b[0mdenominador\u001b[0m \u001b[0;34m=\u001b[0m \u001b[0mdenominador\u001b[0m \u001b[0;34m*\u001b[0m \u001b[0mprobdata\u001b[0m\u001b[0;34m[\u001b[0m\u001b[0mv\u001b[0m\u001b[0;34m]\u001b[0m\u001b[0;34m\u001b[0m\u001b[0;34m\u001b[0m\u001b[0m\n\u001b[0m\u001b[1;32m     18\u001b[0m         \u001b[0mnumerador\u001b[0m \u001b[0;34m=\u001b[0m \u001b[0mnumerador\u001b[0m \u001b[0;34m*\u001b[0m \u001b[0mprobdata\u001b[0m\u001b[0;34m[\u001b[0m\u001b[0mclasse\u001b[0m\u001b[0;34m]\u001b[0m\u001b[0;34m\u001b[0m\u001b[0;34m\u001b[0m\u001b[0m\n\u001b[1;32m     19\u001b[0m         \u001b[0mprobClasse\u001b[0m\u001b[0;34m[\u001b[0m\u001b[0mclasse\u001b[0m\u001b[0;34m]\u001b[0m \u001b[0;34m=\u001b[0m \u001b[0mnumerador\u001b[0m \u001b[0;34m/\u001b[0m \u001b[0mdenominador\u001b[0m\u001b[0;34m\u001b[0m\u001b[0;34m\u001b[0m\u001b[0m\n",
      "\u001b[0;31mKeyError\u001b[0m: 83"
     ]
    }
   ],
   "source": [
    "tupla = ('sol', 83, 73, 'verdadeiro')\n",
    "print(verificar(modeloTenis2, tupla))"
   ]
  },
  {
   "cell_type": "code",
   "execution_count": 122,
   "metadata": {},
   "outputs": [
    {
     "data": {
      "text/plain": [
       "[('sol', '85.01', '85', 'falso', 'não'),\n",
       " ('sol', '80', '90', 'verdadeiro', 'não'),\n",
       " ('nublado', '83', '86', 'falso', 'sim'),\n",
       " ('chuva', '70', '96', 'falso', 'sim'),\n",
       " ('chuva', '68', '80', 'falso', 'sim'),\n",
       " ('chuva', '65', '70', 'verdadeiro', 'não'),\n",
       " ('nublado', '64', '65', 'verdadeiro', 'sim'),\n",
       " ('sol', '72', '95', 'falso', 'não'),\n",
       " ('sol', '69', '70', 'falso', 'sim'),\n",
       " ('chuva', '75', '80', 'falso', 'sim'),\n",
       " ('sol', '75', '70', 'verdadeiro', 'sim'),\n",
       " ('nublado', '72', '90', 'verdadeiro', 'sim'),\n",
       " ('nublado', '81', '75', 'falso', 'sim'),\n",
       " ('chuva', '71', '91', 'verdadeiro', 'não')]"
      ]
     },
     "execution_count": 122,
     "metadata": {},
     "output_type": "execute_result"
    }
   ],
   "source": [
    "tenis2"
   ]
  },
  {
   "cell_type": "code",
   "execution_count": null,
   "metadata": {},
   "outputs": [],
   "source": []
  }
 ],
 "metadata": {
  "kernelspec": {
   "display_name": "Python 3",
   "language": "python",
   "name": "python3"
  },
  "language_info": {
   "codemirror_mode": {
    "name": "ipython",
    "version": 3
   },
   "file_extension": ".py",
   "mimetype": "text/x-python",
   "name": "python",
   "nbconvert_exporter": "python",
   "pygments_lexer": "ipython3",
   "version": "3.7.3"
  }
 },
 "nbformat": 4,
 "nbformat_minor": 4
}
