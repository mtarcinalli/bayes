{
 "cells": [
  {
   "cell_type": "markdown",
   "metadata": {},
   "source": [
    "# Naive Bayes"
   ]
  },
  {
   "cell_type": "code",
   "execution_count": 1,
   "metadata": {},
   "outputs": [],
   "source": [
    "import csv\n",
    "import random\n",
    "import warnings\n",
    "warnings.filterwarnings('ignore')"
   ]
  },
  {
   "cell_type": "code",
   "execution_count": null,
   "metadata": {},
   "outputs": [],
   "source": []
  },
  {
   "cell_type": "code",
   "execution_count": 210,
   "metadata": {},
   "outputs": [
    {
     "name": "stdout",
     "output_type": "stream",
     "text": [
      "[(5.1, 1.4, '0'), (4.9, 1.4, '0'), (4.7, 1.3, '0'), (4.6, 1.5, '0'), (5.0, 1.4, '0'), (5.4, 1.7, '0'), (4.6, 1.4, '0'), (5.0, 1.5, '0'), (4.4, 1.4, '0'), (4.9, 1.5, '0'), (5.4, 1.5, '0'), (4.8, 1.6, '0'), (4.8, 1.4, '0'), (4.3, 1.1, '0'), (5.8, 1.2, '0'), (5.7, 1.5, '0'), (5.4, 1.3, '0'), (5.1, 1.4, '0'), (5.7, 1.7, '0'), (5.1, 1.5, '0'), (5.4, 1.7, '0'), (5.1, 1.5, '0'), (4.6, 1.0, '0'), (5.1, 1.7, '0'), (4.8, 1.9, '0'), (5.0, 1.6, '0'), (5.0, 1.6, '0'), (5.2, 1.5, '0'), (5.2, 1.4, '0'), (4.7, 1.6, '0'), (4.8, 1.6, '0'), (5.4, 1.5, '0'), (5.2, 1.5, '0'), (5.5, 1.4, '0'), (4.9, 1.5, '0'), (5.0, 1.2, '0'), (5.5, 1.3, '0'), (4.9, 1.5, '0'), (4.4, 1.3, '0'), (5.1, 1.5, '0'), (5.0, 1.3, '0'), (4.5, 1.3, '0'), (4.4, 1.3, '0'), (5.0, 1.6, '0'), (5.1, 1.9, '0'), (4.8, 1.4, '0'), (5.1, 1.6, '0'), (4.6, 1.4, '0'), (5.3, 1.5, '0'), (5.0, 1.4, '0'), (7.0, 4.7, '1'), (6.4, 4.5, '1'), (6.9, 4.9, '1'), (5.5, 4.0, '1'), (6.5, 4.6, '1'), (5.7, 4.5, '1'), (6.3, 4.7, '1'), (4.9, 3.3, '1'), (6.6, 4.6, '1'), (5.2, 3.9, '1'), (5.0, 3.5, '1'), (5.9, 4.2, '1'), (6.0, 4.0, '1'), (6.1, 4.7, '1'), (5.6, 3.6, '1'), (6.7, 4.4, '1'), (5.6, 4.5, '1'), (5.8, 4.1, '1'), (6.2, 4.5, '1'), (5.6, 3.9, '1'), (5.9, 4.8, '1'), (6.1, 4.0, '1'), (6.3, 4.9, '1'), (6.1, 4.7, '1'), (6.4, 4.3, '1'), (6.6, 4.4, '1'), (6.8, 4.8, '1'), (6.7, 5.0, '1'), (6.0, 4.5, '1'), (5.7, 3.5, '1'), (5.5, 3.8, '1'), (5.5, 3.7, '1'), (5.8, 3.9, '1'), (6.0, 5.1, '1'), (5.4, 4.5, '1'), (6.0, 4.5, '1'), (6.7, 4.7, '1'), (6.3, 4.4, '1'), (5.6, 4.1, '1'), (5.5, 4.0, '1'), (5.5, 4.4, '1'), (6.1, 4.6, '1'), (5.8, 4.0, '1'), (5.0, 3.3, '1'), (5.6, 4.2, '1'), (5.7, 4.2, '1'), (5.7, 4.2, '1'), (6.2, 4.3, '1'), (5.1, 3.0, '1'), (5.7, 4.1, '1'), (6.3, 6.0, '2'), (5.8, 5.1, '2'), (7.1, 5.9, '2'), (6.3, 5.6, '2'), (6.5, 5.8, '2'), (7.6, 6.6, '2'), (4.9, 4.5, '2'), (7.3, 6.3, '2'), (6.7, 5.8, '2'), (7.2, 6.1, '2'), (6.5, 5.1, '2'), (6.4, 5.3, '2'), (6.8, 5.5, '2'), (5.7, 5.0, '2'), (5.8, 5.1, '2'), (6.4, 5.3, '2'), (6.5, 5.5, '2'), (7.7, 6.7, '2'), (7.7, 6.9, '2'), (6.0, 5.0, '2'), (6.9, 5.7, '2'), (5.6, 4.9, '2'), (7.7, 6.7, '2'), (6.3, 4.9, '2'), (6.7, 5.7, '2'), (7.2, 6.0, '2'), (6.2, 4.8, '2'), (6.1, 4.9, '2'), (6.4, 5.6, '2'), (7.2, 5.8, '2'), (7.4, 6.1, '2'), (7.9, 6.4, '2'), (6.4, 5.6, '2'), (6.3, 5.1, '2'), (6.1, 5.6, '2'), (7.7, 6.1, '2'), (6.3, 5.6, '2'), (6.4, 5.5, '2'), (6.0, 4.8, '2'), (6.9, 5.4, '2'), (6.7, 5.6, '2'), (6.9, 5.1, '2'), (5.8, 5.1, '2'), (6.8, 5.9, '2'), (6.7, 5.7, '2'), (6.7, 5.2, '2'), (6.3, 5.0, '2'), (6.5, 5.2, '2'), (6.2, 5.4, '2'), (5.9, 5.1, '2')]\n"
     ]
    },
    {
     "data": {
      "image/png": "[encoded data removed]",
      "text/plain": [
       "<Figure size 432x288 with 1 Axes>"
      ]
     },
     "metadata": {
      "needs_background": "light"
     },
     "output_type": "display_data"
    }
   ],
   "source": [
    "iris2dim = Classificador()\n",
    "\n",
    "iris2dim.carregar('data/iris/iris2dim.csv', delimiter=',', ignoraLinha1=False)\n",
    "print(iris2dim.dados)\n",
    "iris2dim.treinar()\n",
    "iris2dim.graficoFronteira()"
   ]
  },
  {
   "cell_type": "code",
   "execution_count": null,
   "metadata": {},
   "outputs": [],
   "source": []
  },
  {
   "cell_type": "code",
   "execution_count": 211,
   "metadata": {},
   "outputs": [],
   "source": [
    "class Classificador:\n",
    "    dados = []\n",
    "    modelo = {}\n",
    "    \n",
    "    def carregar(self, arquivo, delimiter=';', quoteChar='\"', ignoraLinha1=True, ignoraColuna1=False):\n",
    "        self.dados = []\n",
    "        with open(arquivo) as csv_file:\n",
    "            csv_reader = csv.reader(csv_file, delimiter=delimiter, quoting=csv.QUOTE_NONNUMERIC)\n",
    "            if ignoraLinha1:\n",
    "                next(csv_reader)                  \n",
    "            for i, row in enumerate(csv_reader):\n",
    "                if type(row[-1]) != str:\n",
    "                    row[-1] = str(int(row[-1]))\n",
    "                if ignoraColuna1:\n",
    "                    self.dados.append(tuple(row[1:]))\n",
    "                else:\n",
    "                    self.dados.append(tuple(row))\n",
    "    \n",
    "    def treinar(self):\n",
    "        total = len(self.dados)\n",
    "        classes = list(set([x[-1] for x in self.dados]))\n",
    "        combdata = {}\n",
    "        pdata = {}\n",
    "        for row in self.dados:\n",
    "            classe = (row[-1])\n",
    "            if classe in combdata:\n",
    "                combdata[classe] += 1\n",
    "            else:\n",
    "                combdata[classe] = 1    \n",
    "            for i, d in enumerate(row[:-1]):\n",
    "                # variavel continua\n",
    "                if (str(d).replace('.','',1).isdigit() or type(d) == float or type(d) == int):\n",
    "                    ind = 'i'+str(i)\n",
    "                    if ind in combdata:\n",
    "                        combdata[ind].append(float(d))\n",
    "                    else:\n",
    "                        combdata[ind] = [ float(d) ]\n",
    "                    key = (ind,classe)    \n",
    "                    if key in combdata:\n",
    "                        combdata[key].append(float(d))\n",
    "                    else:\n",
    "                        combdata[key] = [float(d)]\n",
    "                # variavel nominal\n",
    "                else:\n",
    "                    if d in combdata:\n",
    "                        combdata[d] += 1\n",
    "                    else:\n",
    "                        combdata[d] = 1\n",
    "                    key = (d,classe)\n",
    "                    if key in combdata:\n",
    "                        combdata[key] += 1\n",
    "                    else:\n",
    "                        combdata[key] = 1\n",
    "        # calculando probabilidades\n",
    "        self.modelo = {}\n",
    "        for c in combdata:\n",
    "            if type(c) == tuple:\n",
    "                if type(combdata[c]) != list:\n",
    "                    self.modelo[c] = combdata[c] / combdata[c[1]]\n",
    "                else:\n",
    "                    media =  sum(combdata[c])/len(combdata[c])\n",
    "                    desvio = (sum([(x-media)**2 for x in combdata[c]])/(len(combdata[c])-1))**0.5\n",
    "                    self.modelo[c] = {\n",
    "                        'media' : media,\n",
    "                        'desvio' : desvio\n",
    "                    }\n",
    "            else:\n",
    "                if type(combdata[c]) != list:\n",
    "                    self.modelo[c] = combdata[c] / total\n",
    "                else:\n",
    "                    media =  sum(combdata[c])/len(combdata[c])\n",
    "                    desvio = (sum([(x-media)**2 for x in combdata[c]])/(len(combdata[c])-1))**0.5\n",
    "                    self.modelo[c] = {\n",
    "                        'media' : media,\n",
    "                        'desvio' : desvio\n",
    "                    }\n",
    "        self.modelo['classes'] = classes\n",
    "    \n",
    "    def g(self, qx, media, desvio):\n",
    "        p1 = 1 / ( (2*3.141592653589793)**0.5 * desvio  )\n",
    "        p2 = 2.718281828459045 ** (-((x - media) ** 2) / (2 * desvio ** 2))\n",
    "        return p1 * p2\n",
    "    \n",
    "    \n",
    "    def predizer(self, tupla, debug=False):\n",
    "        probClasse = {}\n",
    "        valClasse = 0\n",
    "        maxClasse = ''\n",
    "        for classe in self.modelo['classes']:\n",
    "            numerador = 1\n",
    "            denominador = 1\n",
    "            #i=0\n",
    "            for i, v in enumerate(tupla):\n",
    "            #for v in tupla:\n",
    "                #if type(v) == str:\n",
    "                #if not str(v).replace('.','',1).isdigit():\n",
    "                # atributo nominal\n",
    "                if (not (str(v).replace('.','',1).isdigit() or type(v) in [float, np.float64, int])):\n",
    "                    key = (v, classe)\n",
    "                    if key in self.modelo:\n",
    "                        numerador = numerador * self.modelo[key]\n",
    "                    else:\n",
    "                        numerador = numerador * 0.001\n",
    "                    #if v in self.modelo:\n",
    "                    denominador = denominador * self.modelo[v]\n",
    "                    #else:\n",
    "                    #denominador = denominador * 0.001\n",
    "                # atributo continuo\n",
    "                else:\n",
    "                    v = float(v)\n",
    "                    key1 = ('i'+str(i),classe)\n",
    "                    key2 = 'i'+str(i)\n",
    "                    #i += 1\n",
    "                    if key1 in self.modelo:\n",
    "                        numerador = numerador * g(v,self.modelo[key1]['media'],self.modelo[key1]['desvio'])\n",
    "                    #else:\n",
    "                    #    numerador = numerador * 0.001\n",
    "                    denominador = denominador * g(v,self.modelo[key2]['media'],self.modelo[key2]['desvio'])\n",
    "            numerador = numerador * self.modelo[classe]\n",
    "            probClasse[classe] = numerador / denominador\n",
    "            if debug:\n",
    "                print(classe,probClasse[classe])\n",
    "            if probClasse[classe] > valClasse:\n",
    "                valClasse = probClasse[classe]\n",
    "                maxClasse = classe\n",
    "        return(maxClasse)    \n",
    "    \n",
    "    \n",
    "    # método necessário para gerar gráfico\n",
    "    def predict(self, tuplas):\n",
    "        res = []\n",
    "        for t in tuplas:\n",
    "            res.append(int(self.predizer(t)))\n",
    "        return(np.array(res))\n",
    "\n",
    "    def graficoFronteira(self):\n",
    "        X = np.array([ [float(x[0]),float(x[1])] for x in self.dados ])\n",
    "        y = np.array([ int(float(x[2])) for x in self.dados ])\n",
    "        plot_decision_regions(X, y, clf=self, legend=2)\n",
    "\n"
   ]
  },
  {
   "cell_type": "code",
   "execution_count": null,
   "metadata": {},
   "outputs": [],
   "source": []
  },
  {
   "cell_type": "code",
   "execution_count": 212,
   "metadata": {},
   "outputs": [
    {
     "data": {
      "image/png": "[encoded data removed]",
      "text/plain": [
       "<Figure size 432x288 with 1 Axes>"
      ]
     },
     "metadata": {
      "needs_background": "light"
     },
     "output_type": "display_data"
    }
   ],
   "source": [
    "cassini = Classificador()\n",
    "cassini.carregar('data/cassini500.csv', delimiter=',', ignoraColuna1=True)\n",
    "cassini.dados\n",
    "cassini.treinar()\n",
    "cassini.graficoFronteira()"
   ]
  },
  {
   "cell_type": "code",
   "execution_count": 6,
   "metadata": {},
   "outputs": [],
   "source": [
    "def validacaoCruzada(dados, porcentagem=0.7):\n",
    "    random.shuffle(dados)\n",
    "    dadosTreinamento = dados[:int(len(dados)*porcentagem)]\n",
    "    dadosTestes = dados[int(len(dados)*porcentagem):]\n",
    "    modelo = treinamento(dadosTreinamento)\n",
    "    ok = 0\n",
    "    for tupla in dadosTestes:\n",
    "        #print(tupla[-1])\n",
    "        tupl = [ float(x) for x in tupla[:-1]]\n",
    "        tupl = tupla[:-1]\n",
    "        #print(tupl)\n",
    "        pred = verificar(modelo, tupl, debug=False) \n",
    "        #print('pred:',pred,'real:',tupla[-1])\n",
    "        if pred == tupla[-1]:\n",
    "            ok += 1\n",
    "        #print()\n",
    "    print('Conj Teste:',len(dadosTestes))\n",
    "    print('Acertos   :',ok)\n",
    "    print('Acurácia  : ',ok/len(dadosTestes)*100)\n"
   ]
  },
  {
   "cell_type": "markdown",
   "metadata": {},
   "source": [
    "# dataset tempo"
   ]
  },
  {
   "cell_type": "code",
   "execution_count": 160,
   "metadata": {},
   "outputs": [
    {
     "name": "stdout",
     "output_type": "stream",
     "text": [
      "\"temp\";\"yesno\"\r\n",
      "\"sunny\";\"no\"\r\n",
      "\"overcast\";\"yes\"\r\n",
      "\"rainny\";\"yes\"\r\n",
      "\"sunny\";\"yes\"\r\n",
      "\"sunny\";\"yes\"\r\n",
      "\"overcast\";\"yes\"\r\n",
      "\"rainny\";\"no\"\r\n",
      "\"rainny\";\"no\"\r\n",
      "\"sunny\";\"yes\"\r\n"
     ]
    }
   ],
   "source": [
    "!head data/tempo.csv"
   ]
  },
  {
   "cell_type": "code",
   "execution_count": 161,
   "metadata": {},
   "outputs": [
    {
     "name": "stdout",
     "output_type": "stream",
     "text": [
      "14 data/tempo.csv\r\n"
     ]
    }
   ],
   "source": [
    "!wc -l data/tempo.csv"
   ]
  },
  {
   "cell_type": "code",
   "execution_count": 162,
   "metadata": {},
   "outputs": [
    {
     "name": "stdout",
     "output_type": "stream",
     "text": [
      "14\n"
     ]
    },
    {
     "data": {
      "text/plain": [
       "[('sunny', 'no'),\n",
       " ('overcast', 'yes'),\n",
       " ('rainny', 'yes'),\n",
       " ('sunny', 'yes'),\n",
       " ('sunny', 'yes'),\n",
       " ('overcast', 'yes'),\n",
       " ('rainny', 'no'),\n",
       " ('rainny', 'no'),\n",
       " ('sunny', 'yes'),\n",
       " ('rainny', 'yes'),\n",
       " ('sunny', 'no'),\n",
       " ('overcast', 'yes'),\n",
       " ('overcast', 'yes'),\n",
       " ('rainny', 'no')]"
      ]
     },
     "execution_count": 162,
     "metadata": {},
     "output_type": "execute_result"
    }
   ],
   "source": [
    "tempo = Classificador()\n",
    "tempo.carregar('data/tempo.csv')\n",
    "print(len(tempo.dados))\n",
    "tempo.dados"
   ]
  },
  {
   "cell_type": "code",
   "execution_count": 163,
   "metadata": {},
   "outputs": [
    {
     "data": {
      "text/plain": [
       "{'no': 0.35714285714285715,\n",
       " 'sunny': 0.35714285714285715,\n",
       " ('sunny', 'no'): 0.4,\n",
       " 'yes': 0.6428571428571429,\n",
       " 'overcast': 0.2857142857142857,\n",
       " ('overcast', 'yes'): 0.4444444444444444,\n",
       " 'rainny': 0.35714285714285715,\n",
       " ('rainny', 'yes'): 0.2222222222222222,\n",
       " ('sunny', 'yes'): 0.3333333333333333,\n",
       " ('rainny', 'no'): 0.6,\n",
       " 'classes': ['yes', 'no']}"
      ]
     },
     "execution_count": 163,
     "metadata": {},
     "output_type": "execute_result"
    }
   ],
   "source": [
    "tempo.treinar()\n",
    "tempo.modelo"
   ]
  },
  {
   "cell_type": "code",
   "execution_count": 164,
   "metadata": {},
   "outputs": [
    {
     "name": "stdout",
     "output_type": "stream",
     "text": [
      "yes 0.6\n",
      "no 0.4\n"
     ]
    },
    {
     "data": {
      "text/plain": [
       "'yes'"
      ]
     },
     "execution_count": 164,
     "metadata": {},
     "output_type": "execute_result"
    }
   ],
   "source": [
    "tempo.predizer(['sunny'], debug=True)"
   ]
  },
  {
   "cell_type": "code",
   "execution_count": 165,
   "metadata": {},
   "outputs": [
    {
     "name": "stdout",
     "output_type": "stream",
     "text": [
      "yes 1.0\n",
      "no 0.00125\n"
     ]
    },
    {
     "data": {
      "text/plain": [
       "'yes'"
      ]
     },
     "execution_count": 165,
     "metadata": {},
     "output_type": "execute_result"
    }
   ],
   "source": [
    "tempo.predizer(['overcast'], debug=True)"
   ]
  },
  {
   "cell_type": "code",
   "execution_count": 166,
   "metadata": {},
   "outputs": [
    {
     "name": "stdout",
     "output_type": "stream",
     "text": [
      "yes 0.39999999999999997\n",
      "no 0.6\n"
     ]
    },
    {
     "data": {
      "text/plain": [
       "'no'"
      ]
     },
     "execution_count": 166,
     "metadata": {},
     "output_type": "execute_result"
    }
   ],
   "source": [
    "tempo.predizer(['rainny'], debug=True)"
   ]
  },
  {
   "cell_type": "markdown",
   "metadata": {},
   "source": [
    "# dataset tenis"
   ]
  },
  {
   "cell_type": "code",
   "execution_count": 167,
   "metadata": {},
   "outputs": [
    {
     "name": "stdout",
     "output_type": "stream",
     "text": [
      "\"Aparência\";\"Temperatura\";\"Umidade\";\"Ventando\";\"Jogar\"\r\n",
      "\"sol\";\"quente\";\"alta\";\"falso\";\"não\"\r\n",
      "\"sol\";\"quente\";\"alta\";\"verdadeiro\";\"não\"\r\n",
      "\"nublado\";\"quente\";\"alta\";\"falso\";\"sim\"\r\n",
      "\"chuva\";\"agradável\";\"alta\";\"falso\";\"sim\"\r\n",
      "\"chuva\";\"fria\";\"normal\";\"falso\";\"sim\"\r\n",
      "\"chuva\";\"fria\";\"normal\";\"verdadeiro\";\"não\"\r\n",
      "\"nublado\";\"fria\";\"normal\";\"verdadeiro\";\"sim\"\r\n",
      "\"sol\";\"agradável\";\"alta\";\"falso\";\"não\"\r\n",
      "\"sol\";\"fria\";\"normal\";\"falso\";\"sim\"\r\n"
     ]
    }
   ],
   "source": [
    "!head data/tenis.csv"
   ]
  },
  {
   "cell_type": "code",
   "execution_count": 14,
   "metadata": {},
   "outputs": [
    {
     "name": "stdout",
     "output_type": "stream",
     "text": [
      "14 data/tenis.csv\r\n"
     ]
    }
   ],
   "source": [
    "!wc -l data/tenis.csv"
   ]
  },
  {
   "cell_type": "code",
   "execution_count": 169,
   "metadata": {},
   "outputs": [
    {
     "name": "stdout",
     "output_type": "stream",
     "text": [
      "14\n"
     ]
    },
    {
     "data": {
      "text/plain": [
       "[('sol', 'quente', 'alta', 'falso', 'não'),\n",
       " ('sol', 'quente', 'alta', 'verdadeiro', 'não'),\n",
       " ('nublado', 'quente', 'alta', 'falso', 'sim'),\n",
       " ('chuva', 'agradável', 'alta', 'falso', 'sim'),\n",
       " ('chuva', 'fria', 'normal', 'falso', 'sim'),\n",
       " ('chuva', 'fria', 'normal', 'verdadeiro', 'não'),\n",
       " ('nublado', 'fria', 'normal', 'verdadeiro', 'sim'),\n",
       " ('sol', 'agradável', 'alta', 'falso', 'não'),\n",
       " ('sol', 'fria', 'normal', 'falso', 'sim'),\n",
       " ('chuva', 'agradável', 'normal', 'falso', 'sim'),\n",
       " ('sol', 'agradável', 'normal', 'verdadeiro', 'sim'),\n",
       " ('nublado', 'agradável', 'alta', 'verdadeiro', 'sim'),\n",
       " ('nublado', 'quente', 'normal', 'falso', 'sim'),\n",
       " ('chuva', 'agradável', 'alta', 'verdadeiro', 'não')]"
      ]
     },
     "execution_count": 169,
     "metadata": {},
     "output_type": "execute_result"
    }
   ],
   "source": [
    "tenis = Classificador()\n",
    "tenis.carregar('data/tenis.csv')\n",
    "print(len(tenis.dados))\n",
    "tenis.dados"
   ]
  },
  {
   "cell_type": "code",
   "execution_count": 170,
   "metadata": {},
   "outputs": [
    {
     "data": {
      "text/plain": [
       "{'não': 0.35714285714285715,\n",
       " 'sol': 0.35714285714285715,\n",
       " ('sol', 'não'): 0.6,\n",
       " 'quente': 0.2857142857142857,\n",
       " ('quente', 'não'): 0.4,\n",
       " 'alta': 0.5,\n",
       " ('alta', 'não'): 0.8,\n",
       " 'falso': 0.5714285714285714,\n",
       " ('falso', 'não'): 0.4,\n",
       " 'verdadeiro': 0.42857142857142855,\n",
       " ('verdadeiro', 'não'): 0.6,\n",
       " 'sim': 0.6428571428571429,\n",
       " 'nublado': 0.2857142857142857,\n",
       " ('nublado', 'sim'): 0.4444444444444444,\n",
       " ('quente', 'sim'): 0.2222222222222222,\n",
       " ('alta', 'sim'): 0.3333333333333333,\n",
       " ('falso', 'sim'): 0.6666666666666666,\n",
       " 'chuva': 0.35714285714285715,\n",
       " ('chuva', 'sim'): 0.3333333333333333,\n",
       " 'agradável': 0.42857142857142855,\n",
       " ('agradável', 'sim'): 0.4444444444444444,\n",
       " 'fria': 0.2857142857142857,\n",
       " ('fria', 'sim'): 0.3333333333333333,\n",
       " 'normal': 0.5,\n",
       " ('normal', 'sim'): 0.6666666666666666,\n",
       " ('chuva', 'não'): 0.4,\n",
       " ('fria', 'não'): 0.2,\n",
       " ('normal', 'não'): 0.2,\n",
       " ('verdadeiro', 'sim'): 0.3333333333333333,\n",
       " ('agradável', 'não'): 0.4,\n",
       " ('sol', 'sim'): 0.2222222222222222,\n",
       " 'classes': ['não', 'sim']}"
      ]
     },
     "execution_count": 170,
     "metadata": {},
     "output_type": "execute_result"
    }
   ],
   "source": [
    "tenis.treinar()\n",
    "tenis.modelo"
   ]
  },
  {
   "cell_type": "code",
   "execution_count": 171,
   "metadata": {},
   "outputs": [
    {
     "name": "stdout",
     "output_type": "stream",
     "text": [
      "não 0.9408\n",
      "sim 0.2419753086419753\n"
     ]
    },
    {
     "data": {
      "text/plain": [
       "'não'"
      ]
     },
     "execution_count": 171,
     "metadata": {},
     "output_type": "execute_result"
    }
   ],
   "source": [
    "tenis.predizer(['sol', 'fria', 'alta', 'verdadeiro'], debug=True)"
   ]
  },
  {
   "cell_type": "code",
   "execution_count": 172,
   "metadata": {},
   "outputs": [
    {
     "name": "stdout",
     "output_type": "stream",
     "text": [
      "não 0.15680000000000005\n",
      "sim 0.7259259259259259\n"
     ]
    },
    {
     "data": {
      "text/plain": [
       "'sim'"
      ]
     },
     "execution_count": 172,
     "metadata": {},
     "output_type": "execute_result"
    }
   ],
   "source": [
    "tenis.predizer(['chuva', 'fria', 'normal', 'verdadeiro'], debug=True)"
   ]
  },
  {
   "cell_type": "markdown",
   "metadata": {},
   "source": [
    "# tenis2 dataset: atributos continuos"
   ]
  },
  {
   "cell_type": "code",
   "execution_count": 173,
   "metadata": {},
   "outputs": [
    {
     "name": "stdout",
     "output_type": "stream",
     "text": [
      "\"Aparência\";\"Temperatura\";\"Umidade\";\"Ventando\";\"Jogar\"\r\n",
      "\"sol\";85;85;\"falso\";\"não\"\r\n",
      "\"sol\";80;90;\"verdadeiro\";\"não\"\r\n",
      "\"nublado\";83;86;\"falso\";\"sim\"\r\n",
      "\"chuva\";70;96;\"falso\";\"sim\"\r\n",
      "\"chuva\";68;80;\"falso\";\"sim\"\r\n",
      "\"chuva\";65;70;\"verdadeiro\";\"não\"\r\n",
      "\"nublado\";64;65;\"verdadeiro\";\"sim\"\r\n",
      "\"sol\";72;95;\"falso\";\"não\"\r\n",
      "\"sol\";69;70;\"falso\";\"sim\"\r\n"
     ]
    }
   ],
   "source": [
    "!head data/tenis2.csv"
   ]
  },
  {
   "cell_type": "code",
   "execution_count": 21,
   "metadata": {},
   "outputs": [
    {
     "name": "stdout",
     "output_type": "stream",
     "text": [
      "14 data/tenis2.csv\r\n"
     ]
    }
   ],
   "source": [
    "!wc -l data/tenis2.csv"
   ]
  },
  {
   "cell_type": "code",
   "execution_count": 174,
   "metadata": {},
   "outputs": [
    {
     "name": "stdout",
     "output_type": "stream",
     "text": [
      "14\n"
     ]
    },
    {
     "data": {
      "text/plain": [
       "[('sol', 85.0, 85.0, 'falso', 'não'),\n",
       " ('sol', 80.0, 90.0, 'verdadeiro', 'não'),\n",
       " ('nublado', 83.0, 86.0, 'falso', 'sim'),\n",
       " ('chuva', 70.0, 96.0, 'falso', 'sim'),\n",
       " ('chuva', 68.0, 80.0, 'falso', 'sim'),\n",
       " ('chuva', 65.0, 70.0, 'verdadeiro', 'não'),\n",
       " ('nublado', 64.0, 65.0, 'verdadeiro', 'sim'),\n",
       " ('sol', 72.0, 95.0, 'falso', 'não'),\n",
       " ('sol', 69.0, 70.0, 'falso', 'sim'),\n",
       " ('chuva', 75.0, 80.0, 'falso', 'sim'),\n",
       " ('sol', 75.0, 70.0, 'verdadeiro', 'sim'),\n",
       " ('nublado', 72.0, 90.0, 'verdadeiro', 'sim'),\n",
       " ('nublado', 81.0, 75.0, 'falso', 'sim'),\n",
       " ('chuva', 71.0, 91.0, 'verdadeiro', 'não')]"
      ]
     },
     "execution_count": 174,
     "metadata": {},
     "output_type": "execute_result"
    }
   ],
   "source": [
    "tenis2 = Classificador()\n",
    "tenis2.carregar('data/tenis2.csv')\n",
    "print(len(tenis2.dados))\n",
    "tenis2.dados"
   ]
  },
  {
   "cell_type": "code",
   "execution_count": 175,
   "metadata": {},
   "outputs": [
    {
     "data": {
      "text/plain": [
       "{'não': 0.35714285714285715,\n",
       " 'sol': 0.35714285714285715,\n",
       " ('sol', 'não'): 0.6,\n",
       " 'i1': {'media': 73.57142857142857, 'desvio': 6.57166745862975},\n",
       " ('i1', 'não'): {'media': 74.6, 'desvio': 7.893034904268446},\n",
       " 'i2': {'media': 81.64285714285714, 'desvio': 10.285218242007035},\n",
       " ('i2', 'não'): {'media': 86.2, 'desvio': 9.731392500562292},\n",
       " 'falso': 0.5714285714285714,\n",
       " ('falso', 'não'): 0.4,\n",
       " 'verdadeiro': 0.42857142857142855,\n",
       " ('verdadeiro', 'não'): 0.6,\n",
       " 'sim': 0.6428571428571429,\n",
       " 'nublado': 0.2857142857142857,\n",
       " ('nublado', 'sim'): 0.4444444444444444,\n",
       " ('i1', 'sim'): {'media': 73.0, 'desvio': 6.164414002968976},\n",
       " ('i2', 'sim'): {'media': 79.11111111111111, 'desvio': 10.215728613814635},\n",
       " ('falso', 'sim'): 0.6666666666666666,\n",
       " 'chuva': 0.35714285714285715,\n",
       " ('chuva', 'sim'): 0.3333333333333333,\n",
       " ('chuva', 'não'): 0.4,\n",
       " ('verdadeiro', 'sim'): 0.3333333333333333,\n",
       " ('sol', 'sim'): 0.2222222222222222,\n",
       " 'classes': ['não', 'sim']}"
      ]
     },
     "execution_count": 175,
     "metadata": {},
     "output_type": "execute_result"
    }
   ],
   "source": [
    "tenis2.treinar()\n",
    "tenis2.modelo"
   ]
  },
  {
   "cell_type": "code",
   "execution_count": 176,
   "metadata": {},
   "outputs": [
    {
     "name": "stdout",
     "output_type": "stream",
     "text": [
      "não 0.6661952433370804\n",
      "sim 0.2984141388375451\n"
     ]
    },
    {
     "data": {
      "text/plain": [
       "'não'"
      ]
     },
     "execution_count": 176,
     "metadata": {},
     "output_type": "execute_result"
    }
   ],
   "source": [
    "tenis2.predizer(['sol', 83, 73, 'verdadeiro'], debug=True)"
   ]
  },
  {
   "cell_type": "markdown",
   "metadata": {},
   "source": [
    "# dataset iris"
   ]
  },
  {
   "cell_type": "code",
   "execution_count": 177,
   "metadata": {},
   "outputs": [
    {
     "name": "stdout",
     "output_type": "stream",
     "text": [
      "5.1,3.5,1.4,0.2,\"Iris-setosa\"\r\n",
      "4.9,3.0,1.4,0.2,\"Iris-setosa\"\r\n",
      "4.7,3.2,1.3,0.2,\"Iris-setosa\"\r\n",
      "4.6,3.1,1.5,0.2,\"Iris-setosa\"\r\n",
      "5.0,3.6,1.4,0.2,\"Iris-setosa\"\r\n",
      "5.4,3.9,1.7,0.4,\"Iris-setosa\"\r\n",
      "4.6,3.4,1.4,0.3,\"Iris-setosa\"\r\n",
      "5.0,3.4,1.5,0.2,\"Iris-setosa\"\r\n",
      "4.4,2.9,1.4,0.2,\"Iris-setosa\"\r\n",
      "4.9,3.1,1.5,0.1,\"Iris-setosa\"\r\n"
     ]
    }
   ],
   "source": [
    "!head data/iris/iris.data"
   ]
  },
  {
   "cell_type": "code",
   "execution_count": 27,
   "metadata": {},
   "outputs": [
    {
     "name": "stdout",
     "output_type": "stream",
     "text": [
      "149 data/iris/iris.data\r\n"
     ]
    }
   ],
   "source": [
    "!wc -l data/iris/iris.data"
   ]
  },
  {
   "cell_type": "code",
   "execution_count": 180,
   "metadata": {},
   "outputs": [
    {
     "name": "stdout",
     "output_type": "stream",
     "text": [
      "150\n"
     ]
    },
    {
     "data": {
      "text/plain": [
       "[(5.1, 3.5, 1.4, 0.2, 'Iris-setosa'),\n",
       " (4.9, 3.0, 1.4, 0.2, 'Iris-setosa'),\n",
       " (4.7, 3.2, 1.3, 0.2, 'Iris-setosa'),\n",
       " (4.6, 3.1, 1.5, 0.2, 'Iris-setosa'),\n",
       " (5.0, 3.6, 1.4, 0.2, 'Iris-setosa'),\n",
       " (5.4, 3.9, 1.7, 0.4, 'Iris-setosa'),\n",
       " (4.6, 3.4, 1.4, 0.3, 'Iris-setosa'),\n",
       " (5.0, 3.4, 1.5, 0.2, 'Iris-setosa'),\n",
       " (4.4, 2.9, 1.4, 0.2, 'Iris-setosa'),\n",
       " (4.9, 3.1, 1.5, 0.1, 'Iris-setosa'),\n",
       " (5.4, 3.7, 1.5, 0.2, 'Iris-setosa'),\n",
       " (4.8, 3.4, 1.6, 0.2, 'Iris-setosa'),\n",
       " (4.8, 3.0, 1.4, 0.1, 'Iris-setosa'),\n",
       " (4.3, 3.0, 1.1, 0.1, 'Iris-setosa'),\n",
       " (5.8, 4.0, 1.2, 0.2, 'Iris-setosa'),\n",
       " (5.7, 4.4, 1.5, 0.4, 'Iris-setosa'),\n",
       " (5.4, 3.9, 1.3, 0.4, 'Iris-setosa'),\n",
       " (5.1, 3.5, 1.4, 0.3, 'Iris-setosa'),\n",
       " (5.7, 3.8, 1.7, 0.3, 'Iris-setosa'),\n",
       " (5.1, 3.8, 1.5, 0.3, 'Iris-setosa'),\n",
       " (5.4, 3.4, 1.7, 0.2, 'Iris-setosa'),\n",
       " (5.1, 3.7, 1.5, 0.4, 'Iris-setosa'),\n",
       " (4.6, 3.6, 1.0, 0.2, 'Iris-setosa'),\n",
       " (5.1, 3.3, 1.7, 0.5, 'Iris-setosa'),\n",
       " (4.8, 3.4, 1.9, 0.2, 'Iris-setosa'),\n",
       " (5.0, 3.0, 1.6, 0.2, 'Iris-setosa'),\n",
       " (5.0, 3.4, 1.6, 0.4, 'Iris-setosa'),\n",
       " (5.2, 3.5, 1.5, 0.2, 'Iris-setosa'),\n",
       " (5.2, 3.4, 1.4, 0.2, 'Iris-setosa'),\n",
       " (4.7, 3.2, 1.6, 0.2, 'Iris-setosa'),\n",
       " (4.8, 3.1, 1.6, 0.2, 'Iris-setosa'),\n",
       " (5.4, 3.4, 1.5, 0.4, 'Iris-setosa'),\n",
       " (5.2, 4.1, 1.5, 0.1, 'Iris-setosa'),\n",
       " (5.5, 4.2, 1.4, 0.2, 'Iris-setosa'),\n",
       " (4.9, 3.1, 1.5, 0.1, 'Iris-setosa'),\n",
       " (5.0, 3.2, 1.2, 0.2, 'Iris-setosa'),\n",
       " (5.5, 3.5, 1.3, 0.2, 'Iris-setosa'),\n",
       " (4.9, 3.1, 1.5, 0.1, 'Iris-setosa'),\n",
       " (4.4, 3.0, 1.3, 0.2, 'Iris-setosa'),\n",
       " (5.1, 3.4, 1.5, 0.2, 'Iris-setosa'),\n",
       " (5.0, 3.5, 1.3, 0.3, 'Iris-setosa'),\n",
       " (4.5, 2.3, 1.3, 0.3, 'Iris-setosa'),\n",
       " (4.4, 3.2, 1.3, 0.2, 'Iris-setosa'),\n",
       " (5.0, 3.5, 1.6, 0.6, 'Iris-setosa'),\n",
       " (5.1, 3.8, 1.9, 0.4, 'Iris-setosa'),\n",
       " (4.8, 3.0, 1.4, 0.3, 'Iris-setosa'),\n",
       " (5.1, 3.8, 1.6, 0.2, 'Iris-setosa'),\n",
       " (4.6, 3.2, 1.4, 0.2, 'Iris-setosa'),\n",
       " (5.3, 3.7, 1.5, 0.2, 'Iris-setosa'),\n",
       " (5.0, 3.3, 1.4, 0.2, 'Iris-setosa'),\n",
       " (7.0, 3.2, 4.7, 1.4, 'Iris-versicolor'),\n",
       " (6.4, 3.2, 4.5, 1.5, 'Iris-versicolor'),\n",
       " (6.9, 3.1, 4.9, 1.5, 'Iris-versicolor'),\n",
       " (5.5, 2.3, 4.0, 1.3, 'Iris-versicolor'),\n",
       " (6.5, 2.8, 4.6, 1.5, 'Iris-versicolor'),\n",
       " (5.7, 2.8, 4.5, 1.3, 'Iris-versicolor'),\n",
       " (6.3, 3.3, 4.7, 1.6, 'Iris-versicolor'),\n",
       " (4.9, 2.4, 3.3, 1.0, 'Iris-versicolor'),\n",
       " (6.6, 2.9, 4.6, 1.3, 'Iris-versicolor'),\n",
       " (5.2, 2.7, 3.9, 1.4, 'Iris-versicolor'),\n",
       " (5.0, 2.0, 3.5, 1.0, 'Iris-versicolor'),\n",
       " (5.9, 3.0, 4.2, 1.5, 'Iris-versicolor'),\n",
       " (6.0, 2.2, 4.0, 1.0, 'Iris-versicolor'),\n",
       " (6.1, 2.9, 4.7, 1.4, 'Iris-versicolor'),\n",
       " (5.6, 2.9, 3.6, 1.3, 'Iris-versicolor'),\n",
       " (6.7, 3.1, 4.4, 1.4, 'Iris-versicolor'),\n",
       " (5.6, 3.0, 4.5, 1.5, 'Iris-versicolor'),\n",
       " (5.8, 2.7, 4.1, 1.0, 'Iris-versicolor'),\n",
       " (6.2, 2.2, 4.5, 1.5, 'Iris-versicolor'),\n",
       " (5.6, 2.5, 3.9, 1.1, 'Iris-versicolor'),\n",
       " (5.9, 3.2, 4.8, 1.8, 'Iris-versicolor'),\n",
       " (6.1, 2.8, 4.0, 1.3, 'Iris-versicolor'),\n",
       " (6.3, 2.5, 4.9, 1.5, 'Iris-versicolor'),\n",
       " (6.1, 2.8, 4.7, 1.2, 'Iris-versicolor'),\n",
       " (6.4, 2.9, 4.3, 1.3, 'Iris-versicolor'),\n",
       " (6.6, 3.0, 4.4, 1.4, 'Iris-versicolor'),\n",
       " (6.8, 2.8, 4.8, 1.4, 'Iris-versicolor'),\n",
       " (6.7, 3.0, 5.0, 1.7, 'Iris-versicolor'),\n",
       " (6.0, 2.9, 4.5, 1.5, 'Iris-versicolor'),\n",
       " (5.7, 2.6, 3.5, 1.0, 'Iris-versicolor'),\n",
       " (5.5, 2.4, 3.8, 1.1, 'Iris-versicolor'),\n",
       " (5.5, 2.4, 3.7, 1.0, 'Iris-versicolor'),\n",
       " (5.8, 2.7, 3.9, 1.2, 'Iris-versicolor'),\n",
       " (6.0, 2.7, 5.1, 1.6, 'Iris-versicolor'),\n",
       " (5.4, 3.0, 4.5, 1.5, 'Iris-versicolor'),\n",
       " (6.0, 3.4, 4.5, 1.6, 'Iris-versicolor'),\n",
       " (6.7, 3.1, 4.7, 1.5, 'Iris-versicolor'),\n",
       " (6.3, 2.3, 4.4, 1.3, 'Iris-versicolor'),\n",
       " (5.6, 3.0, 4.1, 1.3, 'Iris-versicolor'),\n",
       " (5.5, 2.5, 4.0, 1.3, 'Iris-versicolor'),\n",
       " (5.5, 2.6, 4.4, 1.2, 'Iris-versicolor'),\n",
       " (6.1, 3.0, 4.6, 1.4, 'Iris-versicolor'),\n",
       " (5.8, 2.6, 4.0, 1.2, 'Iris-versicolor'),\n",
       " (5.0, 2.3, 3.3, 1.0, 'Iris-versicolor'),\n",
       " (5.6, 2.7, 4.2, 1.3, 'Iris-versicolor'),\n",
       " (5.7, 3.0, 4.2, 1.2, 'Iris-versicolor'),\n",
       " (5.7, 2.9, 4.2, 1.3, 'Iris-versicolor'),\n",
       " (6.2, 2.9, 4.3, 1.3, 'Iris-versicolor'),\n",
       " (5.1, 2.5, 3.0, 1.1, 'Iris-versicolor'),\n",
       " (5.7, 2.8, 4.1, 1.3, 'Iris-versicolor'),\n",
       " (6.3, 3.3, 6.0, 2.5, 'Iris-virginica'),\n",
       " (5.8, 2.7, 5.1, 1.9, 'Iris-virginica'),\n",
       " (7.1, 3.0, 5.9, 2.1, 'Iris-virginica'),\n",
       " (6.3, 2.9, 5.6, 1.8, 'Iris-virginica'),\n",
       " (6.5, 3.0, 5.8, 2.2, 'Iris-virginica'),\n",
       " (7.6, 3.0, 6.6, 2.1, 'Iris-virginica'),\n",
       " (4.9, 2.5, 4.5, 1.7, 'Iris-virginica'),\n",
       " (7.3, 2.9, 6.3, 1.8, 'Iris-virginica'),\n",
       " (6.7, 2.5, 5.8, 1.8, 'Iris-virginica'),\n",
       " (7.2, 3.6, 6.1, 2.5, 'Iris-virginica'),\n",
       " (6.5, 3.2, 5.1, 2.0, 'Iris-virginica'),\n",
       " (6.4, 2.7, 5.3, 1.9, 'Iris-virginica'),\n",
       " (6.8, 3.0, 5.5, 2.1, 'Iris-virginica'),\n",
       " (5.7, 2.5, 5.0, 2.0, 'Iris-virginica'),\n",
       " (5.8, 2.8, 5.1, 2.4, 'Iris-virginica'),\n",
       " (6.4, 3.2, 5.3, 2.3, 'Iris-virginica'),\n",
       " (6.5, 3.0, 5.5, 1.8, 'Iris-virginica'),\n",
       " (7.7, 3.8, 6.7, 2.2, 'Iris-virginica'),\n",
       " (7.7, 2.6, 6.9, 2.3, 'Iris-virginica'),\n",
       " (6.0, 2.2, 5.0, 1.5, 'Iris-virginica'),\n",
       " (6.9, 3.2, 5.7, 2.3, 'Iris-virginica'),\n",
       " (5.6, 2.8, 4.9, 2.0, 'Iris-virginica'),\n",
       " (7.7, 2.8, 6.7, 2.0, 'Iris-virginica'),\n",
       " (6.3, 2.7, 4.9, 1.8, 'Iris-virginica'),\n",
       " (6.7, 3.3, 5.7, 2.1, 'Iris-virginica'),\n",
       " (7.2, 3.2, 6.0, 1.8, 'Iris-virginica'),\n",
       " (6.2, 2.8, 4.8, 1.8, 'Iris-virginica'),\n",
       " (6.1, 3.0, 4.9, 1.8, 'Iris-virginica'),\n",
       " (6.4, 2.8, 5.6, 2.1, 'Iris-virginica'),\n",
       " (7.2, 3.0, 5.8, 1.6, 'Iris-virginica'),\n",
       " (7.4, 2.8, 6.1, 1.9, 'Iris-virginica'),\n",
       " (7.9, 3.8, 6.4, 2.0, 'Iris-virginica'),\n",
       " (6.4, 2.8, 5.6, 2.2, 'Iris-virginica'),\n",
       " (6.3, 2.8, 5.1, 1.5, 'Iris-virginica'),\n",
       " (6.1, 2.6, 5.6, 1.4, 'Iris-virginica'),\n",
       " (7.7, 3.0, 6.1, 2.3, 'Iris-virginica'),\n",
       " (6.3, 3.4, 5.6, 2.4, 'Iris-virginica'),\n",
       " (6.4, 3.1, 5.5, 1.8, 'Iris-virginica'),\n",
       " (6.0, 3.0, 4.8, 1.8, 'Iris-virginica'),\n",
       " (6.9, 3.1, 5.4, 2.1, 'Iris-virginica'),\n",
       " (6.7, 3.1, 5.6, 2.4, 'Iris-virginica'),\n",
       " (6.9, 3.1, 5.1, 2.3, 'Iris-virginica'),\n",
       " (5.8, 2.7, 5.1, 1.9, 'Iris-virginica'),\n",
       " (6.8, 3.2, 5.9, 2.3, 'Iris-virginica'),\n",
       " (6.7, 3.3, 5.7, 2.5, 'Iris-virginica'),\n",
       " (6.7, 3.0, 5.2, 2.3, 'Iris-virginica'),\n",
       " (6.3, 2.5, 5.0, 1.9, 'Iris-virginica'),\n",
       " (6.5, 3.0, 5.2, 2.0, 'Iris-virginica'),\n",
       " (6.2, 3.4, 5.4, 2.3, 'Iris-virginica'),\n",
       " (5.9, 3.0, 5.1, 1.8, 'Iris-virginica')]"
      ]
     },
     "execution_count": 180,
     "metadata": {},
     "output_type": "execute_result"
    }
   ],
   "source": [
    "iris = Classificador()\n",
    "iris.carregar('data/iris/iris.data', delimiter=',', ignoraLinha1=False)\n",
    "print(len(iris.dados))\n",
    "iris.dados"
   ]
  },
  {
   "cell_type": "code",
   "execution_count": 181,
   "metadata": {},
   "outputs": [
    {
     "data": {
      "text/plain": [
       "{'Iris-setosa': 0.3333333333333333,\n",
       " 'i0': {'media': 5.843333333333335, 'desvio': 0.8280661279778629},\n",
       " ('i0', 'Iris-setosa'): {'media': 5.005999999999999,\n",
       "  'desvio': 0.3524896872134512},\n",
       " 'i1': {'media': 3.0540000000000007, 'desvio': 0.4335943113621737},\n",
       " ('i1', 'Iris-setosa'): {'media': 3.4180000000000006,\n",
       "  'desvio': 0.38102439795469095},\n",
       " 'i2': {'media': 3.7586666666666693, 'desvio': 1.7644204199522617},\n",
       " ('i2', 'Iris-setosa'): {'media': 1.464, 'desvio': 0.1735111594364455},\n",
       " 'i3': {'media': 1.1986666666666672, 'desvio': 0.7631607417008414},\n",
       " ('i3', 'Iris-setosa'): {'media': 0.2439999999999999,\n",
       "  'desvio': 0.10720950308167837},\n",
       " 'Iris-versicolor': 0.3333333333333333,\n",
       " ('i0', 'Iris-versicolor'): {'media': 5.936, 'desvio': 0.5161711470638635},\n",
       " ('i1', 'Iris-versicolor'): {'media': 2.7700000000000005,\n",
       "  'desvio': 0.3137983233784114},\n",
       " ('i2', 'Iris-versicolor'): {'media': 4.26, 'desvio': 0.46991097723995806},\n",
       " ('i3', 'Iris-versicolor'): {'media': 1.3259999999999998,\n",
       "  'desvio': 0.197752680004544},\n",
       " 'Iris-virginica': 0.3333333333333333,\n",
       " ('i0', 'Iris-virginica'): {'media': 6.587999999999998,\n",
       "  'desvio': 0.635879593274432},\n",
       " ('i1', 'Iris-virginica'): {'media': 2.9739999999999998,\n",
       "  'desvio': 0.3224966381726376},\n",
       " ('i2', 'Iris-virginica'): {'media': 5.552, 'desvio': 0.5518946956639835},\n",
       " ('i3', 'Iris-virginica'): {'media': 2.026, 'desvio': 0.27465005563666733},\n",
       " 'classes': ['Iris-virginica', 'Iris-versicolor', 'Iris-setosa']}"
      ]
     },
     "execution_count": 181,
     "metadata": {},
     "output_type": "execute_result"
    }
   ],
   "source": [
    "iris.treinar()\n",
    "iris.modelo"
   ]
  },
  {
   "cell_type": "code",
   "execution_count": 34,
   "metadata": {},
   "outputs": [
    {
     "data": {
      "text/plain": [
       "{'Iris-setosa': 0.3333333333333333,\n",
       " 'i0': {'media': 5.843333333333335, 'desvio': 0.8280661279778629},\n",
       " ('i0', 'Iris-setosa'): {'media': 5.005999999999999,\n",
       "  'desvio': 0.3524896872134512},\n",
       " 'i1': {'media': 3.0540000000000007, 'desvio': 0.4335943113621737},\n",
       " ('i1', 'Iris-setosa'): {'media': 3.4180000000000006,\n",
       "  'desvio': 0.38102439795469095},\n",
       " 'i2': {'media': 3.7586666666666693, 'desvio': 1.7644204199522617},\n",
       " ('i2', 'Iris-setosa'): {'media': 1.464, 'desvio': 0.1735111594364455},\n",
       " 'i3': {'media': 1.1986666666666672, 'desvio': 0.7631607417008414},\n",
       " ('i3', 'Iris-setosa'): {'media': 0.2439999999999999,\n",
       "  'desvio': 0.10720950308167837},\n",
       " 'Iris-versicolor': 0.3333333333333333,\n",
       " ('i0', 'Iris-versicolor'): {'media': 5.936, 'desvio': 0.5161711470638635},\n",
       " ('i1', 'Iris-versicolor'): {'media': 2.7700000000000005,\n",
       "  'desvio': 0.3137983233784114},\n",
       " ('i2', 'Iris-versicolor'): {'media': 4.26, 'desvio': 0.46991097723995806},\n",
       " ('i3', 'Iris-versicolor'): {'media': 1.3259999999999998,\n",
       "  'desvio': 0.197752680004544},\n",
       " 'Iris-virginica': 0.3333333333333333,\n",
       " ('i0', 'Iris-virginica'): {'media': 6.587999999999998,\n",
       "  'desvio': 0.635879593274432},\n",
       " ('i1', 'Iris-virginica'): {'media': 2.9739999999999998,\n",
       "  'desvio': 0.3224966381726376},\n",
       " ('i2', 'Iris-virginica'): {'media': 5.552, 'desvio': 0.5518946956639835},\n",
       " ('i3', 'Iris-virginica'): {'media': 2.026, 'desvio': 0.27465005563666733},\n",
       " 'classes': ['Iris-virginica', 'Iris-versicolor', 'Iris-setosa']}"
      ]
     },
     "execution_count": 34,
     "metadata": {},
     "output_type": "execute_result"
    }
   ],
   "source": [
    "modeloIris"
   ]
  },
  {
   "cell_type": "code",
   "execution_count": 182,
   "metadata": {},
   "outputs": [
    {
     "name": "stdout",
     "output_type": "stream",
     "text": [
      "Iris-virginica 4.906984002426971e-23\n",
      "Iris-versicolor 2.707818334185056e-15\n",
      "Iris-setosa 140.3852259221931\n"
     ]
    },
    {
     "data": {
      "text/plain": [
       "'Iris-setosa'"
      ]
     },
     "execution_count": 182,
     "metadata": {},
     "output_type": "execute_result"
    }
   ],
   "source": [
    "iris.predizer([4.4, 2.9, 1.4, 0.2], debug=True)"
   ]
  },
  {
   "cell_type": "code",
   "execution_count": 35,
   "metadata": {},
   "outputs": [
    {
     "name": "stdout",
     "output_type": "stream",
     "text": [
      "Iris-virginica 4.906984002426971e-23\n",
      "Iris-versicolor 2.707818334185056e-15\n",
      "Iris-setosa 140.3852259221931\n"
     ]
    },
    {
     "data": {
      "text/plain": [
       "'Iris-setosa'"
      ]
     },
     "execution_count": 35,
     "metadata": {},
     "output_type": "execute_result"
    }
   ],
   "source": [
    "tupla = (4.4, 2.9, 1.4, 0.2)\n",
    "verificar(modeloIris, tupla, debug=True)"
   ]
  },
  {
   "cell_type": "code",
   "execution_count": 36,
   "metadata": {},
   "outputs": [
    {
     "name": "stdout",
     "output_type": "stream",
     "text": [
      "Conj Teste: 45\n",
      "Acertos   : 43\n",
      "Acurácia  :  95.55555555555556\n"
     ]
    }
   ],
   "source": [
    "validacaoCruzada(iris, 0.7)"
   ]
  },
  {
   "cell_type": "markdown",
   "metadata": {},
   "source": [
    "# dataset iris 2 dimensões"
   ]
  },
  {
   "cell_type": "code",
   "execution_count": 39,
   "metadata": {},
   "outputs": [
    {
     "name": "stdout",
     "output_type": "stream",
     "text": [
      "5.1,1.4,0\r\n",
      "4.9,1.4,0\r\n",
      "4.7,1.3,0\r\n",
      "4.6,1.5,0\r\n",
      "5.0,1.4,0\r\n",
      "5.4,1.7,0\r\n",
      "4.6,1.4,0\r\n",
      "5.0,1.5,0\r\n",
      "4.4,1.4,0\r\n",
      "4.9,1.5,0\r\n"
     ]
    }
   ],
   "source": [
    "!head data/iris/iris2dim.csv"
   ]
  },
  {
   "cell_type": "code",
   "execution_count": 37,
   "metadata": {},
   "outputs": [
    {
     "name": "stdout",
     "output_type": "stream",
     "text": [
      "150 data/iris/iris2dim.csv\r\n"
     ]
    }
   ],
   "source": [
    "!wc -l data/iris/iris2dim.csv"
   ]
  },
  {
   "cell_type": "code",
   "execution_count": 201,
   "metadata": {},
   "outputs": [
    {
     "name": "stdout",
     "output_type": "stream",
     "text": [
      "150\n"
     ]
    },
    {
     "data": {
      "text/plain": [
       "[(5.1, 1.4, '0.0'),\n",
       " (4.9, 1.4, '0.0'),\n",
       " (4.7, 1.3, '0.0'),\n",
       " (4.6, 1.5, '0.0'),\n",
       " (5.0, 1.4, '0.0'),\n",
       " (5.4, 1.7, '0.0'),\n",
       " (4.6, 1.4, '0.0'),\n",
       " (5.0, 1.5, '0.0'),\n",
       " (4.4, 1.4, '0.0'),\n",
       " (4.9, 1.5, '0.0')]"
      ]
     },
     "execution_count": 201,
     "metadata": {},
     "output_type": "execute_result"
    }
   ],
   "source": [
    "iris2dim = Classificador()\n",
    "iris2dim.carregar('data/iris/iris2dim.csv', delimiter=',', ignoraLinha1=False)\n",
    "print(len(iris2dim.dados))\n",
    "iris2dim.dados[:10]"
   ]
  },
  {
   "cell_type": "code",
   "execution_count": 202,
   "metadata": {},
   "outputs": [
    {
     "data": {
      "text/plain": [
       "{'0.0': 0.3333333333333333,\n",
       " 'i0': {'media': 5.843333333333335, 'desvio': 0.8280661279778629},\n",
       " ('i0', '0.0'): {'media': 5.005999999999999, 'desvio': 0.3524896872134512},\n",
       " 'i1': {'media': 3.7586666666666693, 'desvio': 1.7644204199522617},\n",
       " ('i1', '0.0'): {'media': 1.464, 'desvio': 0.1735111594364455},\n",
       " '1.0': 0.3333333333333333,\n",
       " ('i0', '1.0'): {'media': 5.936, 'desvio': 0.5161711470638635},\n",
       " ('i1', '1.0'): {'media': 4.26, 'desvio': 0.46991097723995806},\n",
       " '2.0': 0.3333333333333333,\n",
       " ('i0', '2.0'): {'media': 6.587999999999998, 'desvio': 0.635879593274432},\n",
       " ('i1', '2.0'): {'media': 5.552, 'desvio': 0.5518946956639835},\n",
       " 'classes': ['0.0', '2.0', '1.0']}"
      ]
     },
     "execution_count": 202,
     "metadata": {},
     "output_type": "execute_result"
    }
   ],
   "source": [
    "iris2dim.treinar()\n",
    "iris2dim.modelo"
   ]
  },
  {
   "cell_type": "code",
   "execution_count": 203,
   "metadata": {},
   "outputs": [
    {
     "data": {
      "text/plain": [
       "0"
      ]
     },
     "execution_count": 203,
     "metadata": {},
     "output_type": "execute_result"
    }
   ],
   "source": [
    "a = int(float('0.0'))\n",
    "a"
   ]
  },
  {
   "cell_type": "code",
   "execution_count": 213,
   "metadata": {},
   "outputs": [
    {
     "data": {
      "image/png": "[encoded data removed]",
      "text/plain": [
       "<Figure size 432x288 with 1 Axes>"
      ]
     },
     "metadata": {
      "needs_background": "light"
     },
     "output_type": "display_data"
    }
   ],
   "source": [
    "iris2dim = Classificador()\n",
    "iris2dim.carregar('data/iris/iris2dim.csv', delimiter=',', ignoraLinha1=False)\n",
    "iris2dim.treinar()\n",
    "iris2dim.graficoFronteira()"
   ]
  },
  {
   "cell_type": "code",
   "execution_count": 46,
   "metadata": {},
   "outputs": [],
   "source": [
    "modeloIris2dim = treinamento(iris2dim)"
   ]
  },
  {
   "cell_type": "code",
   "execution_count": 47,
   "metadata": {},
   "outputs": [
    {
     "data": {
      "text/plain": [
       "0.0"
      ]
     },
     "execution_count": 47,
     "metadata": {},
     "output_type": "execute_result"
    }
   ],
   "source": [
    "verificar(modeloIris2dim, [3.3, 1.0])"
   ]
  },
  {
   "cell_type": "code",
   "execution_count": 48,
   "metadata": {},
   "outputs": [
    {
     "name": "stdout",
     "output_type": "stream",
     "text": [
      "Conj Teste: 45\n",
      "Acertos   : 37\n",
      "Acurácia  :  82.22222222222221\n"
     ]
    }
   ],
   "source": [
    "validacaoCruzada(iris2dim, 0.7)"
   ]
  },
  {
   "cell_type": "code",
   "execution_count": 58,
   "metadata": {},
   "outputs": [],
   "source": [
    "from mlxtend.plotting import plot_decision_regions"
   ]
  },
  {
   "cell_type": "code",
   "execution_count": 68,
   "metadata": {},
   "outputs": [],
   "source": [
    "nb = Classificador()\n",
    "nb.modelo = modeloIris2dim"
   ]
  },
  {
   "cell_type": "code",
   "execution_count": 69,
   "metadata": {},
   "outputs": [
    {
     "data": {
      "image/png": "[encoded data removed]",
      "text/plain": [
       "<Figure size 432x288 with 1 Axes>"
      ]
     },
     "metadata": {
      "needs_background": "light"
     },
     "output_type": "display_data"
    }
   ],
   "source": [
    "nb.graficoFronteira()a"
   ]
  },
  {
   "cell_type": "code",
   "execution_count": 51,
   "metadata": {},
   "outputs": [
    {
     "name": "stdout",
     "output_type": "stream",
     "text": [
      "X [[7.2 6.1]\n",
      " [6.4 5.6]\n",
      " [5.7 1.7]\n",
      " [5.4 1.3]\n",
      " [6.9 5.1]\n",
      " [5.5 4.4]\n",
      " [7.9 6.4]\n",
      " [7.2 6. ]\n",
      " [5.9 5.1]\n",
      " [6.1 4.9]\n",
      " [6.1 4. ]\n",
      " [5.1 1.5]\n",
      " [7.7 6.1]\n",
      " [4.7 1.6]\n",
      " [5.1 1.9]\n",
      " [4.4 1.4]\n",
      " [5.7 4.5]\n",
      " [5.5 4. ]\n",
      " [4.9 1.5]\n",
      " [4.8 1.6]\n",
      " [7.7 6.7]\n",
      " [4.4 1.3]\n",
      " [6.7 4.7]\n",
      " [6.6 4.6]\n",
      " [6.9 5.7]\n",
      " [6.3 4.9]\n",
      " [5.9 4.2]\n",
      " [5.5 1.4]\n",
      " [5.  1.6]\n",
      " [5.1 1.6]\n",
      " [5.4 1.5]\n",
      " [5.  1.4]\n",
      " [5.8 1.2]\n",
      " [5.1 1.4]\n",
      " [5.8 5.1]\n",
      " [5.4 1.7]\n",
      " [6.5 5.1]\n",
      " [6.7 5. ]\n",
      " [6.4 4.5]\n",
      " [4.9 1.4]\n",
      " [6.  5.1]\n",
      " [5.5 3.7]\n",
      " [5.  1.3]\n",
      " [5.4 1.7]\n",
      " [7.4 6.1]\n",
      " [7.7 6.9]\n",
      " [6.3 5.6]\n",
      " [4.3 1.1]\n",
      " [6.4 4.3]\n",
      " [6.3 6. ]\n",
      " [6.2 4.8]\n",
      " [6.5 5.8]\n",
      " [5.2 1.5]\n",
      " [6.8 5.9]\n",
      " [5.2 3.9]\n",
      " [5.8 4. ]\n",
      " [4.6 1.4]\n",
      " [6.5 5.2]\n",
      " [6.7 5.8]\n",
      " [5.7 1.5]\n",
      " [4.4 1.3]\n",
      " [6.3 5. ]\n",
      " [5.8 4.1]\n",
      " [5.9 4.8]\n",
      " [6.  4.5]\n",
      " [6.3 4.9]\n",
      " [6.  4. ]\n",
      " [6.1 4.7]\n",
      " [4.8 1.6]\n",
      " [7.6 6.6]\n",
      " [5.  3.3]\n",
      " [5.4 1.5]\n",
      " [5.  3.5]\n",
      " [6.3 5.1]\n",
      " [7.3 6.3]\n",
      " [4.6 1.5]\n",
      " [5.7 4.2]\n",
      " [4.7 1.3]\n",
      " [6.2 5.4]\n",
      " [5.5 3.8]\n",
      " [5.8 5.1]\n",
      " [4.6 1.4]\n",
      " [4.9 1.5]\n",
      " [5.5 1.3]\n",
      " [4.8 1.4]\n",
      " [5.2 1.4]\n",
      " [6.8 5.5]\n",
      " [5.1 3. ]\n",
      " [5.7 4.1]\n",
      " [6.1 5.6]\n",
      " [6.2 4.5]\n",
      " [5.6 4.5]\n",
      " [5.  1.5]\n",
      " [6.1 4.6]\n",
      " [5.8 3.9]\n",
      " [6.4 5.6]\n",
      " [6.2 4.3]\n",
      " [7.7 6.7]\n",
      " [5.6 4.9]\n",
      " [6.3 5.6]\n",
      " [5.5 4. ]\n",
      " [4.8 1.4]\n",
      " [5.  1.4]\n",
      " [5.1 1.5]\n",
      " [5.  1.6]\n",
      " [6.7 4.4]\n",
      " [6.5 4.6]\n",
      " [5.  1.2]\n",
      " [6.4 5.3]\n",
      " [5.7 3.5]\n",
      " [6.  5. ]\n",
      " [4.8 1.9]\n",
      " [5.6 3.9]\n",
      " [5.  1.6]\n",
      " [6.  4.5]\n",
      " [6.3 4.7]\n",
      " [4.9 3.3]\n",
      " [6.7 5.2]\n",
      " [4.9 1.5]\n",
      " [4.6 1. ]\n",
      " [5.2 1.5]\n",
      " [5.4 4.5]\n",
      " [6.9 5.4]\n",
      " [4.5 1.3]\n",
      " [5.6 3.6]\n",
      " [7.1 5.9]\n",
      " [5.7 5. ]\n",
      " [5.1 1.7]\n",
      " [6.8 4.8]\n",
      " [6.4 5.3]\n",
      " [5.6 4.1]\n",
      " [5.1 1.5]\n",
      " [5.3 1.5]\n",
      " [6.7 5.7]\n",
      " [6.  4.8]\n",
      " [5.6 4.2]\n",
      " [7.  4.7]\n",
      " [6.4 5.5]\n",
      " [4.9 4.5]\n",
      " [6.3 4.4]\n",
      " [7.2 5.8]\n",
      " [6.7 5.6]\n",
      " [6.6 4.4]\n",
      " [6.7 5.7]\n",
      " [6.1 4.7]\n",
      " [5.1 1.4]\n",
      " [5.7 4.2]\n",
      " [6.9 4.9]\n",
      " [6.5 5.5]\n",
      " [5.8 5.1]]\n",
      "y [2 2 0 0 2 1 2 2 2 2 1 0 2 0 0 0 1 1 0 0 2 0 1 1 2 1 1 0 0 0 0 0 0 0 2 0 2\n",
      " 1 1 0 1 1 0 0 2 2 2 0 1 2 2 2 0 2 1 1 0 2 2 0 0 2 1 1 1 2 1 1 0 2 1 0 1 2\n",
      " 2 0 1 0 2 1 2 0 0 0 0 0 2 1 1 2 1 1 0 1 1 2 1 2 2 2 1 0 0 0 0 1 1 0 2 1 2\n",
      " 0 1 0 1 1 1 2 0 0 0 1 2 0 1 2 2 0 1 2 1 0 0 2 2 1 1 2 2 1 2 2 1 2 1 0 1 1\n",
      " 2 2]\n"
     ]
    }
   ],
   "source": [
    "import numpy as np\n",
    "\n",
    "def graficoFronteiras(dados):\n",
    "    \n",
    "    X = np.array([ [float(x[0]),float(x[1])] for x in iris2dim ])\n",
    "    y = np.array([ int(x[2]) for x in iris2dim ])\n",
    "    \n",
    "    #print('X',X)\n",
    "    #print('y',y)\n",
    "graficoFronteiras(iris2dim)"
   ]
  },
  {
   "cell_type": "code",
   "execution_count": 59,
   "metadata": {},
   "outputs": [],
   "source": [
    "class Object(object):\n",
    "    modelo = None\n",
    "    \n",
    "    def predict(self, tupla):\n",
    "        res = []\n",
    "        for t in tupla:\n",
    "            res.append(int(verificar(self.modelo, t)))\n",
    "        return(np.array(res))\n",
    "    pass\n",
    "nb = Object()\n",
    "modeloIris2dim = treinamento(iris2dim)\n",
    "nb.modelo = modeloIris2dim"
   ]
  },
  {
   "cell_type": "code",
   "execution_count": 303,
   "metadata": {},
   "outputs": [],
   "source": []
  },
  {
   "cell_type": "code",
   "execution_count": 305,
   "metadata": {},
   "outputs": [
    {
     "data": {
      "text/plain": [
       "numpy.ndarray"
      ]
     },
     "execution_count": 305,
     "metadata": {},
     "output_type": "execute_result"
    }
   ],
   "source": [
    "res01 = nb.predict([[3.3 ,       1.0        ],\n",
    " [3.31299304, 1.        ],\n",
    " [3.32598608, 1.        ]])\n",
    "type(res01)"
   ]
  },
  {
   "cell_type": "code",
   "execution_count": 283,
   "metadata": {},
   "outputs": [],
   "source": [
    "res = svm.predict([[3.3 ,       1.0        ],\n",
    " [3.31299304, 1.        ],\n",
    " [3.32598608, 1.        ]])"
   ]
  },
  {
   "cell_type": "code",
   "execution_count": 329,
   "metadata": {},
   "outputs": [
    {
     "data": {
      "image/png": "[encoded data removed]",
      "text/plain": [
       "<Figure size 432x288 with 1 Axes>"
      ]
     },
     "metadata": {
      "needs_background": "light"
     },
     "output_type": "display_data"
    }
   ],
   "source": [
    "plot_decision_regions(X1, y1, clf=nb, legend=2)\n",
    "#plt.xlabel('sepal length [cm]')\n",
    "#plt.ylabel('petal length [cm]')\n",
    "#plt.title('NB on Iris')\n",
    "plt.show()"
   ]
  },
  {
   "cell_type": "code",
   "execution_count": 309,
   "metadata": {},
   "outputs": [
    {
     "data": {
      "text/plain": [
       "[('5.1', '1.4', '0'),\n",
       " ('4.9', '1.4', '0'),\n",
       " ('4.7', '1.3', '0'),\n",
       " ('4.6', '1.5', '0'),\n",
       " ('5.0', '1.4', '0'),\n",
       " ('5.4', '1.7', '0'),\n",
       " ('4.6', '1.4', '0'),\n",
       " ('5.0', '1.5', '0'),\n",
       " ('4.4', '1.4', '0'),\n",
       " ('4.9', '1.5', '0'),\n",
       " ('5.4', '1.5', '0'),\n",
       " ('4.8', '1.6', '0'),\n",
       " ('4.8', '1.4', '0'),\n",
       " ('4.3', '1.1', '0'),\n",
       " ('5.8', '1.2', '0'),\n",
       " ('5.7', '1.5', '0'),\n",
       " ('5.4', '1.3', '0'),\n",
       " ('5.1', '1.4', '0'),\n",
       " ('5.7', '1.7', '0'),\n",
       " ('5.1', '1.5', '0'),\n",
       " ('5.4', '1.7', '0'),\n",
       " ('5.1', '1.5', '0'),\n",
       " ('4.6', '1.0', '0'),\n",
       " ('5.1', '1.7', '0'),\n",
       " ('4.8', '1.9', '0'),\n",
       " ('5.0', '1.6', '0'),\n",
       " ('5.0', '1.6', '0'),\n",
       " ('5.2', '1.5', '0'),\n",
       " ('5.2', '1.4', '0'),\n",
       " ('4.7', '1.6', '0'),\n",
       " ('4.8', '1.6', '0'),\n",
       " ('5.4', '1.5', '0'),\n",
       " ('5.2', '1.5', '0'),\n",
       " ('5.5', '1.4', '0'),\n",
       " ('4.9', '1.5', '0'),\n",
       " ('5.0', '1.2', '0'),\n",
       " ('5.5', '1.3', '0'),\n",
       " ('4.9', '1.5', '0'),\n",
       " ('4.4', '1.3', '0'),\n",
       " ('5.1', '1.5', '0'),\n",
       " ('5.0', '1.3', '0'),\n",
       " ('4.5', '1.3', '0'),\n",
       " ('4.4', '1.3', '0'),\n",
       " ('5.0', '1.6', '0'),\n",
       " ('5.1', '1.9', '0'),\n",
       " ('4.8', '1.4', '0'),\n",
       " ('5.1', '1.6', '0'),\n",
       " ('4.6', '1.4', '0'),\n",
       " ('5.3', '1.5', '0'),\n",
       " ('5.0', '1.4', '0'),\n",
       " ('7.0', '4.7', '1'),\n",
       " ('6.4', '4.5', '1'),\n",
       " ('6.9', '4.9', '1'),\n",
       " ('5.5', '4.0', '1'),\n",
       " ('6.5', '4.6', '1'),\n",
       " ('5.7', '4.5', '1'),\n",
       " ('6.3', '4.7', '1'),\n",
       " ('4.9', '3.3', '1'),\n",
       " ('6.6', '4.6', '1'),\n",
       " ('5.2', '3.9', '1'),\n",
       " ('5.0', '3.5', '1'),\n",
       " ('5.9', '4.2', '1'),\n",
       " ('6.0', '4.0', '1'),\n",
       " ('6.1', '4.7', '1'),\n",
       " ('5.6', '3.6', '1'),\n",
       " ('6.7', '4.4', '1'),\n",
       " ('5.6', '4.5', '1'),\n",
       " ('5.8', '4.1', '1'),\n",
       " ('6.2', '4.5', '1'),\n",
       " ('5.6', '3.9', '1'),\n",
       " ('5.9', '4.8', '1'),\n",
       " ('6.1', '4.0', '1'),\n",
       " ('6.3', '4.9', '1'),\n",
       " ('6.1', '4.7', '1'),\n",
       " ('6.4', '4.3', '1'),\n",
       " ('6.6', '4.4', '1'),\n",
       " ('6.8', '4.8', '1'),\n",
       " ('6.7', '5.0', '1'),\n",
       " ('6.0', '4.5', '1'),\n",
       " ('5.7', '3.5', '1'),\n",
       " ('5.5', '3.8', '1'),\n",
       " ('5.5', '3.7', '1'),\n",
       " ('5.8', '3.9', '1'),\n",
       " ('6.0', '5.1', '1'),\n",
       " ('5.4', '4.5', '1'),\n",
       " ('6.0', '4.5', '1'),\n",
       " ('6.7', '4.7', '1'),\n",
       " ('6.3', '4.4', '1'),\n",
       " ('5.6', '4.1', '1'),\n",
       " ('5.5', '4.0', '1'),\n",
       " ('5.5', '4.4', '1'),\n",
       " ('6.1', '4.6', '1'),\n",
       " ('5.8', '4.0', '1'),\n",
       " ('5.0', '3.3', '1'),\n",
       " ('5.6', '4.2', '1'),\n",
       " ('5.7', '4.2', '1'),\n",
       " ('5.7', '4.2', '1'),\n",
       " ('6.2', '4.3', '1'),\n",
       " ('5.1', '3.0', '1'),\n",
       " ('5.7', '4.1', '1'),\n",
       " ('6.3', '6.0', '2'),\n",
       " ('5.8', '5.1', '2'),\n",
       " ('7.1', '5.9', '2'),\n",
       " ('6.3', '5.6', '2'),\n",
       " ('6.5', '5.8', '2'),\n",
       " ('7.6', '6.6', '2'),\n",
       " ('4.9', '4.5', '2'),\n",
       " ('7.3', '6.3', '2'),\n",
       " ('6.7', '5.8', '2'),\n",
       " ('7.2', '6.1', '2'),\n",
       " ('6.5', '5.1', '2'),\n",
       " ('6.4', '5.3', '2'),\n",
       " ('6.8', '5.5', '2'),\n",
       " ('5.7', '5.0', '2'),\n",
       " ('5.8', '5.1', '2'),\n",
       " ('6.4', '5.3', '2'),\n",
       " ('6.5', '5.5', '2'),\n",
       " ('7.7', '6.7', '2'),\n",
       " ('7.7', '6.9', '2'),\n",
       " ('6.0', '5.0', '2'),\n",
       " ('6.9', '5.7', '2'),\n",
       " ('5.6', '4.9', '2'),\n",
       " ('7.7', '6.7', '2'),\n",
       " ('6.3', '4.9', '2'),\n",
       " ('6.7', '5.7', '2'),\n",
       " ('7.2', '6.0', '2'),\n",
       " ('6.2', '4.8', '2'),\n",
       " ('6.1', '4.9', '2'),\n",
       " ('6.4', '5.6', '2'),\n",
       " ('7.2', '5.8', '2'),\n",
       " ('7.4', '6.1', '2'),\n",
       " ('7.9', '6.4', '2'),\n",
       " ('6.4', '5.6', '2'),\n",
       " ('6.3', '5.1', '2'),\n",
       " ('6.1', '5.6', '2'),\n",
       " ('7.7', '6.1', '2'),\n",
       " ('6.3', '5.6', '2'),\n",
       " ('6.4', '5.5', '2'),\n",
       " ('6.0', '4.8', '2'),\n",
       " ('6.9', '5.4', '2'),\n",
       " ('6.7', '5.6', '2'),\n",
       " ('6.9', '5.1', '2'),\n",
       " ('5.8', '5.1', '2'),\n",
       " ('6.8', '5.9', '2'),\n",
       " ('6.7', '5.7', '2'),\n",
       " ('6.7', '5.2', '2'),\n",
       " ('6.3', '5.0', '2'),\n",
       " ('6.5', '5.2', '2'),\n",
       " ('6.2', '5.4', '2'),\n",
       " ('5.9', '5.1', '2')]"
      ]
     },
     "execution_count": 309,
     "metadata": {},
     "output_type": "execute_result"
    }
   ],
   "source": [
    "iris2dim"
   ]
  },
  {
   "cell_type": "code",
   "execution_count": 284,
   "metadata": {},
   "outputs": [
    {
     "data": {
      "text/plain": [
       "numpy.ndarray"
      ]
     },
     "execution_count": 284,
     "metadata": {},
     "output_type": "execute_result"
    }
   ],
   "source": [
    "type(res)"
   ]
  },
  {
   "cell_type": "code",
   "execution_count": 184,
   "metadata": {},
   "outputs": [
    {
     "data": {
      "text/plain": [
       "'Iris-virginica'"
      ]
     },
     "execution_count": 184,
     "metadata": {},
     "output_type": "execute_result"
    }
   ],
   "source": [
    "nb.modelo = modeloIris\n",
    "tupla = ('6.7', '3.3', '5.7', '2.5')\n",
    "nb.predict(tupla)"
   ]
  },
  {
   "cell_type": "code",
   "execution_count": 322,
   "metadata": {},
   "outputs": [],
   "source": [
    "X1 = np.array([ [float(x[0]),float(x[1])] for x in iris2dim ])\n",
    "y1 = np.array([ int(x[2]) for x in iris2dim ])"
   ]
  },
  {
   "cell_type": "code",
   "execution_count": 323,
   "metadata": {},
   "outputs": [
    {
     "data": {
      "text/plain": [
       "array([[5.1, 1.4],\n",
       "       [4.9, 1.4],\n",
       "       [4.7, 1.3],\n",
       "       [4.6, 1.5],\n",
       "       [5. , 1.4],\n",
       "       [5.4, 1.7],\n",
       "       [4.6, 1.4],\n",
       "       [5. , 1.5],\n",
       "       [4.4, 1.4],\n",
       "       [4.9, 1.5],\n",
       "       [5.4, 1.5],\n",
       "       [4.8, 1.6],\n",
       "       [4.8, 1.4],\n",
       "       [4.3, 1.1],\n",
       "       [5.8, 1.2],\n",
       "       [5.7, 1.5],\n",
       "       [5.4, 1.3],\n",
       "       [5.1, 1.4],\n",
       "       [5.7, 1.7],\n",
       "       [5.1, 1.5],\n",
       "       [5.4, 1.7],\n",
       "       [5.1, 1.5],\n",
       "       [4.6, 1. ],\n",
       "       [5.1, 1.7],\n",
       "       [4.8, 1.9],\n",
       "       [5. , 1.6],\n",
       "       [5. , 1.6],\n",
       "       [5.2, 1.5],\n",
       "       [5.2, 1.4],\n",
       "       [4.7, 1.6],\n",
       "       [4.8, 1.6],\n",
       "       [5.4, 1.5],\n",
       "       [5.2, 1.5],\n",
       "       [5.5, 1.4],\n",
       "       [4.9, 1.5],\n",
       "       [5. , 1.2],\n",
       "       [5.5, 1.3],\n",
       "       [4.9, 1.5],\n",
       "       [4.4, 1.3],\n",
       "       [5.1, 1.5],\n",
       "       [5. , 1.3],\n",
       "       [4.5, 1.3],\n",
       "       [4.4, 1.3],\n",
       "       [5. , 1.6],\n",
       "       [5.1, 1.9],\n",
       "       [4.8, 1.4],\n",
       "       [5.1, 1.6],\n",
       "       [4.6, 1.4],\n",
       "       [5.3, 1.5],\n",
       "       [5. , 1.4],\n",
       "       [7. , 4.7],\n",
       "       [6.4, 4.5],\n",
       "       [6.9, 4.9],\n",
       "       [5.5, 4. ],\n",
       "       [6.5, 4.6],\n",
       "       [5.7, 4.5],\n",
       "       [6.3, 4.7],\n",
       "       [4.9, 3.3],\n",
       "       [6.6, 4.6],\n",
       "       [5.2, 3.9],\n",
       "       [5. , 3.5],\n",
       "       [5.9, 4.2],\n",
       "       [6. , 4. ],\n",
       "       [6.1, 4.7],\n",
       "       [5.6, 3.6],\n",
       "       [6.7, 4.4],\n",
       "       [5.6, 4.5],\n",
       "       [5.8, 4.1],\n",
       "       [6.2, 4.5],\n",
       "       [5.6, 3.9],\n",
       "       [5.9, 4.8],\n",
       "       [6.1, 4. ],\n",
       "       [6.3, 4.9],\n",
       "       [6.1, 4.7],\n",
       "       [6.4, 4.3],\n",
       "       [6.6, 4.4],\n",
       "       [6.8, 4.8],\n",
       "       [6.7, 5. ],\n",
       "       [6. , 4.5],\n",
       "       [5.7, 3.5],\n",
       "       [5.5, 3.8],\n",
       "       [5.5, 3.7],\n",
       "       [5.8, 3.9],\n",
       "       [6. , 5.1],\n",
       "       [5.4, 4.5],\n",
       "       [6. , 4.5],\n",
       "       [6.7, 4.7],\n",
       "       [6.3, 4.4],\n",
       "       [5.6, 4.1],\n",
       "       [5.5, 4. ],\n",
       "       [5.5, 4.4],\n",
       "       [6.1, 4.6],\n",
       "       [5.8, 4. ],\n",
       "       [5. , 3.3],\n",
       "       [5.6, 4.2],\n",
       "       [5.7, 4.2],\n",
       "       [5.7, 4.2],\n",
       "       [6.2, 4.3],\n",
       "       [5.1, 3. ],\n",
       "       [5.7, 4.1],\n",
       "       [6.3, 6. ],\n",
       "       [5.8, 5.1],\n",
       "       [7.1, 5.9],\n",
       "       [6.3, 5.6],\n",
       "       [6.5, 5.8],\n",
       "       [7.6, 6.6],\n",
       "       [4.9, 4.5],\n",
       "       [7.3, 6.3],\n",
       "       [6.7, 5.8],\n",
       "       [7.2, 6.1],\n",
       "       [6.5, 5.1],\n",
       "       [6.4, 5.3],\n",
       "       [6.8, 5.5],\n",
       "       [5.7, 5. ],\n",
       "       [5.8, 5.1],\n",
       "       [6.4, 5.3],\n",
       "       [6.5, 5.5],\n",
       "       [7.7, 6.7],\n",
       "       [7.7, 6.9],\n",
       "       [6. , 5. ],\n",
       "       [6.9, 5.7],\n",
       "       [5.6, 4.9],\n",
       "       [7.7, 6.7],\n",
       "       [6.3, 4.9],\n",
       "       [6.7, 5.7],\n",
       "       [7.2, 6. ],\n",
       "       [6.2, 4.8],\n",
       "       [6.1, 4.9],\n",
       "       [6.4, 5.6],\n",
       "       [7.2, 5.8],\n",
       "       [7.4, 6.1],\n",
       "       [7.9, 6.4],\n",
       "       [6.4, 5.6],\n",
       "       [6.3, 5.1],\n",
       "       [6.1, 5.6],\n",
       "       [7.7, 6.1],\n",
       "       [6.3, 5.6],\n",
       "       [6.4, 5.5],\n",
       "       [6. , 4.8],\n",
       "       [6.9, 5.4],\n",
       "       [6.7, 5.6],\n",
       "       [6.9, 5.1],\n",
       "       [5.8, 5.1],\n",
       "       [6.8, 5.9],\n",
       "       [6.7, 5.7],\n",
       "       [6.7, 5.2],\n",
       "       [6.3, 5. ],\n",
       "       [6.5, 5.2],\n",
       "       [6.2, 5.4],\n",
       "       [5.9, 5.1]])"
      ]
     },
     "execution_count": 323,
     "metadata": {},
     "output_type": "execute_result"
    }
   ],
   "source": [
    "X1"
   ]
  },
  {
   "cell_type": "code",
   "execution_count": 324,
   "metadata": {},
   "outputs": [
    {
     "data": {
      "text/plain": [
       "array([0, 0, 0, 0, 0, 0, 0, 0, 0, 0, 0, 0, 0, 0, 0, 0, 0, 0, 0, 0, 0, 0,\n",
       "       0, 0, 0, 0, 0, 0, 0, 0, 0, 0, 0, 0, 0, 0, 0, 0, 0, 0, 0, 0, 0, 0,\n",
       "       0, 0, 0, 0, 0, 0, 1, 1, 1, 1, 1, 1, 1, 1, 1, 1, 1, 1, 1, 1, 1, 1,\n",
       "       1, 1, 1, 1, 1, 1, 1, 1, 1, 1, 1, 1, 1, 1, 1, 1, 1, 1, 1, 1, 1, 1,\n",
       "       1, 1, 1, 1, 1, 1, 1, 1, 1, 1, 1, 1, 2, 2, 2, 2, 2, 2, 2, 2, 2, 2,\n",
       "       2, 2, 2, 2, 2, 2, 2, 2, 2, 2, 2, 2, 2, 2, 2, 2, 2, 2, 2, 2, 2, 2,\n",
       "       2, 2, 2, 2, 2, 2, 2, 2, 2, 2, 2, 2, 2, 2, 2, 2, 2, 2])"
      ]
     },
     "execution_count": 324,
     "metadata": {},
     "output_type": "execute_result"
    }
   ],
   "source": [
    "y1"
   ]
  },
  {
   "cell_type": "code",
   "execution_count": 307,
   "metadata": {},
   "outputs": [
    {
     "data": {
      "text/plain": [
       "array([[5.1, 3.5],\n",
       "       [4.9, 3. ],\n",
       "       [4.7, 3.2],\n",
       "       [4.6, 3.1],\n",
       "       [5. , 3.6],\n",
       "       [5.4, 3.9],\n",
       "       [4.6, 3.4],\n",
       "       [5. , 3.4],\n",
       "       [4.4, 2.9],\n",
       "       [4.9, 3.1],\n",
       "       [5.4, 3.7],\n",
       "       [4.8, 3.4],\n",
       "       [4.8, 3. ],\n",
       "       [4.3, 3. ],\n",
       "       [5.8, 4. ],\n",
       "       [5.7, 4.4],\n",
       "       [5.4, 3.9],\n",
       "       [5.1, 3.5],\n",
       "       [5.7, 3.8],\n",
       "       [5.1, 3.8],\n",
       "       [5.4, 3.4],\n",
       "       [5.1, 3.7],\n",
       "       [4.6, 3.6],\n",
       "       [5.1, 3.3],\n",
       "       [4.8, 3.4],\n",
       "       [5. , 3. ],\n",
       "       [5. , 3.4],\n",
       "       [5.2, 3.5],\n",
       "       [5.2, 3.4],\n",
       "       [4.7, 3.2],\n",
       "       [4.8, 3.1],\n",
       "       [5.4, 3.4],\n",
       "       [5.2, 4.1],\n",
       "       [5.5, 4.2],\n",
       "       [4.9, 3.1],\n",
       "       [5. , 3.2],\n",
       "       [5.5, 3.5],\n",
       "       [4.9, 3.6],\n",
       "       [4.4, 3. ],\n",
       "       [5.1, 3.4],\n",
       "       [5. , 3.5],\n",
       "       [4.5, 2.3],\n",
       "       [4.4, 3.2],\n",
       "       [5. , 3.5],\n",
       "       [5.1, 3.8],\n",
       "       [4.8, 3. ],\n",
       "       [5.1, 3.8],\n",
       "       [4.6, 3.2],\n",
       "       [5.3, 3.7],\n",
       "       [5. , 3.3],\n",
       "       [7. , 3.2],\n",
       "       [6.4, 3.2],\n",
       "       [6.9, 3.1],\n",
       "       [5.5, 2.3],\n",
       "       [6.5, 2.8],\n",
       "       [5.7, 2.8],\n",
       "       [6.3, 3.3],\n",
       "       [4.9, 2.4],\n",
       "       [6.6, 2.9],\n",
       "       [5.2, 2.7],\n",
       "       [5. , 2. ],\n",
       "       [5.9, 3. ],\n",
       "       [6. , 2.2],\n",
       "       [6.1, 2.9],\n",
       "       [5.6, 2.9],\n",
       "       [6.7, 3.1],\n",
       "       [5.6, 3. ],\n",
       "       [5.8, 2.7],\n",
       "       [6.2, 2.2],\n",
       "       [5.6, 2.5],\n",
       "       [5.9, 3.2],\n",
       "       [6.1, 2.8],\n",
       "       [6.3, 2.5],\n",
       "       [6.1, 2.8],\n",
       "       [6.4, 2.9],\n",
       "       [6.6, 3. ],\n",
       "       [6.8, 2.8],\n",
       "       [6.7, 3. ],\n",
       "       [6. , 2.9],\n",
       "       [5.7, 2.6],\n",
       "       [5.5, 2.4],\n",
       "       [5.5, 2.4],\n",
       "       [5.8, 2.7],\n",
       "       [6. , 2.7],\n",
       "       [5.4, 3. ],\n",
       "       [6. , 3.4],\n",
       "       [6.7, 3.1],\n",
       "       [6.3, 2.3],\n",
       "       [5.6, 3. ],\n",
       "       [5.5, 2.5],\n",
       "       [5.5, 2.6],\n",
       "       [6.1, 3. ],\n",
       "       [5.8, 2.6],\n",
       "       [5. , 2.3],\n",
       "       [5.6, 2.7],\n",
       "       [5.7, 3. ],\n",
       "       [5.7, 2.9],\n",
       "       [6.2, 2.9],\n",
       "       [5.1, 2.5],\n",
       "       [5.7, 2.8],\n",
       "       [6.3, 3.3],\n",
       "       [5.8, 2.7],\n",
       "       [7.1, 3. ],\n",
       "       [6.3, 2.9],\n",
       "       [6.5, 3. ],\n",
       "       [7.6, 3. ],\n",
       "       [4.9, 2.5],\n",
       "       [7.3, 2.9],\n",
       "       [6.7, 2.5],\n",
       "       [7.2, 3.6],\n",
       "       [6.5, 3.2],\n",
       "       [6.4, 2.7],\n",
       "       [6.8, 3. ],\n",
       "       [5.7, 2.5],\n",
       "       [5.8, 2.8],\n",
       "       [6.4, 3.2],\n",
       "       [6.5, 3. ],\n",
       "       [7.7, 3.8],\n",
       "       [7.7, 2.6],\n",
       "       [6. , 2.2],\n",
       "       [6.9, 3.2],\n",
       "       [5.6, 2.8],\n",
       "       [7.7, 2.8],\n",
       "       [6.3, 2.7],\n",
       "       [6.7, 3.3],\n",
       "       [7.2, 3.2],\n",
       "       [6.2, 2.8],\n",
       "       [6.1, 3. ],\n",
       "       [6.4, 2.8],\n",
       "       [7.2, 3. ],\n",
       "       [7.4, 2.8],\n",
       "       [7.9, 3.8],\n",
       "       [6.4, 2.8],\n",
       "       [6.3, 2.8],\n",
       "       [6.1, 2.6],\n",
       "       [7.7, 3. ],\n",
       "       [6.3, 3.4],\n",
       "       [6.4, 3.1],\n",
       "       [6. , 3. ],\n",
       "       [6.9, 3.1],\n",
       "       [6.7, 3.1],\n",
       "       [6.9, 3.1],\n",
       "       [5.8, 2.7],\n",
       "       [6.8, 3.2],\n",
       "       [6.7, 3.3],\n",
       "       [6.7, 3. ],\n",
       "       [6.3, 2.5],\n",
       "       [6.5, 3. ],\n",
       "       [6.2, 3.4],\n",
       "       [5.9, 3. ]])"
      ]
     },
     "execution_count": 307,
     "metadata": {},
     "output_type": "execute_result"
    }
   ],
   "source": [
    "X"
   ]
  },
  {
   "cell_type": "code",
   "execution_count": 308,
   "metadata": {},
   "outputs": [
    {
     "data": {
      "text/plain": [
       "array([0, 0, 0, 0, 0, 0, 0, 0, 0, 0, 0, 0, 0, 0, 0, 0, 0, 0, 0, 0, 0, 0,\n",
       "       0, 0, 0, 0, 0, 0, 0, 0, 0, 0, 0, 0, 0, 0, 0, 0, 0, 0, 0, 0, 0, 0,\n",
       "       0, 0, 0, 0, 0, 0, 1, 1, 1, 1, 1, 1, 1, 1, 1, 1, 1, 1, 1, 1, 1, 1,\n",
       "       1, 1, 1, 1, 1, 1, 1, 1, 1, 1, 1, 1, 1, 1, 1, 1, 1, 1, 1, 1, 1, 1,\n",
       "       1, 1, 1, 1, 1, 1, 1, 1, 1, 1, 1, 1, 2, 2, 2, 2, 2, 2, 2, 2, 2, 2,\n",
       "       2, 2, 2, 2, 2, 2, 2, 2, 2, 2, 2, 2, 2, 2, 2, 2, 2, 2, 2, 2, 2, 2,\n",
       "       2, 2, 2, 2, 2, 2, 2, 2, 2, 2, 2, 2, 2, 2, 2, 2, 2, 2])"
      ]
     },
     "execution_count": 308,
     "metadata": {},
     "output_type": "execute_result"
    }
   ],
   "source": [
    "y"
   ]
  },
  {
   "cell_type": "code",
   "execution_count": null,
   "metadata": {},
   "outputs": [],
   "source": []
  },
  {
   "cell_type": "markdown",
   "metadata": {},
   "source": [
    "# mlbench.cassini"
   ]
  },
  {
   "cell_type": "code",
   "execution_count": 330,
   "metadata": {},
   "outputs": [
    {
     "name": "stdout",
     "output_type": "stream",
     "text": [
      "\n",
      "R version 3.6.3 (2020-02-29) -- \"Holding the Windsock\"\n",
      "Copyright (C) 2020 The R Foundation for Statistical Computing\n",
      "Platform: x86_64-pc-linux-gnu (64-bit)\n",
      "\n",
      "R é um software livre e vem sem GARANTIA ALGUMA.\n",
      "Você pode redistribuí-lo sob certas circunstâncias.\n",
      "Digite 'license()' ou 'licence()' para detalhes de distribuição.\n",
      "\n",
      "R é um projeto colaborativo com muitos contribuidores.\n",
      "Digite 'contributors()' para obter mais informações e\n",
      "'citation()' para saber como citar o R ou pacotes do R em publicações.\n",
      "\n",
      "Digite 'demo()' para demonstrações, 'help()' para o sistema on-line de ajuda,\n",
      "ou 'help.start()' para abrir o sistema de ajuda em HTML no seu navegador.\n",
      "Digite 'q()' para sair do R.\n",
      "\n",
      "> library(mlbench); write.csv(mlbench.cassini(500), 'data/cassini500.csv')\n",
      "> \n",
      "> \n"
     ]
    }
   ],
   "source": [
    "# baixando dataset do R\n",
    "!R -e \"library(mlbench); write.csv(mlbench.cassini(500), 'data/cassini500.csv')\""
   ]
  },
  {
   "cell_type": "code",
   "execution_count": 214,
   "metadata": {},
   "outputs": [
    {
     "data": {
      "image/png": "[encoded data removed]",
      "text/plain": [
       "<Figure size 432x288 with 1 Axes>"
      ]
     },
     "metadata": {
      "needs_background": "light"
     },
     "output_type": "display_data"
    }
   ],
   "source": [
    "cassini = Classificador()\n",
    "cassini.carregar('data/cassini500.csv', delimiter=',', ignoraColuna1=True)\n",
    "cassini.treinar()\n",
    "cassini.graficoFronteira()"
   ]
  },
  {
   "cell_type": "code",
   "execution_count": 363,
   "metadata": {},
   "outputs": [
    {
     "name": "stdout",
     "output_type": "stream",
     "text": [
      "Conj Teste: 250\n",
      "Acertos   : 250\n",
      "Acurácia  :  100.0\n"
     ]
    }
   ],
   "source": [
    "validacaoCruzada(cassini, 0.5)"
   ]
  },
  {
   "cell_type": "code",
   "execution_count": null,
   "metadata": {},
   "outputs": [],
   "source": []
  },
  {
   "cell_type": "code",
   "execution_count": null,
   "metadata": {},
   "outputs": [],
   "source": []
  },
  {
   "cell_type": "markdown",
   "metadata": {},
   "source": [
    "# mlbench.circle"
   ]
  },
  {
   "cell_type": "code",
   "execution_count": 122,
   "metadata": {},
   "outputs": [
    {
     "name": "stdout",
     "output_type": "stream",
     "text": [
      "\n",
      "R version 3.6.3 (2020-02-29) -- \"Holding the Windsock\"\n",
      "Copyright (C) 2020 The R Foundation for Statistical Computing\n",
      "Platform: x86_64-pc-linux-gnu (64-bit)\n",
      "\n",
      "R é um software livre e vem sem GARANTIA ALGUMA.\n",
      "Você pode redistribuí-lo sob certas circunstâncias.\n",
      "Digite 'license()' ou 'licence()' para detalhes de distribuição.\n",
      "\n",
      "R é um projeto colaborativo com muitos contribuidores.\n",
      "Digite 'contributors()' para obter mais informações e\n",
      "'citation()' para saber como citar o R ou pacotes do R em publicações.\n",
      "\n",
      "Digite 'demo()' para demonstrações, 'help()' para o sistema on-line de ajuda,\n",
      "ou 'help.start()' para abrir o sistema de ajuda em HTML no seu navegador.\n",
      "Digite 'q()' para sair do R.\n",
      "\n",
      "> library(mlbench); write.csv(mlbench.circle(200), 'data/circle200.csv')\n",
      "> \n",
      "> \n"
     ]
    }
   ],
   "source": [
    "# baixando dataset do R\n",
    "!R -e \"library(mlbench); write.csv(mlbench.circle(200), 'data/circle200.csv')\""
   ]
  },
  {
   "cell_type": "code",
   "execution_count": 215,
   "metadata": {},
   "outputs": [
    {
     "data": {
      "image/png": "[encoded data removed]",
      "text/plain": [
       "<Figure size 432x288 with 1 Axes>"
      ]
     },
     "metadata": {
      "needs_background": "light"
     },
     "output_type": "display_data"
    }
   ],
   "source": [
    "circle = Classificador()\n",
    "circle.carregar('data/circle200.csv', delimiter=',', ignoraColuna1=True)\n",
    "circle.treinar()\n",
    "circle.graficoFronteira()"
   ]
  },
  {
   "cell_type": "markdown",
   "metadata": {},
   "source": [
    "# mlbench.hypercube"
   ]
  },
  {
   "cell_type": "code",
   "execution_count": 256,
   "metadata": {},
   "outputs": [
    {
     "name": "stdout",
     "output_type": "stream",
     "text": [
      "\n",
      "R version 3.6.3 (2020-02-29) -- \"Holding the Windsock\"\n",
      "Copyright (C) 2020 The R Foundation for Statistical Computing\n",
      "Platform: x86_64-pc-linux-gnu (64-bit)\n",
      "\n",
      "R é um software livre e vem sem GARANTIA ALGUMA.\n",
      "Você pode redistribuí-lo sob certas circunstâncias.\n",
      "Digite 'license()' ou 'licence()' para detalhes de distribuição.\n",
      "\n",
      "R é um projeto colaborativo com muitos contribuidores.\n",
      "Digite 'contributors()' para obter mais informações e\n",
      "'citation()' para saber como citar o R ou pacotes do R em publicações.\n",
      "\n",
      "Digite 'demo()' para demonstrações, 'help()' para o sistema on-line de ajuda,\n",
      "ou 'help.start()' para abrir o sistema de ajuda em HTML no seu navegador.\n",
      "Digite 'q()' para sair do R.\n",
      "\n",
      "> library(mlbench); write.csv(mlbench.hypercube(500, 2), 'data/hypercube.csv')\n",
      "> \n",
      "> \n"
     ]
    }
   ],
   "source": [
    "# baixando dataset do R\n",
    "!R -e \"library(mlbench); write.csv(mlbench.hypercube(500, 2), 'data/hypercube.csv')\""
   ]
  },
  {
   "cell_type": "code",
   "execution_count": 257,
   "metadata": {},
   "outputs": [
    {
     "data": {
      "image/png": "[encoded data removed]",
      "text/plain": [
       "<Figure size 432x288 with 1 Axes>"
      ]
     },
     "metadata": {
      "needs_background": "light"
     },
     "output_type": "display_data"
    }
   ],
   "source": [
    "clf = Classificador()\n",
    "clf.carregar('data/hypercube.csv', delimiter=',', ignoraColuna1=True)\n",
    "clf.treinar()\n",
    "clf.graficoFronteira()"
   ]
  },
  {
   "cell_type": "markdown",
   "metadata": {},
   "source": [
    "# mlbench.ringnorm"
   ]
  },
  {
   "cell_type": "code",
   "execution_count": 259,
   "metadata": {},
   "outputs": [
    {
     "name": "stdout",
     "output_type": "stream",
     "text": [
      "\n",
      "R version 3.6.3 (2020-02-29) -- \"Holding the Windsock\"\n",
      "Copyright (C) 2020 The R Foundation for Statistical Computing\n",
      "Platform: x86_64-pc-linux-gnu (64-bit)\n",
      "\n",
      "R é um software livre e vem sem GARANTIA ALGUMA.\n",
      "Você pode redistribuí-lo sob certas circunstâncias.\n",
      "Digite 'license()' ou 'licence()' para detalhes de distribuição.\n",
      "\n",
      "R é um projeto colaborativo com muitos contribuidores.\n",
      "Digite 'contributors()' para obter mais informações e\n",
      "'citation()' para saber como citar o R ou pacotes do R em publicações.\n",
      "\n",
      "Digite 'demo()' para demonstrações, 'help()' para o sistema on-line de ajuda,\n",
      "ou 'help.start()' para abrir o sistema de ajuda em HTML no seu navegador.\n",
      "Digite 'q()' para sair do R.\n",
      "\n",
      "> library(mlbench); write.csv(mlbench.ringnorm(500,2), 'data/ringnorm.csv')\n",
      "> \n",
      "> \n"
     ]
    }
   ],
   "source": [
    "# baixando dataset do R\n",
    "!R -e \"library(mlbench); write.csv(mlbench.ringnorm(500,2), 'data/ringnorm.csv')\""
   ]
  },
  {
   "cell_type": "code",
   "execution_count": 260,
   "metadata": {},
   "outputs": [
    {
     "data": {
      "image/png": "[encoded data removed]",
      "text/plain": [
       "<Figure size 432x288 with 1 Axes>"
      ]
     },
     "metadata": {
      "needs_background": "light"
     },
     "output_type": "display_data"
    }
   ],
   "source": [
    "clf = Classificador()\n",
    "clf.carregar('data/ringnorm.csv', delimiter=',', ignoraColuna1=True)\n",
    "clf.treinar()\n",
    "clf.graficoFronteira()"
   ]
  },
  {
   "cell_type": "markdown",
   "metadata": {},
   "source": [
    "# mlbench.shapes"
   ]
  },
  {
   "cell_type": "code",
   "execution_count": 135,
   "metadata": {},
   "outputs": [
    {
     "name": "stdout",
     "output_type": "stream",
     "text": [
      "\n",
      "R version 3.6.3 (2020-02-29) -- \"Holding the Windsock\"\n",
      "Copyright (C) 2020 The R Foundation for Statistical Computing\n",
      "Platform: x86_64-pc-linux-gnu (64-bit)\n",
      "\n",
      "R é um software livre e vem sem GARANTIA ALGUMA.\n",
      "Você pode redistribuí-lo sob certas circunstâncias.\n",
      "Digite 'license()' ou 'licence()' para detalhes de distribuição.\n",
      "\n",
      "R é um projeto colaborativo com muitos contribuidores.\n",
      "Digite 'contributors()' para obter mais informações e\n",
      "'citation()' para saber como citar o R ou pacotes do R em publicações.\n",
      "\n",
      "Digite 'demo()' para demonstrações, 'help()' para o sistema on-line de ajuda,\n",
      "ou 'help.start()' para abrir o sistema de ajuda em HTML no seu navegador.\n",
      "Digite 'q()' para sair do R.\n",
      "\n",
      "> library(mlbench); write.csv(mlbench.shapes(500), 'data/shapes.csv')\n",
      "> \n",
      "> \n"
     ]
    }
   ],
   "source": [
    "# baixando dataset do R\n",
    "!R -e \"library(mlbench); write.csv(mlbench.shapes(500), 'data/shapes.csv')\""
   ]
  },
  {
   "cell_type": "code",
   "execution_count": 224,
   "metadata": {},
   "outputs": [
    {
     "data": {
      "image/png": "[encoded data removed]",
      "text/plain": [
       "<Figure size 432x288 with 1 Axes>"
      ]
     },
     "metadata": {
      "needs_background": "light"
     },
     "output_type": "display_data"
    }
   ],
   "source": [
    "clf = Classificador()\n",
    "clf.carregar('data/shapes.csv', delimiter=',', ignoraColuna1=True)\n",
    "clf.treinar()\n",
    "clf.graficoFronteira()"
   ]
  },
  {
   "cell_type": "markdown",
   "metadata": {},
   "source": [
    "# mlbench.simplex"
   ]
  },
  {
   "cell_type": "code",
   "execution_count": 241,
   "metadata": {},
   "outputs": [
    {
     "name": "stdout",
     "output_type": "stream",
     "text": [
      "\n",
      "R version 3.6.3 (2020-02-29) -- \"Holding the Windsock\"\n",
      "Copyright (C) 2020 The R Foundation for Statistical Computing\n",
      "Platform: x86_64-pc-linux-gnu (64-bit)\n",
      "\n",
      "R é um software livre e vem sem GARANTIA ALGUMA.\n",
      "Você pode redistribuí-lo sob certas circunstâncias.\n",
      "Digite 'license()' ou 'licence()' para detalhes de distribuição.\n",
      "\n",
      "R é um projeto colaborativo com muitos contribuidores.\n",
      "Digite 'contributors()' para obter mais informações e\n",
      "'citation()' para saber como citar o R ou pacotes do R em publicações.\n",
      "\n",
      "Digite 'demo()' para demonstrações, 'help()' para o sistema on-line de ajuda,\n",
      "ou 'help.start()' para abrir o sistema de ajuda em HTML no seu navegador.\n",
      "Digite 'q()' para sair do R.\n",
      "\n",
      "> library(mlbench); write.csv(mlbench.simplex(500, 2), 'data/simplex.csv')\n",
      "> \n",
      "> \n"
     ]
    }
   ],
   "source": [
    "# baixando dataset do R\n",
    "!R -e \"library(mlbench); write.csv(mlbench.simplex(500, 2), 'data/simplex.csv')\""
   ]
  },
  {
   "cell_type": "code",
   "execution_count": 243,
   "metadata": {},
   "outputs": [
    {
     "data": {
      "image/png": "[encoded data removed]",
      "text/plain": [
       "<Figure size 432x288 with 1 Axes>"
      ]
     },
     "metadata": {
      "needs_background": "light"
     },
     "output_type": "display_data"
    }
   ],
   "source": [
    "clf = Classificador()\n",
    "clf.carregar('data/simplex.csv', delimiter=',', ignoraColuna1=True)\n",
    "clf.treinar()\n",
    "clf.graficoFronteira()"
   ]
  },
  {
   "cell_type": "markdown",
   "metadata": {},
   "source": [
    "# mlbench.smiley"
   ]
  },
  {
   "cell_type": "code",
   "execution_count": 140,
   "metadata": {},
   "outputs": [
    {
     "name": "stdout",
     "output_type": "stream",
     "text": [
      "\n",
      "R version 3.6.3 (2020-02-29) -- \"Holding the Windsock\"\n",
      "Copyright (C) 2020 The R Foundation for Statistical Computing\n",
      "Platform: x86_64-pc-linux-gnu (64-bit)\n",
      "\n",
      "R é um software livre e vem sem GARANTIA ALGUMA.\n",
      "Você pode redistribuí-lo sob certas circunstâncias.\n",
      "Digite 'license()' ou 'licence()' para detalhes de distribuição.\n",
      "\n",
      "R é um projeto colaborativo com muitos contribuidores.\n",
      "Digite 'contributors()' para obter mais informações e\n",
      "'citation()' para saber como citar o R ou pacotes do R em publicações.\n",
      "\n",
      "Digite 'demo()' para demonstrações, 'help()' para o sistema on-line de ajuda,\n",
      "ou 'help.start()' para abrir o sistema de ajuda em HTML no seu navegador.\n",
      "Digite 'q()' para sair do R.\n",
      "\n",
      "> library(mlbench); write.csv(mlbench.smiley(500), 'data/smiley.csv')\n",
      "> \n",
      "> \n"
     ]
    }
   ],
   "source": [
    "# baixando dataset do R\n",
    "!R -e \"library(mlbench); write.csv(mlbench.smiley(500), 'data/smiley.csv')\""
   ]
  },
  {
   "cell_type": "code",
   "execution_count": 228,
   "metadata": {},
   "outputs": [
    {
     "data": {
      "image/png": "[encoded data removed]",
      "text/plain": [
       "<Figure size 432x288 with 1 Axes>"
      ]
     },
     "metadata": {
      "needs_background": "light"
     },
     "output_type": "display_data"
    }
   ],
   "source": [
    "clf = Classificador()\n",
    "clf.carregar('data/smiley.csv', delimiter=',', ignoraColuna1=True)\n",
    "clf.treinar()\n",
    "clf.graficoFronteira()"
   ]
  },
  {
   "cell_type": "markdown",
   "metadata": {},
   "source": [
    "# mlbench.spirals"
   ]
  },
  {
   "cell_type": "code",
   "execution_count": 142,
   "metadata": {},
   "outputs": [
    {
     "name": "stdout",
     "output_type": "stream",
     "text": [
      "\n",
      "R version 3.6.3 (2020-02-29) -- \"Holding the Windsock\"\n",
      "Copyright (C) 2020 The R Foundation for Statistical Computing\n",
      "Platform: x86_64-pc-linux-gnu (64-bit)\n",
      "\n",
      "R é um software livre e vem sem GARANTIA ALGUMA.\n",
      "Você pode redistribuí-lo sob certas circunstâncias.\n",
      "Digite 'license()' ou 'licence()' para detalhes de distribuição.\n",
      "\n",
      "R é um projeto colaborativo com muitos contribuidores.\n",
      "Digite 'contributors()' para obter mais informações e\n",
      "'citation()' para saber como citar o R ou pacotes do R em publicações.\n",
      "\n",
      "Digite 'demo()' para demonstrações, 'help()' para o sistema on-line de ajuda,\n",
      "ou 'help.start()' para abrir o sistema de ajuda em HTML no seu navegador.\n",
      "Digite 'q()' para sair do R.\n",
      "\n",
      "> library(mlbench); write.csv(mlbench.spirals(500), 'data/spirals.csv')\n",
      "> \n",
      "> \n"
     ]
    }
   ],
   "source": [
    "# baixando dataset do R\n",
    "!R -e \"library(mlbench); write.csv(mlbench.spirals(500), 'data/spirals.csv')\""
   ]
  },
  {
   "cell_type": "code",
   "execution_count": 229,
   "metadata": {},
   "outputs": [
    {
     "data": {
      "image/png": "[encoded data removed]",
      "text/plain": [
       "<Figure size 432x288 with 1 Axes>"
      ]
     },
     "metadata": {
      "needs_background": "light"
     },
     "output_type": "display_data"
    }
   ],
   "source": [
    "clf = Classificador()\n",
    "clf.carregar('data/spirals.csv', delimiter=',', ignoraColuna1=True)\n",
    "clf.treinar()\n",
    "clf.graficoFronteira()"
   ]
  },
  {
   "cell_type": "markdown",
   "metadata": {},
   "source": [
    "# mlbench.spirals"
   ]
  },
  {
   "cell_type": "code",
   "execution_count": 240,
   "metadata": {},
   "outputs": [
    {
     "name": "stdout",
     "output_type": "stream",
     "text": [
      "\n",
      "R version 3.6.3 (2020-02-29) -- \"Holding the Windsock\"\n",
      "Copyright (C) 2020 The R Foundation for Statistical Computing\n",
      "Platform: x86_64-pc-linux-gnu (64-bit)\n",
      "\n",
      "R é um software livre e vem sem GARANTIA ALGUMA.\n",
      "Você pode redistribuí-lo sob certas circunstâncias.\n",
      "Digite 'license()' ou 'licence()' para detalhes de distribuição.\n",
      "\n",
      "R é um projeto colaborativo com muitos contribuidores.\n",
      "Digite 'contributors()' para obter mais informações e\n",
      "'citation()' para saber como citar o R ou pacotes do R em publicações.\n",
      "\n",
      "Digite 'demo()' para demonstrações, 'help()' para o sistema on-line de ajuda,\n",
      "ou 'help.start()' para abrir o sistema de ajuda em HTML no seu navegador.\n",
      "Digite 'q()' para sair do R.\n",
      "\n",
      "> library(mlbench); write.csv(mlbench.spirals(1000, 4), 'data/spirals2.csv')\n",
      "> \n",
      "> \n"
     ]
    }
   ],
   "source": [
    "#### baixando dataset do R\n",
    "!R -e \"library(mlbench); write.csv(mlbench.spirals(1000, 4), 'data/spirals2.csv')\""
   ]
  },
  {
   "cell_type": "code",
   "execution_count": 239,
   "metadata": {},
   "outputs": [
    {
     "data": {
      "image/png": "[encoded data removed]",
      "text/plain": [
       "<Figure size 432x288 with 1 Axes>"
      ]
     },
     "metadata": {
      "needs_background": "light"
     },
     "output_type": "display_data"
    }
   ],
   "source": [
    "clf = Classificador()\n",
    "clf.carregar('data/spirals2.csv', delimiter=',', ignoraColuna1=True)\n",
    "clf.treinar()\n",
    "clf.graficoFronteira()"
   ]
  },
  {
   "cell_type": "markdown",
   "metadata": {},
   "source": [
    "# mlbench.threenorm"
   ]
  },
  {
   "cell_type": "code",
   "execution_count": 232,
   "metadata": {},
   "outputs": [
    {
     "name": "stdout",
     "output_type": "stream",
     "text": [
      "\n",
      "R version 3.6.3 (2020-02-29) -- \"Holding the Windsock\"\n",
      "Copyright (C) 2020 The R Foundation for Statistical Computing\n",
      "Platform: x86_64-pc-linux-gnu (64-bit)\n",
      "\n",
      "R é um software livre e vem sem GARANTIA ALGUMA.\n",
      "Você pode redistribuí-lo sob certas circunstâncias.\n",
      "Digite 'license()' ou 'licence()' para detalhes de distribuição.\n",
      "\n",
      "R é um projeto colaborativo com muitos contribuidores.\n",
      "Digite 'contributors()' para obter mais informações e\n",
      "'citation()' para saber como citar o R ou pacotes do R em publicações.\n",
      "\n",
      "Digite 'demo()' para demonstrações, 'help()' para o sistema on-line de ajuda,\n",
      "ou 'help.start()' para abrir o sistema de ajuda em HTML no seu navegador.\n",
      "Digite 'q()' para sair do R.\n",
      "\n",
      "> library(mlbench); write.csv(mlbench.threenorm(500, 2), 'data/threenorm.csv')\n",
      "> \n",
      "> \n"
     ]
    }
   ],
   "source": [
    "# baixando dataset do R\n",
    "!R -e \"library(mlbench); write.csv(mlbench.threenorm(500, 2), 'data/threenorm.csv')\""
   ]
  },
  {
   "cell_type": "code",
   "execution_count": 234,
   "metadata": {},
   "outputs": [
    {
     "data": {
      "image/png": "[encoded data removed]",
      "text/plain": [
       "<Figure size 432x288 with 1 Axes>"
      ]
     },
     "metadata": {
      "needs_background": "light"
     },
     "output_type": "display_data"
    }
   ],
   "source": [
    "clf = Classificador()\n",
    "clf.carregar('data/threenorm.csv', delimiter=',', ignoraColuna1=True)\n",
    "clf.treinar()\n",
    "clf.graficoFronteira()"
   ]
  },
  {
   "cell_type": "markdown",
   "metadata": {},
   "source": [
    "# mlbench.twonorm"
   ]
  },
  {
   "cell_type": "code",
   "execution_count": 261,
   "metadata": {},
   "outputs": [
    {
     "name": "stdout",
     "output_type": "stream",
     "text": [
      "\n",
      "R version 3.6.3 (2020-02-29) -- \"Holding the Windsock\"\n",
      "Copyright (C) 2020 The R Foundation for Statistical Computing\n",
      "Platform: x86_64-pc-linux-gnu (64-bit)\n",
      "\n",
      "R é um software livre e vem sem GARANTIA ALGUMA.\n",
      "Você pode redistribuí-lo sob certas circunstâncias.\n",
      "Digite 'license()' ou 'licence()' para detalhes de distribuição.\n",
      "\n",
      "R é um projeto colaborativo com muitos contribuidores.\n",
      "Digite 'contributors()' para obter mais informações e\n",
      "'citation()' para saber como citar o R ou pacotes do R em publicações.\n",
      "\n",
      "Digite 'demo()' para demonstrações, 'help()' para o sistema on-line de ajuda,\n",
      "ou 'help.start()' para abrir o sistema de ajuda em HTML no seu navegador.\n",
      "Digite 'q()' para sair do R.\n",
      "\n",
      "> library(mlbench); write.csv(mlbench.twonorm(500, 2), 'data/twonorm.csv')\n",
      "> \n",
      "> \n"
     ]
    }
   ],
   "source": [
    "# baixando dataset do R\n",
    "!R -e \"library(mlbench); write.csv(mlbench.twonorm(500, 2), 'data/twonorm.csv')\""
   ]
  },
  {
   "cell_type": "code",
   "execution_count": 262,
   "metadata": {},
   "outputs": [
    {
     "data": {
      "image/png": "[encoded data removed]",
      "text/plain": [
       "<Figure size 432x288 with 1 Axes>"
      ]
     },
     "metadata": {
      "needs_background": "light"
     },
     "output_type": "display_data"
    }
   ],
   "source": [
    "clf = Classificador()\n",
    "clf.carregar('data/twonorm.csv', delimiter=',', ignoraColuna1=True)\n",
    "clf.treinar()\n",
    "clf.graficoFronteira()"
   ]
  },
  {
   "cell_type": "markdown",
   "metadata": {},
   "source": [
    "# mlbench.xor"
   ]
  },
  {
   "cell_type": "code",
   "execution_count": 268,
   "metadata": {},
   "outputs": [
    {
     "name": "stdout",
     "output_type": "stream",
     "text": [
      "\n",
      "R version 3.6.3 (2020-02-29) -- \"Holding the Windsock\"\n",
      "Copyright (C) 2020 The R Foundation for Statistical Computing\n",
      "Platform: x86_64-pc-linux-gnu (64-bit)\n",
      "\n",
      "R é um software livre e vem sem GARANTIA ALGUMA.\n",
      "Você pode redistribuí-lo sob certas circunstâncias.\n",
      "Digite 'license()' ou 'licence()' para detalhes de distribuição.\n",
      "\n",
      "R é um projeto colaborativo com muitos contribuidores.\n",
      "Digite 'contributors()' para obter mais informações e\n",
      "'citation()' para saber como citar o R ou pacotes do R em publicações.\n",
      "\n",
      "Digite 'demo()' para demonstrações, 'help()' para o sistema on-line de ajuda,\n",
      "ou 'help.start()' para abrir o sistema de ajuda em HTML no seu navegador.\n",
      "Digite 'q()' para sair do R.\n",
      "\n",
      "> library(mlbench); write.csv(mlbench.xor(500, d=2), 'data/xor2d.csv')\n",
      "> \n",
      "> \n"
     ]
    }
   ],
   "source": [
    "# baixando dataset do R\n",
    "!R -e \"library(mlbench); write.csv(mlbench.xor(500, d=2), 'data/xor2d.csv')\""
   ]
  },
  {
   "cell_type": "code",
   "execution_count": 276,
   "metadata": {},
   "outputs": [
    {
     "data": {
      "image/png": "[encoded data removed]",
      "text/plain": [
       "<Figure size 432x288 with 1 Axes>"
      ]
     },
     "metadata": {
      "needs_background": "light"
     },
     "output_type": "display_data"
    }
   ],
   "source": [
    "clf = Classificador()\n",
    "clf.carregar('data/xor2d.csv', delimiter=',', ignoraColuna1=True)\n",
    "clf.treinar()\n",
    "clf.graficoFronteira()"
   ]
  }
 ],
 "metadata": {
  "kernelspec": {
   "display_name": "Python 3",
   "language": "python",
   "name": "python3"
  },
  "language_info": {
   "codemirror_mode": {
    "name": "ipython",
    "version": 3
   },
   "file_extension": ".py",
   "mimetype": "text/x-python",
   "name": "python",
   "nbconvert_exporter": "python",
   "pygments_lexer": "ipython3",
   "version": "3.7.3"
  }
 },
 "nbformat": 4,
 "nbformat_minor": 4
}
