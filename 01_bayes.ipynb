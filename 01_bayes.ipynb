{
 "cells": [
  {
   "cell_type": "markdown",
   "metadata": {},
   "source": [
    "# Naive Bayes"
   ]
  },
  {
   "cell_type": "code",
   "execution_count": 1,
   "metadata": {},
   "outputs": [],
   "source": [
    "import csv\n",
    "import random\n",
    "import warnings\n",
    "warnings.filterwarnings('ignore')"
   ]
  },
  {
   "cell_type": "code",
   "execution_count": 2,
   "metadata": {},
   "outputs": [],
   "source": [
    "def carregar(arquivo, delimiter=';', quoteChar='\"', ignoraLinha1=True, ignoraColuna1=False):\n",
    "    data = []\n",
    "    with open(arquivo) as csv_file:\n",
    "        #reader = csv.reader(file, quoting=csv.QUOTE_NONNUMERIC)\n",
    "        csv_reader = csv.reader(csv_file, delimiter=delimiter, quoting=csv.QUOTE_NONNUMERIC)\n",
    "        if ignoraLinha1:\n",
    "            count = 0\n",
    "        else:\n",
    "            count = 1\n",
    "        for row in csv_reader:\n",
    "            if count != 0 :\n",
    "                if row:\n",
    "                    if ignoraColuna1:\n",
    "                        data.append(tuple(row[1:]))\n",
    "                    else:\n",
    "                        data.append(tuple(row))\n",
    "            count += 1\n",
    "    return(data)"
   ]
  },
  {
   "cell_type": "code",
   "execution_count": 3,
   "metadata": {},
   "outputs": [],
   "source": [
    "def treinamento(data):\n",
    "    total = len(data)\n",
    "    classes = list(set([x[-1] for x in data]))\n",
    "    combdata = {}\n",
    "    pdata = {}\n",
    "    for row in data:\n",
    "        classe = (row[-1])\n",
    "        if classe in combdata:\n",
    "            combdata[classe] += 1\n",
    "        else:\n",
    "            combdata[classe] = 1    \n",
    "        for i, d in enumerate(row[:-1]):\n",
    "            # variavel continua\n",
    "            if (str(d).replace('.','',1).isdigit() or type(d) == float or type(d) == int):\n",
    "                ind = 'i'+str(i)\n",
    "                if ind in combdata:\n",
    "                    combdata[ind].append(float(d))\n",
    "                else:\n",
    "                    combdata[ind] = [ float(d) ]\n",
    "                key = (ind,classe)    \n",
    "                if key in combdata:\n",
    "                    combdata[key].append(float(d))\n",
    "                else:\n",
    "                    combdata[key] = [float(d)]\n",
    "            # variavel nominal\n",
    "            else:\n",
    "                if d in combdata:\n",
    "                    combdata[d] += 1\n",
    "                else:\n",
    "                    combdata[d] = 1\n",
    "                key = (d,classe)\n",
    "                if key in combdata:\n",
    "                    combdata[key] += 1\n",
    "                else:\n",
    "                    combdata[key] = 1\n",
    "    # calculando probabilidades\n",
    "    probdata = {}\n",
    "    for c in combdata:\n",
    "        if type(c) == tuple:\n",
    "            if type(combdata[c]) != list:\n",
    "                probdata[c] = combdata[c] / combdata[c[1]]\n",
    "            else:\n",
    "                media =  sum(combdata[c])/len(combdata[c])\n",
    "                desvio = (sum([(x-media)**2 for x in combdata[c]])/(len(combdata[c])-1))**0.5\n",
    "                probdata[c] = {\n",
    "                    'media' : media,\n",
    "                    'desvio' : desvio\n",
    "                }\n",
    "        else:\n",
    "            if type(combdata[c]) != list:\n",
    "                probdata[c] = combdata[c] / total\n",
    "            else:\n",
    "                media =  sum(combdata[c])/len(combdata[c])\n",
    "                desvio = (sum([(x-media)**2 for x in combdata[c]])/(len(combdata[c])-1))**0.5\n",
    "                probdata[c] = {\n",
    "                    'media' : media,\n",
    "                    'desvio' : desvio\n",
    "                }\n",
    "    probdata['classes'] = classes\n",
    "    return(probdata)"
   ]
  },
  {
   "cell_type": "code",
   "execution_count": 4,
   "metadata": {},
   "outputs": [
    {
     "name": "stdout",
     "output_type": "stream",
     "text": [
      "0.017340835222313836\n",
      "0.028688396603888434\n",
      "0.021676800985283348\n"
     ]
    }
   ],
   "source": [
    "def g(x, media, desvio):\n",
    "    p1 = 1 / ( (2*3.141592653589793)**0.5 * desvio  )\n",
    "    p2 = 2.718281828459045 ** (-((x - media) ** 2) / (2 * desvio ** 2))\n",
    "    return p1 * p2\n",
    "\n",
    "# testando função g\n",
    "print(g(83, 73.00, 6.16)) # 0.017\n",
    "print(g(83, 74.60, 7.89)) # 0.029\n",
    "print(g(83, 73.57, 6.57)) # 0.022"
   ]
  },
  {
   "cell_type": "code",
   "execution_count": 5,
   "metadata": {},
   "outputs": [],
   "source": [
    "def verificar(probdata, tupla, debug=False):\n",
    "    probClasse = {}\n",
    "    valClasse = 0\n",
    "    maxClasse = ''\n",
    "    for classe in probdata['classes']:\n",
    "        numerador = 1\n",
    "        denominador = 1\n",
    "        #i=0\n",
    "        for i, v in enumerate(tupla):\n",
    "        #for v in tupla:\n",
    "            #if type(v) == str:\n",
    "            #if not str(v).replace('.','',1).isdigit():\n",
    "            # atributo nominal\n",
    "            if (not (str(v).replace('.','',1).isdigit() or type(v) == float or type(v) == int)):\n",
    "                key = (v, classe)\n",
    "                if key in probdata:\n",
    "                    numerador = numerador * probdata[key]\n",
    "                else:\n",
    "                    numerador = numerador * 0.001\n",
    "                #if v in probdata:\n",
    "                denominador = denominador * probdata[v]\n",
    "                #else:\n",
    "                #denominador = denominador * 0.001\n",
    "            # atributo continuo\n",
    "            else:\n",
    "                v = float(v)\n",
    "                key1 = ('i'+str(i),classe)\n",
    "                key2 = 'i'+str(i)\n",
    "                #i += 1\n",
    "                if key1 in probdata:\n",
    "                    numerador = numerador * g(v,probdata[key1]['media'],probdata[key1]['desvio'])\n",
    "                #else:\n",
    "                #    numerador = numerador * 0.001\n",
    "                denominador = denominador * g(v,probdata[key2]['media'],probdata[key2]['desvio'])\n",
    "        numerador = numerador * probdata[classe]\n",
    "        probClasse[classe] = numerador / denominador\n",
    "        if debug:\n",
    "            print(classe,probClasse[classe])\n",
    "        if probClasse[classe] > valClasse:\n",
    "            valClasse = probClasse[classe]\n",
    "            maxClasse = classe\n",
    "    return(maxClasse)"
   ]
  },
  {
   "cell_type": "code",
   "execution_count": 117,
   "metadata": {},
   "outputs": [],
   "source": [
    "class Classificador:\n",
    "    dados = []\n",
    "    modelo = {}\n",
    "    \n",
    "    def carregar(self, arquivo, delimiter=';', quoteChar='\"', ignoraLinha1=True, ignoraColuna1=False):\n",
    "        self.dados = []\n",
    "        with open(arquivo) as csv_file:\n",
    "            csv_reader = csv.reader(csv_file, delimiter=delimiter, quoting=csv.QUOTE_NONNUMERIC)\n",
    "            if ignoraLinha1:\n",
    "                next(csv_reader)                  \n",
    "            for row in csv_reader:\n",
    "                if ignoraColuna1:\n",
    "                    self.dados.append(tuple(row[1:]))\n",
    "                else:\n",
    "                    self.dados.append(tuple(row))\n",
    "    \n",
    "    def treinar(self):\n",
    "        total = len(self.dados)\n",
    "        classes = list(set([x[-1] for x in self.dados]))\n",
    "        combdata = {}\n",
    "        pdata = {}\n",
    "        for row in self.dados:\n",
    "            classe = (row[-1])\n",
    "            if classe in combdata:\n",
    "                combdata[classe] += 1\n",
    "            else:\n",
    "                combdata[classe] = 1    \n",
    "            for i, d in enumerate(row[:-1]):\n",
    "                # variavel continua\n",
    "                if (str(d).replace('.','',1).isdigit() or type(d) == float or type(d) == int):\n",
    "                    ind = 'i'+str(i)\n",
    "                    if ind in combdata:\n",
    "                        combdata[ind].append(float(d))\n",
    "                    else:\n",
    "                        combdata[ind] = [ float(d) ]\n",
    "                    key = (ind,classe)    \n",
    "                    if key in combdata:\n",
    "                        combdata[key].append(float(d))\n",
    "                    else:\n",
    "                        combdata[key] = [float(d)]\n",
    "                # variavel nominal\n",
    "                else:\n",
    "                    if d in combdata:\n",
    "                        combdata[d] += 1\n",
    "                    else:\n",
    "                        combdata[d] = 1\n",
    "                    key = (d,classe)\n",
    "                    if key in combdata:\n",
    "                        combdata[key] += 1\n",
    "                    else:\n",
    "                        combdata[key] = 1\n",
    "        # calculando probabilidades\n",
    "        self.modelo = {}\n",
    "        for c in combdata:\n",
    "            if type(c) == tuple:\n",
    "                if type(combdata[c]) != list:\n",
    "                    self.modelo[c] = combdata[c] / combdata[c[1]]\n",
    "                else:\n",
    "                    media =  sum(combdata[c])/len(combdata[c])\n",
    "                    desvio = (sum([(x-media)**2 for x in combdata[c]])/(len(combdata[c])-1))**0.5\n",
    "                    self.modelo[c] = {\n",
    "                        'media' : media,\n",
    "                        'desvio' : desvio\n",
    "                    }\n",
    "            else:\n",
    "                if type(combdata[c]) != list:\n",
    "                    self.modelo[c] = combdata[c] / total\n",
    "                else:\n",
    "                    media =  sum(combdata[c])/len(combdata[c])\n",
    "                    desvio = (sum([(x-media)**2 for x in combdata[c]])/(len(combdata[c])-1))**0.5\n",
    "                    self.modelo[c] = {\n",
    "                        'media' : media,\n",
    "                        'desvio' : desvio\n",
    "                    }\n",
    "        self.modelo['classes'] = classes\n",
    "    \n",
    "    def g(self, qx, media, desvio):\n",
    "        p1 = 1 / ( (2*3.141592653589793)**0.5 * desvio  )\n",
    "        p2 = 2.718281828459045 ** (-((x - media) ** 2) / (2 * desvio ** 2))\n",
    "        return p1 * p2\n",
    "    \n",
    "    \n",
    "    def predizer(self, tupla, debug=False):\n",
    "        probClasse = {}\n",
    "        valClasse = 0\n",
    "        maxClasse = ''\n",
    "        for classe in self.modelo['classes']:\n",
    "            numerador = 1\n",
    "            denominador = 1\n",
    "            #i=0\n",
    "            for i, v in enumerate(tupla):\n",
    "            #for v in tupla:\n",
    "                #if type(v) == str:\n",
    "                #if not str(v).replace('.','',1).isdigit():\n",
    "                # atributo nominal\n",
    "                if (not (str(v).replace('.','',1).isdigit() or type(v) in [float, np.float64, int])):\n",
    "                    key = (v, classe)\n",
    "                    if key in self.modelo:\n",
    "                        numerador = numerador * self.modelo[key]\n",
    "                    else:\n",
    "                        numerador = numerador * 0.001\n",
    "                    #if v in self.modelo:\n",
    "                    denominador = denominador * self.modelo[v]\n",
    "                    #else:\n",
    "                    #denominador = denominador * 0.001\n",
    "                # atributo continuo\n",
    "                else:\n",
    "                    v = float(v)\n",
    "                    key1 = ('i'+str(i),classe)\n",
    "                    key2 = 'i'+str(i)\n",
    "                    #i += 1\n",
    "                    if key1 in self.modelo:\n",
    "                        numerador = numerador * g(v,self.modelo[key1]['media'],self.modelo[key1]['desvio'])\n",
    "                    #else:\n",
    "                    #    numerador = numerador * 0.001\n",
    "                    denominador = denominador * g(v,self.modelo[key2]['media'],self.modelo[key2]['desvio'])\n",
    "            numerador = numerador * self.modelo[classe]\n",
    "            probClasse[classe] = numerador / denominador\n",
    "            if debug:\n",
    "                print(classe,probClasse[classe])\n",
    "            if probClasse[classe] > valClasse:\n",
    "                valClasse = probClasse[classe]\n",
    "                maxClasse = classe\n",
    "        return(maxClasse)    \n",
    "    \n",
    "    \n",
    "    # método necessário para gerar gráfico\n",
    "    def predict(self, tuplas):\n",
    "        res = []\n",
    "        for t in tuplas:\n",
    "            res.append(int(self.predizer(t)))\n",
    "        return(np.array(res))\n",
    "\n",
    "    def graficoFronteira(self):\n",
    "        X = np.array([ [float(x[0]),float(x[1])] for x in self.dados ])\n",
    "        y = np.array([ int(x[2]) for x in self.dados ])\n",
    "        plot_decision_regions(X, y, clf=self, legend=2)\n",
    "\n"
   ]
  },
  {
   "cell_type": "code",
   "execution_count": 118,
   "metadata": {},
   "outputs": [
    {
     "data": {
      "image/png": "[encoded data removed]",
      "text/plain": [
       "<Figure size 432x288 with 1 Axes>"
      ]
     },
     "metadata": {
      "needs_background": "light"
     },
     "output_type": "display_data"
    }
   ],
   "source": [
    "cassini = Classificador()\n",
    "cassini.carregar('data/cassini500.csv', delimiter=',', ignoraColuna1=True)\n",
    "cassini.dados\n",
    "cassini.treinar()\n",
    "cassini.graficoFronteira()"
   ]
  },
  {
   "cell_type": "code",
   "execution_count": 6,
   "metadata": {},
   "outputs": [],
   "source": [
    "def validacaoCruzada(dados, porcentagem=0.7):\n",
    "    random.shuffle(dados)\n",
    "    dadosTreinamento = dados[:int(len(dados)*porcentagem)]\n",
    "    dadosTestes = dados[int(len(dados)*porcentagem):]\n",
    "    modelo = treinamento(dadosTreinamento)\n",
    "    ok = 0\n",
    "    for tupla in dadosTestes:\n",
    "        #print(tupla[-1])\n",
    "        tupl = [ float(x) for x in tupla[:-1]]\n",
    "        tupl = tupla[:-1]\n",
    "        #print(tupl)\n",
    "        pred = verificar(modelo, tupl, debug=False) \n",
    "        #print('pred:',pred,'real:',tupla[-1])\n",
    "        if pred == tupla[-1]:\n",
    "            ok += 1\n",
    "        #print()\n",
    "    print('Conj Teste:',len(dadosTestes))\n",
    "    print('Acertos   :',ok)\n",
    "    print('Acurácia  : ',ok/len(dadosTestes)*100)\n"
   ]
  },
  {
   "cell_type": "markdown",
   "metadata": {},
   "source": [
    "# dataset tempo"
   ]
  },
  {
   "cell_type": "code",
   "execution_count": 7,
   "metadata": {},
   "outputs": [
    {
     "name": "stdout",
     "output_type": "stream",
     "text": [
      "14 data/tempo.csv\r\n"
     ]
    }
   ],
   "source": [
    "!wc -l data/tempo.csv"
   ]
  },
  {
   "cell_type": "code",
   "execution_count": 8,
   "metadata": {},
   "outputs": [
    {
     "data": {
      "text/plain": [
       "14"
      ]
     },
     "execution_count": 8,
     "metadata": {},
     "output_type": "execute_result"
    }
   ],
   "source": [
    "tempo = carregar('data/tempo.csv')\n",
    "len(tempo)"
   ]
  },
  {
   "cell_type": "code",
   "execution_count": 79,
   "metadata": {},
   "outputs": [],
   "source": [
    "tempo = Classificador()\n",
    "tempo.carregar('data/tempo.csv')\n",
    "tempo.dados\n",
    "tempo.treinar()"
   ]
  },
  {
   "cell_type": "code",
   "execution_count": 80,
   "metadata": {},
   "outputs": [
    {
     "data": {
      "text/plain": [
       "{'no': 0.35714285714285715,\n",
       " 'sunny': 0.35714285714285715,\n",
       " ('sunny', 'no'): 0.4,\n",
       " 'yes': 0.6428571428571429,\n",
       " 'overcast': 0.2857142857142857,\n",
       " ('overcast', 'yes'): 0.4444444444444444,\n",
       " 'rainny': 0.35714285714285715,\n",
       " ('rainny', 'yes'): 0.2222222222222222,\n",
       " ('sunny', 'yes'): 0.3333333333333333,\n",
       " ('rainny', 'no'): 0.6,\n",
       " 'classes': ['yes', 'no']}"
      ]
     },
     "execution_count": 80,
     "metadata": {},
     "output_type": "execute_result"
    }
   ],
   "source": [
    "tempo.modelo"
   ]
  },
  {
   "cell_type": "code",
   "execution_count": 81,
   "metadata": {},
   "outputs": [
    {
     "name": "stdout",
     "output_type": "stream",
     "text": [
      "yes 0.6\n",
      "no 0.4\n"
     ]
    },
    {
     "data": {
      "text/plain": [
       "'yes'"
      ]
     },
     "execution_count": 81,
     "metadata": {},
     "output_type": "execute_result"
    }
   ],
   "source": [
    "tempo.predizer(['sunny'], debug=True)"
   ]
  },
  {
   "cell_type": "code",
   "execution_count": 82,
   "metadata": {},
   "outputs": [
    {
     "name": "stdout",
     "output_type": "stream",
     "text": [
      "yes 1.0\n",
      "no 0.00125\n"
     ]
    },
    {
     "data": {
      "text/plain": [
       "'yes'"
      ]
     },
     "execution_count": 82,
     "metadata": {},
     "output_type": "execute_result"
    }
   ],
   "source": [
    "tempo.predizer(['overcast'], debug=True)"
   ]
  },
  {
   "cell_type": "code",
   "execution_count": 83,
   "metadata": {},
   "outputs": [
    {
     "name": "stdout",
     "output_type": "stream",
     "text": [
      "yes 0.39999999999999997\n",
      "no 0.6\n"
     ]
    },
    {
     "data": {
      "text/plain": [
       "'no'"
      ]
     },
     "execution_count": 83,
     "metadata": {},
     "output_type": "execute_result"
    }
   ],
   "source": [
    "tempo.predizer(['rainny'], debug=True)"
   ]
  },
  {
   "cell_type": "code",
   "execution_count": 9,
   "metadata": {},
   "outputs": [],
   "source": [
    "modeloTempo = treinamento(tempo)"
   ]
  },
  {
   "cell_type": "code",
   "execution_count": 10,
   "metadata": {},
   "outputs": [
    {
     "data": {
      "text/plain": [
       "{'no': 0.35714285714285715,\n",
       " 'sunny': 0.35714285714285715,\n",
       " ('sunny', 'no'): 0.4,\n",
       " 'yes': 0.6428571428571429,\n",
       " 'overcast': 0.2857142857142857,\n",
       " ('overcast', 'yes'): 0.4444444444444444,\n",
       " 'rainny': 0.35714285714285715,\n",
       " ('rainny', 'yes'): 0.2222222222222222,\n",
       " ('sunny', 'yes'): 0.3333333333333333,\n",
       " ('rainny', 'no'): 0.6,\n",
       " 'classes': ['yes', 'no']}"
      ]
     },
     "execution_count": 10,
     "metadata": {},
     "output_type": "execute_result"
    }
   ],
   "source": [
    "modeloTempo"
   ]
  },
  {
   "cell_type": "code",
   "execution_count": 11,
   "metadata": {},
   "outputs": [
    {
     "name": "stdout",
     "output_type": "stream",
     "text": [
      "yes 0.6\n",
      "no 0.4\n"
     ]
    },
    {
     "data": {
      "text/plain": [
       "'yes'"
      ]
     },
     "execution_count": 11,
     "metadata": {},
     "output_type": "execute_result"
    }
   ],
   "source": [
    "verificar(modeloTempo, ['sunny'], debug=True)"
   ]
  },
  {
   "cell_type": "code",
   "execution_count": 12,
   "metadata": {},
   "outputs": [
    {
     "name": "stdout",
     "output_type": "stream",
     "text": [
      "yes 1.0\n",
      "no 0.00125\n"
     ]
    },
    {
     "data": {
      "text/plain": [
       "'yes'"
      ]
     },
     "execution_count": 12,
     "metadata": {},
     "output_type": "execute_result"
    }
   ],
   "source": [
    "verificar(modeloTempo, ['overcast'], debug=True)"
   ]
  },
  {
   "cell_type": "code",
   "execution_count": 13,
   "metadata": {},
   "outputs": [
    {
     "name": "stdout",
     "output_type": "stream",
     "text": [
      "yes 0.39999999999999997\n",
      "no 0.6\n"
     ]
    },
    {
     "data": {
      "text/plain": [
       "'no'"
      ]
     },
     "execution_count": 13,
     "metadata": {},
     "output_type": "execute_result"
    }
   ],
   "source": [
    "verificar(modeloTempo, ['rainny'], debug=True)"
   ]
  },
  {
   "cell_type": "markdown",
   "metadata": {},
   "source": [
    "# dataset tenis"
   ]
  },
  {
   "cell_type": "code",
   "execution_count": 14,
   "metadata": {},
   "outputs": [
    {
     "name": "stdout",
     "output_type": "stream",
     "text": [
      "14 data/tenis.csv\r\n"
     ]
    }
   ],
   "source": [
    "!wc -l data/tenis.csv"
   ]
  },
  {
   "cell_type": "code",
   "execution_count": 15,
   "metadata": {},
   "outputs": [
    {
     "data": {
      "text/plain": [
       "[('sol', 'quente', 'alta', 'falso', 'não'),\n",
       " ('sol', 'quente', 'alta', 'verdadeiro', 'não'),\n",
       " ('nublado', 'quente', 'alta', 'falso', 'sim'),\n",
       " ('chuva', 'agradável', 'alta', 'falso', 'sim'),\n",
       " ('chuva', 'fria', 'normal', 'falso', 'sim'),\n",
       " ('chuva', 'fria', 'normal', 'verdadeiro', 'não'),\n",
       " ('nublado', 'fria', 'normal', 'verdadeiro', 'sim'),\n",
       " ('sol', 'agradável', 'alta', 'falso', 'não'),\n",
       " ('sol', 'fria', 'normal', 'falso', 'sim'),\n",
       " ('chuva', 'agradável', 'normal', 'falso', 'sim'),\n",
       " ('sol', 'agradável', 'normal', 'verdadeiro', 'sim'),\n",
       " ('nublado', 'agradável', 'alta', 'verdadeiro', 'sim'),\n",
       " ('nublado', 'quente', 'normal', 'falso', 'sim'),\n",
       " ('chuva', 'agradável', 'alta', 'verdadeiro', 'não')]"
      ]
     },
     "execution_count": 15,
     "metadata": {},
     "output_type": "execute_result"
    }
   ],
   "source": [
    "tenis = carregar('data/tenis.csv')\n",
    "tenis"
   ]
  },
  {
   "cell_type": "code",
   "execution_count": 16,
   "metadata": {},
   "outputs": [
    {
     "data": {
      "text/plain": [
       "14"
      ]
     },
     "execution_count": 16,
     "metadata": {},
     "output_type": "execute_result"
    }
   ],
   "source": [
    "len(tenis)"
   ]
  },
  {
   "cell_type": "code",
   "execution_count": 17,
   "metadata": {},
   "outputs": [],
   "source": [
    "modeloTenis = treinamento(tenis)"
   ]
  },
  {
   "cell_type": "code",
   "execution_count": 18,
   "metadata": {},
   "outputs": [
    {
     "data": {
      "text/plain": [
       "{'não': 0.35714285714285715,\n",
       " 'sol': 0.35714285714285715,\n",
       " ('sol', 'não'): 0.6,\n",
       " 'quente': 0.2857142857142857,\n",
       " ('quente', 'não'): 0.4,\n",
       " 'alta': 0.5,\n",
       " ('alta', 'não'): 0.8,\n",
       " 'falso': 0.5714285714285714,\n",
       " ('falso', 'não'): 0.4,\n",
       " 'verdadeiro': 0.42857142857142855,\n",
       " ('verdadeiro', 'não'): 0.6,\n",
       " 'sim': 0.6428571428571429,\n",
       " 'nublado': 0.2857142857142857,\n",
       " ('nublado', 'sim'): 0.4444444444444444,\n",
       " ('quente', 'sim'): 0.2222222222222222,\n",
       " ('alta', 'sim'): 0.3333333333333333,\n",
       " ('falso', 'sim'): 0.6666666666666666,\n",
       " 'chuva': 0.35714285714285715,\n",
       " ('chuva', 'sim'): 0.3333333333333333,\n",
       " 'agradável': 0.42857142857142855,\n",
       " ('agradável', 'sim'): 0.4444444444444444,\n",
       " 'fria': 0.2857142857142857,\n",
       " ('fria', 'sim'): 0.3333333333333333,\n",
       " 'normal': 0.5,\n",
       " ('normal', 'sim'): 0.6666666666666666,\n",
       " ('chuva', 'não'): 0.4,\n",
       " ('fria', 'não'): 0.2,\n",
       " ('normal', 'não'): 0.2,\n",
       " ('verdadeiro', 'sim'): 0.3333333333333333,\n",
       " ('agradável', 'não'): 0.4,\n",
       " ('sol', 'sim'): 0.2222222222222222,\n",
       " 'classes': ['não', 'sim']}"
      ]
     },
     "execution_count": 18,
     "metadata": {},
     "output_type": "execute_result"
    }
   ],
   "source": [
    "modeloTenis"
   ]
  },
  {
   "cell_type": "code",
   "execution_count": 19,
   "metadata": {},
   "outputs": [
    {
     "name": "stdout",
     "output_type": "stream",
     "text": [
      "não 0.9408\n",
      "sim 0.2419753086419753\n",
      "não\n"
     ]
    }
   ],
   "source": [
    "tupla = ('sol', 'fria', 'alta', 'verdadeiro')\n",
    "print(verificar(modeloTenis, tupla, debug=True))"
   ]
  },
  {
   "cell_type": "code",
   "execution_count": 20,
   "metadata": {},
   "outputs": [
    {
     "name": "stdout",
     "output_type": "stream",
     "text": [
      "não 0.15680000000000005\n",
      "sim 0.7259259259259259\n",
      "sim\n"
     ]
    }
   ],
   "source": [
    "tupla = ('chuva', 'fria', 'normal', 'verdadeiro')\n",
    "print(verificar(modeloTenis, tupla, debug=True))"
   ]
  },
  {
   "cell_type": "markdown",
   "metadata": {},
   "source": [
    "# tenis2 dataset: atributos continuos"
   ]
  },
  {
   "cell_type": "code",
   "execution_count": 21,
   "metadata": {},
   "outputs": [
    {
     "name": "stdout",
     "output_type": "stream",
     "text": [
      "14 data/tenis2.csv\r\n"
     ]
    }
   ],
   "source": [
    "!wc -l data/tenis2.csv"
   ]
  },
  {
   "cell_type": "code",
   "execution_count": 22,
   "metadata": {},
   "outputs": [
    {
     "data": {
      "text/plain": [
       "[('sol', 85.0, 85.0, 'falso', 'não'),\n",
       " ('sol', 80.0, 90.0, 'verdadeiro', 'não'),\n",
       " ('nublado', 83.0, 86.0, 'falso', 'sim'),\n",
       " ('chuva', 70.0, 96.0, 'falso', 'sim'),\n",
       " ('chuva', 68.0, 80.0, 'falso', 'sim'),\n",
       " ('chuva', 65.0, 70.0, 'verdadeiro', 'não'),\n",
       " ('nublado', 64.0, 65.0, 'verdadeiro', 'sim'),\n",
       " ('sol', 72.0, 95.0, 'falso', 'não'),\n",
       " ('sol', 69.0, 70.0, 'falso', 'sim'),\n",
       " ('chuva', 75.0, 80.0, 'falso', 'sim'),\n",
       " ('sol', 75.0, 70.0, 'verdadeiro', 'sim'),\n",
       " ('nublado', 72.0, 90.0, 'verdadeiro', 'sim'),\n",
       " ('nublado', 81.0, 75.0, 'falso', 'sim'),\n",
       " ('chuva', 71.0, 91.0, 'verdadeiro', 'não')]"
      ]
     },
     "execution_count": 22,
     "metadata": {},
     "output_type": "execute_result"
    }
   ],
   "source": [
    "tenis2 = carregar('data/tenis2.csv')\n",
    "tenis2"
   ]
  },
  {
   "cell_type": "code",
   "execution_count": 23,
   "metadata": {},
   "outputs": [
    {
     "data": {
      "text/plain": [
       "14"
      ]
     },
     "execution_count": 23,
     "metadata": {},
     "output_type": "execute_result"
    }
   ],
   "source": [
    "len(tenis2)"
   ]
  },
  {
   "cell_type": "code",
   "execution_count": 24,
   "metadata": {},
   "outputs": [],
   "source": [
    "modeloTenis2 = treinamento(tenis2)"
   ]
  },
  {
   "cell_type": "code",
   "execution_count": 25,
   "metadata": {},
   "outputs": [
    {
     "data": {
      "text/plain": [
       "{'não': 0.35714285714285715,\n",
       " 'sol': 0.35714285714285715,\n",
       " ('sol', 'não'): 0.6,\n",
       " 'i1': {'media': 73.57142857142857, 'desvio': 6.57166745862975},\n",
       " ('i1', 'não'): {'media': 74.6, 'desvio': 7.893034904268446},\n",
       " 'i2': {'media': 81.64285714285714, 'desvio': 10.285218242007035},\n",
       " ('i2', 'não'): {'media': 86.2, 'desvio': 9.731392500562292},\n",
       " 'falso': 0.5714285714285714,\n",
       " ('falso', 'não'): 0.4,\n",
       " 'verdadeiro': 0.42857142857142855,\n",
       " ('verdadeiro', 'não'): 0.6,\n",
       " 'sim': 0.6428571428571429,\n",
       " 'nublado': 0.2857142857142857,\n",
       " ('nublado', 'sim'): 0.4444444444444444,\n",
       " ('i1', 'sim'): {'media': 73.0, 'desvio': 6.164414002968976},\n",
       " ('i2', 'sim'): {'media': 79.11111111111111, 'desvio': 10.215728613814635},\n",
       " ('falso', 'sim'): 0.6666666666666666,\n",
       " 'chuva': 0.35714285714285715,\n",
       " ('chuva', 'sim'): 0.3333333333333333,\n",
       " ('chuva', 'não'): 0.4,\n",
       " ('verdadeiro', 'sim'): 0.3333333333333333,\n",
       " ('sol', 'sim'): 0.2222222222222222,\n",
       " 'classes': ['não', 'sim']}"
      ]
     },
     "execution_count": 25,
     "metadata": {},
     "output_type": "execute_result"
    }
   ],
   "source": [
    "modeloTenis2"
   ]
  },
  {
   "cell_type": "code",
   "execution_count": 26,
   "metadata": {},
   "outputs": [
    {
     "name": "stdout",
     "output_type": "stream",
     "text": [
      "não 0.6661952433370804\n",
      "sim 0.2984141388375451\n",
      "não\n"
     ]
    }
   ],
   "source": [
    "tupla = ('sol', 83, 73, 'verdadeiro')\n",
    "print(verificar(modeloTenis2, tupla, debug=True))"
   ]
  },
  {
   "cell_type": "markdown",
   "metadata": {},
   "source": [
    "# dataset iris"
   ]
  },
  {
   "cell_type": "code",
   "execution_count": 27,
   "metadata": {},
   "outputs": [
    {
     "name": "stdout",
     "output_type": "stream",
     "text": [
      "149 data/iris/iris.data\r\n"
     ]
    }
   ],
   "source": [
    "!wc -l data/iris/iris.data"
   ]
  },
  {
   "cell_type": "code",
   "execution_count": 28,
   "metadata": {},
   "outputs": [
    {
     "name": "stdout",
     "output_type": "stream",
     "text": [
      "5.1,3.5,1.4,0.2,\"Iris-setosa\"\r\n",
      "4.9,3.0,1.4,0.2,\"Iris-setosa\"\r\n",
      "4.7,3.2,1.3,0.2,\"Iris-setosa\"\r\n",
      "4.6,3.1,1.5,0.2,\"Iris-setosa\"\r\n",
      "5.0,3.6,1.4,0.2,\"Iris-setosa\"\r\n",
      "5.4,3.9,1.7,0.4,\"Iris-setosa\"\r\n",
      "4.6,3.4,1.4,0.3,\"Iris-setosa\"\r\n",
      "5.0,3.4,1.5,0.2,\"Iris-setosa\"\r\n",
      "4.4,2.9,1.4,0.2,\"Iris-setosa\"\r\n",
      "4.9,3.1,1.5,0.1,\"Iris-setosa\"\r\n"
     ]
    }
   ],
   "source": [
    "!head data/iris/iris.data"
   ]
  },
  {
   "cell_type": "code",
   "execution_count": 29,
   "metadata": {},
   "outputs": [],
   "source": [
    "iris = carregar(\"data/iris/iris.data\", delimiter=',', ignoraLinha1=False)"
   ]
  },
  {
   "cell_type": "code",
   "execution_count": 30,
   "metadata": {},
   "outputs": [
    {
     "data": {
      "text/plain": [
       "150"
      ]
     },
     "execution_count": 30,
     "metadata": {},
     "output_type": "execute_result"
    }
   ],
   "source": [
    "len(iris)"
   ]
  },
  {
   "cell_type": "code",
   "execution_count": 32,
   "metadata": {},
   "outputs": [
    {
     "data": {
      "text/plain": [
       "[(5.1, 3.5, 1.4, 0.2, 'Iris-setosa'),\n",
       " (4.9, 3.0, 1.4, 0.2, 'Iris-setosa'),\n",
       " (4.7, 3.2, 1.3, 0.2, 'Iris-setosa'),\n",
       " (4.6, 3.1, 1.5, 0.2, 'Iris-setosa'),\n",
       " (5.0, 3.6, 1.4, 0.2, 'Iris-setosa'),\n",
       " (5.4, 3.9, 1.7, 0.4, 'Iris-setosa'),\n",
       " (4.6, 3.4, 1.4, 0.3, 'Iris-setosa'),\n",
       " (5.0, 3.4, 1.5, 0.2, 'Iris-setosa'),\n",
       " (4.4, 2.9, 1.4, 0.2, 'Iris-setosa'),\n",
       " (4.9, 3.1, 1.5, 0.1, 'Iris-setosa')]"
      ]
     },
     "execution_count": 32,
     "metadata": {},
     "output_type": "execute_result"
    }
   ],
   "source": [
    "iris[:10]"
   ]
  },
  {
   "cell_type": "code",
   "execution_count": 33,
   "metadata": {},
   "outputs": [],
   "source": [
    "modeloIris = treinamento(iris)"
   ]
  },
  {
   "cell_type": "code",
   "execution_count": 34,
   "metadata": {},
   "outputs": [
    {
     "data": {
      "text/plain": [
       "{'Iris-setosa': 0.3333333333333333,\n",
       " 'i0': {'media': 5.843333333333335, 'desvio': 0.8280661279778629},\n",
       " ('i0', 'Iris-setosa'): {'media': 5.005999999999999,\n",
       "  'desvio': 0.3524896872134512},\n",
       " 'i1': {'media': 3.0540000000000007, 'desvio': 0.4335943113621737},\n",
       " ('i1', 'Iris-setosa'): {'media': 3.4180000000000006,\n",
       "  'desvio': 0.38102439795469095},\n",
       " 'i2': {'media': 3.7586666666666693, 'desvio': 1.7644204199522617},\n",
       " ('i2', 'Iris-setosa'): {'media': 1.464, 'desvio': 0.1735111594364455},\n",
       " 'i3': {'media': 1.1986666666666672, 'desvio': 0.7631607417008414},\n",
       " ('i3', 'Iris-setosa'): {'media': 0.2439999999999999,\n",
       "  'desvio': 0.10720950308167837},\n",
       " 'Iris-versicolor': 0.3333333333333333,\n",
       " ('i0', 'Iris-versicolor'): {'media': 5.936, 'desvio': 0.5161711470638635},\n",
       " ('i1', 'Iris-versicolor'): {'media': 2.7700000000000005,\n",
       "  'desvio': 0.3137983233784114},\n",
       " ('i2', 'Iris-versicolor'): {'media': 4.26, 'desvio': 0.46991097723995806},\n",
       " ('i3', 'Iris-versicolor'): {'media': 1.3259999999999998,\n",
       "  'desvio': 0.197752680004544},\n",
       " 'Iris-virginica': 0.3333333333333333,\n",
       " ('i0', 'Iris-virginica'): {'media': 6.587999999999998,\n",
       "  'desvio': 0.635879593274432},\n",
       " ('i1', 'Iris-virginica'): {'media': 2.9739999999999998,\n",
       "  'desvio': 0.3224966381726376},\n",
       " ('i2', 'Iris-virginica'): {'media': 5.552, 'desvio': 0.5518946956639835},\n",
       " ('i3', 'Iris-virginica'): {'media': 2.026, 'desvio': 0.27465005563666733},\n",
       " 'classes': ['Iris-virginica', 'Iris-versicolor', 'Iris-setosa']}"
      ]
     },
     "execution_count": 34,
     "metadata": {},
     "output_type": "execute_result"
    }
   ],
   "source": [
    "modeloIris"
   ]
  },
  {
   "cell_type": "code",
   "execution_count": 35,
   "metadata": {},
   "outputs": [
    {
     "name": "stdout",
     "output_type": "stream",
     "text": [
      "Iris-virginica 4.906984002426971e-23\n",
      "Iris-versicolor 2.707818334185056e-15\n",
      "Iris-setosa 140.3852259221931\n"
     ]
    },
    {
     "data": {
      "text/plain": [
       "'Iris-setosa'"
      ]
     },
     "execution_count": 35,
     "metadata": {},
     "output_type": "execute_result"
    }
   ],
   "source": [
    "tupla = (4.4, 2.9, 1.4, 0.2)\n",
    "verificar(modeloIris, tupla, debug=True)"
   ]
  },
  {
   "cell_type": "code",
   "execution_count": 36,
   "metadata": {},
   "outputs": [
    {
     "name": "stdout",
     "output_type": "stream",
     "text": [
      "Conj Teste: 45\n",
      "Acertos   : 43\n",
      "Acurácia  :  95.55555555555556\n"
     ]
    }
   ],
   "source": [
    "validacaoCruzada(iris, 0.7)"
   ]
  },
  {
   "cell_type": "markdown",
   "metadata": {},
   "source": [
    "# dataset iris 2 dimensões"
   ]
  },
  {
   "cell_type": "code",
   "execution_count": 37,
   "metadata": {},
   "outputs": [
    {
     "name": "stdout",
     "output_type": "stream",
     "text": [
      "150 data/iris/iris2dim.csv\r\n"
     ]
    }
   ],
   "source": [
    "!wc -l data/iris/iris2dim.csv"
   ]
  },
  {
   "cell_type": "code",
   "execution_count": 39,
   "metadata": {},
   "outputs": [
    {
     "name": "stdout",
     "output_type": "stream",
     "text": [
      "5.1,1.4,0\r\n",
      "4.9,1.4,0\r\n",
      "4.7,1.3,0\r\n",
      "4.6,1.5,0\r\n",
      "5.0,1.4,0\r\n",
      "5.4,1.7,0\r\n",
      "4.6,1.4,0\r\n",
      "5.0,1.5,0\r\n",
      "4.4,1.4,0\r\n",
      "4.9,1.5,0\r\n"
     ]
    }
   ],
   "source": [
    "!head data/iris/iris2dim.csv"
   ]
  },
  {
   "cell_type": "code",
   "execution_count": 40,
   "metadata": {},
   "outputs": [],
   "source": [
    "iris2dim = carregar(\"data/iris/iris2dim.csv\", delimiter=',', ignoraLinha1=False)"
   ]
  },
  {
   "cell_type": "code",
   "execution_count": 43,
   "metadata": {},
   "outputs": [
    {
     "data": {
      "text/plain": [
       "150"
      ]
     },
     "execution_count": 43,
     "metadata": {},
     "output_type": "execute_result"
    }
   ],
   "source": [
    "len(iris2dim)"
   ]
  },
  {
   "cell_type": "code",
   "execution_count": 45,
   "metadata": {},
   "outputs": [
    {
     "data": {
      "text/plain": [
       "[(5.1, 1.4, 0.0),\n",
       " (4.9, 1.4, 0.0),\n",
       " (4.7, 1.3, 0.0),\n",
       " (4.6, 1.5, 0.0),\n",
       " (5.0, 1.4, 0.0),\n",
       " (5.4, 1.7, 0.0),\n",
       " (4.6, 1.4, 0.0),\n",
       " (5.0, 1.5, 0.0),\n",
       " (4.4, 1.4, 0.0),\n",
       " (4.9, 1.5, 0.0)]"
      ]
     },
     "execution_count": 45,
     "metadata": {},
     "output_type": "execute_result"
    }
   ],
   "source": [
    "iris2dim[:10]"
   ]
  },
  {
   "cell_type": "code",
   "execution_count": 46,
   "metadata": {},
   "outputs": [],
   "source": [
    "modeloIris2dim = treinamento(iris2dim)"
   ]
  },
  {
   "cell_type": "code",
   "execution_count": 47,
   "metadata": {},
   "outputs": [
    {
     "data": {
      "text/plain": [
       "0.0"
      ]
     },
     "execution_count": 47,
     "metadata": {},
     "output_type": "execute_result"
    }
   ],
   "source": [
    "verificar(modeloIris2dim, [3.3, 1.0])"
   ]
  },
  {
   "cell_type": "code",
   "execution_count": 48,
   "metadata": {},
   "outputs": [
    {
     "name": "stdout",
     "output_type": "stream",
     "text": [
      "Conj Teste: 45\n",
      "Acertos   : 37\n",
      "Acurácia  :  82.22222222222221\n"
     ]
    }
   ],
   "source": [
    "validacaoCruzada(iris2dim, 0.7)"
   ]
  },
  {
   "cell_type": "code",
   "execution_count": 58,
   "metadata": {},
   "outputs": [],
   "source": [
    "from mlxtend.plotting import plot_decision_regions"
   ]
  },
  {
   "cell_type": "code",
   "execution_count": 68,
   "metadata": {},
   "outputs": [],
   "source": [
    "nb = Classificador()\n",
    "nb.modelo = modeloIris2dim"
   ]
  },
  {
   "cell_type": "code",
   "execution_count": 69,
   "metadata": {},
   "outputs": [
    {
     "data": {
      "image/png": "[encoded data removed]",
      "text/plain": [
       "<Figure size 432x288 with 1 Axes>"
      ]
     },
     "metadata": {
      "needs_background": "light"
     },
     "output_type": "display_data"
    }
   ],
   "source": [
    "nb.graficoFronteira()"
   ]
  },
  {
   "cell_type": "code",
   "execution_count": 51,
   "metadata": {},
   "outputs": [
    {
     "name": "stdout",
     "output_type": "stream",
     "text": [
      "X [[7.2 6.1]\n",
      " [6.4 5.6]\n",
      " [5.7 1.7]\n",
      " [5.4 1.3]\n",
      " [6.9 5.1]\n",
      " [5.5 4.4]\n",
      " [7.9 6.4]\n",
      " [7.2 6. ]\n",
      " [5.9 5.1]\n",
      " [6.1 4.9]\n",
      " [6.1 4. ]\n",
      " [5.1 1.5]\n",
      " [7.7 6.1]\n",
      " [4.7 1.6]\n",
      " [5.1 1.9]\n",
      " [4.4 1.4]\n",
      " [5.7 4.5]\n",
      " [5.5 4. ]\n",
      " [4.9 1.5]\n",
      " [4.8 1.6]\n",
      " [7.7 6.7]\n",
      " [4.4 1.3]\n",
      " [6.7 4.7]\n",
      " [6.6 4.6]\n",
      " [6.9 5.7]\n",
      " [6.3 4.9]\n",
      " [5.9 4.2]\n",
      " [5.5 1.4]\n",
      " [5.  1.6]\n",
      " [5.1 1.6]\n",
      " [5.4 1.5]\n",
      " [5.  1.4]\n",
      " [5.8 1.2]\n",
      " [5.1 1.4]\n",
      " [5.8 5.1]\n",
      " [5.4 1.7]\n",
      " [6.5 5.1]\n",
      " [6.7 5. ]\n",
      " [6.4 4.5]\n",
      " [4.9 1.4]\n",
      " [6.  5.1]\n",
      " [5.5 3.7]\n",
      " [5.  1.3]\n",
      " [5.4 1.7]\n",
      " [7.4 6.1]\n",
      " [7.7 6.9]\n",
      " [6.3 5.6]\n",
      " [4.3 1.1]\n",
      " [6.4 4.3]\n",
      " [6.3 6. ]\n",
      " [6.2 4.8]\n",
      " [6.5 5.8]\n",
      " [5.2 1.5]\n",
      " [6.8 5.9]\n",
      " [5.2 3.9]\n",
      " [5.8 4. ]\n",
      " [4.6 1.4]\n",
      " [6.5 5.2]\n",
      " [6.7 5.8]\n",
      " [5.7 1.5]\n",
      " [4.4 1.3]\n",
      " [6.3 5. ]\n",
      " [5.8 4.1]\n",
      " [5.9 4.8]\n",
      " [6.  4.5]\n",
      " [6.3 4.9]\n",
      " [6.  4. ]\n",
      " [6.1 4.7]\n",
      " [4.8 1.6]\n",
      " [7.6 6.6]\n",
      " [5.  3.3]\n",
      " [5.4 1.5]\n",
      " [5.  3.5]\n",
      " [6.3 5.1]\n",
      " [7.3 6.3]\n",
      " [4.6 1.5]\n",
      " [5.7 4.2]\n",
      " [4.7 1.3]\n",
      " [6.2 5.4]\n",
      " [5.5 3.8]\n",
      " [5.8 5.1]\n",
      " [4.6 1.4]\n",
      " [4.9 1.5]\n",
      " [5.5 1.3]\n",
      " [4.8 1.4]\n",
      " [5.2 1.4]\n",
      " [6.8 5.5]\n",
      " [5.1 3. ]\n",
      " [5.7 4.1]\n",
      " [6.1 5.6]\n",
      " [6.2 4.5]\n",
      " [5.6 4.5]\n",
      " [5.  1.5]\n",
      " [6.1 4.6]\n",
      " [5.8 3.9]\n",
      " [6.4 5.6]\n",
      " [6.2 4.3]\n",
      " [7.7 6.7]\n",
      " [5.6 4.9]\n",
      " [6.3 5.6]\n",
      " [5.5 4. ]\n",
      " [4.8 1.4]\n",
      " [5.  1.4]\n",
      " [5.1 1.5]\n",
      " [5.  1.6]\n",
      " [6.7 4.4]\n",
      " [6.5 4.6]\n",
      " [5.  1.2]\n",
      " [6.4 5.3]\n",
      " [5.7 3.5]\n",
      " [6.  5. ]\n",
      " [4.8 1.9]\n",
      " [5.6 3.9]\n",
      " [5.  1.6]\n",
      " [6.  4.5]\n",
      " [6.3 4.7]\n",
      " [4.9 3.3]\n",
      " [6.7 5.2]\n",
      " [4.9 1.5]\n",
      " [4.6 1. ]\n",
      " [5.2 1.5]\n",
      " [5.4 4.5]\n",
      " [6.9 5.4]\n",
      " [4.5 1.3]\n",
      " [5.6 3.6]\n",
      " [7.1 5.9]\n",
      " [5.7 5. ]\n",
      " [5.1 1.7]\n",
      " [6.8 4.8]\n",
      " [6.4 5.3]\n",
      " [5.6 4.1]\n",
      " [5.1 1.5]\n",
      " [5.3 1.5]\n",
      " [6.7 5.7]\n",
      " [6.  4.8]\n",
      " [5.6 4.2]\n",
      " [7.  4.7]\n",
      " [6.4 5.5]\n",
      " [4.9 4.5]\n",
      " [6.3 4.4]\n",
      " [7.2 5.8]\n",
      " [6.7 5.6]\n",
      " [6.6 4.4]\n",
      " [6.7 5.7]\n",
      " [6.1 4.7]\n",
      " [5.1 1.4]\n",
      " [5.7 4.2]\n",
      " [6.9 4.9]\n",
      " [6.5 5.5]\n",
      " [5.8 5.1]]\n",
      "y [2 2 0 0 2 1 2 2 2 2 1 0 2 0 0 0 1 1 0 0 2 0 1 1 2 1 1 0 0 0 0 0 0 0 2 0 2\n",
      " 1 1 0 1 1 0 0 2 2 2 0 1 2 2 2 0 2 1 1 0 2 2 0 0 2 1 1 1 2 1 1 0 2 1 0 1 2\n",
      " 2 0 1 0 2 1 2 0 0 0 0 0 2 1 1 2 1 1 0 1 1 2 1 2 2 2 1 0 0 0 0 1 1 0 2 1 2\n",
      " 0 1 0 1 1 1 2 0 0 0 1 2 0 1 2 2 0 1 2 1 0 0 2 2 1 1 2 2 1 2 2 1 2 1 0 1 1\n",
      " 2 2]\n"
     ]
    }
   ],
   "source": [
    "import numpy as np\n",
    "\n",
    "def graficoFronteiras(dados):\n",
    "    \n",
    "    X = np.array([ [float(x[0]),float(x[1])] for x in iris2dim ])\n",
    "    y = np.array([ int(x[2]) for x in iris2dim ])\n",
    "    \n",
    "    #print('X',X)\n",
    "    #print('y',y)\n",
    "graficoFronteiras(iris2dim)"
   ]
  },
  {
   "cell_type": "code",
   "execution_count": 59,
   "metadata": {},
   "outputs": [],
   "source": [
    "class Object(object):\n",
    "    modelo = None\n",
    "    \n",
    "    def predict(self, tupla):\n",
    "        res = []\n",
    "        for t in tupla:\n",
    "            res.append(int(verificar(self.modelo, t)))\n",
    "        return(np.array(res))\n",
    "    pass\n",
    "nb = Object()\n",
    "modeloIris2dim = treinamento(iris2dim)\n",
    "nb.modelo = modeloIris2dim"
   ]
  },
  {
   "cell_type": "code",
   "execution_count": 303,
   "metadata": {},
   "outputs": [],
   "source": []
  },
  {
   "cell_type": "code",
   "execution_count": 305,
   "metadata": {},
   "outputs": [
    {
     "data": {
      "text/plain": [
       "numpy.ndarray"
      ]
     },
     "execution_count": 305,
     "metadata": {},
     "output_type": "execute_result"
    }
   ],
   "source": [
    "res01 = nb.predict([[3.3 ,       1.0        ],\n",
    " [3.31299304, 1.        ],\n",
    " [3.32598608, 1.        ]])\n",
    "type(res01)"
   ]
  },
  {
   "cell_type": "code",
   "execution_count": 283,
   "metadata": {},
   "outputs": [],
   "source": [
    "res = svm.predict([[3.3 ,       1.0        ],\n",
    " [3.31299304, 1.        ],\n",
    " [3.32598608, 1.        ]])"
   ]
  },
  {
   "cell_type": "code",
   "execution_count": 329,
   "metadata": {},
   "outputs": [
    {
     "data": {
      "image/png": "[encoded data removed]",
      "text/plain": [
       "<Figure size 432x288 with 1 Axes>"
      ]
     },
     "metadata": {
      "needs_background": "light"
     },
     "output_type": "display_data"
    }
   ],
   "source": [
    "plot_decision_regions(X1, y1, clf=nb, legend=2)\n",
    "#plt.xlabel('sepal length [cm]')\n",
    "#plt.ylabel('petal length [cm]')\n",
    "#plt.title('NB on Iris')\n",
    "plt.show()"
   ]
  },
  {
   "cell_type": "code",
   "execution_count": 309,
   "metadata": {},
   "outputs": [
    {
     "data": {
      "text/plain": [
       "[('5.1', '1.4', '0'),\n",
       " ('4.9', '1.4', '0'),\n",
       " ('4.7', '1.3', '0'),\n",
       " ('4.6', '1.5', '0'),\n",
       " ('5.0', '1.4', '0'),\n",
       " ('5.4', '1.7', '0'),\n",
       " ('4.6', '1.4', '0'),\n",
       " ('5.0', '1.5', '0'),\n",
       " ('4.4', '1.4', '0'),\n",
       " ('4.9', '1.5', '0'),\n",
       " ('5.4', '1.5', '0'),\n",
       " ('4.8', '1.6', '0'),\n",
       " ('4.8', '1.4', '0'),\n",
       " ('4.3', '1.1', '0'),\n",
       " ('5.8', '1.2', '0'),\n",
       " ('5.7', '1.5', '0'),\n",
       " ('5.4', '1.3', '0'),\n",
       " ('5.1', '1.4', '0'),\n",
       " ('5.7', '1.7', '0'),\n",
       " ('5.1', '1.5', '0'),\n",
       " ('5.4', '1.7', '0'),\n",
       " ('5.1', '1.5', '0'),\n",
       " ('4.6', '1.0', '0'),\n",
       " ('5.1', '1.7', '0'),\n",
       " ('4.8', '1.9', '0'),\n",
       " ('5.0', '1.6', '0'),\n",
       " ('5.0', '1.6', '0'),\n",
       " ('5.2', '1.5', '0'),\n",
       " ('5.2', '1.4', '0'),\n",
       " ('4.7', '1.6', '0'),\n",
       " ('4.8', '1.6', '0'),\n",
       " ('5.4', '1.5', '0'),\n",
       " ('5.2', '1.5', '0'),\n",
       " ('5.5', '1.4', '0'),\n",
       " ('4.9', '1.5', '0'),\n",
       " ('5.0', '1.2', '0'),\n",
       " ('5.5', '1.3', '0'),\n",
       " ('4.9', '1.5', '0'),\n",
       " ('4.4', '1.3', '0'),\n",
       " ('5.1', '1.5', '0'),\n",
       " ('5.0', '1.3', '0'),\n",
       " ('4.5', '1.3', '0'),\n",
       " ('4.4', '1.3', '0'),\n",
       " ('5.0', '1.6', '0'),\n",
       " ('5.1', '1.9', '0'),\n",
       " ('4.8', '1.4', '0'),\n",
       " ('5.1', '1.6', '0'),\n",
       " ('4.6', '1.4', '0'),\n",
       " ('5.3', '1.5', '0'),\n",
       " ('5.0', '1.4', '0'),\n",
       " ('7.0', '4.7', '1'),\n",
       " ('6.4', '4.5', '1'),\n",
       " ('6.9', '4.9', '1'),\n",
       " ('5.5', '4.0', '1'),\n",
       " ('6.5', '4.6', '1'),\n",
       " ('5.7', '4.5', '1'),\n",
       " ('6.3', '4.7', '1'),\n",
       " ('4.9', '3.3', '1'),\n",
       " ('6.6', '4.6', '1'),\n",
       " ('5.2', '3.9', '1'),\n",
       " ('5.0', '3.5', '1'),\n",
       " ('5.9', '4.2', '1'),\n",
       " ('6.0', '4.0', '1'),\n",
       " ('6.1', '4.7', '1'),\n",
       " ('5.6', '3.6', '1'),\n",
       " ('6.7', '4.4', '1'),\n",
       " ('5.6', '4.5', '1'),\n",
       " ('5.8', '4.1', '1'),\n",
       " ('6.2', '4.5', '1'),\n",
       " ('5.6', '3.9', '1'),\n",
       " ('5.9', '4.8', '1'),\n",
       " ('6.1', '4.0', '1'),\n",
       " ('6.3', '4.9', '1'),\n",
       " ('6.1', '4.7', '1'),\n",
       " ('6.4', '4.3', '1'),\n",
       " ('6.6', '4.4', '1'),\n",
       " ('6.8', '4.8', '1'),\n",
       " ('6.7', '5.0', '1'),\n",
       " ('6.0', '4.5', '1'),\n",
       " ('5.7', '3.5', '1'),\n",
       " ('5.5', '3.8', '1'),\n",
       " ('5.5', '3.7', '1'),\n",
       " ('5.8', '3.9', '1'),\n",
       " ('6.0', '5.1', '1'),\n",
       " ('5.4', '4.5', '1'),\n",
       " ('6.0', '4.5', '1'),\n",
       " ('6.7', '4.7', '1'),\n",
       " ('6.3', '4.4', '1'),\n",
       " ('5.6', '4.1', '1'),\n",
       " ('5.5', '4.0', '1'),\n",
       " ('5.5', '4.4', '1'),\n",
       " ('6.1', '4.6', '1'),\n",
       " ('5.8', '4.0', '1'),\n",
       " ('5.0', '3.3', '1'),\n",
       " ('5.6', '4.2', '1'),\n",
       " ('5.7', '4.2', '1'),\n",
       " ('5.7', '4.2', '1'),\n",
       " ('6.2', '4.3', '1'),\n",
       " ('5.1', '3.0', '1'),\n",
       " ('5.7', '4.1', '1'),\n",
       " ('6.3', '6.0', '2'),\n",
       " ('5.8', '5.1', '2'),\n",
       " ('7.1', '5.9', '2'),\n",
       " ('6.3', '5.6', '2'),\n",
       " ('6.5', '5.8', '2'),\n",
       " ('7.6', '6.6', '2'),\n",
       " ('4.9', '4.5', '2'),\n",
       " ('7.3', '6.3', '2'),\n",
       " ('6.7', '5.8', '2'),\n",
       " ('7.2', '6.1', '2'),\n",
       " ('6.5', '5.1', '2'),\n",
       " ('6.4', '5.3', '2'),\n",
       " ('6.8', '5.5', '2'),\n",
       " ('5.7', '5.0', '2'),\n",
       " ('5.8', '5.1', '2'),\n",
       " ('6.4', '5.3', '2'),\n",
       " ('6.5', '5.5', '2'),\n",
       " ('7.7', '6.7', '2'),\n",
       " ('7.7', '6.9', '2'),\n",
       " ('6.0', '5.0', '2'),\n",
       " ('6.9', '5.7', '2'),\n",
       " ('5.6', '4.9', '2'),\n",
       " ('7.7', '6.7', '2'),\n",
       " ('6.3', '4.9', '2'),\n",
       " ('6.7', '5.7', '2'),\n",
       " ('7.2', '6.0', '2'),\n",
       " ('6.2', '4.8', '2'),\n",
       " ('6.1', '4.9', '2'),\n",
       " ('6.4', '5.6', '2'),\n",
       " ('7.2', '5.8', '2'),\n",
       " ('7.4', '6.1', '2'),\n",
       " ('7.9', '6.4', '2'),\n",
       " ('6.4', '5.6', '2'),\n",
       " ('6.3', '5.1', '2'),\n",
       " ('6.1', '5.6', '2'),\n",
       " ('7.7', '6.1', '2'),\n",
       " ('6.3', '5.6', '2'),\n",
       " ('6.4', '5.5', '2'),\n",
       " ('6.0', '4.8', '2'),\n",
       " ('6.9', '5.4', '2'),\n",
       " ('6.7', '5.6', '2'),\n",
       " ('6.9', '5.1', '2'),\n",
       " ('5.8', '5.1', '2'),\n",
       " ('6.8', '5.9', '2'),\n",
       " ('6.7', '5.7', '2'),\n",
       " ('6.7', '5.2', '2'),\n",
       " ('6.3', '5.0', '2'),\n",
       " ('6.5', '5.2', '2'),\n",
       " ('6.2', '5.4', '2'),\n",
       " ('5.9', '5.1', '2')]"
      ]
     },
     "execution_count": 309,
     "metadata": {},
     "output_type": "execute_result"
    }
   ],
   "source": [
    "iris2dim"
   ]
  },
  {
   "cell_type": "code",
   "execution_count": 284,
   "metadata": {},
   "outputs": [
    {
     "data": {
      "text/plain": [
       "numpy.ndarray"
      ]
     },
     "execution_count": 284,
     "metadata": {},
     "output_type": "execute_result"
    }
   ],
   "source": [
    "type(res)"
   ]
  },
  {
   "cell_type": "code",
   "execution_count": 184,
   "metadata": {},
   "outputs": [
    {
     "data": {
      "text/plain": [
       "'Iris-virginica'"
      ]
     },
     "execution_count": 184,
     "metadata": {},
     "output_type": "execute_result"
    }
   ],
   "source": [
    "nb.modelo = modeloIris\n",
    "tupla = ('6.7', '3.3', '5.7', '2.5')\n",
    "nb.predict(tupla)"
   ]
  },
  {
   "cell_type": "code",
   "execution_count": 322,
   "metadata": {},
   "outputs": [],
   "source": [
    "X1 = np.array([ [float(x[0]),float(x[1])] for x in iris2dim ])\n",
    "y1 = np.array([ int(x[2]) for x in iris2dim ])"
   ]
  },
  {
   "cell_type": "code",
   "execution_count": 323,
   "metadata": {},
   "outputs": [
    {
     "data": {
      "text/plain": [
       "array([[5.1, 1.4],\n",
       "       [4.9, 1.4],\n",
       "       [4.7, 1.3],\n",
       "       [4.6, 1.5],\n",
       "       [5. , 1.4],\n",
       "       [5.4, 1.7],\n",
       "       [4.6, 1.4],\n",
       "       [5. , 1.5],\n",
       "       [4.4, 1.4],\n",
       "       [4.9, 1.5],\n",
       "       [5.4, 1.5],\n",
       "       [4.8, 1.6],\n",
       "       [4.8, 1.4],\n",
       "       [4.3, 1.1],\n",
       "       [5.8, 1.2],\n",
       "       [5.7, 1.5],\n",
       "       [5.4, 1.3],\n",
       "       [5.1, 1.4],\n",
       "       [5.7, 1.7],\n",
       "       [5.1, 1.5],\n",
       "       [5.4, 1.7],\n",
       "       [5.1, 1.5],\n",
       "       [4.6, 1. ],\n",
       "       [5.1, 1.7],\n",
       "       [4.8, 1.9],\n",
       "       [5. , 1.6],\n",
       "       [5. , 1.6],\n",
       "       [5.2, 1.5],\n",
       "       [5.2, 1.4],\n",
       "       [4.7, 1.6],\n",
       "       [4.8, 1.6],\n",
       "       [5.4, 1.5],\n",
       "       [5.2, 1.5],\n",
       "       [5.5, 1.4],\n",
       "       [4.9, 1.5],\n",
       "       [5. , 1.2],\n",
       "       [5.5, 1.3],\n",
       "       [4.9, 1.5],\n",
       "       [4.4, 1.3],\n",
       "       [5.1, 1.5],\n",
       "       [5. , 1.3],\n",
       "       [4.5, 1.3],\n",
       "       [4.4, 1.3],\n",
       "       [5. , 1.6],\n",
       "       [5.1, 1.9],\n",
       "       [4.8, 1.4],\n",
       "       [5.1, 1.6],\n",
       "       [4.6, 1.4],\n",
       "       [5.3, 1.5],\n",
       "       [5. , 1.4],\n",
       "       [7. , 4.7],\n",
       "       [6.4, 4.5],\n",
       "       [6.9, 4.9],\n",
       "       [5.5, 4. ],\n",
       "       [6.5, 4.6],\n",
       "       [5.7, 4.5],\n",
       "       [6.3, 4.7],\n",
       "       [4.9, 3.3],\n",
       "       [6.6, 4.6],\n",
       "       [5.2, 3.9],\n",
       "       [5. , 3.5],\n",
       "       [5.9, 4.2],\n",
       "       [6. , 4. ],\n",
       "       [6.1, 4.7],\n",
       "       [5.6, 3.6],\n",
       "       [6.7, 4.4],\n",
       "       [5.6, 4.5],\n",
       "       [5.8, 4.1],\n",
       "       [6.2, 4.5],\n",
       "       [5.6, 3.9],\n",
       "       [5.9, 4.8],\n",
       "       [6.1, 4. ],\n",
       "       [6.3, 4.9],\n",
       "       [6.1, 4.7],\n",
       "       [6.4, 4.3],\n",
       "       [6.6, 4.4],\n",
       "       [6.8, 4.8],\n",
       "       [6.7, 5. ],\n",
       "       [6. , 4.5],\n",
       "       [5.7, 3.5],\n",
       "       [5.5, 3.8],\n",
       "       [5.5, 3.7],\n",
       "       [5.8, 3.9],\n",
       "       [6. , 5.1],\n",
       "       [5.4, 4.5],\n",
       "       [6. , 4.5],\n",
       "       [6.7, 4.7],\n",
       "       [6.3, 4.4],\n",
       "       [5.6, 4.1],\n",
       "       [5.5, 4. ],\n",
       "       [5.5, 4.4],\n",
       "       [6.1, 4.6],\n",
       "       [5.8, 4. ],\n",
       "       [5. , 3.3],\n",
       "       [5.6, 4.2],\n",
       "       [5.7, 4.2],\n",
       "       [5.7, 4.2],\n",
       "       [6.2, 4.3],\n",
       "       [5.1, 3. ],\n",
       "       [5.7, 4.1],\n",
       "       [6.3, 6. ],\n",
       "       [5.8, 5.1],\n",
       "       [7.1, 5.9],\n",
       "       [6.3, 5.6],\n",
       "       [6.5, 5.8],\n",
       "       [7.6, 6.6],\n",
       "       [4.9, 4.5],\n",
       "       [7.3, 6.3],\n",
       "       [6.7, 5.8],\n",
       "       [7.2, 6.1],\n",
       "       [6.5, 5.1],\n",
       "       [6.4, 5.3],\n",
       "       [6.8, 5.5],\n",
       "       [5.7, 5. ],\n",
       "       [5.8, 5.1],\n",
       "       [6.4, 5.3],\n",
       "       [6.5, 5.5],\n",
       "       [7.7, 6.7],\n",
       "       [7.7, 6.9],\n",
       "       [6. , 5. ],\n",
       "       [6.9, 5.7],\n",
       "       [5.6, 4.9],\n",
       "       [7.7, 6.7],\n",
       "       [6.3, 4.9],\n",
       "       [6.7, 5.7],\n",
       "       [7.2, 6. ],\n",
       "       [6.2, 4.8],\n",
       "       [6.1, 4.9],\n",
       "       [6.4, 5.6],\n",
       "       [7.2, 5.8],\n",
       "       [7.4, 6.1],\n",
       "       [7.9, 6.4],\n",
       "       [6.4, 5.6],\n",
       "       [6.3, 5.1],\n",
       "       [6.1, 5.6],\n",
       "       [7.7, 6.1],\n",
       "       [6.3, 5.6],\n",
       "       [6.4, 5.5],\n",
       "       [6. , 4.8],\n",
       "       [6.9, 5.4],\n",
       "       [6.7, 5.6],\n",
       "       [6.9, 5.1],\n",
       "       [5.8, 5.1],\n",
       "       [6.8, 5.9],\n",
       "       [6.7, 5.7],\n",
       "       [6.7, 5.2],\n",
       "       [6.3, 5. ],\n",
       "       [6.5, 5.2],\n",
       "       [6.2, 5.4],\n",
       "       [5.9, 5.1]])"
      ]
     },
     "execution_count": 323,
     "metadata": {},
     "output_type": "execute_result"
    }
   ],
   "source": [
    "X1"
   ]
  },
  {
   "cell_type": "code",
   "execution_count": 324,
   "metadata": {},
   "outputs": [
    {
     "data": {
      "text/plain": [
       "array([0, 0, 0, 0, 0, 0, 0, 0, 0, 0, 0, 0, 0, 0, 0, 0, 0, 0, 0, 0, 0, 0,\n",
       "       0, 0, 0, 0, 0, 0, 0, 0, 0, 0, 0, 0, 0, 0, 0, 0, 0, 0, 0, 0, 0, 0,\n",
       "       0, 0, 0, 0, 0, 0, 1, 1, 1, 1, 1, 1, 1, 1, 1, 1, 1, 1, 1, 1, 1, 1,\n",
       "       1, 1, 1, 1, 1, 1, 1, 1, 1, 1, 1, 1, 1, 1, 1, 1, 1, 1, 1, 1, 1, 1,\n",
       "       1, 1, 1, 1, 1, 1, 1, 1, 1, 1, 1, 1, 2, 2, 2, 2, 2, 2, 2, 2, 2, 2,\n",
       "       2, 2, 2, 2, 2, 2, 2, 2, 2, 2, 2, 2, 2, 2, 2, 2, 2, 2, 2, 2, 2, 2,\n",
       "       2, 2, 2, 2, 2, 2, 2, 2, 2, 2, 2, 2, 2, 2, 2, 2, 2, 2])"
      ]
     },
     "execution_count": 324,
     "metadata": {},
     "output_type": "execute_result"
    }
   ],
   "source": [
    "y1"
   ]
  },
  {
   "cell_type": "code",
   "execution_count": 307,
   "metadata": {},
   "outputs": [
    {
     "data": {
      "text/plain": [
       "array([[5.1, 3.5],\n",
       "       [4.9, 3. ],\n",
       "       [4.7, 3.2],\n",
       "       [4.6, 3.1],\n",
       "       [5. , 3.6],\n",
       "       [5.4, 3.9],\n",
       "       [4.6, 3.4],\n",
       "       [5. , 3.4],\n",
       "       [4.4, 2.9],\n",
       "       [4.9, 3.1],\n",
       "       [5.4, 3.7],\n",
       "       [4.8, 3.4],\n",
       "       [4.8, 3. ],\n",
       "       [4.3, 3. ],\n",
       "       [5.8, 4. ],\n",
       "       [5.7, 4.4],\n",
       "       [5.4, 3.9],\n",
       "       [5.1, 3.5],\n",
       "       [5.7, 3.8],\n",
       "       [5.1, 3.8],\n",
       "       [5.4, 3.4],\n",
       "       [5.1, 3.7],\n",
       "       [4.6, 3.6],\n",
       "       [5.1, 3.3],\n",
       "       [4.8, 3.4],\n",
       "       [5. , 3. ],\n",
       "       [5. , 3.4],\n",
       "       [5.2, 3.5],\n",
       "       [5.2, 3.4],\n",
       "       [4.7, 3.2],\n",
       "       [4.8, 3.1],\n",
       "       [5.4, 3.4],\n",
       "       [5.2, 4.1],\n",
       "       [5.5, 4.2],\n",
       "       [4.9, 3.1],\n",
       "       [5. , 3.2],\n",
       "       [5.5, 3.5],\n",
       "       [4.9, 3.6],\n",
       "       [4.4, 3. ],\n",
       "       [5.1, 3.4],\n",
       "       [5. , 3.5],\n",
       "       [4.5, 2.3],\n",
       "       [4.4, 3.2],\n",
       "       [5. , 3.5],\n",
       "       [5.1, 3.8],\n",
       "       [4.8, 3. ],\n",
       "       [5.1, 3.8],\n",
       "       [4.6, 3.2],\n",
       "       [5.3, 3.7],\n",
       "       [5. , 3.3],\n",
       "       [7. , 3.2],\n",
       "       [6.4, 3.2],\n",
       "       [6.9, 3.1],\n",
       "       [5.5, 2.3],\n",
       "       [6.5, 2.8],\n",
       "       [5.7, 2.8],\n",
       "       [6.3, 3.3],\n",
       "       [4.9, 2.4],\n",
       "       [6.6, 2.9],\n",
       "       [5.2, 2.7],\n",
       "       [5. , 2. ],\n",
       "       [5.9, 3. ],\n",
       "       [6. , 2.2],\n",
       "       [6.1, 2.9],\n",
       "       [5.6, 2.9],\n",
       "       [6.7, 3.1],\n",
       "       [5.6, 3. ],\n",
       "       [5.8, 2.7],\n",
       "       [6.2, 2.2],\n",
       "       [5.6, 2.5],\n",
       "       [5.9, 3.2],\n",
       "       [6.1, 2.8],\n",
       "       [6.3, 2.5],\n",
       "       [6.1, 2.8],\n",
       "       [6.4, 2.9],\n",
       "       [6.6, 3. ],\n",
       "       [6.8, 2.8],\n",
       "       [6.7, 3. ],\n",
       "       [6. , 2.9],\n",
       "       [5.7, 2.6],\n",
       "       [5.5, 2.4],\n",
       "       [5.5, 2.4],\n",
       "       [5.8, 2.7],\n",
       "       [6. , 2.7],\n",
       "       [5.4, 3. ],\n",
       "       [6. , 3.4],\n",
       "       [6.7, 3.1],\n",
       "       [6.3, 2.3],\n",
       "       [5.6, 3. ],\n",
       "       [5.5, 2.5],\n",
       "       [5.5, 2.6],\n",
       "       [6.1, 3. ],\n",
       "       [5.8, 2.6],\n",
       "       [5. , 2.3],\n",
       "       [5.6, 2.7],\n",
       "       [5.7, 3. ],\n",
       "       [5.7, 2.9],\n",
       "       [6.2, 2.9],\n",
       "       [5.1, 2.5],\n",
       "       [5.7, 2.8],\n",
       "       [6.3, 3.3],\n",
       "       [5.8, 2.7],\n",
       "       [7.1, 3. ],\n",
       "       [6.3, 2.9],\n",
       "       [6.5, 3. ],\n",
       "       [7.6, 3. ],\n",
       "       [4.9, 2.5],\n",
       "       [7.3, 2.9],\n",
       "       [6.7, 2.5],\n",
       "       [7.2, 3.6],\n",
       "       [6.5, 3.2],\n",
       "       [6.4, 2.7],\n",
       "       [6.8, 3. ],\n",
       "       [5.7, 2.5],\n",
       "       [5.8, 2.8],\n",
       "       [6.4, 3.2],\n",
       "       [6.5, 3. ],\n",
       "       [7.7, 3.8],\n",
       "       [7.7, 2.6],\n",
       "       [6. , 2.2],\n",
       "       [6.9, 3.2],\n",
       "       [5.6, 2.8],\n",
       "       [7.7, 2.8],\n",
       "       [6.3, 2.7],\n",
       "       [6.7, 3.3],\n",
       "       [7.2, 3.2],\n",
       "       [6.2, 2.8],\n",
       "       [6.1, 3. ],\n",
       "       [6.4, 2.8],\n",
       "       [7.2, 3. ],\n",
       "       [7.4, 2.8],\n",
       "       [7.9, 3.8],\n",
       "       [6.4, 2.8],\n",
       "       [6.3, 2.8],\n",
       "       [6.1, 2.6],\n",
       "       [7.7, 3. ],\n",
       "       [6.3, 3.4],\n",
       "       [6.4, 3.1],\n",
       "       [6. , 3. ],\n",
       "       [6.9, 3.1],\n",
       "       [6.7, 3.1],\n",
       "       [6.9, 3.1],\n",
       "       [5.8, 2.7],\n",
       "       [6.8, 3.2],\n",
       "       [6.7, 3.3],\n",
       "       [6.7, 3. ],\n",
       "       [6.3, 2.5],\n",
       "       [6.5, 3. ],\n",
       "       [6.2, 3.4],\n",
       "       [5.9, 3. ]])"
      ]
     },
     "execution_count": 307,
     "metadata": {},
     "output_type": "execute_result"
    }
   ],
   "source": [
    "X"
   ]
  },
  {
   "cell_type": "code",
   "execution_count": 308,
   "metadata": {},
   "outputs": [
    {
     "data": {
      "text/plain": [
       "array([0, 0, 0, 0, 0, 0, 0, 0, 0, 0, 0, 0, 0, 0, 0, 0, 0, 0, 0, 0, 0, 0,\n",
       "       0, 0, 0, 0, 0, 0, 0, 0, 0, 0, 0, 0, 0, 0, 0, 0, 0, 0, 0, 0, 0, 0,\n",
       "       0, 0, 0, 0, 0, 0, 1, 1, 1, 1, 1, 1, 1, 1, 1, 1, 1, 1, 1, 1, 1, 1,\n",
       "       1, 1, 1, 1, 1, 1, 1, 1, 1, 1, 1, 1, 1, 1, 1, 1, 1, 1, 1, 1, 1, 1,\n",
       "       1, 1, 1, 1, 1, 1, 1, 1, 1, 1, 1, 1, 2, 2, 2, 2, 2, 2, 2, 2, 2, 2,\n",
       "       2, 2, 2, 2, 2, 2, 2, 2, 2, 2, 2, 2, 2, 2, 2, 2, 2, 2, 2, 2, 2, 2,\n",
       "       2, 2, 2, 2, 2, 2, 2, 2, 2, 2, 2, 2, 2, 2, 2, 2, 2, 2])"
      ]
     },
     "execution_count": 308,
     "metadata": {},
     "output_type": "execute_result"
    }
   ],
   "source": [
    "y"
   ]
  },
  {
   "cell_type": "code",
   "execution_count": 201,
   "metadata": {},
   "outputs": [
    {
     "data": {
      "text/plain": [
       "array([0, 0, 0])"
      ]
     },
     "execution_count": 201,
     "metadata": {},
     "output_type": "execute_result"
    }
   ],
   "source": [
    "svm.predict([[3.3 ,       1.0        ],\n",
    " [3.31299304, 1.        ],\n",
    " [3.32598608, 1.        ]])"
   ]
  },
  {
   "cell_type": "code",
   "execution_count": 160,
   "metadata": {},
   "outputs": [
    {
     "name": "stderr",
     "output_type": "stream",
     "text": [
      "/usr/local/lib/python3.7/dist-packages/mlxtend/plotting/decision_regions.py:249: MatplotlibDeprecationWarning: Passing unsupported keyword arguments to axis() will raise a TypeError in 3.3.\n",
      "  ax.axis(xmin=xx.min(), xmax=xx.max(), y_min=yy.min(), y_max=yy.max())\n"
     ]
    },
    {
     "data": {
      "image/png": "[encoded data removed]",
      "text/plain": [
       "<Figure size 432x288 with 1 Axes>"
      ]
     },
     "metadata": {
      "needs_background": "light"
     },
     "output_type": "display_data"
    }
   ],
   "source": [
    "from mlxtend.plotting import plot_decision_regions\n",
    "import matplotlib.pyplot as plt\n",
    "from sklearn import datasets\n",
    "from sklearn.svm import SVC\n",
    "\n",
    "# Loading some example data\n",
    "iris2 = datasets.load_iris()\n",
    "X = iris2.data[:, [0, 2]]\n",
    "y = iris2.target\n",
    "\n",
    "# Training a classifier\n",
    "svm = SVC(C=0.5, kernel='linear')\n",
    "svm.fit(X, y)\n",
    "\n",
    "\n",
    "# Plotting decision regions\n",
    "plot_decision_regions(X, y, clf=svm, legend=2)\n",
    "\n",
    "# Adding axes annotations\n",
    "plt.xlabel('sepal length [cm]')\n",
    "plt.ylabel('petal length [cm]')\n",
    "plt.title('SVM on Iris')\n",
    "plt.show()"
   ]
  },
  {
   "cell_type": "code",
   "execution_count": 142,
   "metadata": {},
   "outputs": [],
   "source": [
    "iris = datasets.load_iris()\n",
    "X = iris.data[:, [0, 2]]\n",
    "y = iris.target\n"
   ]
  },
  {
   "cell_type": "code",
   "execution_count": 144,
   "metadata": {},
   "outputs": [
    {
     "data": {
      "text/plain": [
       "array([0, 0, 0, 0, 0, 0, 0, 0, 0, 0, 0, 0, 0, 0, 0, 0, 0, 0, 0, 0, 0, 0,\n",
       "       0, 0, 0, 0, 0, 0, 0, 0, 0, 0, 0, 0, 0, 0, 0, 0, 0, 0, 0, 0, 0, 0,\n",
       "       0, 0, 0, 0, 0, 0, 1, 1, 1, 1, 1, 1, 1, 1, 1, 1, 1, 1, 1, 1, 1, 1,\n",
       "       1, 1, 1, 1, 1, 1, 1, 1, 1, 1, 1, 1, 1, 1, 1, 1, 1, 1, 1, 1, 1, 1,\n",
       "       1, 1, 1, 1, 1, 1, 1, 1, 1, 1, 1, 1, 2, 2, 2, 2, 2, 2, 2, 2, 2, 2,\n",
       "       2, 2, 2, 2, 2, 2, 2, 2, 2, 2, 2, 2, 2, 2, 2, 2, 2, 2, 2, 2, 2, 2,\n",
       "       2, 2, 2, 2, 2, 2, 2, 2, 2, 2, 2, 2, 2, 2, 2, 2, 2, 2])"
      ]
     },
     "execution_count": 144,
     "metadata": {},
     "output_type": "execute_result"
    }
   ],
   "source": [
    "y"
   ]
  },
  {
   "cell_type": "code",
   "execution_count": 143,
   "metadata": {},
   "outputs": [
    {
     "data": {
      "text/plain": [
       "array([[5.1, 1.4],\n",
       "       [4.9, 1.4],\n",
       "       [4.7, 1.3],\n",
       "       [4.6, 1.5],\n",
       "       [5. , 1.4],\n",
       "       [5.4, 1.7],\n",
       "       [4.6, 1.4],\n",
       "       [5. , 1.5],\n",
       "       [4.4, 1.4],\n",
       "       [4.9, 1.5],\n",
       "       [5.4, 1.5],\n",
       "       [4.8, 1.6],\n",
       "       [4.8, 1.4],\n",
       "       [4.3, 1.1],\n",
       "       [5.8, 1.2],\n",
       "       [5.7, 1.5],\n",
       "       [5.4, 1.3],\n",
       "       [5.1, 1.4],\n",
       "       [5.7, 1.7],\n",
       "       [5.1, 1.5],\n",
       "       [5.4, 1.7],\n",
       "       [5.1, 1.5],\n",
       "       [4.6, 1. ],\n",
       "       [5.1, 1.7],\n",
       "       [4.8, 1.9],\n",
       "       [5. , 1.6],\n",
       "       [5. , 1.6],\n",
       "       [5.2, 1.5],\n",
       "       [5.2, 1.4],\n",
       "       [4.7, 1.6],\n",
       "       [4.8, 1.6],\n",
       "       [5.4, 1.5],\n",
       "       [5.2, 1.5],\n",
       "       [5.5, 1.4],\n",
       "       [4.9, 1.5],\n",
       "       [5. , 1.2],\n",
       "       [5.5, 1.3],\n",
       "       [4.9, 1.4],\n",
       "       [4.4, 1.3],\n",
       "       [5.1, 1.5],\n",
       "       [5. , 1.3],\n",
       "       [4.5, 1.3],\n",
       "       [4.4, 1.3],\n",
       "       [5. , 1.6],\n",
       "       [5.1, 1.9],\n",
       "       [4.8, 1.4],\n",
       "       [5.1, 1.6],\n",
       "       [4.6, 1.4],\n",
       "       [5.3, 1.5],\n",
       "       [5. , 1.4],\n",
       "       [7. , 4.7],\n",
       "       [6.4, 4.5],\n",
       "       [6.9, 4.9],\n",
       "       [5.5, 4. ],\n",
       "       [6.5, 4.6],\n",
       "       [5.7, 4.5],\n",
       "       [6.3, 4.7],\n",
       "       [4.9, 3.3],\n",
       "       [6.6, 4.6],\n",
       "       [5.2, 3.9],\n",
       "       [5. , 3.5],\n",
       "       [5.9, 4.2],\n",
       "       [6. , 4. ],\n",
       "       [6.1, 4.7],\n",
       "       [5.6, 3.6],\n",
       "       [6.7, 4.4],\n",
       "       [5.6, 4.5],\n",
       "       [5.8, 4.1],\n",
       "       [6.2, 4.5],\n",
       "       [5.6, 3.9],\n",
       "       [5.9, 4.8],\n",
       "       [6.1, 4. ],\n",
       "       [6.3, 4.9],\n",
       "       [6.1, 4.7],\n",
       "       [6.4, 4.3],\n",
       "       [6.6, 4.4],\n",
       "       [6.8, 4.8],\n",
       "       [6.7, 5. ],\n",
       "       [6. , 4.5],\n",
       "       [5.7, 3.5],\n",
       "       [5.5, 3.8],\n",
       "       [5.5, 3.7],\n",
       "       [5.8, 3.9],\n",
       "       [6. , 5.1],\n",
       "       [5.4, 4.5],\n",
       "       [6. , 4.5],\n",
       "       [6.7, 4.7],\n",
       "       [6.3, 4.4],\n",
       "       [5.6, 4.1],\n",
       "       [5.5, 4. ],\n",
       "       [5.5, 4.4],\n",
       "       [6.1, 4.6],\n",
       "       [5.8, 4. ],\n",
       "       [5. , 3.3],\n",
       "       [5.6, 4.2],\n",
       "       [5.7, 4.2],\n",
       "       [5.7, 4.2],\n",
       "       [6.2, 4.3],\n",
       "       [5.1, 3. ],\n",
       "       [5.7, 4.1],\n",
       "       [6.3, 6. ],\n",
       "       [5.8, 5.1],\n",
       "       [7.1, 5.9],\n",
       "       [6.3, 5.6],\n",
       "       [6.5, 5.8],\n",
       "       [7.6, 6.6],\n",
       "       [4.9, 4.5],\n",
       "       [7.3, 6.3],\n",
       "       [6.7, 5.8],\n",
       "       [7.2, 6.1],\n",
       "       [6.5, 5.1],\n",
       "       [6.4, 5.3],\n",
       "       [6.8, 5.5],\n",
       "       [5.7, 5. ],\n",
       "       [5.8, 5.1],\n",
       "       [6.4, 5.3],\n",
       "       [6.5, 5.5],\n",
       "       [7.7, 6.7],\n",
       "       [7.7, 6.9],\n",
       "       [6. , 5. ],\n",
       "       [6.9, 5.7],\n",
       "       [5.6, 4.9],\n",
       "       [7.7, 6.7],\n",
       "       [6.3, 4.9],\n",
       "       [6.7, 5.7],\n",
       "       [7.2, 6. ],\n",
       "       [6.2, 4.8],\n",
       "       [6.1, 4.9],\n",
       "       [6.4, 5.6],\n",
       "       [7.2, 5.8],\n",
       "       [7.4, 6.1],\n",
       "       [7.9, 6.4],\n",
       "       [6.4, 5.6],\n",
       "       [6.3, 5.1],\n",
       "       [6.1, 5.6],\n",
       "       [7.7, 6.1],\n",
       "       [6.3, 5.6],\n",
       "       [6.4, 5.5],\n",
       "       [6. , 4.8],\n",
       "       [6.9, 5.4],\n",
       "       [6.7, 5.6],\n",
       "       [6.9, 5.1],\n",
       "       [5.8, 5.1],\n",
       "       [6.8, 5.9],\n",
       "       [6.7, 5.7],\n",
       "       [6.7, 5.2],\n",
       "       [6.3, 5. ],\n",
       "       [6.5, 5.2],\n",
       "       [6.2, 5.4],\n",
       "       [5.9, 5.1]])"
      ]
     },
     "execution_count": 143,
     "metadata": {},
     "output_type": "execute_result"
    }
   ],
   "source": [
    "X"
   ]
  },
  {
   "cell_type": "code",
   "execution_count": 123,
   "metadata": {},
   "outputs": [
    {
     "name": "stdout",
     "output_type": "stream",
     "text": [
      "Number of mislabeled points out of a total 75 points : 4\n"
     ]
    }
   ],
   "source": [
    "from sklearn.datasets import load_iris\n",
    "from sklearn.model_selection import train_test_split\n",
    "from sklearn.naive_bayes import GaussianNB\n",
    "X, y = load_iris(return_X_y=True)\n",
    "X_train, X_test, y_train, y_test = train_test_split(X, y, test_size=0.5, random_state=0)\n",
    "gnb = GaussianNB()\n",
    "y_pred = gnb.fit(X_train, y_train).predict(X_test)\n",
    "print(\"Number of mislabeled points out of a total %d points : %d\" % (X_test.shape[0], (y_test != y_pred).sum()))\n",
    "\n"
   ]
  },
  {
   "cell_type": "code",
   "execution_count": null,
   "metadata": {},
   "outputs": [],
   "source": []
  },
  {
   "cell_type": "code",
   "execution_count": 197,
   "metadata": {},
   "outputs": [
    {
     "data": {
      "image/png": "[encoded data removed]",
      "text/plain": [
       "<Figure size 432x288 with 1 Axes>"
      ]
     },
     "metadata": {
      "needs_background": "light"
     },
     "output_type": "display_data"
    },
    {
     "data": {
      "image/png": "[encoded data removed]",
      "text/plain": [
       "<Figure size 432x288 with 1 Axes>"
      ]
     },
     "metadata": {
      "needs_background": "light"
     },
     "output_type": "display_data"
    }
   ],
   "source": [
    "import numpy as np\n",
    "import matplotlib.pyplot as plt\n",
    "from matplotlib.colors import ListedColormap\n",
    "from sklearn import neighbors, datasets\n",
    "\n",
    "n_neighbors = 15\n",
    "\n",
    "# import some data to play with\n",
    "iris2 = datasets.load_iris()\n",
    "X = iris2.data[:, :2]  # we only take the first two features. We could\n",
    "                      # avoid this ugly slicing by using a two-dim dataset\n",
    "y = iris2.target\n",
    "\n",
    "h = .02  # step size in the mesh\n",
    "\n",
    "# Create color maps\n",
    "cmap_light = ListedColormap(['#FFAAAA', '#AAFFAA', '#AAAAFF'])\n",
    "cmap_bold = ListedColormap(['#FF0000', '#00FF00', '#0000FF'])\n",
    "\n",
    "for weights in ['uniform', 'distance']:\n",
    "    # we create an instance of Neighbours Classifier and fit the data.\n",
    "    clf = neighbors.KNeighborsClassifier(n_neighbors, weights=weights)\n",
    "    clf.fit(X, y)\n",
    "\n",
    "    # Plot the decision boundary. For that, we will assign a color to each\n",
    "    # point in the mesh [x_min, x_max]x[y_min, y_max].\n",
    "    x_min, x_max = X[:, 0].min() - 1, X[:, 0].max() + 1\n",
    "    y_min, y_max = X[:, 1].min() - 1, X[:, 1].max() + 1\n",
    "    xx, yy = np.meshgrid(np.arange(x_min, x_max, h),\n",
    "                         np.arange(y_min, y_max, h))\n",
    "    Z = clf.predict(np.c_[xx.ravel(), yy.ravel()])\n",
    "\n",
    "    # Put the result into a color plot\n",
    "    Z = Z.reshape(xx.shape)\n",
    "    plt.figure()\n",
    "    plt.pcolormesh(xx, yy, Z, cmap=cmap_light)\n",
    "\n",
    "    # Plot also the training points\n",
    "    plt.scatter(X[:, 0], X[:, 1], c=y, cmap=cmap_bold)\n",
    "    plt.xlim(xx.min(), xx.max())\n",
    "    plt.ylim(yy.min(), yy.max())\n",
    "    plt.title(\"3-Class classification (k = %i, weights = '%s')\"\n",
    "              % (n_neighbors, weights))\n",
    "\n",
    "plt.show()"
   ]
  },
  {
   "cell_type": "markdown",
   "metadata": {},
   "source": [
    "# Cassini Dataset"
   ]
  },
  {
   "cell_type": "code",
   "execution_count": 330,
   "metadata": {},
   "outputs": [
    {
     "name": "stdout",
     "output_type": "stream",
     "text": [
      "\n",
      "R version 3.6.3 (2020-02-29) -- \"Holding the Windsock\"\n",
      "Copyright (C) 2020 The R Foundation for Statistical Computing\n",
      "Platform: x86_64-pc-linux-gnu (64-bit)\n",
      "\n",
      "R é um software livre e vem sem GARANTIA ALGUMA.\n",
      "Você pode redistribuí-lo sob certas circunstâncias.\n",
      "Digite 'license()' ou 'licence()' para detalhes de distribuição.\n",
      "\n",
      "R é um projeto colaborativo com muitos contribuidores.\n",
      "Digite 'contributors()' para obter mais informações e\n",
      "'citation()' para saber como citar o R ou pacotes do R em publicações.\n",
      "\n",
      "Digite 'demo()' para demonstrações, 'help()' para o sistema on-line de ajuda,\n",
      "ou 'help.start()' para abrir o sistema de ajuda em HTML no seu navegador.\n",
      "Digite 'q()' para sair do R.\n",
      "\n",
      "> library(mlbench); write.csv(mlbench.cassini(500), 'data/cassini500.csv')\n",
      "> \n",
      "> \n"
     ]
    }
   ],
   "source": [
    "# baixando dataset do R\n",
    "!R -e \"library(mlbench); write.csv(mlbench.cassini(500), 'data/cassini500.csv')\""
   ]
  },
  {
   "cell_type": "code",
   "execution_count": 333,
   "metadata": {},
   "outputs": [
    {
     "name": "stdout",
     "output_type": "stream",
     "text": [
      "\"\",\"x.1\",\"x.2\",\"classes\"\r\n",
      "\"1\",-0.138816425326661,-1.57714330665767,\"1\"\r\n",
      "\"2\",0.607304521645446,-0.944022665172815,\"1\"\r\n",
      "\"3\",0.902953229415305,-1.46385937258601,\"1\"\r\n",
      "\"4\",0.772474316316862,-1.44147698171437,\"1\"\r\n",
      "\"5\",-0.55807950490081,-1.58027114123106,\"1\"\r\n",
      "\"6\",0.892488738218637,-1.5879832804203,\"1\"\r\n",
      "\"7\",-1.2931302092821,-0.831876108422875,\"1\"\r\n",
      "\"8\",-0.37533259053603,-1.46394060440362,\"1\"\r\n",
      "\"9\",0.867808011428578,-1.27059731073678,\"1\"\r\n"
     ]
    }
   ],
   "source": [
    "!head data/cassini500.csv"
   ]
  },
  {
   "cell_type": "code",
   "execution_count": 87,
   "metadata": {},
   "outputs": [
    {
     "name": "stdout",
     "output_type": "stream",
     "text": [
      "501 data/cassini500.csv\r\n"
     ]
    }
   ],
   "source": [
    "!wc -l data/cassini500.csv"
   ]
  },
  {
   "cell_type": "code",
   "execution_count": 119,
   "metadata": {},
   "outputs": [
    {
     "data": {
      "image/png": "[encoded data removed]",
      "text/plain": [
       "<Figure size 432x288 with 1 Axes>"
      ]
     },
     "metadata": {
      "needs_background": "light"
     },
     "output_type": "display_data"
    }
   ],
   "source": [
    "cassini = Classificador()\n",
    "cassini.carregar('data/cassini500.csv', delimiter=',', ignoraColuna1=True)\n",
    "cassini.dados\n",
    "cassini.treinar()\n",
    "cassini.graficoFronteira()"
   ]
  },
  {
   "cell_type": "code",
   "execution_count": 106,
   "metadata": {},
   "outputs": [
    {
     "data": {
      "text/plain": [
       "500"
      ]
     },
     "execution_count": 106,
     "metadata": {},
     "output_type": "execute_result"
    }
   ],
   "source": [
    "len(cassini.dados)"
   ]
  },
  {
   "cell_type": "code",
   "execution_count": 107,
   "metadata": {},
   "outputs": [
    {
     "ename": "KeyError",
     "evalue": "-2.3757093373591998",
     "output_type": "error",
     "traceback": [
      "\u001b[0;31m---------------------------------------------------------------------------\u001b[0m",
      "\u001b[0;31mKeyError\u001b[0m                                  Traceback (most recent call last)",
      "\u001b[0;32m<ipython-input-107-cdd6d4ef300f>\u001b[0m in \u001b[0;36m<module>\u001b[0;34m()\u001b[0m\n\u001b[0;32m----> 1\u001b[0;31m \u001b[0mcassini\u001b[0m\u001b[0;34m.\u001b[0m\u001b[0mgraficoFronteira\u001b[0m\u001b[0;34m(\u001b[0m\u001b[0;34m)\u001b[0m\u001b[0;34m\u001b[0m\u001b[0;34m\u001b[0m\u001b[0m\n\u001b[0m",
      "\u001b[0;32m<ipython-input-103-1ce270ed0dfd>\u001b[0m in \u001b[0;36mgraficoFronteira\u001b[0;34m(self)\u001b[0m\n\u001b[1;32m    135\u001b[0m         \u001b[0mX\u001b[0m \u001b[0;34m=\u001b[0m \u001b[0mnp\u001b[0m\u001b[0;34m.\u001b[0m\u001b[0marray\u001b[0m\u001b[0;34m(\u001b[0m\u001b[0;34m[\u001b[0m \u001b[0;34m[\u001b[0m\u001b[0mfloat\u001b[0m\u001b[0;34m(\u001b[0m\u001b[0mx\u001b[0m\u001b[0;34m[\u001b[0m\u001b[0;36m0\u001b[0m\u001b[0;34m]\u001b[0m\u001b[0;34m)\u001b[0m\u001b[0;34m,\u001b[0m\u001b[0mfloat\u001b[0m\u001b[0;34m(\u001b[0m\u001b[0mx\u001b[0m\u001b[0;34m[\u001b[0m\u001b[0;36m1\u001b[0m\u001b[0;34m]\u001b[0m\u001b[0;34m)\u001b[0m\u001b[0;34m]\u001b[0m \u001b[0;32mfor\u001b[0m \u001b[0mx\u001b[0m \u001b[0;32min\u001b[0m \u001b[0mself\u001b[0m\u001b[0;34m.\u001b[0m\u001b[0mdados\u001b[0m \u001b[0;34m]\u001b[0m\u001b[0;34m)\u001b[0m\u001b[0;34m\u001b[0m\u001b[0;34m\u001b[0m\u001b[0m\n\u001b[1;32m    136\u001b[0m         \u001b[0my\u001b[0m \u001b[0;34m=\u001b[0m \u001b[0mnp\u001b[0m\u001b[0;34m.\u001b[0m\u001b[0marray\u001b[0m\u001b[0;34m(\u001b[0m\u001b[0;34m[\u001b[0m \u001b[0mint\u001b[0m\u001b[0;34m(\u001b[0m\u001b[0mx\u001b[0m\u001b[0;34m[\u001b[0m\u001b[0;36m2\u001b[0m\u001b[0;34m]\u001b[0m\u001b[0;34m)\u001b[0m \u001b[0;32mfor\u001b[0m \u001b[0mx\u001b[0m \u001b[0;32min\u001b[0m \u001b[0mself\u001b[0m\u001b[0;34m.\u001b[0m\u001b[0mdados\u001b[0m \u001b[0;34m]\u001b[0m\u001b[0;34m)\u001b[0m\u001b[0;34m\u001b[0m\u001b[0;34m\u001b[0m\u001b[0m\n\u001b[0;32m--> 137\u001b[0;31m         \u001b[0mplot_decision_regions\u001b[0m\u001b[0;34m(\u001b[0m\u001b[0mX\u001b[0m\u001b[0;34m,\u001b[0m \u001b[0my\u001b[0m\u001b[0;34m,\u001b[0m \u001b[0mclf\u001b[0m\u001b[0;34m=\u001b[0m\u001b[0mself\u001b[0m\u001b[0;34m,\u001b[0m \u001b[0mlegend\u001b[0m\u001b[0;34m=\u001b[0m\u001b[0;36m2\u001b[0m\u001b[0;34m)\u001b[0m\u001b[0;34m\u001b[0m\u001b[0;34m\u001b[0m\u001b[0m\n\u001b[0m\u001b[1;32m    138\u001b[0m \u001b[0;34m\u001b[0m\u001b[0m\n",
      "\u001b[0;32m/usr/local/lib/python3.7/dist-packages/mlxtend/plotting/decision_regions.py\u001b[0m in \u001b[0;36mplot_decision_regions\u001b[0;34m(X, y, clf, feature_index, filler_feature_values, filler_feature_ranges, ax, X_highlight, res, zoom_factor, legend, hide_spines, markers, colors, scatter_kwargs, contourf_kwargs, scatter_highlight_kwargs)\u001b[0m\n\u001b[1;32m    228\u001b[0m             \u001b[0;32mfor\u001b[0m \u001b[0mfeature_idx\u001b[0m \u001b[0;32min\u001b[0m \u001b[0mfiller_feature_values\u001b[0m\u001b[0;34m:\u001b[0m\u001b[0;34m\u001b[0m\u001b[0;34m\u001b[0m\u001b[0m\n\u001b[1;32m    229\u001b[0m                 \u001b[0mX_predict\u001b[0m\u001b[0;34m[\u001b[0m\u001b[0;34m:\u001b[0m\u001b[0;34m,\u001b[0m \u001b[0mfeature_idx\u001b[0m\u001b[0;34m]\u001b[0m \u001b[0;34m=\u001b[0m \u001b[0mfiller_feature_values\u001b[0m\u001b[0;34m[\u001b[0m\u001b[0mfeature_idx\u001b[0m\u001b[0;34m]\u001b[0m\u001b[0;34m\u001b[0m\u001b[0;34m\u001b[0m\u001b[0m\n\u001b[0;32m--> 230\u001b[0;31m     \u001b[0mZ\u001b[0m \u001b[0;34m=\u001b[0m \u001b[0mclf\u001b[0m\u001b[0;34m.\u001b[0m\u001b[0mpredict\u001b[0m\u001b[0;34m(\u001b[0m\u001b[0mX_predict\u001b[0m\u001b[0;34m.\u001b[0m\u001b[0mastype\u001b[0m\u001b[0;34m(\u001b[0m\u001b[0mX\u001b[0m\u001b[0;34m.\u001b[0m\u001b[0mdtype\u001b[0m\u001b[0;34m)\u001b[0m\u001b[0;34m)\u001b[0m\u001b[0;34m\u001b[0m\u001b[0;34m\u001b[0m\u001b[0m\n\u001b[0m\u001b[1;32m    231\u001b[0m     \u001b[0mZ\u001b[0m \u001b[0;34m=\u001b[0m \u001b[0mZ\u001b[0m\u001b[0;34m.\u001b[0m\u001b[0mreshape\u001b[0m\u001b[0;34m(\u001b[0m\u001b[0mxx\u001b[0m\u001b[0;34m.\u001b[0m\u001b[0mshape\u001b[0m\u001b[0;34m)\u001b[0m\u001b[0;34m\u001b[0m\u001b[0;34m\u001b[0m\u001b[0m\n\u001b[1;32m    232\u001b[0m     \u001b[0;31m# Plot decisoin region\u001b[0m\u001b[0;34m\u001b[0m\u001b[0;34m\u001b[0m\u001b[0;34m\u001b[0m\u001b[0m\n",
      "\u001b[0;32m<ipython-input-103-1ce270ed0dfd>\u001b[0m in \u001b[0;36mpredict\u001b[0;34m(self, tupla)\u001b[0m\n\u001b[1;32m    129\u001b[0m         \u001b[0mres\u001b[0m \u001b[0;34m=\u001b[0m \u001b[0;34m[\u001b[0m\u001b[0;34m]\u001b[0m\u001b[0;34m\u001b[0m\u001b[0;34m\u001b[0m\u001b[0m\n\u001b[1;32m    130\u001b[0m         \u001b[0;32mfor\u001b[0m \u001b[0mt\u001b[0m \u001b[0;32min\u001b[0m \u001b[0mtupla\u001b[0m\u001b[0;34m:\u001b[0m\u001b[0;34m\u001b[0m\u001b[0;34m\u001b[0m\u001b[0m\n\u001b[0;32m--> 131\u001b[0;31m             \u001b[0mres\u001b[0m\u001b[0;34m.\u001b[0m\u001b[0mappend\u001b[0m\u001b[0;34m(\u001b[0m\u001b[0mint\u001b[0m\u001b[0;34m(\u001b[0m\u001b[0mverificar\u001b[0m\u001b[0;34m(\u001b[0m\u001b[0mself\u001b[0m\u001b[0;34m.\u001b[0m\u001b[0mmodelo\u001b[0m\u001b[0;34m,\u001b[0m \u001b[0mt\u001b[0m\u001b[0;34m)\u001b[0m\u001b[0;34m)\u001b[0m\u001b[0;34m)\u001b[0m\u001b[0;34m\u001b[0m\u001b[0;34m\u001b[0m\u001b[0m\n\u001b[0m\u001b[1;32m    132\u001b[0m         \u001b[0;32mreturn\u001b[0m\u001b[0;34m(\u001b[0m\u001b[0mnp\u001b[0m\u001b[0;34m.\u001b[0m\u001b[0marray\u001b[0m\u001b[0;34m(\u001b[0m\u001b[0mres\u001b[0m\u001b[0;34m)\u001b[0m\u001b[0;34m)\u001b[0m\u001b[0;34m\u001b[0m\u001b[0;34m\u001b[0m\u001b[0m\n\u001b[1;32m    133\u001b[0m \u001b[0;34m\u001b[0m\u001b[0m\n",
      "\u001b[0;32m<ipython-input-5-82730b01f79d>\u001b[0m in \u001b[0;36mverificar\u001b[0;34m(probdata, tupla, debug)\u001b[0m\n\u001b[1;32m     19\u001b[0m                     \u001b[0mnumerador\u001b[0m \u001b[0;34m=\u001b[0m \u001b[0mnumerador\u001b[0m \u001b[0;34m*\u001b[0m \u001b[0;36m0.001\u001b[0m\u001b[0;34m\u001b[0m\u001b[0;34m\u001b[0m\u001b[0m\n\u001b[1;32m     20\u001b[0m                 \u001b[0;31m#if v in probdata:\u001b[0m\u001b[0;34m\u001b[0m\u001b[0;34m\u001b[0m\u001b[0;34m\u001b[0m\u001b[0m\n\u001b[0;32m---> 21\u001b[0;31m                 \u001b[0mdenominador\u001b[0m \u001b[0;34m=\u001b[0m \u001b[0mdenominador\u001b[0m \u001b[0;34m*\u001b[0m \u001b[0mprobdata\u001b[0m\u001b[0;34m[\u001b[0m\u001b[0mv\u001b[0m\u001b[0;34m]\u001b[0m\u001b[0;34m\u001b[0m\u001b[0;34m\u001b[0m\u001b[0m\n\u001b[0m\u001b[1;32m     22\u001b[0m                 \u001b[0;31m#else:\u001b[0m\u001b[0;34m\u001b[0m\u001b[0;34m\u001b[0m\u001b[0;34m\u001b[0m\u001b[0m\n\u001b[1;32m     23\u001b[0m                 \u001b[0;31m#denominador = denominador * 0.001\u001b[0m\u001b[0;34m\u001b[0m\u001b[0;34m\u001b[0m\u001b[0;34m\u001b[0m\u001b[0m\n",
      "\u001b[0;31mKeyError\u001b[0m: -2.3757093373591998"
     ]
    },
    {
     "data": {
      "image/png": "[encoded data removed]",
      "text/plain": [
       "<Figure size 432x288 with 1 Axes>"
      ]
     },
     "metadata": {
      "needs_background": "light"
     },
     "output_type": "display_data"
    }
   ],
   "source": [
    "cassini.graficoFronteira()"
   ]
  },
  {
   "cell_type": "code",
   "execution_count": 100,
   "metadata": {},
   "outputs": [
    {
     "data": {
      "text/plain": [
       "[(-0.138816425326661, -1.57714330665767, '1'),\n",
       " (0.607304521645446, -0.944022665172815, '1'),\n",
       " (0.902953229415305, -1.46385937258601, '1'),\n",
       " (0.772474316316862, -1.44147698171437, '1'),\n",
       " (-0.55807950490081, -1.58027114123106, '1'),\n",
       " (0.892488738218637, -1.5879832804203, '1'),\n",
       " (-1.2931302092821, -0.831876108422875, '1'),\n",
       " (-0.37533259053603, -1.46394060440362, '1'),\n",
       " (0.867808011428578, -1.27059731073678, '1'),\n",
       " (-0.389600563916812, -1.1817204400897, '1'),\n",
       " (0.261913578847452, -1.09905673265457, '1'),\n",
       " (-0.762425970767612, -1.35320575796068, '1'),\n",
       " (0.332797961065063, -0.955842364579439, '1'),\n",
       " (1.04870653396271, -0.637509609386325, '1'),\n",
       " (-0.717199362283278, -1.71302444376051, '1'),\n",
       " (0.366440309565887, -1.35327329076827, '1'),\n",
       " (0.728158836146804, -1.38614354506135, '1'),\n",
       " (1.03815581009292, -0.726706255227327, '1'),\n",
       " (-0.866654045528387, -1.20148813761771, '1'),\n",
       " (0.317051835900193, -1.25477874130011, '1'),\n",
       " (0.0790315244815503, -1.89528398215771, '1'),\n",
       " (-0.371483551774018, -1.41952365711331, '1'),\n",
       " (1.30857006875092, -1.32137142531574, '1'),\n",
       " (0.723491279521813, -0.971497238427401, '1'),\n",
       " (0.577422699555712, -1.2152496162802, '1'),\n",
       " (-0.789384926077423, -0.83536095879972, '1'),\n",
       " (1.05866330704714, -0.915392994135618, '1'),\n",
       " (0.390515800062585, -1.02806188128889, '1'),\n",
       " (-0.436508828570945, -1.14330349229276, '1'),\n",
       " (0.488866921225138, -1.74944821968675, '1'),\n",
       " (1.0383057757847, -1.15553899779916, '1'),\n",
       " (-0.93860158539892, -1.20544747374952, '1'),\n",
       " (0.682983513277001, -0.9706647336483, '1'),\n",
       " (1.2180847968135, -1.35059728585184, '1'),\n",
       " (-0.0426180693117064, -1.37259862273932, '1'),\n",
       " (-0.83844315915433, -0.923089444637299, '1'),\n",
       " (0.4767915230172, -1.65665200650692, '1'),\n",
       " (0.510128745012139, -0.697120296210051, '1'),\n",
       " (0.327791683501737, -1.22709556855261, '1'),\n",
       " (0.304688597553723, -0.757838758826256, '1'),\n",
       " (0.0199859080988918, -1.70295568928123, '1'),\n",
       " (0.733483442106567, -1.82775300592184, '1'),\n",
       " (-0.519474683163632, -1.47320215925574, '1'),\n",
       " (-0.535926273893928, -1.40790482349694, '1'),\n",
       " (0.0754967731048575, -1.62859392538667, '1'),\n",
       " (-0.978379550485264, -1.66400355584919, '1'),\n",
       " (0.153060573025261, -1.53136684373021, '1'),\n",
       " (0.209398256542343, -1.74979261383414, '1'),\n",
       " (0.455922600467864, -1.75528782233596, '1'),\n",
       " (-0.374726021078783, -0.928263129666448, '1'),\n",
       " (0.0354217914307509, -1.4450778786093, '1'),\n",
       " (0.368206409179604, -1.38169187530875, '1'),\n",
       " (1.38040938944845, -1.00307524576783, '1'),\n",
       " (-1.23281187420969, -0.96045166477561, '1'),\n",
       " (0.628907416112678, -0.609311808273196, '1'),\n",
       " (1.16793832962778, -1.46371708475053, '1'),\n",
       " (-0.440505322394931, -1.21763756163418, '1'),\n",
       " (0.353659747457344, -1.78113756738603, '1'),\n",
       " (-0.545868382175613, -0.752096981927753, '1'),\n",
       " (0.877796368495397, -1.59452820643783, '1'),\n",
       " (-0.511173235126946, -1.33287303335965, '1'),\n",
       " (1.35362247455915, -1.14302084371448, '1'),\n",
       " (0.540645046718104, -0.923259936273098, '1'),\n",
       " (-0.52071388721614, -0.718107580021024, '1'),\n",
       " (0.349717970441949, -1.2144197370857, '1'),\n",
       " (0.519183191258913, -0.661235038936138, '1'),\n",
       " (0.155675931120325, -1.55641446523368, '1'),\n",
       " (-0.488070323041667, -1.20677487812936, '1'),\n",
       " (-0.0704203782572728, -1.49031608477235, '1'),\n",
       " (1.21138133220766, -1.33261289261281, '1'),\n",
       " (1.07867602244438, -1.3587385006249, '1'),\n",
       " (0.780827543011658, -1.23627291359007, '1'),\n",
       " (-0.107058628213031, -1.36782439276576, '1'),\n",
       " (-0.997750116194922, -1.49989944249392, '1'),\n",
       " (0.835230873847683, -0.970762925595045, '1'),\n",
       " (0.566765695601422, -1.30806477889419, '1'),\n",
       " (-0.36832732487349, -0.720546619221568, '1'),\n",
       " (0.86074729847446, -1.10155612416565, '1'),\n",
       " (-0.667651976131087, -1.83494800888002, '1'),\n",
       " (-0.966461997583972, -1.27646814472973, '1'),\n",
       " (-0.0467849992183511, -0.884267923608422, '1'),\n",
       " (0.109129437191816, -1.76090741530061, '1'),\n",
       " (-0.894863954248927, -0.617697760090232, '1'),\n",
       " (-1.03804099840829, -0.995323431864381, '1'),\n",
       " (-0.555361227851212, -0.815102174133062, '1'),\n",
       " (0.471394885336862, -0.805444954708219, '1'),\n",
       " (-1.0964789742614, -1.42205662503839, '1'),\n",
       " (-1.13032375348067, -1.49442817829549, '1'),\n",
       " (0.734418966346848, -1.66575810164213, '1'),\n",
       " (-0.493174781799984, -1.51219430491328, '1'),\n",
       " (-0.814193541235552, -1.34794892705977, '1'),\n",
       " (-0.678420690785403, -1.67313917167485, '1'),\n",
       " (0.356462433567558, -1.09746510200202, '1'),\n",
       " (-0.868373233991847, -1.51008149459958, '1'),\n",
       " (0.241897558760753, -1.37586049363017, '1'),\n",
       " (0.791519732112679, -1.27375585176051, '1'),\n",
       " (-1.06946453662796, -1.11709039658308, '1'),\n",
       " (1.33921256755573, -0.962486155331135, '1'),\n",
       " (0.923822331017309, -1.2150652166456, '1'),\n",
       " (-0.284687794348833, -0.992730575427413, '1'),\n",
       " (-0.626171018414091, -1.53980652615428, '1'),\n",
       " (0.66910849368195, -1.16989106722176, '1'),\n",
       " (0.823219510971968, -0.786327242851257, '1'),\n",
       " (0.94847143944168, -1.18377079404891, '1'),\n",
       " (-0.926275720404432, -1.03705035075545, '1'),\n",
       " (-0.459667113991264, -1.81696989834309, '1'),\n",
       " (-1.22468286102838, -1.04690572284162, '1'),\n",
       " (0.338131812889404, -0.927946943789721, '1'),\n",
       " (-0.0351462741379711, -1.83616486079991, '1'),\n",
       " (-1.24382399409878, -1.52307442910969, '1'),\n",
       " (0.587148778198572, -1.83161345236003, '1'),\n",
       " (-0.132910359451363, -1.1294554810971, '1'),\n",
       " (-0.590448589768984, -0.993817458674312, '1'),\n",
       " (-0.751369832466841, -0.702692971751094, '1'),\n",
       " (0.442474383397681, -0.698860722407699, '1'),\n",
       " (-0.179043335135733, -1.4477386880666, '1'),\n",
       " (-0.246814503963837, -0.82651641368866, '1'),\n",
       " (-1.24090857097941, -1.11253496482968, '1'),\n",
       " (-0.473332357167295, -1.6650073710829, '1'),\n",
       " (-1.08249794380958, -1.54239111281931, '1'),\n",
       " (0.79200781216944, -1.67802884764969, '1'),\n",
       " (-0.445819538110022, -1.53303672038019, '1'),\n",
       " (0.902474782521828, -0.827335992828012, '1'),\n",
       " (-0.353110406735972, -1.69007585197687, '1'),\n",
       " (0.274097407718137, -1.55030551366508, '1'),\n",
       " (0.378369364654869, -1.01578838601708, '1'),\n",
       " (0.445249640066399, -1.58373133093119, '1'),\n",
       " (1.1394446931414, -1.15755533203483, '1'),\n",
       " (0.0132470539927285, -1.77704892009497, '1'),\n",
       " (-0.559657985863163, -1.83191758207977, '1'),\n",
       " (0.282739438581408, -0.930146687850356, '1'),\n",
       " (-0.810355710132565, -0.859111113846302, '1'),\n",
       " (-1.10805205318428, -1.10796363800764, '1'),\n",
       " (0.919276881824432, -1.06931181773543, '1'),\n",
       " (0.712859000405495, -1.433110973984, '1'),\n",
       " (-1.14231710145227, -0.835863934457302, '1'),\n",
       " (0.9586852218712, -1.4409904461354, '1'),\n",
       " (0.0304262725972981, -1.2448132801801, '1'),\n",
       " (-0.120474120813184, -1.08250965587795, '1'),\n",
       " (-1.12720074344501, -1.59762238301337, '1'),\n",
       " (0.156387183460381, -1.67088962011039, '1'),\n",
       " (1.03741612600568, -0.872603515163064, '1'),\n",
       " (-0.566749048244496, -1.60163620002568, '1'),\n",
       " (-1.02906395286716, -0.982347360253334, '1'),\n",
       " (0.18403829086152, -1.73706434182823, '1'),\n",
       " (1.06504614152152, -1.44735908135772, '1'),\n",
       " (-0.96064796477999, -0.653976858407259, '1'),\n",
       " (0.135586799807112, -1.40148325972259, '1'),\n",
       " (0.74359158865194, -0.63241987042129, '1'),\n",
       " (-0.470157704060508, -1.44374484457076, '1'),\n",
       " (-0.0993454369571047, -1.80827190838754, '1'),\n",
       " (-0.86303329567428, -0.725320793315768, '1'),\n",
       " (0.154296934941036, -1.67515178658068, '1'),\n",
       " (-0.0582899395187086, -1.2168679472059, '1'),\n",
       " (-1.24195315645922, -0.929599077254534, '1'),\n",
       " (-0.343557038663646, -1.78041301779449, '1'),\n",
       " (-0.48440797847431, -1.40584074482322, '1'),\n",
       " (1.19560251890228, -1.35465112626553, '1'),\n",
       " (-0.134003211951274, -1.68926436752081, '1'),\n",
       " (1.31841291373671, -1.23551564514637, '1'),\n",
       " (0.0133724979026364, -1.47784679606557, '1'),\n",
       " (0.0183624635084172, -0.929438996315002, '1'),\n",
       " (1.012828616889, -1.31803578734398, '1'),\n",
       " (-0.587532945428743, -0.703850843012333, '1'),\n",
       " (0.594512099892618, -1.1505030926317, '1'),\n",
       " (0.983138788563651, -1.13851276375353, '1'),\n",
       " (-0.503603537068345, -1.68751513585448, '1'),\n",
       " (-0.553651899610578, -1.53871871978045, '1'),\n",
       " (-1.062119942805, -1.2319441203028, '1'),\n",
       " (-0.658375504576078, -1.51474430672824, '1'),\n",
       " (0.875094839357666, -1.47963342517614, '1'),\n",
       " (-0.821863714439266, -1.15219963788986, '1'),\n",
       " (-0.119245367338312, -1.0182866230607, '1'),\n",
       " (-1.28336580688089, -1.00112114995718, '1'),\n",
       " (1.01668776823431, -1.51559418588877, '1'),\n",
       " (-0.944800959006538, -0.69558599293232, '1'),\n",
       " (0.968455717253055, -1.16653699763119, '1'),\n",
       " (0.322898133216447, -0.833251295983791, '1'),\n",
       " (0.926037557650128, -1.37999860085547, '1'),\n",
       " (0.624997447544244, -1.6347341530025, '1'),\n",
       " (0.545808761529641, -1.15423389449716, '1'),\n",
       " (0.537372003521548, -1.70237046778202, '1'),\n",
       " (-0.768093399658534, -0.957605749741197, '1'),\n",
       " (-1.32679553750612, -1.20584084056318, '1'),\n",
       " (-0.764335160710151, -0.764678573608399, '1'),\n",
       " (0.627781199483566, -1.20762876644731, '1'),\n",
       " (-0.0395578159386725, -1.64511877968907, '1'),\n",
       " (-0.0754926049403957, -1.65001016743481, '1'),\n",
       " (-0.212650377823897, -0.815498252213001, '1'),\n",
       " (0.933642617961904, -0.606528175622225, '1'),\n",
       " (0.124583291962106, -1.4048002678901, '1'),\n",
       " (-0.639733156446763, -0.931714480742812, '1'),\n",
       " (-1.09783676826933, -1.31553545556962, '1'),\n",
       " (-1.2292243451129, -1.05592543371022, '1'),\n",
       " (-0.837468825248275, -0.678679101541638, '1'),\n",
       " (0.337700441277796, -1.39548624828458, '1'),\n",
       " (-0.0837396021525256, -1.73612352833152, '1'),\n",
       " (0.877754016700758, -1.55509932786226, '1'),\n",
       " (0.463204331883332, -1.44681024998426, '1'),\n",
       " (0.835525957834367, -0.767461987957358, '1'),\n",
       " (-0.325598619177765, 1.29081533811986, '2'),\n",
       " (-1.12319221546526, 0.788071166723967, '2'),\n",
       " (0.0719425283420558, 1.40990373790264, '2'),\n",
       " (-1.14666417910258, 1.40141151994467, '2'),\n",
       " (-0.901316564769515, 1.13117107786238, '2'),\n",
       " (-1.22022661055499, 1.5465011395514, '2'),\n",
       " (-0.954659186951971, 1.15661927238107, '2'),\n",
       " (-0.868318035817025, 1.12801115699112, '2'),\n",
       " (-0.699988815949236, 1.24762889295816, '2'),\n",
       " (0.378185688405907, 0.885280190780759, '2'),\n",
       " (-0.475667517948034, 1.12604745328426, '2'),\n",
       " (-1.15448411883441, 1.36277978233993, '2'),\n",
       " (0.270906714476515, 1.77898202836514, '2'),\n",
       " (-1.26778551951856, 0.912367060780525, '2'),\n",
       " (0.746508857441024, 1.2296916987747, '2'),\n",
       " (-0.887023051082632, 1.64738659635186, '2'),\n",
       " (0.458767861539811, 1.08045652471483, '2'),\n",
       " (-1.14806931307894, 1.32220868319273, '2'),\n",
       " (-0.601347194807795, 0.726095791533589, '2'),\n",
       " (1.03276305448202, 1.66181989386678, '2'),\n",
       " (0.0856408696632502, 1.86749777831137, '2'),\n",
       " (-1.09432008953475, 1.62224203534424, '2'),\n",
       " (-0.382910111768988, 1.52849010154605, '2'),\n",
       " (-0.37870853127865, 1.74853742681444, '2'),\n",
       " (1.03978670029017, 0.776369246095419, '2'),\n",
       " (0.574700693539681, 0.91355531513691, '2'),\n",
       " (0.721125544849283, 1.46527096554637, '2'),\n",
       " (-1.24098654452384, 1.43074573017657, '2'),\n",
       " (0.38662192287957, 0.998516240715981, '2'),\n",
       " (-0.164775329317873, 1.87122232951224, '2'),\n",
       " (-0.97352904095814, 1.47597907930613, '2'),\n",
       " (0.0244922985092391, 1.32591880038381, '2'),\n",
       " (-0.95665857856843, 0.626676058396697, '2'),\n",
       " (-1.3757093373592, 1.03290197849274, '2'),\n",
       " (0.965361936916693, 1.0673810813576, '2'),\n",
       " (1.14033097465429, 1.58800391592085, '2'),\n",
       " (1.21047541912671, 1.44805236533284, '2'),\n",
       " (1.17265484807507, 1.46178111843765, '2'),\n",
       " (-1.02336601366112, 0.960282571986318, '2'),\n",
       " (0.371499916279629, 1.51775437369943, '2'),\n",
       " (-0.644046524837372, 1.20080700553954, '2'),\n",
       " (-0.853186255925625, 1.50054293610156, '2'),\n",
       " (-1.31639210067425, 1.30446283742785, '2'),\n",
       " (-0.943397849103818, 0.644659413024783, '2'),\n",
       " (0.720119030118616, 1.57225210927427, '2'),\n",
       " (0.739091037564289, 0.679681216552854, '2'),\n",
       " (-0.415591000639826, 1.8323819257319, '2'),\n",
       " (-0.302482357288861, 1.49778746925294, '2'),\n",
       " (-0.331048133835657, 1.27001016698778, '2'),\n",
       " (-0.82810753462799, 1.79558234736323, '2'),\n",
       " (0.363896099605405, 1.27571644373238, '2'),\n",
       " (1.21887236646081, 1.14531989842653, '2'),\n",
       " (-0.32586057387969, 1.66982504166663, '2'),\n",
       " (1.10751888558977, 1.35333157666028, '2'),\n",
       " (-1.21200533529659, 1.05843850709498, '2'),\n",
       " (0.249512788745074, 1.78138120062649, '2'),\n",
       " (-0.659586569463835, 1.0794947553426, '2'),\n",
       " (-0.554878830770434, 0.772579718753696, '2'),\n",
       " (0.500801081261381, 1.70971114076674, '2'),\n",
       " (-0.663705523635338, 1.74269646033645, '2'),\n",
       " (-0.417479031876697, 1.4509198307991, '2'),\n",
       " (-1.15185090023572, 0.89783356115222, '2'),\n",
       " (0.618556927619933, 1.76289504319429, '2'),\n",
       " (0.55678790199327, 1.77262809313834, '2'),\n",
       " (0.441468620558471, 1.46635774597526, '2'),\n",
       " (0.679916706316825, 1.66551706828177, '2'),\n",
       " (1.22148948848415, 0.854677938297391, '2'),\n",
       " (0.134264713182856, 1.57534705549479, '2'),\n",
       " (-0.860099821321265, 1.24602612145245, '2'),\n",
       " (-0.596139952033187, 1.60009784437716, '2'),\n",
       " (0.266970390782594, 0.842856293916702, '2'),\n",
       " (-0.669179002157364, 1.36389956958592, '2'),\n",
       " (-0.254190341828616, 1.8756140049547, '2'),\n",
       " (-1.20382591749177, 1.2755916915834, '2'),\n",
       " (-0.129444837880487, 1.89205902516842, '2'),\n",
       " (-0.69058731957136, 0.977765212953091, '2'),\n",
       " (0.394990012243287, 0.820403136685491, '2'),\n",
       " (-0.212609356598177, 1.05434953011572, '2'),\n",
       " (-0.76854913021788, 0.59104965813458, '2'),\n",
       " (-0.915117778984593, 0.936974497139454, '2'),\n",
       " (1.33149945025634, 1.31607551760972, '2'),\n",
       " (-1.33711837793147, 0.912520517408848, '2'),\n",
       " (-1.07712042584022, 1.13265291787684, '2'),\n",
       " (0.842328304276076, 1.77355747185648, '2'),\n",
       " (-0.503330617336733, 1.50978040024638, '2'),\n",
       " (-0.581632046779893, 1.30145496800542, '2'),\n",
       " (0.424203423587475, 1.07141754664481, '2'),\n",
       " (0.242317443105727, 1.6579255182296, '2'),\n",
       " (-1.14294270044541, 1.15395297333598, '2'),\n",
       " (-0.13652018449776, 1.61849187985063, '2'),\n",
       " (-1.21491659479269, 0.743723759055138, '2'),\n",
       " (-0.192971650146639, 1.39293213523924, '2'),\n",
       " (-1.32256056693692, 1.39788997657597, '2'),\n",
       " (-1.19866822559679, 1.23021182492375, '2'),\n",
       " (-0.301395029471993, 1.75482732541859, '2'),\n",
       " (0.931670943828189, 1.4771725691855, '2'),\n",
       " (-0.305091079406606, 1.63532478697598, '2'),\n",
       " (1.22852432054286, 0.957906450331211, '2'),\n",
       " (-0.915074346386531, 1.3465210288763, '2'),\n",
       " (1.10847841910609, 0.888480412214995, '2'),\n",
       " (-0.504993834325443, 1.15753010138869, '2'),\n",
       " (-0.0577908944322625, 1.02175111249089, '2'),\n",
       " (1.10322148272871, 1.61450336575508, '2'),\n",
       " (0.932457144630831, 1.76294501200318, '2'),\n",
       " (-0.107317258763252, 1.32608641646802, '2'),\n",
       " (0.339027979277301, 0.932032866030932, '2'),\n",
       " (1.18439387054538, 0.992279829829931, '2'),\n",
       " (-1.1269265061193, 1.42817406281829, '2'),\n",
       " (-0.859081993186699, 1.38132854811847, '2'),\n",
       " (-0.6483738424688, 0.658205092325807, '2'),\n",
       " (0.0742519308395335, 1.88106146268547, '2'),\n",
       " (-0.991895572076078, 1.67078344002366, '2'),\n",
       " (-1.06789862568189, 1.24712679199874, '2'),\n",
       " (-0.813928401212613, 0.903545336425305, '2'),\n",
       " (0.719641766529727, 1.8529539257288, '2'),\n",
       " (-0.146060318242456, 1.83568013869226, '2'),\n",
       " (-0.260571624513213, 1.27229484729469, '2'),\n",
       " (-0.434156265946855, 0.762545813620091, '2'),\n",
       " (1.1313655850526, 0.707682697847486, '2'),\n",
       " (0.432630766409447, 1.00830932855606, '2'),\n",
       " (0.719568136958714, 0.859975894913077, '2'),\n",
       " (0.896411032227787, 1.01957505457103, '2'),\n",
       " (1.14669315125148, 0.701569572836161, '2'),\n",
       " (-0.530998666623462, 1.3752531029284, '2'),\n",
       " (0.164830149276372, 1.38744371086359, '2'),\n",
       " (0.831520132511919, 1.75020742081106, '2'),\n",
       " (-0.304362783977277, 1.08587177731097, '2'),\n",
       " (-0.923682667341356, 1.23948508612812, '2'),\n",
       " (0.360879910704704, 1.41478061303496, '2'),\n",
       " (-0.209487675833953, 1.60415814034641, '2'),\n",
       " (-0.523850457247689, 1.42118158340454, '2'),\n",
       " (-0.704219020863007, 1.06852831095457, '2'),\n",
       " (0.657276549364401, 1.10811760388315, '2'),\n",
       " (-0.218145842845809, 0.828050613775849, '2'),\n",
       " (-0.0343852814857564, 0.879737351834774, '2'),\n",
       " (0.678787512612738, 1.0213424321264, '2'),\n",
       " (0.066943509547938, 1.43360441550612, '2'),\n",
       " (-0.387723750070091, 1.81087390594184, '2'),\n",
       " (-0.288050088164196, 1.40318150445819, '2'),\n",
       " (1.23686827542342, 1.24589035101235, '2'),\n",
       " (-0.0771651702948475, 1.85691709555686, '2'),\n",
       " (-0.828323633682161, 1.25762021243572, '2'),\n",
       " (0.956072870693222, 1.30765638463199, '2'),\n",
       " (-0.549436920012255, 1.6326951880008, '2'),\n",
       " (-0.898586017422231, 1.12634858526289, '2'),\n",
       " (-0.753456387700539, 1.46158391311765, '2'),\n",
       " (1.28955319369087, 1.37497490979731, '2'),\n",
       " (1.28557312924665, 1.32510281428695, '2'),\n",
       " (-1.2185841643245, 0.955531530082226, '2'),\n",
       " (-1.01451768103857, 1.64054559729993, '2'),\n",
       " (-0.524634510067057, 1.34383328780532, '2'),\n",
       " (0.949387581230657, 1.39883805736899, '2'),\n",
       " (-0.706948541252416, 1.84907039999962, '2'),\n",
       " (-0.718020495223447, 0.877660357952118, '2'),\n",
       " (-0.711026164748481, 1.20565117225051, '2'),\n",
       " (-0.813871348285698, 1.74145664311945, '2'),\n",
       " (0.685064141607894, 0.98409743309021, '2'),\n",
       " (0.543269140118146, 0.732961462438107, '2'),\n",
       " (0.140629825984306, 1.44183314815164, '2'),\n",
       " (-1.33009431044131, 1.02824152857065, '2'),\n",
       " (0.896227722517801, 1.78979108370841, '2'),\n",
       " (0.650894747037823, 1.35089216902852, '2'),\n",
       " (-1.03350190104393, 0.704073205217719, '2'),\n",
       " (-1.06512911297086, 1.12242606729269, '2'),\n",
       " (0.410123264778006, 1.73105745986104, '2'),\n",
       " (-0.722070939043513, 0.813754858076573, '2'),\n",
       " (0.279388354371296, 1.05139172077179, '2'),\n",
       " (-0.525907108090876, 0.95298265889287, '2'),\n",
       " (0.594123329192405, 1.38349220044911, '2'),\n",
       " (-0.941894957560702, 0.956385456025601, '2'),\n",
       " (0.646879405974312, 1.21193862594664, '2'),\n",
       " (0.529034447178903, 0.856861760094762, '2'),\n",
       " (0.361465974739024, 1.30774115398526, '2'),\n",
       " (0.246665091648605, 0.78561484105885, '2'),\n",
       " (-0.404062217790006, 1.27762349396944, '2'),\n",
       " (1.04860914488115, 1.0940626963973, '2'),\n",
       " (0.619358238910768, 1.74212220385671, '2'),\n",
       " (-0.869766608230119, 0.603406198695302, '2'),\n",
       " (-0.413825330493016, 0.948460556194186, '2'),\n",
       " (1.0504374017203, 1.48264172673225, '2'),\n",
       " (0.984150549018495, 1.65460922904313, '2'),\n",
       " (0.418303143838065, 1.11466277427971, '2'),\n",
       " (-1.04124725950089, 1.35687774866819, '2'),\n",
       " (0.131089157027831, 1.60131651684642, '2'),\n",
       " (-1.01256702677983, 1.60505045540631, '2'),\n",
       " (-0.778152296340362, 1.27778729759157, '2'),\n",
       " (0.168789682348003, 1.4778965536505, '2'),\n",
       " (-0.732902503779238, 1.57939810939133, '2'),\n",
       " (-0.866600979118299, 1.14693596810102, '2'),\n",
       " (-0.112772195603023, 0.992988410964608, '2'),\n",
       " (1.14451829775157, 1.56362214535475, '2'),\n",
       " (0.134481844384835, 1.34917311370373, '2'),\n",
       " (-1.12123831166009, 1.64528339914978, '2'),\n",
       " (-0.0405773346937184, 1.73244139365852, '2'),\n",
       " (-0.374239427937657, 1.57260140478611, '2'),\n",
       " (-0.0286255347259767, 1.46231723763049, '2'),\n",
       " (0.254021367360671, 0.953022110462189, '2'),\n",
       " (-0.279144482042607, 0.895699632912874, '2'),\n",
       " (0.0690006579758946, 1.32887659072876, '2'),\n",
       " (0.105925415555039, 1.62054487280548, '2'),\n",
       " (-0.0463335519656539, 0.287785410974175, '3'),\n",
       " (0.0483021447435021, -0.284058191813529, '3'),\n",
       " (-0.418057200405747, -0.16275437772274, '3'),\n",
       " (-0.404644879046828, 0.350173377245665, '3'),\n",
       " (-0.10125581715256, 0.148694516625255, '3'),\n",
       " (-0.253634758293629, -0.118950640317053, '3'),\n",
       " (-0.279094642773271, -0.495029361080378, '3'),\n",
       " (-0.273287626169622, -0.188009998295456, '3'),\n",
       " (0.425340100005269, -0.159632786270231, '3'),\n",
       " (0.209619743842632, 0.135378427896649, '3'),\n",
       " (0.241355755459517, -0.0529708326794207, '3'),\n",
       " (-0.185213173180819, 0.508634865749627, '3'),\n",
       " (-0.0515578684397042, 0.334672193974257, '3'),\n",
       " (0.406009789276868, -0.178291752096266, '3'),\n",
       " (0.109550687111914, -0.113635535817593, '3'),\n",
       " (0.369000849779695, 0.217602265253663, '3'),\n",
       " (0.306817350815982, -0.425925565883517, '3'),\n",
       " (-0.0518841323442757, -0.209703994262964, '3'),\n",
       " (-0.00796425081789498, -0.345018843747675, '3'),\n",
       " (0.134069361817092, -0.176922144088894, '3'),\n",
       " (-0.0287534966133535, -0.0554656178690494, '3'),\n",
       " (-0.158110268041491, -0.295280737057328, '3'),\n",
       " (-0.3871711791493, 0.201304710377008, '3'),\n",
       " (-0.347366493567824, 0.475975223444402, '3'),\n",
       " (0.0810657785274088, 0.165499139204621, '3'),\n",
       " (-0.454788114130497, -0.210437172744423, '3'),\n",
       " (0.306990227568895, -0.296124635729939, '3'),\n",
       " (-0.0144913595169782, 0.198388203699142, '3'),\n",
       " (-0.178844376280904, -0.379241941217333, '3'),\n",
       " (-0.20237472737208, 0.468505319673568, '3'),\n",
       " (0.565280418936163, -0.129279984813184, '3'),\n",
       " (0.413315114378929, -0.0300160881131888, '3'),\n",
       " (-0.251523531787097, -0.0856476492248476, '3'),\n",
       " (0.398392939288169, -0.106713139917701, '3'),\n",
       " (0.11382640292868, 0.502079622913152, '3'),\n",
       " (-0.0263707995414734, -0.406554069276899, '3'),\n",
       " (-0.182936769817024, 0.254865971580148, '3'),\n",
       " (0.0283810051158071, -0.48406372172758, '3'),\n",
       " (0.531801863294095, -0.148735648579896, '3'),\n",
       " (0.42684186603874, -0.202331219706684, '3'),\n",
       " (0.0247970265336335, -0.185961732175201, '3'),\n",
       " (-0.448881156183779, -0.0424818601459265, '3'),\n",
       " (0.0439221220090985, -0.154991792142391, '3'),\n",
       " (-0.0756610787473619, 0.304123121593147, '3'),\n",
       " (0.333275636751205, -0.0839729745872319, '3'),\n",
       " (0.49070285372436, 0.174690511543304, '3'),\n",
       " (-0.0643462020903826, 0.502485340833664, '3'),\n",
       " (-0.317375759314746, -0.111329820659012, '3'),\n",
       " (-0.334905523248017, 0.359571493975818, '3'),\n",
       " (0.103275093901902, 0.13751625129953, '3'),\n",
       " (-0.196850285679102, 0.0702899356372655, '3'),\n",
       " (0.40065935170278, 0.227487501874566, '3'),\n",
       " (0.481104384642094, -0.264234004262835, '3'),\n",
       " (-0.297005300223827, -0.0731623314321042, '3'),\n",
       " (-0.108373104035854, -0.108959435205907, '3'),\n",
       " (0.0530809552408755, -0.381270142737776, '3'),\n",
       " (0.507397847715765, -0.180297041125596, '3'),\n",
       " (-0.271642821840942, 0.0752763410098851, '3'),\n",
       " (-0.515545974299312, -0.0957192401401699, '3'),\n",
       " (-0.32619498744607, 0.167426584102213, '3'),\n",
       " (-0.0670280235819518, 0.159189505968243, '3'),\n",
       " (-0.162544812820852, -0.475920221675187, '3'),\n",
       " (0.148443248681724, -0.102906151860952, '3'),\n",
       " (-0.227515266649425, -0.394183432683349, '3'),\n",
       " (-0.302360525261611, 0.337436554022133, '3'),\n",
       " (0.201704826112837, 0.021084603946656, '3'),\n",
       " (-0.00359973851591344, -0.087073593121022, '3'),\n",
       " (0.143316652905196, -0.341202462930232, '3'),\n",
       " (-0.505364516191184, -0.256342672929168, '3'),\n",
       " (0.289925707038492, 0.244037915859371, '3'),\n",
       " (-0.346156070474535, 0.300714014656842, '3'),\n",
       " (-0.472218153811991, 0.0487545470707118, '3'),\n",
       " (-0.502856041397899, -0.177310954313725, '3'),\n",
       " (-0.0356958822347224, 0.348904275242239, '3'),\n",
       " (0.558161762729287, 0.165796538349241, '3'),\n",
       " (0.262273986451328, 0.19475449025631, '3'),\n",
       " (-0.189688901603222, -0.0787649279460311, '3'),\n",
       " (0.500377062801272, 0.247933295276016, '3'),\n",
       " (0.412148853577674, 0.00277010751888151, '3'),\n",
       " (-0.442100208252668, 0.223238147143275, '3'),\n",
       " (0.410470953304321, -0.131395177077502, '3'),\n",
       " (-0.261841407045722, -0.267045373376459, '3'),\n",
       " (0.169331799075007, -0.249998859968036, '3'),\n",
       " (0.29153899429366, 0.4473339359276, '3'),\n",
       " (-0.310340258851647, 0.130612010881305, '3'),\n",
       " (0.0162927146069706, 0.541378619894385, '3'),\n",
       " (0.138286512997001, 0.494089940562844, '3'),\n",
       " (-0.389247633051127, -0.228595683630556, '3'),\n",
       " (0.0983750883489847, 0.177899720706046, '3'),\n",
       " (0.0539005989208817, -0.275384311191738, '3'),\n",
       " (0.511879221629351, -0.166330587677658, '3'),\n",
       " (0.269711975287646, -0.512806179374456, '3'),\n",
       " (0.31270063156262, -0.257099043298513, '3'),\n",
       " (-0.161318518314511, 0.424556482303888, '3'),\n",
       " (-0.170352320652455, -0.402081398293376, '3'),\n",
       " (-0.526711912918836, 0.181432767491788, '3'),\n",
       " (0.254510192479938, -0.408093832153827, '3'),\n",
       " (0.547369431518018, 0.0624910918995738, '3'),\n",
       " (-0.439019034896046, -0.142891269922256, '3'),\n",
       " (-0.423087333608419, 0.410761821549386, '3')]"
      ]
     },
     "execution_count": 100,
     "metadata": {},
     "output_type": "execute_result"
    }
   ],
   "source": [
    "cassini.dados"
   ]
  },
  {
   "cell_type": "code",
   "execution_count": 395,
   "metadata": {},
   "outputs": [],
   "source": [
    "cassini = carregar(\"data/cassini500.csv\", delimiter=',', ignoraColuna1=True)"
   ]
  },
  {
   "cell_type": "code",
   "execution_count": 396,
   "metadata": {},
   "outputs": [
    {
     "data": {
      "text/plain": [
       "[(-0.138816425326661, -1.57714330665767, '1'),\n",
       " (0.607304521645446, -0.944022665172815, '1'),\n",
       " (0.902953229415305, -1.46385937258601, '1'),\n",
       " (0.772474316316862, -1.44147698171437, '1'),\n",
       " (-0.55807950490081, -1.58027114123106, '1'),\n",
       " (0.892488738218637, -1.5879832804203, '1'),\n",
       " (-1.2931302092821, -0.831876108422875, '1'),\n",
       " (-0.37533259053603, -1.46394060440362, '1'),\n",
       " (0.867808011428578, -1.27059731073678, '1'),\n",
       " (-0.389600563916812, -1.1817204400897, '1')]"
      ]
     },
     "execution_count": 396,
     "metadata": {},
     "output_type": "execute_result"
    }
   ],
   "source": [
    "cassini[:10]"
   ]
  },
  {
   "cell_type": "code",
   "execution_count": 355,
   "metadata": {},
   "outputs": [],
   "source": [
    "modeloCassini = treinamento(cassini)"
   ]
  },
  {
   "cell_type": "code",
   "execution_count": 356,
   "metadata": {},
   "outputs": [
    {
     "data": {
      "text/plain": [
       "{'1': 0.4,\n",
       " 'i0': {'media': -0.04248781483025525, 'desvio': 0.6918221040135546},\n",
       " ('i0', '1'): {'media': 0.023673169333853786, 'desvio': 0.7391030950897297},\n",
       " 'i1': {'media': 0.012027210412174758, 'desvio': 1.1865447489405332},\n",
       " ('i1', '1'): {'media': -1.2570012770202013, 'desvio': 0.33796861105982445},\n",
       " '2': 0.4,\n",
       " ('i0', '2'): {'media': -0.12960975198859756, 'desvio': 0.769873711145258},\n",
       " ('i1', '2'): {'media': 1.2917943302560593, 'desvio': 0.3365271653297808},\n",
       " '3': 0.2,\n",
       " ('i0', '3'): {'media': -0.0005659088417887814, 'desvio': 0.3114683936600313},\n",
       " ('i1', '3'): {'media': -0.00945005441084504, 'desvio': 0.27662428663311583},\n",
       " 'classes': ['2', '1', '3']}"
      ]
     },
     "execution_count": 356,
     "metadata": {},
     "output_type": "execute_result"
    }
   ],
   "source": [
    "modeloCassini"
   ]
  },
  {
   "cell_type": "code",
   "execution_count": 363,
   "metadata": {},
   "outputs": [
    {
     "name": "stdout",
     "output_type": "stream",
     "text": [
      "Conj Teste: 250\n",
      "Acertos   : 250\n",
      "Acurácia  :  100.0\n"
     ]
    }
   ],
   "source": [
    "validacaoCruzada(cassini, 0.5)"
   ]
  },
  {
   "cell_type": "code",
   "execution_count": null,
   "metadata": {},
   "outputs": [],
   "source": []
  },
  {
   "cell_type": "code",
   "execution_count": 338,
   "metadata": {},
   "outputs": [
    {
     "data": {
      "text/plain": [
       "('2', '0.607304521645446', '-0.944022665172815', '1')"
      ]
     },
     "execution_count": 338,
     "metadata": {},
     "output_type": "execute_result"
    }
   ],
   "source": [
    "cassini[1][1:]"
   ]
  },
  {
   "cell_type": "code",
   "execution_count": null,
   "metadata": {},
   "outputs": [],
   "source": []
  },
  {
   "cell_type": "markdown",
   "metadata": {},
   "source": [
    "# mlbench.circle"
   ]
  },
  {
   "cell_type": "code",
   "execution_count": 122,
   "metadata": {},
   "outputs": [
    {
     "name": "stdout",
     "output_type": "stream",
     "text": [
      "\n",
      "R version 3.6.3 (2020-02-29) -- \"Holding the Windsock\"\n",
      "Copyright (C) 2020 The R Foundation for Statistical Computing\n",
      "Platform: x86_64-pc-linux-gnu (64-bit)\n",
      "\n",
      "R é um software livre e vem sem GARANTIA ALGUMA.\n",
      "Você pode redistribuí-lo sob certas circunstâncias.\n",
      "Digite 'license()' ou 'licence()' para detalhes de distribuição.\n",
      "\n",
      "R é um projeto colaborativo com muitos contribuidores.\n",
      "Digite 'contributors()' para obter mais informações e\n",
      "'citation()' para saber como citar o R ou pacotes do R em publicações.\n",
      "\n",
      "Digite 'demo()' para demonstrações, 'help()' para o sistema on-line de ajuda,\n",
      "ou 'help.start()' para abrir o sistema de ajuda em HTML no seu navegador.\n",
      "Digite 'q()' para sair do R.\n",
      "\n",
      "> library(mlbench); write.csv(mlbench.circle(200), 'data/circle200.csv')\n",
      "> \n",
      "> \n"
     ]
    }
   ],
   "source": [
    "# baixando dataset do R\n",
    "!R -e \"library(mlbench); write.csv(mlbench.circle(200), 'data/circle200.csv')\""
   ]
  },
  {
   "cell_type": "code",
   "execution_count": 123,
   "metadata": {},
   "outputs": [
    {
     "data": {
      "image/png": "[encoded data removed]",
      "text/plain": [
       "<Figure size 432x288 with 1 Axes>"
      ]
     },
     "metadata": {
      "needs_background": "light"
     },
     "output_type": "display_data"
    }
   ],
   "source": [
    "circle = Classificador()\n",
    "circle.carregar('data/circle200.csv', delimiter=',', ignoraColuna1=True)\n",
    "circle.dados\n",
    "circle.treinar()\n",
    "circle.graficoFronteira()"
   ]
  },
  {
   "cell_type": "markdown",
   "metadata": {},
   "source": [
    "# mlbench.cuboids"
   ]
  },
  {
   "cell_type": "code",
   "execution_count": 125,
   "metadata": {},
   "outputs": [
    {
     "name": "stdout",
     "output_type": "stream",
     "text": [
      "\n",
      "R version 3.6.3 (2020-02-29) -- \"Holding the Windsock\"\n",
      "Copyright (C) 2020 The R Foundation for Statistical Computing\n",
      "Platform: x86_64-pc-linux-gnu (64-bit)\n",
      "\n",
      "R é um software livre e vem sem GARANTIA ALGUMA.\n",
      "Você pode redistribuí-lo sob certas circunstâncias.\n",
      "Digite 'license()' ou 'licence()' para detalhes de distribuição.\n",
      "\n",
      "R é um projeto colaborativo com muitos contribuidores.\n",
      "Digite 'contributors()' para obter mais informações e\n",
      "'citation()' para saber como citar o R ou pacotes do R em publicações.\n",
      "\n",
      "Digite 'demo()' para demonstrações, 'help()' para o sistema on-line de ajuda,\n",
      "ou 'help.start()' para abrir o sistema de ajuda em HTML no seu navegador.\n",
      "Digite 'q()' para sair do R.\n",
      "\n",
      "> library(mlbench); write.csv(mlbench.cuboids(500), 'data/cuboids500.csv')\n",
      "> \n",
      "> \n"
     ]
    }
   ],
   "source": [
    "# baixando dataset do R\n",
    "!R -e \"library(mlbench); write.csv(mlbench.cuboids(500), 'data/cuboids500.csv')\""
   ]
  },
  {
   "cell_type": "code",
   "execution_count": 126,
   "metadata": {},
   "outputs": [
    {
     "data": {
      "image/png": "[encoded data removed]",
      "text/plain": [
       "<Figure size 432x288 with 1 Axes>"
      ]
     },
     "metadata": {
      "needs_background": "light"
     },
     "output_type": "display_data"
    }
   ],
   "source": [
    "cuboids = Classificador()\n",
    "cuboids.carregar('data/cuboids500.csv', delimiter=',', ignoraColuna1=True)\n",
    "cuboids.dados\n",
    "cuboids.treinar()\n",
    "cuboids.graficoFronteira()"
   ]
  },
  {
   "cell_type": "code",
   "execution_count": 129,
   "metadata": {},
   "outputs": [
    {
     "data": {
      "text/plain": [
       "[(0.229683245765045, 0.962349051726051, 0.927181890234351, '1'),\n",
       " (0.66130540962331, 0.79144231491955, 0.819328139885329, '1'),\n",
       " (0.0272114621475339, 0.897799979080446, 0.754162001423538, '1'),\n",
       " (0.887245807796717, 0.930003194429446, 0.894655832904391, '1'),\n",
       " (0.756993093993515, 0.804737036523875, 0.941156921966467, '1'),\n",
       " (0.576005415525287, 0.758058183069807, 0.753771101881284, '1'),\n",
       " (0.317044300725684, 0.897349508595653, 0.905388202692848, '1'),\n",
       " (0.292553114239126, 0.943796045787167, 0.971506314934231, '1'),\n",
       " (0.997318101348355, 0.815396986959968, 0.970138225180563, '1'),\n",
       " (0.294488643994555, 0.909550016047433, 0.919709065638017, '1'),\n",
       " (0.0973967718891799, 0.789181912143249, 0.813869287725538, '1'),\n",
       " (0.584016623208299, 0.982582194206771, 0.847544018935878, '1'),\n",
       " (0.628264031140134, 0.887350491131656, 0.778447108867113, '1'),\n",
       " (0.381697785342112, 0.881002078123856, 0.912589401123114, '1'),\n",
       " (0.36870269710198, 0.925872165767942, 0.949802657938562, '1'),\n",
       " (0.763057413045317, 0.992003322055098, 0.942117873986717, '1'),\n",
       " (0.416599688818678, 0.969957508379593, 0.945531507197302, '1'),\n",
       " (0.80431890161708, 0.987507420126349, 0.959940512897447, '1'),\n",
       " (0.051162502495572, 0.883179104945157, 0.962835135462228, '1'),\n",
       " (0.0573842586018145, 0.815443369268905, 0.972435990406666, '1'),\n",
       " (0.832508385181427, 0.813023750379216, 0.789641933399253, '1'),\n",
       " (0.403238201513886, 0.754483199154492, 0.880636841699015, '1'),\n",
       " (0.120127621805295, 0.959899963287171, 0.802112731849775, '1'),\n",
       " (0.775736475130543, 0.828228936938103, 0.915913187083788, '1'),\n",
       " (0.534197474131361, 0.832665394584183, 0.891213310649619, '1'),\n",
       " (0.21192136965692, 0.774789709423203, 0.913174383400474, '1'),\n",
       " (0.559116422198713, 0.873400596843567, 0.965124770940747, '1'),\n",
       " (0.364779681432992, 0.873998303897679, 0.905463766888715, '1'),\n",
       " (0.0342219495214522, 0.872754533891566, 0.80053060001228, '1'),\n",
       " (0.331767132971436, 0.975552375311963, 0.870078308740631, '1'),\n",
       " (0.471205980051309, 0.778654389549047, 0.789042332908139, '1'),\n",
       " (0.276908791158348, 0.831852357136086, 0.798885185446125, '1'),\n",
       " (0.934427825501189, 0.932931434246711, 0.936815140594263, '1'),\n",
       " (0.0403087006416172, 0.797126784222201, 0.792277216445655, '1'),\n",
       " (0.0674404792953283, 0.829763492452912, 0.756501385651063, '1'),\n",
       " (0.718424654798582, 0.771133127214853, 0.941393974819221, '1'),\n",
       " (0.800970965996385, 0.870280615752563, 0.767855532467365, '1'),\n",
       " (0.594642050331458, 0.943044753395952, 0.84610431001056, '1'),\n",
       " (0.633763266727328, 0.79726429580478, 0.967190002673306, '1'),\n",
       " (0.29270315496251, 0.755938181770034, 0.926026506233029, '1'),\n",
       " (0.798842358170077, 0.910998013743665, 0.976213994144928, '1'),\n",
       " (0.534699129872024, 0.91717402136419, 0.782252261880785, '1'),\n",
       " (0.0714340261183679, 0.847160862467717, 0.898650388058741, '1'),\n",
       " (0.509615933522582, 0.788025713467505, 0.875282435154077, '1'),\n",
       " (0.976468939799815, 0.924196509644389, 0.841101302823517, '1'),\n",
       " (0.685344197554514, 0.984694041893817, 0.922780391876586, '1'),\n",
       " (0.523184140212834, 0.758227699669078, 0.81602849526098, '1'),\n",
       " (0.898822692921385, 0.79015218623681, 0.918354674766306, '1'),\n",
       " (0.921496252762154, 0.977148793637753, 0.853141928557307, '1'),\n",
       " (0.524562871083617, 0.925393793731928, 0.79721803200664, '1'),\n",
       " (0.795868140878156, 0.952386009215843, 0.933376391185448, '1'),\n",
       " (0.618614169536158, 0.927486787317321, 0.904444844170939, '1'),\n",
       " (0.447353530442342, 0.989264848059975, 0.882272600021679, '1'),\n",
       " (0.21536927158013, 0.918878290860448, 0.934174292429816, '1'),\n",
       " (0.544937726808712, 0.937843616411556, 0.852557606820483, '1'),\n",
       " (0.2729888393078, 0.953324459027499, 0.838413127872627, '1'),\n",
       " (0.279759656870738, 0.969982647860888, 0.764357286156155, '1'),\n",
       " (0.0254775672219694, 0.958742276590783, 0.769386396044865, '1'),\n",
       " (0.539399093715474, 0.905934062728193, 0.873244661197532, '1'),\n",
       " (0.74294241447933, 0.800394935300574, 0.85620126395952, '1'),\n",
       " (0.192505565006286, 0.931243113649543, 0.978335022402462, '1'),\n",
       " (0.917620891006663, 0.751647019584198, 0.873845647438429, '1'),\n",
       " (0.01220717956312, 0.904729638656136, 0.840751196315978, '1'),\n",
       " (0.345396840944886, 0.821235253592022, 0.777041354158428, '1'),\n",
       " (0.195773015497252, 0.92305110138841, 0.886360525269993, '1'),\n",
       " (0.451858217827976, 0.910262384044472, 0.871375528746285, '1'),\n",
       " (0.167590945726261, 0.864219121867791, 0.858050439332146, '1'),\n",
       " (0.690495469374582, 0.898630528361537, 0.965442078653723, '1'),\n",
       " (0.0987395229749382, 0.991445968451444, 0.969420976354741, '1'),\n",
       " (0.355819752439857, 0.958828040398657, 0.777005412150174, '1'),\n",
       " (0.510306222131476, 0.807129282853566, 0.982464293716475, '1'),\n",
       " (0.0026349991094321, 0.874633650761098, 0.775046413938981, '1'),\n",
       " (0.158529326785356, 0.824305657297373, 0.930646193504799, '1'),\n",
       " (0.927635018248111, 0.769660416292027, 0.933882288401946, '1'),\n",
       " (0.0753421450499445, 0.86794839281356, 0.779501067707315, '1'),\n",
       " (0.805598946521059, 0.843315850419458, 0.945541630266234, '1'),\n",
       " (0.696848499355838, 0.831499981111847, 0.811278747976758, '1'),\n",
       " (0.735673519782722, 0.76766614621738, 0.815658131148666, '1'),\n",
       " (0.953501743264496, 0.812529526127037, 0.772846391075291, '1'),\n",
       " (0.4413611094933, 0.923664783244021, 0.916364442440681, '1'),\n",
       " (0.0326358450111002, 0.923803212994244, 0.83773007884156, '1'),\n",
       " (0.983193155145273, 0.991334799095057, 0.792605344613548, '1'),\n",
       " (0.00946692167781293, 0.990672596322838, 0.882224916131236, '1'),\n",
       " (0.437085489043966, 0.837804510199931, 0.766433239507023, '1'),\n",
       " (0.827700472436845, 0.961758712248411, 0.804314962297212, '1'),\n",
       " (0.7944624167867, 0.98117315582931, 0.887183051905595, '1'),\n",
       " (0.575069174636155, 0.751754975703079, 0.976633921090979, '1'),\n",
       " (0.898660046979785, 0.789463909168262, 0.993854619737249, '1'),\n",
       " (0.825383436400443, 0.990501034073532, 0.993443623359781, '1'),\n",
       " (0.399495928082615, 0.852878503617831, 0.909333825984504, '1'),\n",
       " (0.887752119917423, 0.815587453835178, 0.93068709957879, '1'),\n",
       " (0.315775536699221, 0.799485865049064, 0.814125498349313, '1'),\n",
       " (0.583207482937723, 0.954335066315252, 0.767830027849413, '1'),\n",
       " (0.0227505250368267, 0.972606706491206, 0.894148043240421, '1'),\n",
       " (0.47345023136586, 0.873301699233707, 0.824531734571792, '1'),\n",
       " (0.171388728544116, 0.800777990254574, 0.935478157363832, '1'),\n",
       " (0.471175480633974, 0.784041769220494, 0.770695303916, '1'),\n",
       " (0.142512976424769, 0.806727475312073, 0.841196445573587, '1'),\n",
       " (0.21403511823155, 0.936774356523529, 0.9301710454165, '1'),\n",
       " (0.530917500844225, 0.963175964774564, 0.813038963126019, '1'),\n",
       " (0.561209019972011, 0.834299237059895, 0.95195685926592, '1'),\n",
       " (0.932709697866812, 0.906087155046407, 0.822228721342981, '1'),\n",
       " (0.878357699839398, 0.765102854464203, 0.753061944793444, '1'),\n",
       " (0.873728774953634, 0.880377155786846, 0.937559759011492, '1'),\n",
       " (0.0162199230398983, 0.755332315631676, 0.856595932156779, '1'),\n",
       " (0.71954985987395, 0.797880110447295, 0.922660628682934, '1'),\n",
       " (0.651586345862597, 0.985895052843262, 0.781363810354378, '1'),\n",
       " (0.183120610658079, 0.94793166423915, 0.944592770945746, '1'),\n",
       " (0.0336120480205864, 0.990817868092563, 0.94648694206262, '1'),\n",
       " (0.44986735470593, 0.961688874464016, 0.782447355508339, '1'),\n",
       " (0.0216065959539264, 0.893055002670735, 0.78810275066644, '1'),\n",
       " (0.518232671543956, 0.981418518582359, 0.885654028446879, '1'),\n",
       " (0.0813352356199175, 0.975743832066655, 0.942461165948771, '1'),\n",
       " (0.679960736073554, 0.883321176457684, 0.849098302191123, '1'),\n",
       " (0.124285539845005, 0.784555640246253, 0.996920259844046, '1'),\n",
       " (0.213784153573215, 0.930292323522735, 0.778868732391857, '1'),\n",
       " (0.137845386518165, 0.999564771889709, 0.764933649683371, '1'),\n",
       " (0.156871707644314, 0.946033782267477, 0.887671774195042, '1'),\n",
       " (0.808707092888653, 0.86188833968481, 0.876098461041693, '1'),\n",
       " (0.531120691914111, 0.763492810889147, 0.905278607679065, '1'),\n",
       " (0.702484533656389, 0.905765794566832, 0.875316344841849, '1'),\n",
       " (0.215792542556301, 0.929277217073832, 0.995562754047569, '1'),\n",
       " (0.474425898399204, 0.757425429415889, 0.777615566388704, '1'),\n",
       " (0.623410867992789, 0.926142469106708, 0.962641960766632, '1'),\n",
       " (0.186158502241597, 0.775822028110269, 0.800747417320963, '1'),\n",
       " (0.797728100791574, 0.912646858138032, 0.956435681204312, '1'),\n",
       " (0.577584757469594, 0.901005673105828, 0.880451209843159, '1'),\n",
       " (0.700566766783595, 0.965502795763314, 0.790498598653357, '1'),\n",
       " (0.637154814554378, 0.862316632817965, 0.915077375830151, '1'),\n",
       " (0.731450808467343, 0.944278244045563, 0.992421206959989, '1'),\n",
       " (0.50592376338318, 0.784520988119766, 0.944396238774061, '1'),\n",
       " (0.066790587734431, 0.942759202676825, 0.752224372467026, '1'),\n",
       " (0.436251773964614, 0.956587497843429, 0.862774107488804, '1'),\n",
       " (0.855416761478409, 0.921639647975098, 0.771902650652919, '1'),\n",
       " (0.311225669225678, 0.968128424778115, 0.987417092837859, '1'),\n",
       " (0.9103595148772, 0.926721742725931, 0.869777358137071, '1'),\n",
       " (0.374700671993196, 0.759011073911097, 0.798599603353068, '1'),\n",
       " (0.747238489566371, 0.844719772227108, 0.867269498994574, '1'),\n",
       " (0.376391289755702, 0.783194152754731, 0.933522943756543, '1'),\n",
       " (0.101200983161107, 0.864638716622721, 0.968183319026139, '1'),\n",
       " (0.716906144050881, 0.840733351360541, 0.751341666618828, '1'),\n",
       " (0.706347641535103, 0.756541602313519, 0.884123933967203, '1'),\n",
       " (0.932176058646291, 0.813375218771398, 0.782094441237859, '1'),\n",
       " (0.892268840572797, 0.0728591828374192, 0.415268389042467, '2'),\n",
       " (0.982223868602887, 0.090994173893705, 0.489074523793533, '2'),\n",
       " (0.875046807981562, 0.230591714207549, 0.506270152283832, '2'),\n",
       " (0.968261887785047, 0.180929445137735, 0.176806197268888, '2'),\n",
       " (0.876194879820105, 0.220608358213212, 0.188158005243167, '2'),\n",
       " (0.831505114445463, 0.0820679604075849, 0.0705039552412927, '2'),\n",
       " (0.814655943075195, 0.0726148419780657, 0.471975033869967, '2'),\n",
       " (0.95797994651366, 0.115358006733004, 0.149315742077306, '2'),\n",
       " (0.905957790615503, 0.159707152401097, 0.819844552548602, '2'),\n",
       " (0.824603207351174, 0.237883104942739, 0.659211325692013, '2'),\n",
       " (0.978973484307062, 0.229707704100292, 0.0372010802384466, '2'),\n",
       " (0.89656969695352, 0.060853356088046, 0.657902806065977, '2'),\n",
       " (0.789617043395992, 0.0730216120718978, 0.732986166840419, '2'),\n",
       " (0.847505250072572, 0.21791182726156, 0.666966845048591, '2'),\n",
       " (0.786389543209225, 0.123333613912109, 0.433796213939786, '2'),\n",
       " (0.935393023304641, 0.11220548878191, 0.751014764420688, '2'),\n",
       " (0.844158720166888, 0.0484749531024136, 0.363824531435966, '2'),\n",
       " (0.982247898180503, 0.122508242900949, 0.80467567872256, '2'),\n",
       " (0.91960519249551, 0.0926368435029872, 0.245643897214904, '2'),\n",
       " (0.823141937493347, 0.0776235914672725, 0.29559447360225, '2'),\n",
       " (0.933288212050684, 0.194256635557394, 0.183479234110564, '2'),\n",
       " (0.821308759564999, 0.0174922220176086, 0.365656740963459, '2'),\n",
       " (0.937562836916186, 0.100034642557148, 0.624563893536106, '2'),\n",
       " (0.926597298588604, 0.148860178072937, 0.169645109213889, '2'),\n",
       " (0.954692170023918, 0.103270530526061, 0.812864362262189, '2'),\n",
       " (0.889021111652255, 0.225498358311597, 0.972717100987211, '2'),\n",
       " (0.76438004715601, 0.217846332408953, 0.451618960592896, '2'),\n",
       " (0.751081061433069, 0.2010238909279, 0.786676092538983, '2'),\n",
       " (0.840486991626676, 0.0383197327610105, 0.592743145767599, '2'),\n",
       " (0.870513187895995, 0.1015217093518, 0.943170753540471, '2'),\n",
       " (0.846662054478657, 0.0259543776628561, 0.905194553313777, '2'),\n",
       " (0.892595625191461, 0.20297765469877, 0.266825865954161, '2'),\n",
       " (0.764235009555705, 0.0120683175045997, 0.981160190654919, '2'),\n",
       " (0.860359397425782, 0.0331404569442384, 0.803033986827359, '2'),\n",
       " (0.915969563939143, 0.0548492638627067, 0.2439109752886, '2'),\n",
       " (0.86194783920655, 0.0536568488460034, 0.546112682437524, '2'),\n",
       " (0.845699992089067, 0.185730922501534, 0.579846048494801, '2'),\n",
       " (0.963388005271554, 0.0223197920713574, 0.137254480738193, '2'),\n",
       " (0.750297078862786, 0.238534384174272, 0.610617740079761, '2'),\n",
       " (0.767314673808869, 0.109235450916458, 0.476748398272321, '2'),\n",
       " (0.833980824623723, 0.147697283537127, 0.640761005459353, '2'),\n",
       " (0.881531022430863, 0.127445897087455, 0.455308336298913, '2'),\n",
       " (0.792116799566429, 0.00494330038782209, 0.206710157450289, '2'),\n",
       " (0.959297530353069, 0.201799209462479, 0.972112834919244, '2'),\n",
       " (0.818019779515453, 0.0325456926366314, 0.381192779866979, '2'),\n",
       " (0.774783961707726, 0.0912476427620277, 0.304006865946576, '2'),\n",
       " (0.939588467474096, 0.0446726285736077, 0.815606919117272, '2'),\n",
       " (0.975034126022365, 0.152066241949797, 0.6244686038699, '2'),\n",
       " (0.855457653990015, 0.12265844270587, 0.040887446841225, '2'),\n",
       " (0.973983148403931, 0.0995458682300523, 0.889643881469965, '2'),\n",
       " (0.930644681560807, 0.152117242454551, 0.33321268344298, '2'),\n",
       " (0.750442336138804, 0.232066152559128, 0.750227204756811, '2'),\n",
       " (0.891836849448737, 0.0199088437948376, 0.956451381091028, '2'),\n",
       " (0.766322946234141, 0.0341165231075138, 0.604757335735485, '2'),\n",
       " (0.764783208724111, 0.0832797195180319, 0.79158552759327, '2'),\n",
       " (0.809051755059045, 0.172872177732643, 0.813743359874934, '2'),\n",
       " (0.985199259943329, 0.00274199631530792, 0.476287437137216, '2'),\n",
       " (0.757950863509905, 0.106213146355003, 0.481777833774686, '2'),\n",
       " (0.768232952454127, 0.0965871085063554, 0.580617345869541, '2'),\n",
       " (0.8928927204106, 0.197296779893804, 0.00363543280400336, '2'),\n",
       " (0.984306601167191, 0.243027257616632, 0.403290293877944, '2'),\n",
       " (0.795046975661535, 0.147196072794031, 0.307816762942821, '2'),\n",
       " (0.884495844889898, 0.110503369418439, 0.370999820297584, '2'),\n",
       " (0.984514512936585, 0.0906190438545309, 0.865037857787684, '2'),\n",
       " (0.836360141052864, 0.0627642192412168, 0.199607908492908, '2'),\n",
       " (0.983737652655691, 0.110446096688975, 0.366204005433246, '2'),\n",
       " (0.806998164975084, 0.0908482628874481, 0.284392810426652, '2'),\n",
       " (0.966000625106972, 0.0854753685416654, 0.372076849220321, '2'),\n",
       " (0.765184693445917, 0.1657884279266, 0.0997913221362978, '2'),\n",
       " (0.870945892180316, 0.142216202686541, 0.9466502238065, '2'),\n",
       " (0.923531838634517, 0.00409815594321117, 0.827549986308441, '2'),\n",
       " (0.905102979158983, 0.0691783742513508, 0.104129551677033, '2'),\n",
       " (0.987532839819323, 0.187091044266708, 0.828402691753581, '2'),\n",
       " (0.776256952725817, 0.113633489701897, 0.0674736818764359, '2'),\n",
       " (0.919397562276572, 0.0780813250457868, 0.517410412197933, '2'),\n",
       " (0.906673845020123, 0.0233923714840785, 0.598741350928321, '2'),\n",
       " (0.917114188661799, 0.17188057419844, 0.017538831802085, '2'),\n",
       " (0.878967086784542, 0.198029912367929, 0.950298469979316, '2'),\n",
       " (0.770528634428047, 0.0169077273458242, 0.960456018336117, '2'),\n",
       " (0.852263701497577, 0.0985707911895588, 0.32401742390357, '2'),\n",
       " (0.767596742021851, 0.041059733252041, 0.11321815289557, '2'),\n",
       " (0.900546882126946, 0.112571551115252, 0.77802058798261, '2'),\n",
       " (0.776186971575953, 0.0058444274473004, 0.243160219863057, '2'),\n",
       " (0.841822042188141, 0.182669805246405, 0.573781729675829, '2'),\n",
       " (0.764226660248823, 0.153715525986627, 0.139135868288577, '2'),\n",
       " (0.820868856448215, 0.19023363396991, 0.415312701836228, '2'),\n",
       " (0.9339644543943, 0.0654298669542186, 0.341240987880155, '2'),\n",
       " (0.976646210183389, 0.157118437578902, 0.387080090120435, '2'),\n",
       " (0.970268583390862, 0.219940096430946, 0.611606933875009, '2'),\n",
       " (0.907040865800809, 0.107011348416563, 0.00154256052337587, '2'),\n",
       " (0.799218087282497, 0.224415943026543, 0.152994960779324, '2'),\n",
       " (0.939748844364658, 0.219228262954857, 0.165436009643599, '2'),\n",
       " (0.798389143950772, 0.0321453481446952, 0.25467395898886, '2'),\n",
       " (0.862169959582388, 0.190769328852184, 0.609436198836192, '2'),\n",
       " (0.933812909119297, 0.121925510524306, 0.863864525454119, '2'),\n",
       " (0.835228912124876, 0.216111709654797, 0.317601137328893, '2'),\n",
       " (0.957206080318429, 0.218051039089914, 0.0495454936753958, '2'),\n",
       " (0.899174992751796, 0.158107068913523, 0.335275403223932, '2'),\n",
       " (0.923387797025498, 0.039472819888033, 0.358802807284519, '2'),\n",
       " (0.962827240175102, 0.0734810443245806, 0.968543288530782, '2'),\n",
       " (0.82938681228552, 0.115845743624959, 0.336192101007327, '2'),\n",
       " (0.998136887268629, 0.233189232065342, 0.905689094681293, '2'),\n",
       " (0.963946864765603, 0.157796171260998, 0.210630519548431, '2'),\n",
       " (0.815938582934905, 0.0158826858387329, 0.013751448597759, '2'),\n",
       " (0.992642366734799, 0.157696877548005, 0.00341301271691918, '2'),\n",
       " (0.819455563439988, 0.163680601341184, 0.405089074745774, '2'),\n",
       " (0.942745485925116, 0.0736210135510191, 0.236117259599268, '2'),\n",
       " (0.861205649154726, 0.0667736841714941, 0.259478052612394, '2'),\n",
       " (0.856398506672122, 0.0070440117851831, 0.687488100025803, '2'),\n",
       " (0.81141585286241, 0.23504591092933, 0.0768345971591771, '2'),\n",
       " (0.948526448744815, 0.0249829032691196, 0.0437389276921749, '2'),\n",
       " (0.967303353303578, 0.0225868165143766, 0.933205258799717, '2'),\n",
       " (0.878767144517042, 0.229570731404237, 0.713747378205881, '2'),\n",
       " (0.909249912248924, 0.0457261551637203, 0.93429993186146, '2'),\n",
       " (0.776741548907012, 0.229678688570857, 0.412752085365355, '2'),\n",
       " (0.805810127640143, 0.165181960677728, 0.615226653870195, '2'),\n",
       " (0.797321766847745, 0.0182919475482777, 0.781661706510931, '2'),\n",
       " (0.820713469816837, 0.0659214709885418, 0.457500279415399, '2'),\n",
       " (0.763712649582885, 0.135733387374785, 0.507452951977029, '2'),\n",
       " (0.756021411449183, 0.138129340659361, 0.406346120405942, '2'),\n",
       " (0.93820628215326, 0.174279721686617, 0.046585482545197, '2'),\n",
       " (0.761183359834831, 0.231554687488824, 0.052556884707883, '2'),\n",
       " (0.83726051566191, 0.176810951670632, 0.228071774123237, '2'),\n",
       " (0.993711628310848, 0.122179311001673, 0.46672736457549, '2'),\n",
       " (0.921449889603537, 0.147236915072426, 0.81844434584491, '2'),\n",
       " (0.774136967491359, 0.0393934226012789, 0.119419985916466, '2'),\n",
       " (0.812096539593767, 0.136499038490001, 0.309777229093015, '2'),\n",
       " (0.975272471259814, 0.0142665329622105, 0.759040576405823, '2'),\n",
       " (0.774301064666361, 0.0441576579469256, 0.646464762743562, '2'),\n",
       " (0.853102296125144, 0.207256057008635, 0.386769549921155, '2'),\n",
       " (0.969629572471604, 0.243564042611979, 0.632890844251961, '2'),\n",
       " (0.759781346190721, 0.200462088454515, 0.0363766006194055, '2'),\n",
       " (0.790781020419672, 0.0647428366937675, 0.335825737100095, '2'),\n",
       " (0.755763345572632, 0.0463517182506621, 0.757426121039316, '2'),\n",
       " (0.821938872919418, 0.188684553198982, 0.156357507221401, '2'),\n",
       " (0.773288661090191, 0.233449694293085, 0.0982829425483942, '2'),\n",
       " (0.786008376220707, 0.220134208793752, 0.493738085497171, '2'),\n",
       " (0.84175817517098, 0.0613644680706784, 0.215918956557289, '2'),\n",
       " (0.869134546432178, 0.1756363172899, 0.863813192816451, '2'),\n",
       " (0.945105063030496, 0.12348171742633, 0.35250429273583, '2'),\n",
       " (0.999593246495351, 0.100667374732438, 0.75939902709797, '2'),\n",
       " (0.82310947123915, 0.0208661903161556, 0.215162339154631, '2'),\n",
       " (0.817933416750748, 0.170073705841787, 0.952357047703117, '2'),\n",
       " (0.17171731608687, 0.566429061582312, 0.235454736975953, '3'),\n",
       " (0.042537143221125, 0.829735952895135, 0.0856050244765356, '3'),\n",
       " (0.00141389260534197, 0.594290488865227, 0.0308690565871075, '3'),\n",
       " (0.0727005285443738, 0.392202376620844, 0.070236767816823, '3'),\n",
       " (0.0792804666562006, 0.721432836493477, 0.185066012607422, '3'),\n",
       " (0.0808567201020196, 0.844299089862034, 0.0257290287991054, '3'),\n",
       " (0.00344629818573594, 0.309554400620982, 0.020475160505157, '3'),\n",
       " (0.236179652391002, 0.604675909271464, 0.246131359133869, '3'),\n",
       " (0.0860627221991308, 0.684137275675312, 0.229449905862566, '3'),\n",
       " (0.157447129546199, 0.366969840833917, 0.183445579954423, '3'),\n",
       " (0.203848072502296, 0.582956308266148, 0.0535887404112145, '3'),\n",
       " (0.243159863865003, 0.96940057259053, 0.145705586881377, '3'),\n",
       " (0.150788594910409, 0.639704536646605, 0.0703679988509975, '3'),\n",
       " (0.202068926999345, 0.853208270156756, 0.128665637923405, '3'),\n",
       " (0.23563403065782, 0.883809006772935, 0.0294648964190856, '3'),\n",
       " (0.0831975705805235, 0.157497255131602, 0.00914390437537804, '3'),\n",
       " (0.242776348546613, 0.267481829039752, 0.130008706240915, '3'),\n",
       " (0.22573649440892, 0.632000467274338, 0.0241671849507838, '3'),\n",
       " (0.0885306110722013, 0.046761040808633, 0.23535074503161, '3'),\n",
       " (0.0609440246480517, 0.588827789062634, 0.217450233874843, '3'),\n",
       " (0.0596370375715196, 0.320540370652452, 0.0888617084128782, '3'),\n",
       " (0.0372583090793341, 0.349678704049438, 0.189675130764954, '3'),\n",
       " (0.145541834877804, 0.56050721812062, 0.166643651959021, '3'),\n",
       " (0.172192105615977, 0.966512845363468, 0.0257460397551768, '3'),\n",
       " (0.033074545674026, 0.64653537212871, 0.247025866818149, '3'),\n",
       " (0.0568282697931863, 0.780316495103762, 0.100931551016401, '3'),\n",
       " (0.0179197794059291, 0.992846274981275, 0.00624968501506373, '3'),\n",
       " (0.152994830161333, 0.889105776557699, 0.159218362707179, '3'),\n",
       " (0.108772613981273, 0.835474072489887, 0.0991084719425999, '3'),\n",
       " (0.0281621775939129, 0.364752086345106, 0.24261175544234, '3'),\n",
       " (0.204843415878713, 0.0176163341384381, 0.128020340169314, '3'),\n",
       " (0.0439651418128051, 0.32821290451102, 0.00205685896798968, '3'),\n",
       " (0.23961227509426, 0.759398674825206, 0.15645143459551, '3'),\n",
       " (0.0444598341709934, 0.438575965119526, 0.192621384514496, '3'),\n",
       " (0.122538689116482, 0.179441896965727, 0.0624783405219205, '3'),\n",
       " (0.147279124590568, 0.842301132623106, 0.122068258351646, '3'),\n",
       " (0.0635667174356058, 0.891771977534518, 0.116531294886954, '3'),\n",
       " (0.132315739348996, 0.58038208540529, 0.0905403718934394, '3'),\n",
       " (0.104639048920944, 0.54176636133343, 0.205252613406628, '3'),\n",
       " (0.0206976523040794, 0.989538496127352, 0.151062408112921, '3'),\n",
       " (0.238435141451191, 0.503904299344867, 0.0997797633754089, '3'),\n",
       " (0.164571465284098, 0.708894902840257, 0.213242085592356, '3'),\n",
       " (0.182040763087571, 0.227413637563586, 0.123455609078519, '3'),\n",
       " (0.169045284506865, 0.547556036151946, 0.0462723468081094, '3'),\n",
       " (0.201655069249682, 0.27920683263801, 0.143728504539467, '3'),\n",
       " (0.130727448558901, 0.479997067013755, 0.0587837858474813, '3'),\n",
       " (0.213266130944248, 0.935339616145939, 0.0603835481451824, '3'),\n",
       " (0.0930132404901087, 0.239302751142532, 0.239918190054595, '3'),\n",
       " (0.0185878575430252, 0.875300213228911, 0.136786096962169, '3'),\n",
       " (0.0213276901631616, 0.948484126478434, 0.10468019725522, '3'),\n",
       " (0.0702491238480434, 0.936730108922347, 0.104345821659081, '3'),\n",
       " (0.0800729322363622, 0.321504740277305, 0.158989785471931, '3'),\n",
       " (0.0297486637718976, 0.435024627950042, 0.0391482012928464, '3'),\n",
       " (0.12374589627143, 0.0494760253932327, 0.169624052126892, '3'),\n",
       " (0.0816570862662047, 0.604864650638774, 0.126156263344456, '3'),\n",
       " (0.107447783113457, 0.0044704161118716, 0.049506543786265, '3'),\n",
       " (0.104076929623261, 0.0482200242113322, 0.146519547386561, '3'),\n",
       " (0.141316046181601, 0.406531705521047, 0.138222041656263, '3'),\n",
       " (0.0265684487530962, 0.329891577130184, 0.16528773214668, '3'),\n",
       " (0.173711536335759, 0.384897631360218, 0.0230143116787076, '3'),\n",
       " (0.0524587578838691, 0.649647415382788, 0.0286030756542459, '3'),\n",
       " (0.0619099233299494, 0.73434695834294, 0.0307617674698122, '3'),\n",
       " (0.14982214657357, 0.0935259442776442, 0.154644732596353, '3'),\n",
       " (0.186062955181114, 0.899695207830518, 0.123962755489629, '3'),\n",
       " (0.204303789883852, 0.00339393806643784, 0.0296962524298579, '3'),\n",
       " (0.240760314220097, 0.962895784061402, 0.22093137569027, '3'),\n",
       " (0.102270261850208, 0.600717325229198, 0.167987236520275, '3'),\n",
       " (0.0838528872118331, 0.940722914645448, 0.212260375847109, '3'),\n",
       " (0.0412239290308207, 0.546922658570111, 0.14577793382341, '3'),\n",
       " (0.202888586791232, 0.191191793885082, 0.24699106242042, '3'),\n",
       " (0.157531186821871, 0.254799869144335, 0.0793048478662968, '3'),\n",
       " (0.145284086465836, 0.509715710766613, 0.245338921959046, '3'),\n",
       " (0.241002929746173, 0.316331250360236, 0.0356839271844365, '3'),\n",
       " (0.156971721968148, 0.748467177385464, 0.164281760458834, '3'),\n",
       " (0.143471351941116, 0.225175523431972, 0.238691940961871, '3'),\n",
       " (0.208548334776424, 0.953904543537647, 0.100669352454133, '3'),\n",
       " (0.176788023265544, 0.163750895066187, 0.147712811885867, '3'),\n",
       " (0.161397368821781, 0.17516977339983, 0.185466492199339, '3'),\n",
       " (0.00122064765309915, 0.761536395177245, 0.0129968952387571, '3'),\n",
       " (0.193101622164249, 0.200218577636406, 0.0832579563721083, '3'),\n",
       " (0.13979765685508, 0.348788025090471, 0.0832948948373087, '3'),\n",
       " (0.127938853402156, 0.523477828130126, 0.23991090717027, '3'),\n",
       " (0.106265557406005, 0.0656945870723575, 0.198501389997546, '3'),\n",
       " (0.235179767478257, 0.684987021610141, 0.240211984550115, '3'),\n",
       " (0.129913966287859, 0.377926937304437, 0.0813618774409406, '3'),\n",
       " (0.0716618765727617, 0.587841415079311, 0.109249014582019, '3'),\n",
       " (0.176237283856608, 0.507972304010764, 0.0710525717004202, '3'),\n",
       " (0.120122505002655, 0.822155996924266, 0.144399911165237, '3'),\n",
       " (0.226714383345097, 0.933592079672962, 0.172106639132835, '3'),\n",
       " (0.0897114613908343, 0.965470912633464, 0.118834527092986, '3'),\n",
       " (0.0191422050120309, 0.642240041401237, 0.209658184554428, '3'),\n",
       " (0.105169824673794, 0.581523868255317, 0.090745676541701, '3'),\n",
       " (0.208900780591648, 0.543287985259667, 0.21027168846922, '3'),\n",
       " (0.107772815681528, 0.536169632105157, 0.0115867480635643, '3'),\n",
       " (0.107468885777052, 0.857518143486232, 0.0263230215059593, '3'),\n",
       " (0.0405384016921744, 0.436764155747369, 0.200151952158194, '3'),\n",
       " (0.145416577812284, 0.390096711926162, 0.193388011073694, '3'),\n",
       " (0.100076574250124, 0.760594541439787, 0.190526980382856, '3'),\n",
       " (0.0801075022900477, 0.56834726408124, 0.0776526174740866, '3'),\n",
       " (0.19963401183486, 0.0182707321364433, 0.209908124641515, '3'),\n",
       " (0.00433070061262697, 0.72610328020528, 0.15433626039885, '3'),\n",
       " (0.118880452762824, 0.42757766530849, 0.129317583574448, '3'),\n",
       " (0.149641916970722, 0.978848449885845, 0.232318848895375, '3'),\n",
       " (0.201725755003281, 0.265268560266122, 0.234973516198806, '3'),\n",
       " (0.161702475685161, 0.406051830854267, 0.247566967795137, '3'),\n",
       " (0.118304387724493, 0.482620665570721, 0.140021373576019, '3'),\n",
       " (0.231968590698671, 0.264410794945434, 0.216061821731273, '3'),\n",
       " (0.0487334246863611, 0.192158894846216, 0.0396582932444289, '3'),\n",
       " (0.23732979974011, 0.619447697652504, 0.224392512522172, '3'),\n",
       " (0.0659722884884104, 0.251299469033256, 0.148580317734741, '3'),\n",
       " (0.0524676793720573, 0.446309990482405, 0.146927052934188, '3'),\n",
       " (0.0261292505892925, 0.197732588741928, 0.146956642449368, '3'),\n",
       " (0.0659667816362344, 0.196891122497618, 0.129096679622307, '3'),\n",
       " (0.00713070103665814, 0.346947770100087, 0.0504196302499622, '3'),\n",
       " (0.229555864818394, 0.308790000388399, 0.201064501423389, '3'),\n",
       " (0.164382312097587, 0.854148411192, 0.153496272105258, '3'),\n",
       " (0.212896486511454, 0.451931024203077, 0.216890322393738, '3'),\n",
       " (0.092584814527072, 0.0242750840261579, 0.0805099756689742, '3'),\n",
       " (0.073569186963141, 0.296369386138394, 0.24102340626996, '3'),\n",
       " (0.0353659837855957, 0.852525038411841, 0.0799204882932827, '3'),\n",
       " (0.190587099699769, 0.569570766761899, 0.0799596634460613, '3'),\n",
       " (0.0604543790686876, 0.643695823848248, 0.0145396480802447, '3'),\n",
       " (0.192365737108048, 0.20813410775736, 0.118918467545882, '3'),\n",
       " (0.113783043634612, 0.797689261846244, 0.10722814098699, '3'),\n",
       " (0.100395303976256, 0.702985149342567, 0.170934104186017, '3'),\n",
       " (0.165641443687491, 0.559096017619595, 0.154077462502755, '3'),\n",
       " (0.0718572470359504, 0.9469746472314, 0.185237658966798, '3'),\n",
       " (0.158304671815131, 0.852562239626423, 0.24965191289084, '3'),\n",
       " (0.206013111863285, 0.162799265934154, 0.110737583774608, '3'),\n",
       " (0.0683741819811985, 0.674028889974579, 0.137465724837966, '3'),\n",
       " (0.194809877139051, 0.615117249311879, 0.0342494046199135, '3'),\n",
       " (0.0765443409909494, 0.704616609960794, 0.242996883636806, '3'),\n",
       " (0.19036473648157, 0.368191050365567, 0.22879272303544, '3'),\n",
       " (0.222051449003629, 0.302186506567523, 0.205096198944375, '3'),\n",
       " (0.145025283505674, 0.229945382801816, 0.0179064808762632, '3'),\n",
       " (0.0297044516773894, 0.60102929873392, 0.0916492204996757, '3'),\n",
       " (0.0253352343570441, 0.895774910692126, 0.16233029862633, '3'),\n",
       " (0.0540317025734112, 0.0946878434624523, 0.20101759233512, '3'),\n",
       " (0.100634932285175, 0.489618103019893, 0.214527413423639, '3'),\n",
       " (0.014623706927523, 0.332457760348916, 0.165096790355165, '3'),\n",
       " (0.0998566150083207, 0.708719637012109, 0.172240193584003, '3'),\n",
       " (0.15159482951276, 0.252388099674135, 0.0895423766341992, '3'),\n",
       " (0.21060246572597, 0.147470453055575, 0.155674623383675, '3'),\n",
       " (0.485734025202692, 0.419152405951172, 0.590956165455282, '4'),\n",
       " (0.569460317119956, 0.404543174337596, 0.462596948351711, '4'),\n",
       " (0.57490733708255, 0.504694709554315, 0.563777241390198, '4'),\n",
       " (0.552031271532178, 0.516064366698265, 0.532556399144232, '4'),\n",
       " (0.512363372556865, 0.468976947758347, 0.476788881793618, '4'),\n",
       " (0.465810352377593, 0.42718746131286, 0.590758146764711, '4'),\n",
       " (0.489916168665513, 0.442229913640767, 0.540236922074109, '4'),\n",
       " (0.559804240614176, 0.451395721826702, 0.445118477195501, '4'),\n",
       " (0.519648886146024, 0.501215511607006, 0.582739590574056, '4'),\n",
       " (0.565109069785103, 0.530882997158915, 0.523838206380606, '4'),\n",
       " (0.543453812599182, 0.593019783589989, 0.453703946433961, '4'),\n",
       " (0.40015551680699, 0.599425787292421, 0.59200703445822, '4'),\n",
       " (0.473648367170244, 0.468335251091048, 0.576240972941741, '4'),\n",
       " (0.540792952710763, 0.435213146312162, 0.445968235470355, '4'),\n",
       " (0.516361224465072, 0.535392412682995, 0.535872757947072, '4'),\n",
       " (0.545960938837379, 0.485412167292088, 0.546179002476856, '4'),\n",
       " (0.505165139120072, 0.418108936725184, 0.509288514219224, '4'),\n",
       " (0.450055837677792, 0.512095913523808, 0.435805827798322, '4'),\n",
       " (0.52836431064643, 0.404178434005007, 0.439533592481166, '4'),\n",
       " (0.422077779332176, 0.534366836259142, 0.417860693158582, '4'),\n",
       " (0.409149011364207, 0.575847393786535, 0.413196394545957, '4'),\n",
       " (0.407223459193483, 0.594653541129082, 0.550804182048887, '4'),\n",
       " (0.44472193159163, 0.487258217437193, 0.449314172146842, '4'),\n",
       " (0.566318639740348, 0.562601760867983, 0.531301374034956, '4'),\n",
       " (0.587592662777752, 0.539952395483851, 0.519439598731697, '4'),\n",
       " (0.579266230482608, 0.435576466098428, 0.413952547311783, '4'),\n",
       " (0.496967328572646, 0.522089935000986, 0.566360699012876, '4'),\n",
       " (0.504564560623839, 0.582632159069181, 0.519032856542617, '4'),\n",
       " (0.471087187621743, 0.49494800795801, 0.447830959409475, '4'),\n",
       " (0.458298180066049, 0.424223689781502, 0.456598175130785, '4'),\n",
       " (0.586979260388762, 0.507422556634992, 0.471548334695399, '4'),\n",
       " (0.51734018586576, 0.403644527075812, 0.483487662021071, '4'),\n",
       " (0.4711750225164, 0.565153172239661, 0.573525711242109, '4'),\n",
       " (0.544481819774955, 0.488626066176221, 0.449917754065245, '4'),\n",
       " (0.498452981095761, 0.40179070783779, 0.474505487736315, '4'),\n",
       " (0.483175073191524, 0.505340739525855, 0.533766295667738, '4'),\n",
       " (0.466959679685533, 0.453523995447904, 0.56935483282432, '4'),\n",
       " (0.517787602590397, 0.404259209427983, 0.595146667584777, '4'),\n",
       " (0.401284364704043, 0.447059678239748, 0.4399787270464, '4'),\n",
       " (0.550330158369616, 0.492476375447586, 0.442895384971052, '4'),\n",
       " (0.555296233436093, 0.420113234175369, 0.591501194192097, '4'),\n",
       " (0.488127575954422, 0.563810959178954, 0.43559556696564, '4'),\n",
       " (0.408834558119997, 0.526567247789353, 0.432594511844218, '4'),\n",
       " (0.519761628750712, 0.451575270900503, 0.530301155103371, '4'),\n",
       " (0.526442958088592, 0.473150024283677, 0.483765567047521, '4'),\n",
       " (0.401384750334546, 0.466784765571356, 0.445173497498035, '4'),\n",
       " (0.583119415584952, 0.477803966030478, 0.509165500244126, '4'),\n",
       " (0.553254669904709, 0.481651534093544, 0.449988157721236, '4'),\n",
       " (0.589102741749957, 0.457383056962863, 0.502237931406125, '4'),\n",
       " (0.447908549150452, 0.572175931604579, 0.566303313802928, '4'),\n",
       " (0.574667180562392, 0.544396195374429, 0.554326205234975, '4'),\n",
       " (0.435783759318292, 0.54409119784832, 0.467965473700315, '4'),\n",
       " (0.530148396268487, 0.507865202520043, 0.481451528286561, '4'),\n",
       " (0.57627761317417, 0.495734808919951, 0.42764211948961, '4'),\n",
       " (0.445348463580012, 0.473196598701179, 0.451811813516542, '4'),\n",
       " (0.500841697910801, 0.401481179147959, 0.418587451428175, '4'),\n",
       " (0.444701632857323, 0.477066051401198, 0.461140150343999, '4'),\n",
       " (0.485205239802599, 0.5163910377305, 0.474029237451032, '4'),\n",
       " (0.483149343682453, 0.431892902823165, 0.500751822441816, '4'),\n",
       " (0.500107313878834, 0.408967056870461, 0.495958704082295, '4'),\n",
       " (0.560135081037879, 0.537621938856319, 0.54672820828855, '4'),\n",
       " (0.441731719626114, 0.525710159027949, 0.56338274423033, '4'),\n",
       " (0.53135888427496, 0.455689794337377, 0.578616882860661, '4'),\n",
       " (0.449440172314644, 0.405935654463246, 0.406939355097711, '4'),\n",
       " (0.489363156910986, 0.469039404019713, 0.444028970599175, '4'),\n",
       " (0.541559163015336, 0.428577494900674, 0.464697318989784, '4'),\n",
       " (0.581727864872664, 0.567703497316688, 0.447444546874613, '4'),\n",
       " (0.584714692085981, 0.586053016828373, 0.471197350136936, '4')]"
      ]
     },
     "execution_count": 129,
     "metadata": {},
     "output_type": "execute_result"
    }
   ],
   "source": [
    "cuboids.dados[:-3]"
   ]
  },
  {
   "cell_type": "code",
   "execution_count": null,
   "metadata": {},
   "outputs": [],
   "source": []
  },
  {
   "cell_type": "code",
   "execution_count": null,
   "metadata": {},
   "outputs": [],
   "source": [
    "mlbench.hypercube"
   ]
  },
  {
   "cell_type": "code",
   "execution_count": 131,
   "metadata": {},
   "outputs": [
    {
     "name": "stdout",
     "output_type": "stream",
     "text": [
      "\n",
      "R version 3.6.3 (2020-02-29) -- \"Holding the Windsock\"\n",
      "Copyright (C) 2020 The R Foundation for Statistical Computing\n",
      "Platform: x86_64-pc-linux-gnu (64-bit)\n",
      "\n",
      "R é um software livre e vem sem GARANTIA ALGUMA.\n",
      "Você pode redistribuí-lo sob certas circunstâncias.\n",
      "Digite 'license()' ou 'licence()' para detalhes de distribuição.\n",
      "\n",
      "R é um projeto colaborativo com muitos contribuidores.\n",
      "Digite 'contributors()' para obter mais informações e\n",
      "'citation()' para saber como citar o R ou pacotes do R em publicações.\n",
      "\n",
      "Digite 'demo()' para demonstrações, 'help()' para o sistema on-line de ajuda,\n",
      "ou 'help.start()' para abrir o sistema de ajuda em HTML no seu navegador.\n",
      "Digite 'q()' para sair do R.\n",
      "\n",
      "> library(mlbench); write.csv(mlbench.hypercube(500), 'data/hypercube.csv')\n",
      "> \n",
      "> \n"
     ]
    }
   ],
   "source": [
    "# baixando dataset do R\n",
    "!R -e \"library(mlbench); write.csv(mlbench.hypercube(500), 'data/hypercube.csv')\""
   ]
  },
  {
   "cell_type": "code",
   "execution_count": 132,
   "metadata": {},
   "outputs": [
    {
     "data": {
      "image/png": "[encoded data removed]",
      "text/plain": [
       "<Figure size 432x288 with 1 Axes>"
      ]
     },
     "metadata": {
      "needs_background": "light"
     },
     "output_type": "display_data"
    }
   ],
   "source": [
    "clf = Classificador()\n",
    "clf.carregar('data/hypercube.csv', delimiter=',', ignoraColuna1=True)\n",
    "clf.dados\n",
    "clf.treinar()\n",
    "clf.graficoFronteira()"
   ]
  },
  {
   "cell_type": "code",
   "execution_count": null,
   "metadata": {},
   "outputs": [],
   "source": []
  },
  {
   "cell_type": "code",
   "execution_count": null,
   "metadata": {},
   "outputs": [],
   "source": []
  },
  {
   "cell_type": "markdown",
   "metadata": {},
   "source": [
    "# mlbench.ringnorm"
   ]
  },
  {
   "cell_type": "code",
   "execution_count": 133,
   "metadata": {},
   "outputs": [
    {
     "name": "stdout",
     "output_type": "stream",
     "text": [
      "\n",
      "R version 3.6.3 (2020-02-29) -- \"Holding the Windsock\"\n",
      "Copyright (C) 2020 The R Foundation for Statistical Computing\n",
      "Platform: x86_64-pc-linux-gnu (64-bit)\n",
      "\n",
      "R é um software livre e vem sem GARANTIA ALGUMA.\n",
      "Você pode redistribuí-lo sob certas circunstâncias.\n",
      "Digite 'license()' ou 'licence()' para detalhes de distribuição.\n",
      "\n",
      "R é um projeto colaborativo com muitos contribuidores.\n",
      "Digite 'contributors()' para obter mais informações e\n",
      "'citation()' para saber como citar o R ou pacotes do R em publicações.\n",
      "\n",
      "Digite 'demo()' para demonstrações, 'help()' para o sistema on-line de ajuda,\n",
      "ou 'help.start()' para abrir o sistema de ajuda em HTML no seu navegador.\n",
      "Digite 'q()' para sair do R.\n",
      "\n",
      "> library(mlbench); write.csv(mlbench.ringnorm(500), 'data/ringnorm.csv')\n",
      "> \n",
      "> \n"
     ]
    }
   ],
   "source": [
    "# baixando dataset do R\n",
    "!R -e \"library(mlbench); write.csv(mlbench.ringnorm(500), 'data/ringnorm.csv')\""
   ]
  },
  {
   "cell_type": "code",
   "execution_count": 134,
   "metadata": {},
   "outputs": [
    {
     "data": {
      "image/png": "[encoded data removed]",
      "text/plain": [
       "<Figure size 432x288 with 1 Axes>"
      ]
     },
     "metadata": {
      "needs_background": "light"
     },
     "output_type": "display_data"
    }
   ],
   "source": [
    "clf = Classificador()\n",
    "clf.carregar('data/ringnorm.csv', delimiter=',', ignoraColuna1=True)\n",
    "clf.dados\n",
    "clf.treinar()\n",
    "clf.graficoFronteira()"
   ]
  },
  {
   "cell_type": "code",
   "execution_count": null,
   "metadata": {},
   "outputs": [],
   "source": []
  },
  {
   "cell_type": "code",
   "execution_count": null,
   "metadata": {},
   "outputs": [],
   "source": []
  },
  {
   "cell_type": "markdown",
   "metadata": {},
   "source": [
    "# mlbench.shapes"
   ]
  },
  {
   "cell_type": "code",
   "execution_count": 135,
   "metadata": {},
   "outputs": [
    {
     "name": "stdout",
     "output_type": "stream",
     "text": [
      "\n",
      "R version 3.6.3 (2020-02-29) -- \"Holding the Windsock\"\n",
      "Copyright (C) 2020 The R Foundation for Statistical Computing\n",
      "Platform: x86_64-pc-linux-gnu (64-bit)\n",
      "\n",
      "R é um software livre e vem sem GARANTIA ALGUMA.\n",
      "Você pode redistribuí-lo sob certas circunstâncias.\n",
      "Digite 'license()' ou 'licence()' para detalhes de distribuição.\n",
      "\n",
      "R é um projeto colaborativo com muitos contribuidores.\n",
      "Digite 'contributors()' para obter mais informações e\n",
      "'citation()' para saber como citar o R ou pacotes do R em publicações.\n",
      "\n",
      "Digite 'demo()' para demonstrações, 'help()' para o sistema on-line de ajuda,\n",
      "ou 'help.start()' para abrir o sistema de ajuda em HTML no seu navegador.\n",
      "Digite 'q()' para sair do R.\n",
      "\n",
      "> library(mlbench); write.csv(mlbench.shapes(500), 'data/shapes.csv')\n",
      "> \n",
      "> \n"
     ]
    }
   ],
   "source": [
    "# baixando dataset do R\n",
    "!R -e \"library(mlbench); write.csv(mlbench.shapes(500), 'data/shapes.csv')\""
   ]
  },
  {
   "cell_type": "code",
   "execution_count": 136,
   "metadata": {},
   "outputs": [
    {
     "data": {
      "image/png": "[encoded data removed]",
      "text/plain": [
       "<Figure size 432x288 with 1 Axes>"
      ]
     },
     "metadata": {
      "needs_background": "light"
     },
     "output_type": "display_data"
    }
   ],
   "source": [
    "clf = Classificador()\n",
    "clf.carregar('data/shapes.csv', delimiter=',', ignoraColuna1=True)\n",
    "clf.dados\n",
    "clf.treinar()\n",
    "clf.graficoFronteira()"
   ]
  },
  {
   "cell_type": "markdown",
   "metadata": {},
   "source": [
    "# mlbench.simplex"
   ]
  },
  {
   "cell_type": "code",
   "execution_count": 138,
   "metadata": {},
   "outputs": [
    {
     "name": "stdout",
     "output_type": "stream",
     "text": [
      "\n",
      "R version 3.6.3 (2020-02-29) -- \"Holding the Windsock\"\n",
      "Copyright (C) 2020 The R Foundation for Statistical Computing\n",
      "Platform: x86_64-pc-linux-gnu (64-bit)\n",
      "\n",
      "R é um software livre e vem sem GARANTIA ALGUMA.\n",
      "Você pode redistribuí-lo sob certas circunstâncias.\n",
      "Digite 'license()' ou 'licence()' para detalhes de distribuição.\n",
      "\n",
      "R é um projeto colaborativo com muitos contribuidores.\n",
      "Digite 'contributors()' para obter mais informações e\n",
      "'citation()' para saber como citar o R ou pacotes do R em publicações.\n",
      "\n",
      "Digite 'demo()' para demonstrações, 'help()' para o sistema on-line de ajuda,\n",
      "ou 'help.start()' para abrir o sistema de ajuda em HTML no seu navegador.\n",
      "Digite 'q()' para sair do R.\n",
      "\n",
      "> library(mlbench); write.csv(mlbench.simplex(500), 'data/simplex.csv')\n",
      "> \n",
      "> \n"
     ]
    }
   ],
   "source": [
    "# baixando dataset do R\n",
    "!R -e \"library(mlbench); write.csv(mlbench.simplex(500), 'data/simplex.csv')\""
   ]
  },
  {
   "cell_type": "code",
   "execution_count": 139,
   "metadata": {},
   "outputs": [
    {
     "data": {
      "image/png": "[encoded data removed]",
      "text/plain": [
       "<Figure size 432x288 with 1 Axes>"
      ]
     },
     "metadata": {
      "needs_background": "light"
     },
     "output_type": "display_data"
    }
   ],
   "source": [
    "clf = Classificador()\n",
    "clf.carregar('data/simplex.csv', delimiter=',', ignoraColuna1=True)\n",
    "clf.dados\n",
    "clf.treinar()\n",
    "clf.graficoFronteira()"
   ]
  },
  {
   "cell_type": "markdown",
   "metadata": {},
   "source": [
    "# mlbench.smiley"
   ]
  },
  {
   "cell_type": "code",
   "execution_count": 140,
   "metadata": {},
   "outputs": [
    {
     "name": "stdout",
     "output_type": "stream",
     "text": [
      "\n",
      "R version 3.6.3 (2020-02-29) -- \"Holding the Windsock\"\n",
      "Copyright (C) 2020 The R Foundation for Statistical Computing\n",
      "Platform: x86_64-pc-linux-gnu (64-bit)\n",
      "\n",
      "R é um software livre e vem sem GARANTIA ALGUMA.\n",
      "Você pode redistribuí-lo sob certas circunstâncias.\n",
      "Digite 'license()' ou 'licence()' para detalhes de distribuição.\n",
      "\n",
      "R é um projeto colaborativo com muitos contribuidores.\n",
      "Digite 'contributors()' para obter mais informações e\n",
      "'citation()' para saber como citar o R ou pacotes do R em publicações.\n",
      "\n",
      "Digite 'demo()' para demonstrações, 'help()' para o sistema on-line de ajuda,\n",
      "ou 'help.start()' para abrir o sistema de ajuda em HTML no seu navegador.\n",
      "Digite 'q()' para sair do R.\n",
      "\n",
      "> library(mlbench); write.csv(mlbench.smiley(500), 'data/smiley.csv')\n",
      "> \n",
      "> \n"
     ]
    }
   ],
   "source": [
    "# baixando dataset do R\n",
    "!R -e \"library(mlbench); write.csv(mlbench.smiley(500), 'data/smiley.csv')\""
   ]
  },
  {
   "cell_type": "code",
   "execution_count": 141,
   "metadata": {},
   "outputs": [
    {
     "data": {
      "image/png": "[encoded data removed]",
      "text/plain": [
       "<Figure size 432x288 with 1 Axes>"
      ]
     },
     "metadata": {
      "needs_background": "light"
     },
     "output_type": "display_data"
    }
   ],
   "source": [
    "clf = Classificador()\n",
    "clf.carregar('data/smiley.csv', delimiter=',', ignoraColuna1=True)\n",
    "clf.dados\n",
    "clf.treinar()\n",
    "clf.graficoFronteira()"
   ]
  },
  {
   "cell_type": "code",
   "execution_count": null,
   "metadata": {},
   "outputs": [],
   "source": [
    "mlbench.spirals"
   ]
  },
  {
   "cell_type": "code",
   "execution_count": 142,
   "metadata": {},
   "outputs": [
    {
     "name": "stdout",
     "output_type": "stream",
     "text": [
      "\n",
      "R version 3.6.3 (2020-02-29) -- \"Holding the Windsock\"\n",
      "Copyright (C) 2020 The R Foundation for Statistical Computing\n",
      "Platform: x86_64-pc-linux-gnu (64-bit)\n",
      "\n",
      "R é um software livre e vem sem GARANTIA ALGUMA.\n",
      "Você pode redistribuí-lo sob certas circunstâncias.\n",
      "Digite 'license()' ou 'licence()' para detalhes de distribuição.\n",
      "\n",
      "R é um projeto colaborativo com muitos contribuidores.\n",
      "Digite 'contributors()' para obter mais informações e\n",
      "'citation()' para saber como citar o R ou pacotes do R em publicações.\n",
      "\n",
      "Digite 'demo()' para demonstrações, 'help()' para o sistema on-line de ajuda,\n",
      "ou 'help.start()' para abrir o sistema de ajuda em HTML no seu navegador.\n",
      "Digite 'q()' para sair do R.\n",
      "\n",
      "> library(mlbench); write.csv(mlbench.spirals(500), 'data/spirals.csv')\n",
      "> \n",
      "> \n"
     ]
    }
   ],
   "source": [
    "# baixando dataset do R\n",
    "!R -e \"library(mlbench); write.csv(mlbench.spirals(500), 'data/spirals.csv')\""
   ]
  },
  {
   "cell_type": "code",
   "execution_count": 143,
   "metadata": {},
   "outputs": [
    {
     "data": {
      "image/png": "[encoded data removed]",
      "text/plain": [
       "<Figure size 432x288 with 1 Axes>"
      ]
     },
     "metadata": {
      "needs_background": "light"
     },
     "output_type": "display_data"
    }
   ],
   "source": [
    "clf = Classificador()\n",
    "clf.carregar('data/spirals.csv', delimiter=',', ignoraColuna1=True)\n",
    "clf.dados\n",
    "clf.treinar()\n",
    "clf.graficoFronteira()"
   ]
  },
  {
   "cell_type": "markdown",
   "metadata": {},
   "source": [
    "# mlbench.spirals"
   ]
  },
  {
   "cell_type": "code",
   "execution_count": 146,
   "metadata": {},
   "outputs": [
    {
     "name": "stdout",
     "output_type": "stream",
     "text": [
      "\n",
      "R version 3.6.3 (2020-02-29) -- \"Holding the Windsock\"\n",
      "Copyright (C) 2020 The R Foundation for Statistical Computing\n",
      "Platform: x86_64-pc-linux-gnu (64-bit)\n",
      "\n",
      "R é um software livre e vem sem GARANTIA ALGUMA.\n",
      "Você pode redistribuí-lo sob certas circunstâncias.\n",
      "Digite 'license()' ou 'licence()' para detalhes de distribuição.\n",
      "\n",
      "R é um projeto colaborativo com muitos contribuidores.\n",
      "Digite 'contributors()' para obter mais informações e\n",
      "'citation()' para saber como citar o R ou pacotes do R em publicações.\n",
      "\n",
      "Digite 'demo()' para demonstrações, 'help()' para o sistema on-line de ajuda,\n",
      "ou 'help.start()' para abrir o sistema de ajuda em HTML no seu navegador.\n",
      "Digite 'q()' para sair do R.\n",
      "\n",
      "> library(mlbench); write.csv(mlbench.spirals(1000), 'data/spirals1k.csv')\n",
      "> \n",
      "> \n"
     ]
    }
   ],
   "source": [
    "# baixando dataset do R\n",
    "!R -e \"library(mlbench); write.csv(mlbench.spirals(1000), 'data/spirals1k.csv')\""
   ]
  },
  {
   "cell_type": "code",
   "execution_count": 147,
   "metadata": {},
   "outputs": [
    {
     "data": {
      "image/png": "[encoded data removed]",
      "text/plain": [
       "<Figure size 432x288 with 1 Axes>"
      ]
     },
     "metadata": {
      "needs_background": "light"
     },
     "output_type": "display_data"
    }
   ],
   "source": [
    "clf = Classificador()\n",
    "clf.carregar('data/spirals1k.csv', delimiter=',', ignoraColuna1=True)\n",
    "clf.dados\n",
    "clf.treinar()\n",
    "clf.graficoFronteira()"
   ]
  },
  {
   "cell_type": "markdown",
   "metadata": {},
   "source": [
    "# mlbench.threenorm"
   ]
  },
  {
   "cell_type": "code",
   "execution_count": 148,
   "metadata": {},
   "outputs": [
    {
     "name": "stdout",
     "output_type": "stream",
     "text": [
      "\n",
      "R version 3.6.3 (2020-02-29) -- \"Holding the Windsock\"\n",
      "Copyright (C) 2020 The R Foundation for Statistical Computing\n",
      "Platform: x86_64-pc-linux-gnu (64-bit)\n",
      "\n",
      "R é um software livre e vem sem GARANTIA ALGUMA.\n",
      "Você pode redistribuí-lo sob certas circunstâncias.\n",
      "Digite 'license()' ou 'licence()' para detalhes de distribuição.\n",
      "\n",
      "R é um projeto colaborativo com muitos contribuidores.\n",
      "Digite 'contributors()' para obter mais informações e\n",
      "'citation()' para saber como citar o R ou pacotes do R em publicações.\n",
      "\n",
      "Digite 'demo()' para demonstrações, 'help()' para o sistema on-line de ajuda,\n",
      "ou 'help.start()' para abrir o sistema de ajuda em HTML no seu navegador.\n",
      "Digite 'q()' para sair do R.\n",
      "\n",
      "> library(mlbench); write.csv(mlbench.threenorm(500), 'data/threenorm.csv')\n",
      "> \n",
      "> \n"
     ]
    }
   ],
   "source": [
    "# baixando dataset do R\n",
    "!R -e \"library(mlbench); write.csv(mlbench.threenorm(500), 'data/threenorm.csv')\""
   ]
  },
  {
   "cell_type": "code",
   "execution_count": 149,
   "metadata": {},
   "outputs": [
    {
     "data": {
      "image/png": "[encoded data removed]",
      "text/plain": [
       "<Figure size 432x288 with 1 Axes>"
      ]
     },
     "metadata": {
      "needs_background": "light"
     },
     "output_type": "display_data"
    }
   ],
   "source": [
    "clf = Classificador()\n",
    "clf.carregar('data/threenorm.csv', delimiter=',', ignoraColuna1=True)\n",
    "clf.dados\n",
    "clf.treinar()\n",
    "clf.graficoFronteira()"
   ]
  },
  {
   "cell_type": "markdown",
   "metadata": {},
   "source": [
    "# mlbench.twonorm"
   ]
  },
  {
   "cell_type": "code",
   "execution_count": 150,
   "metadata": {},
   "outputs": [
    {
     "name": "stdout",
     "output_type": "stream",
     "text": [
      "\n",
      "R version 3.6.3 (2020-02-29) -- \"Holding the Windsock\"\n",
      "Copyright (C) 2020 The R Foundation for Statistical Computing\n",
      "Platform: x86_64-pc-linux-gnu (64-bit)\n",
      "\n",
      "R é um software livre e vem sem GARANTIA ALGUMA.\n",
      "Você pode redistribuí-lo sob certas circunstâncias.\n",
      "Digite 'license()' ou 'licence()' para detalhes de distribuição.\n",
      "\n",
      "R é um projeto colaborativo com muitos contribuidores.\n",
      "Digite 'contributors()' para obter mais informações e\n",
      "'citation()' para saber como citar o R ou pacotes do R em publicações.\n",
      "\n",
      "Digite 'demo()' para demonstrações, 'help()' para o sistema on-line de ajuda,\n",
      "ou 'help.start()' para abrir o sistema de ajuda em HTML no seu navegador.\n",
      "Digite 'q()' para sair do R.\n",
      "\n",
      "> library(mlbench); write.csv(mlbench.twonorm(500), 'data/twonorm.csv')\n",
      "> \n",
      "> \n"
     ]
    }
   ],
   "source": [
    "# baixando dataset do R\n",
    "!R -e \"library(mlbench); write.csv(mlbench.twonorm(500), 'data/twonorm.csv')\""
   ]
  },
  {
   "cell_type": "code",
   "execution_count": 151,
   "metadata": {},
   "outputs": [
    {
     "data": {
      "image/png": "[encoded data removed]",
      "text/plain": [
       "<Figure size 432x288 with 1 Axes>"
      ]
     },
     "metadata": {
      "needs_background": "light"
     },
     "output_type": "display_data"
    }
   ],
   "source": [
    "clf = Classificador()\n",
    "clf.carregar('data/twonorm.csv', delimiter=',', ignoraColuna1=True)\n",
    "clf.dados\n",
    "clf.treinar()\n",
    "clf.graficoFronteira()"
   ]
  },
  {
   "cell_type": "markdown",
   "metadata": {},
   "source": [
    "# mlbench.waveform"
   ]
  },
  {
   "cell_type": "code",
   "execution_count": 152,
   "metadata": {},
   "outputs": [
    {
     "name": "stdout",
     "output_type": "stream",
     "text": [
      "\n",
      "R version 3.6.3 (2020-02-29) -- \"Holding the Windsock\"\n",
      "Copyright (C) 2020 The R Foundation for Statistical Computing\n",
      "Platform: x86_64-pc-linux-gnu (64-bit)\n",
      "\n",
      "R é um software livre e vem sem GARANTIA ALGUMA.\n",
      "Você pode redistribuí-lo sob certas circunstâncias.\n",
      "Digite 'license()' ou 'licence()' para detalhes de distribuição.\n",
      "\n",
      "R é um projeto colaborativo com muitos contribuidores.\n",
      "Digite 'contributors()' para obter mais informações e\n",
      "'citation()' para saber como citar o R ou pacotes do R em publicações.\n",
      "\n",
      "Digite 'demo()' para demonstrações, 'help()' para o sistema on-line de ajuda,\n",
      "ou 'help.start()' para abrir o sistema de ajuda em HTML no seu navegador.\n",
      "Digite 'q()' para sair do R.\n",
      "\n",
      "> library(mlbench); write.csv(mlbench.waveform(500), 'data/waveform.csv')\n",
      "> \n",
      "> \n"
     ]
    }
   ],
   "source": [
    "# baixando dataset do R\n",
    "!R -e \"library(mlbench); write.csv(mlbench.waveform(500), 'data/waveform.csv')\""
   ]
  },
  {
   "cell_type": "code",
   "execution_count": 153,
   "metadata": {},
   "outputs": [
    {
     "data": {
      "image/png": "[encoded data removed]",
      "text/plain": [
       "<Figure size 432x288 with 1 Axes>"
      ]
     },
     "metadata": {
      "needs_background": "light"
     },
     "output_type": "display_data"
    }
   ],
   "source": [
    "clf = Classificador()\n",
    "clf.carregar('data/waveform.csv', delimiter=',', ignoraColuna1=True)\n",
    "clf.dados\n",
    "clf.treinar()\n",
    "clf.graficoFronteira()"
   ]
  },
  {
   "cell_type": "markdown",
   "metadata": {},
   "source": [
    "# mlbench.xor d=2"
   ]
  },
  {
   "cell_type": "code",
   "execution_count": 154,
   "metadata": {},
   "outputs": [
    {
     "name": "stdout",
     "output_type": "stream",
     "text": [
      "\n",
      "R version 3.6.3 (2020-02-29) -- \"Holding the Windsock\"\n",
      "Copyright (C) 2020 The R Foundation for Statistical Computing\n",
      "Platform: x86_64-pc-linux-gnu (64-bit)\n",
      "\n",
      "R é um software livre e vem sem GARANTIA ALGUMA.\n",
      "Você pode redistribuí-lo sob certas circunstâncias.\n",
      "Digite 'license()' ou 'licence()' para detalhes de distribuição.\n",
      "\n",
      "R é um projeto colaborativo com muitos contribuidores.\n",
      "Digite 'contributors()' para obter mais informações e\n",
      "'citation()' para saber como citar o R ou pacotes do R em publicações.\n",
      "\n",
      "Digite 'demo()' para demonstrações, 'help()' para o sistema on-line de ajuda,\n",
      "ou 'help.start()' para abrir o sistema de ajuda em HTML no seu navegador.\n",
      "Digite 'q()' para sair do R.\n",
      "\n",
      "> library(mlbench); write.csv(mlbench.xor(500, d=2), 'data/xor2d.csv')\n",
      "> \n",
      "> \n"
     ]
    }
   ],
   "source": [
    "# baixando dataset do R\n",
    "!R -e \"library(mlbench); write.csv(mlbench.xor(500, d=2), 'data/xor2d.csv')\""
   ]
  },
  {
   "cell_type": "code",
   "execution_count": 155,
   "metadata": {},
   "outputs": [
    {
     "data": {
      "image/png": "[encoded data removed]",
      "text/plain": [
       "<Figure size 432x288 with 1 Axes>"
      ]
     },
     "metadata": {
      "needs_background": "light"
     },
     "output_type": "display_data"
    }
   ],
   "source": [
    "clf = Classificador()\n",
    "clf.carregar('data/ringnorm.csv', delimiter=',', ignoraColuna1=True)\n",
    "clf.dados\n",
    "clf.treinar()\n",
    "clf.graficoFronteira()"
   ]
  },
  {
   "cell_type": "markdown",
   "metadata": {},
   "source": [
    "# mlbench.xor d=3"
   ]
  },
  {
   "cell_type": "code",
   "execution_count": 156,
   "metadata": {},
   "outputs": [
    {
     "name": "stdout",
     "output_type": "stream",
     "text": [
      "\n",
      "R version 3.6.3 (2020-02-29) -- \"Holding the Windsock\"\n",
      "Copyright (C) 2020 The R Foundation for Statistical Computing\n",
      "Platform: x86_64-pc-linux-gnu (64-bit)\n",
      "\n",
      "R é um software livre e vem sem GARANTIA ALGUMA.\n",
      "Você pode redistribuí-lo sob certas circunstâncias.\n",
      "Digite 'license()' ou 'licence()' para detalhes de distribuição.\n",
      "\n",
      "R é um projeto colaborativo com muitos contribuidores.\n",
      "Digite 'contributors()' para obter mais informações e\n",
      "'citation()' para saber como citar o R ou pacotes do R em publicações.\n",
      "\n",
      "Digite 'demo()' para demonstrações, 'help()' para o sistema on-line de ajuda,\n",
      "ou 'help.start()' para abrir o sistema de ajuda em HTML no seu navegador.\n",
      "Digite 'q()' para sair do R.\n",
      "\n",
      "> library(mlbench); write.csv(mlbench.xor(500,d=3), 'data/xor3d.csv')\n",
      "> \n",
      "> \n"
     ]
    }
   ],
   "source": [
    "# baixando dataset do R\n",
    "!R -e \"library(mlbench); write.csv(mlbench.xor(500,d=3), 'data/xor3d.csv')\""
   ]
  },
  {
   "cell_type": "code",
   "execution_count": 157,
   "metadata": {},
   "outputs": [
    {
     "data": {
      "image/png": "[encoded data removed]",
      "text/plain": [
       "<Figure size 432x288 with 1 Axes>"
      ]
     },
     "metadata": {
      "needs_background": "light"
     },
     "output_type": "display_data"
    }
   ],
   "source": [
    "clf = Classificador()\n",
    "clf.carregar('data/xor3d.csv', delimiter=',', ignoraColuna1=True)\n",
    "clf.dados\n",
    "clf.treinar()\n",
    "clf.graficoFronteira()"
   ]
  },
  {
   "cell_type": "code",
   "execution_count": null,
   "metadata": {},
   "outputs": [],
   "source": []
  }
 ],
 "metadata": {
  "kernelspec": {
   "display_name": "Python 3",
   "language": "python",
   "name": "python3"
  },
  "language_info": {
   "codemirror_mode": {
    "name": "ipython",
    "version": 3
   },
   "file_extension": ".py",
   "mimetype": "text/x-python",
   "name": "python",
   "nbconvert_exporter": "python",
   "pygments_lexer": "ipython3",
   "version": "3.7.3"
  }
 },
 "nbformat": 4,
 "nbformat_minor": 4
}
