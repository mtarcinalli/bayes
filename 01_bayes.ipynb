{
 "cells": [
  {
   "cell_type": "markdown",
   "metadata": {},
   "source": [
    "# Naive Bayes"
   ]
  },
  {
   "cell_type": "code",
   "execution_count": 63,
   "metadata": {},
   "outputs": [],
   "source": [
    "import csv\n",
    "import random"
   ]
  },
  {
   "cell_type": "code",
   "execution_count": 40,
   "metadata": {},
   "outputs": [],
   "source": [
    "def carregar(arquivo, delimiter=';', header=True):\n",
    "    data = []\n",
    "    with open(arquivo) as csv_file:\n",
    "        csv_reader = csv.reader(csv_file, delimiter=delimiter)\n",
    "        if header:\n",
    "            count = 0\n",
    "        else:\n",
    "            count = 1\n",
    "        for row in csv_reader:\n",
    "            if count != 0 :\n",
    "                if row:\n",
    "                    data.append(tuple(row))\n",
    "            count += 1\n",
    "    return(data)"
   ]
  },
  {
   "cell_type": "code",
   "execution_count": 3,
   "metadata": {},
   "outputs": [],
   "source": [
    "def treinamento(data):\n",
    "    total = len(data)\n",
    "    classes = list(set([x[-1] for x in data]))\n",
    "    combdata = {}\n",
    "    pdata = {}\n",
    "    for row in data:\n",
    "        classe = (row[-1])\n",
    "        if classe in combdata:\n",
    "            combdata[classe] += 1\n",
    "        else:\n",
    "            combdata[classe] = 1    \n",
    "        for i, d in enumerate(row[:-1]):\n",
    "            # variavel continua\n",
    "            if d.replace('.','',1).isdigit():\n",
    "                ind = 'i'+str(i)\n",
    "                if ind in combdata:\n",
    "                    combdata[ind].append(float(d))\n",
    "                else:\n",
    "                    combdata[ind] = [ float(d) ]\n",
    "                key = (ind,classe)    \n",
    "                if key in combdata:\n",
    "                    combdata[key].append(float(d))\n",
    "                else:\n",
    "                    combdata[key] = [float(d)]\n",
    "            # variavel nominal\n",
    "            else:\n",
    "                if d in combdata:\n",
    "                    combdata[d] += 1\n",
    "                else:\n",
    "                    combdata[d] = 1\n",
    "                key = (d,classe)\n",
    "                if key in combdata:\n",
    "                    combdata[key] += 1\n",
    "                else:\n",
    "                    combdata[key] = 1\n",
    "    # calculando probabilidades\n",
    "    probdata = {}\n",
    "    for c in combdata:\n",
    "        if type(c) == tuple:\n",
    "            if type(combdata[c]) != list:\n",
    "                probdata[c] = combdata[c] / combdata[c[1]]\n",
    "            else:\n",
    "                media =  sum(combdata[c])/len(combdata[c])\n",
    "                desvio = (sum([(x-media)**2 for x in combdata[c]])/(len(combdata[c])-1))**0.5\n",
    "                probdata[c] = {\n",
    "                    'media' : media,\n",
    "                    'desvio' : desvio\n",
    "                }\n",
    "        else:\n",
    "            if type(combdata[c]) != list:\n",
    "                probdata[c] = combdata[c] / total\n",
    "            else:\n",
    "                media =  sum(combdata[c])/len(combdata[c])\n",
    "                desvio = (sum([(x-media)**2 for x in combdata[c]])/(len(combdata[c])-1))**0.5\n",
    "                probdata[c] = {\n",
    "                    'media' : media,\n",
    "                    'desvio' : desvio\n",
    "                }\n",
    "    probdata['classes'] = classes\n",
    "    return(probdata)"
   ]
  },
  {
   "cell_type": "code",
   "execution_count": 4,
   "metadata": {},
   "outputs": [
    {
     "name": "stdout",
     "output_type": "stream",
     "text": [
      "0.017340835222313836\n",
      "0.028688396603888434\n",
      "0.021676800985283348\n"
     ]
    }
   ],
   "source": [
    "def g(x, media, desvio):\n",
    "    p1 = 1 / ( (2*3.141592653589793)**0.5 * desvio  )\n",
    "    p2 = 2.718281828459045 ** (-((x - media) ** 2) / (2 * desvio ** 2))\n",
    "    return p1 * p2\n",
    "\n",
    "# testando função g\n",
    "print(g(83, 73.00, 6.16)) # 0.017\n",
    "print(g(83, 74.60, 7.89)) # 0.029\n",
    "print(g(83, 73.57, 6.57)) # 0.022"
   ]
  },
  {
   "cell_type": "code",
   "execution_count": 157,
   "metadata": {},
   "outputs": [],
   "source": [
    "def verificar(probdata, tupla, debug=False):\n",
    "    probClasse = {}\n",
    "    valClasse = 0\n",
    "    maxClasse = ''\n",
    "    for classe in probdata['classes']:\n",
    "        numerador = 1\n",
    "        denominador = 1\n",
    "        i=0\n",
    "        for v in tupla:\n",
    "            #if type(v) == str:\n",
    "            if not v.replace('.','',1).isdigit():\n",
    "                key = (v, classe)\n",
    "                if key in probdata:\n",
    "                    numerador = numerador * probdata[key]\n",
    "                else:\n",
    "                    numerador = numerador * 0.001\n",
    "                #if v in probdata:\n",
    "                #    denominador = denominador * probdata[v]\n",
    "                #else:\n",
    "                denominador = denominador * 0.001\n",
    "            else:\n",
    "                v = float(v)\n",
    "                key1 = ('i'+str(i),classe)\n",
    "                key2 = 'i'+str(i)\n",
    "                i += 1\n",
    "                if key1 in probdata:\n",
    "                    numerador = numerador * g(v,probdata[key1]['media'],probdata[key1]['desvio'])\n",
    "                #else:\n",
    "                #    numerador = numerador * 0.001\n",
    "                denominador = denominador * g(v,probdata[key2]['media'],probdata[key2]['desvio'])\n",
    "        numerador = numerador * probdata[classe]\n",
    "        probClasse[classe] = numerador / denominador\n",
    "        if debug:\n",
    "            print(classe,probClasse[classe])\n",
    "        if probClasse[classe] > valClasse:\n",
    "            valClasse = probClasse[classe]\n",
    "            maxClasse = classe\n",
    "    return(maxClasse)"
   ]
  },
  {
   "cell_type": "markdown",
   "metadata": {},
   "source": [
    "# dataset tempo"
   ]
  },
  {
   "cell_type": "code",
   "execution_count": 6,
   "metadata": {},
   "outputs": [
    {
     "data": {
      "text/plain": [
       "[('sunny', 'no'),\n",
       " ('overcast', 'yes'),\n",
       " ('rainny', 'yes'),\n",
       " ('sunny', 'yes'),\n",
       " ('sunny', 'yes'),\n",
       " ('overcast', 'yes'),\n",
       " ('rainny', 'no'),\n",
       " ('rainny', 'no'),\n",
       " ('sunny', 'yes'),\n",
       " ('rainny', 'yes'),\n",
       " ('sunny', 'no'),\n",
       " ('overcast', 'yes'),\n",
       " ('overcast', 'yes'),\n",
       " ('rainny', 'no')]"
      ]
     },
     "execution_count": 6,
     "metadata": {},
     "output_type": "execute_result"
    }
   ],
   "source": [
    "tempo =  carregar('data/tempo.csv')\n",
    "tempo"
   ]
  },
  {
   "cell_type": "code",
   "execution_count": 7,
   "metadata": {},
   "outputs": [],
   "source": [
    "modeloTempo = treinamento(tempo)"
   ]
  },
  {
   "cell_type": "code",
   "execution_count": 26,
   "metadata": {},
   "outputs": [
    {
     "data": {
      "text/plain": [
       "{'no': 0.35714285714285715,\n",
       " 'sunny': 0.35714285714285715,\n",
       " ('sunny', 'no'): 0.4,\n",
       " 'yes': 0.6428571428571429,\n",
       " 'overcast': 0.2857142857142857,\n",
       " ('overcast', 'yes'): 0.4444444444444444,\n",
       " 'rainny': 0.35714285714285715,\n",
       " ('rainny', 'yes'): 0.2222222222222222,\n",
       " ('sunny', 'yes'): 0.3333333333333333,\n",
       " ('rainny', 'no'): 0.6,\n",
       " 'classes': ['yes', 'no']}"
      ]
     },
     "execution_count": 26,
     "metadata": {},
     "output_type": "execute_result"
    }
   ],
   "source": [
    "modeloTempo"
   ]
  },
  {
   "cell_type": "code",
   "execution_count": 9,
   "metadata": {},
   "outputs": [
    {
     "name": "stdout",
     "output_type": "stream",
     "text": [
      "yes 0.6\n",
      "no 0.4\n"
     ]
    },
    {
     "data": {
      "text/plain": [
       "'yes'"
      ]
     },
     "execution_count": 9,
     "metadata": {},
     "output_type": "execute_result"
    }
   ],
   "source": [
    "verificar(modeloTempo, ['sunny'], debug=True)"
   ]
  },
  {
   "cell_type": "code",
   "execution_count": 10,
   "metadata": {},
   "outputs": [
    {
     "name": "stdout",
     "output_type": "stream",
     "text": [
      "yes 1.0\n",
      "no 0.00125\n"
     ]
    },
    {
     "data": {
      "text/plain": [
       "'yes'"
      ]
     },
     "execution_count": 10,
     "metadata": {},
     "output_type": "execute_result"
    }
   ],
   "source": [
    "verificar(modeloTempo, ['overcast'], debug=True)"
   ]
  },
  {
   "cell_type": "code",
   "execution_count": 11,
   "metadata": {},
   "outputs": [
    {
     "name": "stdout",
     "output_type": "stream",
     "text": [
      "yes 0.39999999999999997\n",
      "no 0.6\n"
     ]
    },
    {
     "data": {
      "text/plain": [
       "'no'"
      ]
     },
     "execution_count": 11,
     "metadata": {},
     "output_type": "execute_result"
    }
   ],
   "source": [
    "verificar(modeloTempo, ['rainny'], debug=True)"
   ]
  },
  {
   "cell_type": "markdown",
   "metadata": {},
   "source": [
    "# dataset tenis"
   ]
  },
  {
   "cell_type": "code",
   "execution_count": 12,
   "metadata": {},
   "outputs": [
    {
     "data": {
      "text/plain": [
       "[('sol', 'quente', 'alta', 'falso', 'não'),\n",
       " ('sol', 'quente', 'alta', 'verdadeiro', 'não'),\n",
       " ('nublado', 'quente', 'alta', 'falso', 'sim'),\n",
       " ('chuva', 'agradável', 'alta', 'falso', 'sim'),\n",
       " ('chuva', 'fria', 'normal', 'falso', 'sim'),\n",
       " ('chuva', 'fria', 'normal', 'verdadeiro', 'não'),\n",
       " ('nublado', 'fria', 'normal', 'verdadeiro', 'sim'),\n",
       " ('sol', 'agradável', 'alta', 'falso', 'não'),\n",
       " ('sol', 'fria', 'normal', 'falso', 'sim'),\n",
       " ('chuva', 'agradável', 'normal', 'falso', 'sim'),\n",
       " ('sol', 'agradável', 'normal', 'verdadeiro', 'sim'),\n",
       " ('nublado', 'agradável', 'alta', 'verdadeiro', 'sim'),\n",
       " ('nublado', 'quente', 'normal', 'falso', 'sim'),\n",
       " ('chuva', 'agradável', 'alta', 'verdadeiro', 'não')]"
      ]
     },
     "execution_count": 12,
     "metadata": {},
     "output_type": "execute_result"
    }
   ],
   "source": [
    "tenis = carregar('data/tenis.csv')\n",
    "tenis"
   ]
  },
  {
   "cell_type": "code",
   "execution_count": 13,
   "metadata": {},
   "outputs": [],
   "source": [
    "modeloTenis = treinamento(tenis)"
   ]
  },
  {
   "cell_type": "code",
   "execution_count": 25,
   "metadata": {},
   "outputs": [
    {
     "data": {
      "text/plain": [
       "{'não': 0.35714285714285715,\n",
       " 'sol': 0.35714285714285715,\n",
       " ('sol', 'não'): 0.6,\n",
       " 'quente': 0.2857142857142857,\n",
       " ('quente', 'não'): 0.4,\n",
       " 'alta': 0.5,\n",
       " ('alta', 'não'): 0.8,\n",
       " 'falso': 0.5714285714285714,\n",
       " ('falso', 'não'): 0.4,\n",
       " 'verdadeiro': 0.42857142857142855,\n",
       " ('verdadeiro', 'não'): 0.6,\n",
       " 'sim': 0.6428571428571429,\n",
       " 'nublado': 0.2857142857142857,\n",
       " ('nublado', 'sim'): 0.4444444444444444,\n",
       " ('quente', 'sim'): 0.2222222222222222,\n",
       " ('alta', 'sim'): 0.3333333333333333,\n",
       " ('falso', 'sim'): 0.6666666666666666,\n",
       " 'chuva': 0.35714285714285715,\n",
       " ('chuva', 'sim'): 0.3333333333333333,\n",
       " 'agradável': 0.42857142857142855,\n",
       " ('agradável', 'sim'): 0.4444444444444444,\n",
       " 'fria': 0.2857142857142857,\n",
       " ('fria', 'sim'): 0.3333333333333333,\n",
       " 'normal': 0.5,\n",
       " ('normal', 'sim'): 0.6666666666666666,\n",
       " ('chuva', 'não'): 0.4,\n",
       " ('fria', 'não'): 0.2,\n",
       " ('normal', 'não'): 0.2,\n",
       " ('verdadeiro', 'sim'): 0.3333333333333333,\n",
       " ('agradável', 'não'): 0.4,\n",
       " ('sol', 'sim'): 0.2222222222222222,\n",
       " 'classes': ['não', 'sim']}"
      ]
     },
     "execution_count": 25,
     "metadata": {},
     "output_type": "execute_result"
    }
   ],
   "source": [
    "modeloTenis"
   ]
  },
  {
   "cell_type": "code",
   "execution_count": 16,
   "metadata": {},
   "outputs": [
    {
     "name": "stdout",
     "output_type": "stream",
     "text": [
      "não 0.9408\n",
      "sim 0.2419753086419753\n",
      "não\n"
     ]
    }
   ],
   "source": [
    "tupla = ('sol', 'fria', 'alta', 'verdadeiro')\n",
    "print(verificar(modeloTenis, tupla, debug=True))"
   ]
  },
  {
   "cell_type": "code",
   "execution_count": 17,
   "metadata": {},
   "outputs": [
    {
     "name": "stdout",
     "output_type": "stream",
     "text": [
      "não 0.15680000000000005\n",
      "sim 0.7259259259259259\n",
      "sim\n"
     ]
    }
   ],
   "source": [
    "tupla = ('chuva', 'fria', 'normal', 'verdadeiro')\n",
    "print(verificar(modeloTenis, tupla, debug=True))"
   ]
  },
  {
   "cell_type": "markdown",
   "metadata": {},
   "source": [
    "# tenis2 dataset: atributos continuos"
   ]
  },
  {
   "cell_type": "code",
   "execution_count": 33,
   "metadata": {},
   "outputs": [
    {
     "data": {
      "text/plain": [
       "[('sol', '85.01', '85', 'falso', 'não'),\n",
       " ('sol', '80', '90', 'verdadeiro', 'não'),\n",
       " ('nublado', '83', '86', 'falso', 'sim'),\n",
       " ('chuva', '70', '96', 'falso', 'sim'),\n",
       " ('chuva', '68', '80', 'falso', 'sim'),\n",
       " ('chuva', '65', '70', 'verdadeiro', 'não'),\n",
       " ('nublado', '64', '65', 'verdadeiro', 'sim'),\n",
       " ('sol', '72', '95', 'falso', 'não'),\n",
       " ('sol', '69', '70', 'falso', 'sim'),\n",
       " ('chuva', '75', '80', 'falso', 'sim'),\n",
       " ('sol', '75', '70', 'verdadeiro', 'sim'),\n",
       " ('nublado', '72', '90', 'verdadeiro', 'sim'),\n",
       " ('nublado', '81', '75', 'falso', 'sim'),\n",
       " ('chuva', '71', '91', 'verdadeiro', 'não')]"
      ]
     },
     "execution_count": 33,
     "metadata": {},
     "output_type": "execute_result"
    }
   ],
   "source": [
    "tenis2 = carregar('data/tenis2.csv')\n",
    "tenis2"
   ]
  },
  {
   "cell_type": "code",
   "execution_count": 94,
   "metadata": {},
   "outputs": [
    {
     "name": "stdout",
     "output_type": "stream",
     "text": [
      "1.6833333333333333   0.10274023338281627\n"
     ]
    }
   ],
   "source": [
    "lista = [1.55, 1.70, 1.80]\n",
    "media =  sum(lista)/len(lista)\n",
    "desvio = (sum([(x-media)**2 for x in lista])/len(lista))**0.5\n",
    "print(media,' ',desvio)\n"
   ]
  },
  {
   "cell_type": "code",
   "execution_count": 20,
   "metadata": {},
   "outputs": [],
   "source": [
    "modeloTenis2 = treinamento(tenis2)"
   ]
  },
  {
   "cell_type": "code",
   "execution_count": 21,
   "metadata": {},
   "outputs": [
    {
     "data": {
      "text/plain": [
       "{'não': 0.35714285714285715,\n",
       " 'sol': 0.35714285714285715,\n",
       " ('sol', 'não'): 0.6,\n",
       " 'i1': {'media': 73.57214285714285, 'desvio': 6.573005609860131},\n",
       " ('i1', 'não'): {'media': 74.602, 'desvio': 7.896329527065093},\n",
       " 'i2': {'media': 81.64285714285714, 'desvio': 10.285218242007035},\n",
       " ('i2', 'não'): {'media': 86.2, 'desvio': 9.731392500562292},\n",
       " 'falso': 0.5714285714285714,\n",
       " ('falso', 'não'): 0.4,\n",
       " 'verdadeiro': 0.42857142857142855,\n",
       " ('verdadeiro', 'não'): 0.6,\n",
       " 'sim': 0.6428571428571429,\n",
       " 'nublado': 0.2857142857142857,\n",
       " ('nublado', 'sim'): 0.4444444444444444,\n",
       " ('i1', 'sim'): {'media': 73.0, 'desvio': 6.164414002968976},\n",
       " ('i2', 'sim'): {'media': 79.11111111111111, 'desvio': 10.215728613814635},\n",
       " ('falso', 'sim'): 0.6666666666666666,\n",
       " 'chuva': 0.35714285714285715,\n",
       " ('chuva', 'sim'): 0.3333333333333333,\n",
       " ('chuva', 'não'): 0.4,\n",
       " ('verdadeiro', 'sim'): 0.3333333333333333,\n",
       " ('sol', 'sim'): 0.2222222222222222,\n",
       " 'classes': ['não', 'sim']}"
      ]
     },
     "execution_count": 21,
     "metadata": {},
     "output_type": "execute_result"
    }
   ],
   "source": [
    "modeloTenis2"
   ]
  },
  {
   "cell_type": "code",
   "execution_count": 24,
   "metadata": {},
   "outputs": [
    {
     "name": "stdout",
     "output_type": "stream",
     "text": [
      "não 0.6661640966995964\n",
      "sim 0.29830336029759913\n",
      "não\n"
     ]
    }
   ],
   "source": [
    "tupla = ('sol', 83, 73, 'verdadeiro')\n",
    "print(verificar(modeloTenis2, tupla, debug=True))"
   ]
  },
  {
   "cell_type": "markdown",
   "metadata": {},
   "source": [
    "# dataset iris"
   ]
  },
  {
   "cell_type": "code",
   "execution_count": 27,
   "metadata": {},
   "outputs": [
    {
     "name": "stdout",
     "output_type": "stream",
     "text": [
      "5.1,3.5,1.4,0.2,Iris-setosa\r\n",
      "4.9,3.0,1.4,0.2,Iris-setosa\r\n",
      "4.7,3.2,1.3,0.2,Iris-setosa\r\n",
      "4.6,3.1,1.5,0.2,Iris-setosa\r\n",
      "5.0,3.6,1.4,0.2,Iris-setosa\r\n",
      "5.4,3.9,1.7,0.4,Iris-setosa\r\n",
      "4.6,3.4,1.4,0.3,Iris-setosa\r\n",
      "5.0,3.4,1.5,0.2,Iris-setosa\r\n",
      "4.4,2.9,1.4,0.2,Iris-setosa\r\n",
      "4.9,3.1,1.5,0.1,Iris-setosa\r\n"
     ]
    }
   ],
   "source": [
    "!head data/iris/iris.data"
   ]
  },
  {
   "cell_type": "code",
   "execution_count": 152,
   "metadata": {},
   "outputs": [],
   "source": [
    "iris = carregar(\"data/iris/iris.data\", delimiter=',', header=False)"
   ]
  },
  {
   "cell_type": "code",
   "execution_count": 153,
   "metadata": {},
   "outputs": [
    {
     "data": {
      "text/plain": [
       "[('5.1', '3.5', '1.4', '0.2', 'Iris-setosa'),\n",
       " ('4.9', '3.0', '1.4', '0.2', 'Iris-setosa'),\n",
       " ('4.7', '3.2', '1.3', '0.2', 'Iris-setosa'),\n",
       " ('4.6', '3.1', '1.5', '0.2', 'Iris-setosa'),\n",
       " ('5.0', '3.6', '1.4', '0.2', 'Iris-setosa'),\n",
       " ('5.4', '3.9', '1.7', '0.4', 'Iris-setosa'),\n",
       " ('4.6', '3.4', '1.4', '0.3', 'Iris-setosa'),\n",
       " ('5.0', '3.4', '1.5', '0.2', 'Iris-setosa'),\n",
       " ('4.4', '2.9', '1.4', '0.2', 'Iris-setosa'),\n",
       " ('4.9', '3.1', '1.5', '0.1', 'Iris-setosa'),\n",
       " ('5.4', '3.7', '1.5', '0.2', 'Iris-setosa'),\n",
       " ('4.8', '3.4', '1.6', '0.2', 'Iris-setosa'),\n",
       " ('4.8', '3.0', '1.4', '0.1', 'Iris-setosa'),\n",
       " ('4.3', '3.0', '1.1', '0.1', 'Iris-setosa'),\n",
       " ('5.8', '4.0', '1.2', '0.2', 'Iris-setosa'),\n",
       " ('5.7', '4.4', '1.5', '0.4', 'Iris-setosa'),\n",
       " ('5.4', '3.9', '1.3', '0.4', 'Iris-setosa'),\n",
       " ('5.1', '3.5', '1.4', '0.3', 'Iris-setosa'),\n",
       " ('5.7', '3.8', '1.7', '0.3', 'Iris-setosa'),\n",
       " ('5.1', '3.8', '1.5', '0.3', 'Iris-setosa'),\n",
       " ('5.4', '3.4', '1.7', '0.2', 'Iris-setosa'),\n",
       " ('5.1', '3.7', '1.5', '0.4', 'Iris-setosa'),\n",
       " ('4.6', '3.6', '1.0', '0.2', 'Iris-setosa'),\n",
       " ('5.1', '3.3', '1.7', '0.5', 'Iris-setosa'),\n",
       " ('4.8', '3.4', '1.9', '0.2', 'Iris-setosa'),\n",
       " ('5.0', '3.0', '1.6', '0.2', 'Iris-setosa'),\n",
       " ('5.0', '3.4', '1.6', '0.4', 'Iris-setosa'),\n",
       " ('5.2', '3.5', '1.5', '0.2', 'Iris-setosa'),\n",
       " ('5.2', '3.4', '1.4', '0.2', 'Iris-setosa'),\n",
       " ('4.7', '3.2', '1.6', '0.2', 'Iris-setosa'),\n",
       " ('4.8', '3.1', '1.6', '0.2', 'Iris-setosa'),\n",
       " ('5.4', '3.4', '1.5', '0.4', 'Iris-setosa'),\n",
       " ('5.2', '4.1', '1.5', '0.1', 'Iris-setosa'),\n",
       " ('5.5', '4.2', '1.4', '0.2', 'Iris-setosa'),\n",
       " ('4.9', '3.1', '1.5', '0.1', 'Iris-setosa'),\n",
       " ('5.0', '3.2', '1.2', '0.2', 'Iris-setosa'),\n",
       " ('5.5', '3.5', '1.3', '0.2', 'Iris-setosa'),\n",
       " ('4.9', '3.1', '1.5', '0.1', 'Iris-setosa'),\n",
       " ('4.4', '3.0', '1.3', '0.2', 'Iris-setosa'),\n",
       " ('5.1', '3.4', '1.5', '0.2', 'Iris-setosa'),\n",
       " ('5.0', '3.5', '1.3', '0.3', 'Iris-setosa'),\n",
       " ('4.5', '2.3', '1.3', '0.3', 'Iris-setosa'),\n",
       " ('4.4', '3.2', '1.3', '0.2', 'Iris-setosa'),\n",
       " ('5.0', '3.5', '1.6', '0.6', 'Iris-setosa'),\n",
       " ('5.1', '3.8', '1.9', '0.4', 'Iris-setosa'),\n",
       " ('4.8', '3.0', '1.4', '0.3', 'Iris-setosa'),\n",
       " ('5.1', '3.8', '1.6', '0.2', 'Iris-setosa'),\n",
       " ('4.6', '3.2', '1.4', '0.2', 'Iris-setosa'),\n",
       " ('5.3', '3.7', '1.5', '0.2', 'Iris-setosa'),\n",
       " ('5.0', '3.3', '1.4', '0.2', 'Iris-setosa'),\n",
       " ('7.0', '3.2', '4.7', '1.4', 'Iris-versicolor'),\n",
       " ('6.4', '3.2', '4.5', '1.5', 'Iris-versicolor'),\n",
       " ('6.9', '3.1', '4.9', '1.5', 'Iris-versicolor'),\n",
       " ('5.5', '2.3', '4.0', '1.3', 'Iris-versicolor'),\n",
       " ('6.5', '2.8', '4.6', '1.5', 'Iris-versicolor'),\n",
       " ('5.7', '2.8', '4.5', '1.3', 'Iris-versicolor'),\n",
       " ('6.3', '3.3', '4.7', '1.6', 'Iris-versicolor'),\n",
       " ('4.9', '2.4', '3.3', '1.0', 'Iris-versicolor'),\n",
       " ('6.6', '2.9', '4.6', '1.3', 'Iris-versicolor'),\n",
       " ('5.2', '2.7', '3.9', '1.4', 'Iris-versicolor'),\n",
       " ('5.0', '2.0', '3.5', '1.0', 'Iris-versicolor'),\n",
       " ('5.9', '3.0', '4.2', '1.5', 'Iris-versicolor'),\n",
       " ('6.0', '2.2', '4.0', '1.0', 'Iris-versicolor'),\n",
       " ('6.1', '2.9', '4.7', '1.4', 'Iris-versicolor'),\n",
       " ('5.6', '2.9', '3.6', '1.3', 'Iris-versicolor'),\n",
       " ('6.7', '3.1', '4.4', '1.4', 'Iris-versicolor'),\n",
       " ('5.6', '3.0', '4.5', '1.5', 'Iris-versicolor'),\n",
       " ('5.8', '2.7', '4.1', '1.0', 'Iris-versicolor'),\n",
       " ('6.2', '2.2', '4.5', '1.5', 'Iris-versicolor'),\n",
       " ('5.6', '2.5', '3.9', '1.1', 'Iris-versicolor'),\n",
       " ('5.9', '3.2', '4.8', '1.8', 'Iris-versicolor'),\n",
       " ('6.1', '2.8', '4.0', '1.3', 'Iris-versicolor'),\n",
       " ('6.3', '2.5', '4.9', '1.5', 'Iris-versicolor'),\n",
       " ('6.1', '2.8', '4.7', '1.2', 'Iris-versicolor'),\n",
       " ('6.4', '2.9', '4.3', '1.3', 'Iris-versicolor'),\n",
       " ('6.6', '3.0', '4.4', '1.4', 'Iris-versicolor'),\n",
       " ('6.8', '2.8', '4.8', '1.4', 'Iris-versicolor'),\n",
       " ('6.7', '3.0', '5.0', '1.7', 'Iris-versicolor'),\n",
       " ('6.0', '2.9', '4.5', '1.5', 'Iris-versicolor'),\n",
       " ('5.7', '2.6', '3.5', '1.0', 'Iris-versicolor'),\n",
       " ('5.5', '2.4', '3.8', '1.1', 'Iris-versicolor'),\n",
       " ('5.5', '2.4', '3.7', '1.0', 'Iris-versicolor'),\n",
       " ('5.8', '2.7', '3.9', '1.2', 'Iris-versicolor'),\n",
       " ('6.0', '2.7', '5.1', '1.6', 'Iris-versicolor'),\n",
       " ('5.4', '3.0', '4.5', '1.5', 'Iris-versicolor'),\n",
       " ('6.0', '3.4', '4.5', '1.6', 'Iris-versicolor'),\n",
       " ('6.7', '3.1', '4.7', '1.5', 'Iris-versicolor'),\n",
       " ('6.3', '2.3', '4.4', '1.3', 'Iris-versicolor'),\n",
       " ('5.6', '3.0', '4.1', '1.3', 'Iris-versicolor'),\n",
       " ('5.5', '2.5', '4.0', '1.3', 'Iris-versicolor'),\n",
       " ('5.5', '2.6', '4.4', '1.2', 'Iris-versicolor'),\n",
       " ('6.1', '3.0', '4.6', '1.4', 'Iris-versicolor'),\n",
       " ('5.8', '2.6', '4.0', '1.2', 'Iris-versicolor'),\n",
       " ('5.0', '2.3', '3.3', '1.0', 'Iris-versicolor'),\n",
       " ('5.6', '2.7', '4.2', '1.3', 'Iris-versicolor'),\n",
       " ('5.7', '3.0', '4.2', '1.2', 'Iris-versicolor'),\n",
       " ('5.7', '2.9', '4.2', '1.3', 'Iris-versicolor'),\n",
       " ('6.2', '2.9', '4.3', '1.3', 'Iris-versicolor'),\n",
       " ('5.1', '2.5', '3.0', '1.1', 'Iris-versicolor'),\n",
       " ('5.7', '2.8', '4.1', '1.3', 'Iris-versicolor'),\n",
       " ('6.3', '3.3', '6.0', '2.5', 'Iris-virginica'),\n",
       " ('5.8', '2.7', '5.1', '1.9', 'Iris-virginica'),\n",
       " ('7.1', '3.0', '5.9', '2.1', 'Iris-virginica'),\n",
       " ('6.3', '2.9', '5.6', '1.8', 'Iris-virginica'),\n",
       " ('6.5', '3.0', '5.8', '2.2', 'Iris-virginica'),\n",
       " ('7.6', '3.0', '6.6', '2.1', 'Iris-virginica'),\n",
       " ('4.9', '2.5', '4.5', '1.7', 'Iris-virginica'),\n",
       " ('7.3', '2.9', '6.3', '1.8', 'Iris-virginica'),\n",
       " ('6.7', '2.5', '5.8', '1.8', 'Iris-virginica'),\n",
       " ('7.2', '3.6', '6.1', '2.5', 'Iris-virginica'),\n",
       " ('6.5', '3.2', '5.1', '2.0', 'Iris-virginica'),\n",
       " ('6.4', '2.7', '5.3', '1.9', 'Iris-virginica'),\n",
       " ('6.8', '3.0', '5.5', '2.1', 'Iris-virginica'),\n",
       " ('5.7', '2.5', '5.0', '2.0', 'Iris-virginica'),\n",
       " ('5.8', '2.8', '5.1', '2.4', 'Iris-virginica'),\n",
       " ('6.4', '3.2', '5.3', '2.3', 'Iris-virginica'),\n",
       " ('6.5', '3.0', '5.5', '1.8', 'Iris-virginica'),\n",
       " ('7.7', '3.8', '6.7', '2.2', 'Iris-virginica'),\n",
       " ('7.7', '2.6', '6.9', '2.3', 'Iris-virginica'),\n",
       " ('6.0', '2.2', '5.0', '1.5', 'Iris-virginica'),\n",
       " ('6.9', '3.2', '5.7', '2.3', 'Iris-virginica'),\n",
       " ('5.6', '2.8', '4.9', '2.0', 'Iris-virginica'),\n",
       " ('7.7', '2.8', '6.7', '2.0', 'Iris-virginica'),\n",
       " ('6.3', '2.7', '4.9', '1.8', 'Iris-virginica'),\n",
       " ('6.7', '3.3', '5.7', '2.1', 'Iris-virginica'),\n",
       " ('7.2', '3.2', '6.0', '1.8', 'Iris-virginica'),\n",
       " ('6.2', '2.8', '4.8', '1.8', 'Iris-virginica'),\n",
       " ('6.1', '3.0', '4.9', '1.8', 'Iris-virginica'),\n",
       " ('6.4', '2.8', '5.6', '2.1', 'Iris-virginica'),\n",
       " ('7.2', '3.0', '5.8', '1.6', 'Iris-virginica'),\n",
       " ('7.4', '2.8', '6.1', '1.9', 'Iris-virginica'),\n",
       " ('7.9', '3.8', '6.4', '2.0', 'Iris-virginica'),\n",
       " ('6.4', '2.8', '5.6', '2.2', 'Iris-virginica'),\n",
       " ('6.3', '2.8', '5.1', '1.5', 'Iris-virginica'),\n",
       " ('6.1', '2.6', '5.6', '1.4', 'Iris-virginica'),\n",
       " ('7.7', '3.0', '6.1', '2.3', 'Iris-virginica'),\n",
       " ('6.3', '3.4', '5.6', '2.4', 'Iris-virginica'),\n",
       " ('6.4', '3.1', '5.5', '1.8', 'Iris-virginica'),\n",
       " ('6.0', '3.0', '4.8', '1.8', 'Iris-virginica'),\n",
       " ('6.9', '3.1', '5.4', '2.1', 'Iris-virginica'),\n",
       " ('6.7', '3.1', '5.6', '2.4', 'Iris-virginica'),\n",
       " ('6.9', '3.1', '5.1', '2.3', 'Iris-virginica'),\n",
       " ('5.8', '2.7', '5.1', '1.9', 'Iris-virginica'),\n",
       " ('6.8', '3.2', '5.9', '2.3', 'Iris-virginica'),\n",
       " ('6.7', '3.3', '5.7', '2.5', 'Iris-virginica'),\n",
       " ('6.7', '3.0', '5.2', '2.3', 'Iris-virginica'),\n",
       " ('6.3', '2.5', '5.0', '1.9', 'Iris-virginica'),\n",
       " ('6.5', '3.0', '5.2', '2.0', 'Iris-virginica'),\n",
       " ('6.2', '3.4', '5.4', '2.3', 'Iris-virginica'),\n",
       " ('5.9', '3.0', '5.1', '1.8', 'Iris-virginica')]"
      ]
     },
     "execution_count": 153,
     "metadata": {},
     "output_type": "execute_result"
    }
   ],
   "source": [
    "iris"
   ]
  },
  {
   "cell_type": "code",
   "execution_count": 46,
   "metadata": {},
   "outputs": [
    {
     "data": {
      "text/plain": [
       "150"
      ]
     },
     "execution_count": 46,
     "metadata": {},
     "output_type": "execute_result"
    }
   ],
   "source": [
    "len(iris)"
   ]
  },
  {
   "cell_type": "code",
   "execution_count": 47,
   "metadata": {},
   "outputs": [],
   "source": [
    "modeloIris = treinamento(iris)"
   ]
  },
  {
   "cell_type": "code",
   "execution_count": 49,
   "metadata": {},
   "outputs": [
    {
     "data": {
      "text/plain": [
       "{'Iris-setosa': 0.3333333333333333,\n",
       " 'i0': {'media': 5.843333333333335, 'desvio': 0.8280661279778629},\n",
       " ('i0', 'Iris-setosa'): {'media': 5.005999999999999,\n",
       "  'desvio': 0.3524896872134512},\n",
       " 'i1': {'media': 3.0540000000000007, 'desvio': 0.4335943113621737},\n",
       " ('i1', 'Iris-setosa'): {'media': 3.4180000000000006,\n",
       "  'desvio': 0.38102439795469095},\n",
       " 'i2': {'media': 3.7586666666666693, 'desvio': 1.7644204199522617},\n",
       " ('i2', 'Iris-setosa'): {'media': 1.464, 'desvio': 0.1735111594364455},\n",
       " 'i3': {'media': 1.1986666666666672, 'desvio': 0.7631607417008414},\n",
       " ('i3', 'Iris-setosa'): {'media': 0.2439999999999999,\n",
       "  'desvio': 0.10720950308167837},\n",
       " 'Iris-versicolor': 0.3333333333333333,\n",
       " ('i0', 'Iris-versicolor'): {'media': 5.936, 'desvio': 0.5161711470638635},\n",
       " ('i1', 'Iris-versicolor'): {'media': 2.7700000000000005,\n",
       "  'desvio': 0.3137983233784114},\n",
       " ('i2', 'Iris-versicolor'): {'media': 4.26, 'desvio': 0.46991097723995806},\n",
       " ('i3', 'Iris-versicolor'): {'media': 1.3259999999999998,\n",
       "  'desvio': 0.197752680004544},\n",
       " 'Iris-virginica': 0.3333333333333333,\n",
       " ('i0', 'Iris-virginica'): {'media': 6.587999999999998,\n",
       "  'desvio': 0.635879593274432},\n",
       " ('i1', 'Iris-virginica'): {'media': 2.9739999999999998,\n",
       "  'desvio': 0.3224966381726376},\n",
       " ('i2', 'Iris-virginica'): {'media': 5.552, 'desvio': 0.5518946956639835},\n",
       " ('i3', 'Iris-virginica'): {'media': 2.026, 'desvio': 0.27465005563666733},\n",
       " 'classes': ['Iris-versicolor', 'Iris-setosa', 'Iris-virginica']}"
      ]
     },
     "execution_count": 49,
     "metadata": {},
     "output_type": "execute_result"
    }
   ],
   "source": [
    "modeloIris"
   ]
  },
  {
   "cell_type": "code",
   "execution_count": 154,
   "metadata": {},
   "outputs": [
    {
     "name": "stdout",
     "output_type": "stream",
     "text": [
      "Iris-versicolor 2.707818334185056e-15\n",
      "Iris-setosa 140.3852259221931\n",
      "Iris-virginica 4.906984002426971e-23\n"
     ]
    },
    {
     "data": {
      "text/plain": [
       "'Iris-setosa'"
      ]
     },
     "execution_count": 154,
     "metadata": {},
     "output_type": "execute_result"
    }
   ],
   "source": [
    "tupla = (4.4, 2.9, 1.4, 0.2)\n",
    "verificar(modeloIris, tupla, debug=True)"
   ]
  },
  {
   "cell_type": "code",
   "execution_count": 151,
   "metadata": {},
   "outputs": [
    {
     "data": {
      "text/plain": [
       "{'data': array([[5.1, 3.5, 1.4, 0.2],\n",
       "        [4.9, 3. , 1.4, 0.2],\n",
       "        [4.7, 3.2, 1.3, 0.2],\n",
       "        [4.6, 3.1, 1.5, 0.2],\n",
       "        [5. , 3.6, 1.4, 0.2],\n",
       "        [5.4, 3.9, 1.7, 0.4],\n",
       "        [4.6, 3.4, 1.4, 0.3],\n",
       "        [5. , 3.4, 1.5, 0.2],\n",
       "        [4.4, 2.9, 1.4, 0.2],\n",
       "        [4.9, 3.1, 1.5, 0.1],\n",
       "        [5.4, 3.7, 1.5, 0.2],\n",
       "        [4.8, 3.4, 1.6, 0.2],\n",
       "        [4.8, 3. , 1.4, 0.1],\n",
       "        [4.3, 3. , 1.1, 0.1],\n",
       "        [5.8, 4. , 1.2, 0.2],\n",
       "        [5.7, 4.4, 1.5, 0.4],\n",
       "        [5.4, 3.9, 1.3, 0.4],\n",
       "        [5.1, 3.5, 1.4, 0.3],\n",
       "        [5.7, 3.8, 1.7, 0.3],\n",
       "        [5.1, 3.8, 1.5, 0.3],\n",
       "        [5.4, 3.4, 1.7, 0.2],\n",
       "        [5.1, 3.7, 1.5, 0.4],\n",
       "        [4.6, 3.6, 1. , 0.2],\n",
       "        [5.1, 3.3, 1.7, 0.5],\n",
       "        [4.8, 3.4, 1.9, 0.2],\n",
       "        [5. , 3. , 1.6, 0.2],\n",
       "        [5. , 3.4, 1.6, 0.4],\n",
       "        [5.2, 3.5, 1.5, 0.2],\n",
       "        [5.2, 3.4, 1.4, 0.2],\n",
       "        [4.7, 3.2, 1.6, 0.2],\n",
       "        [4.8, 3.1, 1.6, 0.2],\n",
       "        [5.4, 3.4, 1.5, 0.4],\n",
       "        [5.2, 4.1, 1.5, 0.1],\n",
       "        [5.5, 4.2, 1.4, 0.2],\n",
       "        [4.9, 3.1, 1.5, 0.2],\n",
       "        [5. , 3.2, 1.2, 0.2],\n",
       "        [5.5, 3.5, 1.3, 0.2],\n",
       "        [4.9, 3.6, 1.4, 0.1],\n",
       "        [4.4, 3. , 1.3, 0.2],\n",
       "        [5.1, 3.4, 1.5, 0.2],\n",
       "        [5. , 3.5, 1.3, 0.3],\n",
       "        [4.5, 2.3, 1.3, 0.3],\n",
       "        [4.4, 3.2, 1.3, 0.2],\n",
       "        [5. , 3.5, 1.6, 0.6],\n",
       "        [5.1, 3.8, 1.9, 0.4],\n",
       "        [4.8, 3. , 1.4, 0.3],\n",
       "        [5.1, 3.8, 1.6, 0.2],\n",
       "        [4.6, 3.2, 1.4, 0.2],\n",
       "        [5.3, 3.7, 1.5, 0.2],\n",
       "        [5. , 3.3, 1.4, 0.2],\n",
       "        [7. , 3.2, 4.7, 1.4],\n",
       "        [6.4, 3.2, 4.5, 1.5],\n",
       "        [6.9, 3.1, 4.9, 1.5],\n",
       "        [5.5, 2.3, 4. , 1.3],\n",
       "        [6.5, 2.8, 4.6, 1.5],\n",
       "        [5.7, 2.8, 4.5, 1.3],\n",
       "        [6.3, 3.3, 4.7, 1.6],\n",
       "        [4.9, 2.4, 3.3, 1. ],\n",
       "        [6.6, 2.9, 4.6, 1.3],\n",
       "        [5.2, 2.7, 3.9, 1.4],\n",
       "        [5. , 2. , 3.5, 1. ],\n",
       "        [5.9, 3. , 4.2, 1.5],\n",
       "        [6. , 2.2, 4. , 1. ],\n",
       "        [6.1, 2.9, 4.7, 1.4],\n",
       "        [5.6, 2.9, 3.6, 1.3],\n",
       "        [6.7, 3.1, 4.4, 1.4],\n",
       "        [5.6, 3. , 4.5, 1.5],\n",
       "        [5.8, 2.7, 4.1, 1. ],\n",
       "        [6.2, 2.2, 4.5, 1.5],\n",
       "        [5.6, 2.5, 3.9, 1.1],\n",
       "        [5.9, 3.2, 4.8, 1.8],\n",
       "        [6.1, 2.8, 4. , 1.3],\n",
       "        [6.3, 2.5, 4.9, 1.5],\n",
       "        [6.1, 2.8, 4.7, 1.2],\n",
       "        [6.4, 2.9, 4.3, 1.3],\n",
       "        [6.6, 3. , 4.4, 1.4],\n",
       "        [6.8, 2.8, 4.8, 1.4],\n",
       "        [6.7, 3. , 5. , 1.7],\n",
       "        [6. , 2.9, 4.5, 1.5],\n",
       "        [5.7, 2.6, 3.5, 1. ],\n",
       "        [5.5, 2.4, 3.8, 1.1],\n",
       "        [5.5, 2.4, 3.7, 1. ],\n",
       "        [5.8, 2.7, 3.9, 1.2],\n",
       "        [6. , 2.7, 5.1, 1.6],\n",
       "        [5.4, 3. , 4.5, 1.5],\n",
       "        [6. , 3.4, 4.5, 1.6],\n",
       "        [6.7, 3.1, 4.7, 1.5],\n",
       "        [6.3, 2.3, 4.4, 1.3],\n",
       "        [5.6, 3. , 4.1, 1.3],\n",
       "        [5.5, 2.5, 4. , 1.3],\n",
       "        [5.5, 2.6, 4.4, 1.2],\n",
       "        [6.1, 3. , 4.6, 1.4],\n",
       "        [5.8, 2.6, 4. , 1.2],\n",
       "        [5. , 2.3, 3.3, 1. ],\n",
       "        [5.6, 2.7, 4.2, 1.3],\n",
       "        [5.7, 3. , 4.2, 1.2],\n",
       "        [5.7, 2.9, 4.2, 1.3],\n",
       "        [6.2, 2.9, 4.3, 1.3],\n",
       "        [5.1, 2.5, 3. , 1.1],\n",
       "        [5.7, 2.8, 4.1, 1.3],\n",
       "        [6.3, 3.3, 6. , 2.5],\n",
       "        [5.8, 2.7, 5.1, 1.9],\n",
       "        [7.1, 3. , 5.9, 2.1],\n",
       "        [6.3, 2.9, 5.6, 1.8],\n",
       "        [6.5, 3. , 5.8, 2.2],\n",
       "        [7.6, 3. , 6.6, 2.1],\n",
       "        [4.9, 2.5, 4.5, 1.7],\n",
       "        [7.3, 2.9, 6.3, 1.8],\n",
       "        [6.7, 2.5, 5.8, 1.8],\n",
       "        [7.2, 3.6, 6.1, 2.5],\n",
       "        [6.5, 3.2, 5.1, 2. ],\n",
       "        [6.4, 2.7, 5.3, 1.9],\n",
       "        [6.8, 3. , 5.5, 2.1],\n",
       "        [5.7, 2.5, 5. , 2. ],\n",
       "        [5.8, 2.8, 5.1, 2.4],\n",
       "        [6.4, 3.2, 5.3, 2.3],\n",
       "        [6.5, 3. , 5.5, 1.8],\n",
       "        [7.7, 3.8, 6.7, 2.2],\n",
       "        [7.7, 2.6, 6.9, 2.3],\n",
       "        [6. , 2.2, 5. , 1.5],\n",
       "        [6.9, 3.2, 5.7, 2.3],\n",
       "        [5.6, 2.8, 4.9, 2. ],\n",
       "        [7.7, 2.8, 6.7, 2. ],\n",
       "        [6.3, 2.7, 4.9, 1.8],\n",
       "        [6.7, 3.3, 5.7, 2.1],\n",
       "        [7.2, 3.2, 6. , 1.8],\n",
       "        [6.2, 2.8, 4.8, 1.8],\n",
       "        [6.1, 3. , 4.9, 1.8],\n",
       "        [6.4, 2.8, 5.6, 2.1],\n",
       "        [7.2, 3. , 5.8, 1.6],\n",
       "        [7.4, 2.8, 6.1, 1.9],\n",
       "        [7.9, 3.8, 6.4, 2. ],\n",
       "        [6.4, 2.8, 5.6, 2.2],\n",
       "        [6.3, 2.8, 5.1, 1.5],\n",
       "        [6.1, 2.6, 5.6, 1.4],\n",
       "        [7.7, 3. , 6.1, 2.3],\n",
       "        [6.3, 3.4, 5.6, 2.4],\n",
       "        [6.4, 3.1, 5.5, 1.8],\n",
       "        [6. , 3. , 4.8, 1.8],\n",
       "        [6.9, 3.1, 5.4, 2.1],\n",
       "        [6.7, 3.1, 5.6, 2.4],\n",
       "        [6.9, 3.1, 5.1, 2.3],\n",
       "        [5.8, 2.7, 5.1, 1.9],\n",
       "        [6.8, 3.2, 5.9, 2.3],\n",
       "        [6.7, 3.3, 5.7, 2.5],\n",
       "        [6.7, 3. , 5.2, 2.3],\n",
       "        [6.3, 2.5, 5. , 1.9],\n",
       "        [6.5, 3. , 5.2, 2. ],\n",
       "        [6.2, 3.4, 5.4, 2.3],\n",
       "        [5.9, 3. , 5.1, 1.8]]),\n",
       " 'target': array([0, 0, 0, 0, 0, 0, 0, 0, 0, 0, 0, 0, 0, 0, 0, 0, 0, 0, 0, 0, 0, 0,\n",
       "        0, 0, 0, 0, 0, 0, 0, 0, 0, 0, 0, 0, 0, 0, 0, 0, 0, 0, 0, 0, 0, 0,\n",
       "        0, 0, 0, 0, 0, 0, 1, 1, 1, 1, 1, 1, 1, 1, 1, 1, 1, 1, 1, 1, 1, 1,\n",
       "        1, 1, 1, 1, 1, 1, 1, 1, 1, 1, 1, 1, 1, 1, 1, 1, 1, 1, 1, 1, 1, 1,\n",
       "        1, 1, 1, 1, 1, 1, 1, 1, 1, 1, 1, 1, 2, 2, 2, 2, 2, 2, 2, 2, 2, 2,\n",
       "        2, 2, 2, 2, 2, 2, 2, 2, 2, 2, 2, 2, 2, 2, 2, 2, 2, 2, 2, 2, 2, 2,\n",
       "        2, 2, 2, 2, 2, 2, 2, 2, 2, 2, 2, 2, 2, 2, 2, 2, 2, 2]),\n",
       " 'target_names': array(['setosa', 'versicolor', 'virginica'], dtype='<U10'),\n",
       " 'DESCR': '.. _iris_dataset:\\n\\nIris plants dataset\\n--------------------\\n\\n**Data Set Characteristics:**\\n\\n    :Number of Instances: 150 (50 in each of three classes)\\n    :Number of Attributes: 4 numeric, predictive attributes and the class\\n    :Attribute Information:\\n        - sepal length in cm\\n        - sepal width in cm\\n        - petal length in cm\\n        - petal width in cm\\n        - class:\\n                - Iris-Setosa\\n                - Iris-Versicolour\\n                - Iris-Virginica\\n                \\n    :Summary Statistics:\\n\\n    ============== ==== ==== ======= ===== ====================\\n                    Min  Max   Mean    SD   Class Correlation\\n    ============== ==== ==== ======= ===== ====================\\n    sepal length:   4.3  7.9   5.84   0.83    0.7826\\n    sepal width:    2.0  4.4   3.05   0.43   -0.4194\\n    petal length:   1.0  6.9   3.76   1.76    0.9490  (high!)\\n    petal width:    0.1  2.5   1.20   0.76    0.9565  (high!)\\n    ============== ==== ==== ======= ===== ====================\\n\\n    :Missing Attribute Values: None\\n    :Class Distribution: 33.3% for each of 3 classes.\\n    :Creator: R.A. Fisher\\n    :Donor: Michael Marshall (MARSHALL%PLU@io.arc.nasa.gov)\\n    :Date: July, 1988\\n\\nThe famous Iris database, first used by Sir R.A. Fisher. The dataset is taken\\nfrom Fisher\\'s paper. Note that it\\'s the same as in R, but not as in the UCI\\nMachine Learning Repository, which has two wrong data points.\\n\\nThis is perhaps the best known database to be found in the\\npattern recognition literature.  Fisher\\'s paper is a classic in the field and\\nis referenced frequently to this day.  (See Duda & Hart, for example.)  The\\ndata set contains 3 classes of 50 instances each, where each class refers to a\\ntype of iris plant.  One class is linearly separable from the other 2; the\\nlatter are NOT linearly separable from each other.\\n\\n.. topic:: References\\n\\n   - Fisher, R.A. \"The use of multiple measurements in taxonomic problems\"\\n     Annual Eugenics, 7, Part II, 179-188 (1936); also in \"Contributions to\\n     Mathematical Statistics\" (John Wiley, NY, 1950).\\n   - Duda, R.O., & Hart, P.E. (1973) Pattern Classification and Scene Analysis.\\n     (Q327.D83) John Wiley & Sons.  ISBN 0-471-22361-1.  See page 218.\\n   - Dasarathy, B.V. (1980) \"Nosing Around the Neighborhood: A New System\\n     Structure and Classification Rule for Recognition in Partially Exposed\\n     Environments\".  IEEE Transactions on Pattern Analysis and Machine\\n     Intelligence, Vol. PAMI-2, No. 1, 67-71.\\n   - Gates, G.W. (1972) \"The Reduced Nearest Neighbor Rule\".  IEEE Transactions\\n     on Information Theory, May 1972, 431-433.\\n   - See also: 1988 MLC Proceedings, 54-64.  Cheeseman et al\"s AUTOCLASS II\\n     conceptual clustering system finds 3 classes in the data.\\n   - Many, many more ...',\n",
       " 'feature_names': ['sepal length (cm)',\n",
       "  'sepal width (cm)',\n",
       "  'petal length (cm)',\n",
       "  'petal width (cm)'],\n",
       " 'filename': '/usr/local/lib/python3.7/dist-packages/sklearn/datasets/data/iris.csv'}"
      ]
     },
     "execution_count": 151,
     "metadata": {},
     "output_type": "execute_result"
    }
   ],
   "source": [
    "iris"
   ]
  },
  {
   "cell_type": "code",
   "execution_count": 61,
   "metadata": {},
   "outputs": [
    {
     "data": {
      "text/plain": [
       "150"
      ]
     },
     "execution_count": 61,
     "metadata": {},
     "output_type": "execute_result"
    }
   ],
   "source": [
    "len(iris)"
   ]
  },
  {
   "cell_type": "code",
   "execution_count": 159,
   "metadata": {},
   "outputs": [
    {
     "name": "stdout",
     "output_type": "stream",
     "text": [
      "Iris-setosa\n",
      "('5.1', '3.3', '1.7', '0.5')\n",
      "Iris-virginica 1.4312337804131151e-15\n",
      "Iris-setosa 3.818356045893671\n",
      "Iris-versicolor 1.2079827404874036e-11\n",
      "pred: Iris-setosa real: Iris-setosa\n",
      "\n",
      "Iris-versicolor\n",
      "('6.3', '3.3', '4.7', '1.6')\n",
      "Iris-virginica 0.2818119968798319\n",
      "Iris-setosa 5.795959057393621e-142\n",
      "Iris-versicolor 1.518117215082512\n",
      "pred: Iris-versicolor real: Iris-versicolor\n",
      "\n",
      "Iris-setosa\n",
      "('4.8', '3.0', '1.4', '0.3')\n",
      "Iris-virginica 2.0714133097480654e-18\n",
      "Iris-setosa 238.93770094368014\n",
      "Iris-versicolor 3.448352882187583e-15\n",
      "pred: Iris-setosa real: Iris-setosa\n",
      "\n",
      "Iris-versicolor\n",
      "('6.2', '2.9', '4.3', '1.3')\n",
      "Iris-virginica 0.014607070953913405\n",
      "Iris-setosa 1.5878909323842388e-102\n",
      "Iris-versicolor 11.098751277474532\n",
      "pred: Iris-versicolor real: Iris-versicolor\n",
      "\n",
      "Iris-virginica\n",
      "('6.4', '2.8', '5.6', '2.2')\n",
      "Iris-virginica 18.207727223370668\n",
      "Iris-setosa 3.4474312296339285e-251\n",
      "Iris-versicolor 0.000128532886481289\n",
      "pred: Iris-virginica real: Iris-virginica\n",
      "\n",
      "Iris-versicolor\n",
      "('5.4', '3.0', '4.5', '1.5')\n",
      "Iris-virginica 0.044153672870870485\n",
      "Iris-setosa 2.853336634735335e-121\n",
      "Iris-versicolor 4.573083515165745\n",
      "pred: Iris-versicolor real: Iris-versicolor\n",
      "\n",
      "Iris-virginica\n",
      "('6.5', '3.2', '5.1', '2.0')\n",
      "Iris-virginica 6.5451942290237355\n",
      "Iris-setosa 4.142223125572086e-198\n",
      "Iris-versicolor 0.012821199354223772\n",
      "pred: Iris-virginica real: Iris-virginica\n",
      "\n",
      "Iris-virginica\n",
      "('6.8', '3.2', '5.9', '2.3')\n",
      "Iris-virginica 19.938132861266684\n",
      "Iris-setosa 2.934031426344673e-286\n",
      "Iris-versicolor 6.176376569732583e-07\n",
      "pred: Iris-virginica real: Iris-virginica\n",
      "\n",
      "Iris-setosa\n",
      "('4.6', '3.2', '1.4', '0.2')\n",
      "Iris-virginica 1.1768070507793268e-19\n",
      "Iris-setosa 413.349139587529\n",
      "Iris-versicolor 9.73296949194097e-17\n",
      "pred: Iris-setosa real: Iris-setosa\n",
      "\n",
      "Iris-virginica\n",
      "('5.8', '2.7', '5.1', '1.9')\n",
      "Iris-virginica 2.4158173496995787\n",
      "Iris-setosa 2.9532126060997477e-187\n",
      "Iris-versicolor 0.16336478931071605\n",
      "pred: Iris-virginica real: Iris-virginica\n",
      "\n",
      "Iris-versicolor\n",
      "('5.5', '2.4', '3.7', '1.0')\n",
      "Iris-virginica 4.226238538629182e-06\n",
      "Iris-setosa 4.439136244067167e-60\n",
      "Iris-versicolor 1.1785763050830336\n",
      "pred: Iris-versicolor real: Iris-versicolor\n",
      "\n",
      "Iris-virginica\n",
      "('6.5', '3.0', '5.2', '2.0')\n",
      "Iris-virginica 11.18443211733025\n",
      "Iris-setosa 4.1249273647874625e-205\n",
      "Iris-versicolor 0.015436061298151343\n",
      "pred: Iris-virginica real: Iris-virginica\n",
      "\n",
      "Iris-virginica\n",
      "('7.3', '2.9', '6.3', '1.8')\n",
      "Iris-virginica 15.999678103179638\n",
      "Iris-setosa 1.0555178368371221e-281\n",
      "Iris-versicolor 4.516369915257941e-05\n",
      "pred: Iris-virginica real: Iris-virginica\n",
      "\n",
      "Iris-versicolor\n",
      "('5.8', '2.6', '4.0', '1.2')\n",
      "Iris-virginica 0.000607040801466319\n",
      "Iris-setosa 7.922553323041028e-82\n",
      "Iris-versicolor 9.146886949894025\n",
      "pred: Iris-versicolor real: Iris-versicolor\n",
      "\n",
      "Iris-versicolor\n",
      "('6.4', '2.9', '4.3', '1.3')\n",
      "Iris-virginica 0.018728965496440365\n",
      "Iris-setosa 1.148700131376099e-103\n",
      "Iris-versicolor 10.13018945902129\n",
      "pred: Iris-versicolor real: Iris-versicolor\n",
      "\n",
      "Iris-setosa\n",
      "('5.0', '3.0', '1.6', '0.2')\n",
      "Iris-virginica 2.6586093357087578e-18\n",
      "Iris-setosa 238.65112007601894\n",
      "Iris-versicolor 7.664027605964129e-15\n",
      "pred: Iris-setosa real: Iris-setosa\n",
      "\n",
      "Iris-setosa\n",
      "('4.5', '2.3', '1.3', '0.3')\n",
      "Iris-virginica 6.54831519535063e-20\n",
      "Iris-setosa 2.1157709667824305\n",
      "Iris-versicolor 7.442250033029627e-16\n",
      "pred: Iris-setosa real: Iris-setosa\n",
      "\n",
      "Iris-virginica\n",
      "('6.9', '3.2', '5.7', '2.3')\n",
      "Iris-virginica 21.52122681407678\n",
      "Iris-setosa 2.689184610532019e-271\n",
      "Iris-versicolor 2.0355023545726164e-06\n",
      "pred: Iris-virginica real: Iris-virginica\n",
      "\n",
      "Iris-setosa\n",
      "('4.6', '3.1', '1.5', '0.2')\n",
      "Iris-virginica 3.9658281002827247e-19\n",
      "Iris-setosa 303.3816332372733\n",
      "Iris-versicolor 5.36396320989737e-16\n",
      "pred: Iris-setosa real: Iris-setosa\n",
      "\n",
      "Iris-versicolor\n",
      "('5.7', '2.6', '3.5', '1.0')\n",
      "Iris-virginica 4.914354410027723e-06\n",
      "Iris-setosa 2.22717197280785e-52\n",
      "Iris-versicolor 0.5899471597349017\n",
      "pred: Iris-versicolor real: Iris-versicolor\n",
      "\n",
      "Iris-versicolor\n",
      "('5.2', '2.7', '3.9', '1.4')\n",
      "Iris-virginica 0.0013064495523287764\n",
      "Iris-setosa 7.513999108094118e-86\n",
      "Iris-versicolor 4.125679968338478\n",
      "pred: Iris-versicolor real: Iris-versicolor\n",
      "\n",
      "Iris-setosa\n",
      "('5.0', '3.5', '1.6', '0.6')\n",
      "Iris-virginica 1.0079802192314182e-15\n",
      "Iris-setosa 0.4426322563640642\n",
      "Iris-versicolor 7.34043216353062e-12\n",
      "pred: Iris-setosa real: Iris-setosa\n",
      "\n",
      "Iris-setosa\n",
      "('5.8', '4.0', '1.2', '0.2')\n",
      "Iris-virginica 5.420090817772643e-22\n",
      "Iris-setosa 22.152206344742577\n",
      "Iris-versicolor 1.128944454497416e-18\n",
      "pred: Iris-setosa real: Iris-setosa\n",
      "\n",
      "Iris-versicolor\n",
      "('5.9', '3.0', '4.2', '1.5')\n",
      "Iris-virginica 0.03609003832580966\n",
      "Iris-setosa 5.1999808355102194e-107\n",
      "Iris-versicolor 6.601651633454066\n",
      "pred: Iris-versicolor real: Iris-versicolor\n",
      "\n",
      "Iris-setosa\n",
      "('5.4', '3.9', '1.7', '0.4')\n",
      "Iris-virginica 5.9549833785172085e-18\n",
      "Iris-setosa 53.596489068622496\n",
      "Iris-versicolor 1.7691929425500554e-13\n",
      "pred: Iris-setosa real: Iris-setosa\n",
      "\n",
      "Iris-setosa\n",
      "('5.2', '3.5', '1.5', '0.2')\n",
      "Iris-virginica 2.701786003477671e-19\n",
      "Iris-setosa 1130.2210403208371\n",
      "Iris-versicolor 5.645607920589046e-16\n",
      "pred: Iris-setosa real: Iris-setosa\n",
      "\n",
      "Iris-setosa\n",
      "('4.6', '3.6', '1.0', '0.2')\n",
      "Iris-virginica 2.676836968707756e-22\n",
      "Iris-setosa 15.660123561663097\n",
      "Iris-versicolor 4.5718394982811834e-20\n",
      "pred: Iris-setosa real: Iris-setosa\n",
      "\n",
      "Iris-versicolor\n",
      "('5.5', '2.5', '4.0', '1.3')\n",
      "Iris-virginica 0.0007248358764550848\n",
      "Iris-setosa 5.143099557888945e-86\n",
      "Iris-versicolor 9.589784846285848\n",
      "pred: Iris-versicolor real: Iris-versicolor\n",
      "\n",
      "Iris-virginica\n",
      "('7.2', '3.2', '6.0', '1.8')\n",
      "Iris-virginica 11.932821781799964\n",
      "Iris-setosa 1.0223236317678148e-254\n",
      "Iris-versicolor 0.0003333663293717889\n",
      "pred: Iris-virginica real: Iris-virginica\n",
      "\n",
      "Iris-versicolor\n",
      "('6.0', '2.9', '4.5', '1.5')\n",
      "Iris-virginica 0.11694573789790629\n",
      "Iris-setosa 2.324295977212998e-123\n",
      "Iris-versicolor 9.010376676276808\n",
      "pred: Iris-versicolor real: Iris-versicolor\n",
      "\n",
      "Iris-versicolor\n",
      "('5.5', '2.4', '3.8', '1.1')\n",
      "Iris-virginica 2.2874834956562926e-05\n",
      "Iris-setosa 3.748226056663137e-68\n",
      "Iris-versicolor 3.1540018043261995\n",
      "pred: Iris-versicolor real: Iris-versicolor\n",
      "\n",
      "Iris-versicolor\n",
      "('6.3', '2.5', '4.9', '1.5')\n",
      "Iris-virginica 0.20609148403085686\n",
      "Iris-setosa 2.9339541344385644e-149\n",
      "Iris-versicolor 8.11692178644666\n",
      "pred: Iris-versicolor real: Iris-versicolor\n",
      "\n",
      "Iris-setosa\n",
      "('5.2', '3.4', '1.4', '0.2')\n",
      "Iris-virginica 1.7559942439668257e-19\n",
      "Iris-setosa 883.1456856429933\n",
      "Iris-versicolor 2.0437475283812944e-16\n",
      "pred: Iris-setosa real: Iris-setosa\n",
      "\n",
      "Iris-virginica\n",
      "('6.0', '2.2', '5.0', '1.5')\n",
      "Iris-virginica 0.03127000671540398\n",
      "Iris-setosa 7.49527341514644e-155\n",
      "Iris-versicolor 6.6502501509753875\n",
      "pred: Iris-versicolor real: Iris-virginica\n",
      "\n",
      "Iris-setosa\n",
      "('5.7', '4.4', '1.5', '0.4')\n",
      "Iris-virginica 2.9202242070570284e-21\n",
      "Iris-setosa 29.697491635155163\n",
      "Iris-versicolor 6.512826413401647e-16\n",
      "pred: Iris-setosa real: Iris-setosa\n",
      "\n",
      "Iris-versicolor\n",
      "('6.6', '3.0', '4.4', '1.4')\n",
      "Iris-virginica 0.07795373617363766\n",
      "Iris-setosa 2.22140726643366e-115\n",
      "Iris-versicolor 7.018507646919375\n",
      "pred: Iris-versicolor real: Iris-versicolor\n",
      "\n",
      "Iris-versicolor\n",
      "('6.2', '2.2', '4.5', '1.5')\n",
      "Iris-virginica 0.012191512884317334\n",
      "Iris-setosa 6.101649698575664e-126\n",
      "Iris-versicolor 15.4465877039801\n",
      "pred: Iris-versicolor real: Iris-versicolor\n",
      "\n",
      "Iris-versicolor\n",
      "('5.6', '3.0', '4.1', '1.3')\n",
      "Iris-virginica 0.0028343221061855623\n",
      "Iris-setosa 5.6230683538384985e-90\n",
      "Iris-versicolor 5.960071675352664\n",
      "pred: Iris-versicolor real: Iris-versicolor\n",
      "\n",
      "Iris-versicolor\n",
      "('5.6', '2.9', '3.6', '1.3')\n",
      "Iris-virginica 0.0003241848401646282\n",
      "Iris-setosa 2.0006915607664305e-68\n",
      "Iris-versicolor 2.0072934982509407\n",
      "pred: Iris-versicolor real: Iris-versicolor\n",
      "\n",
      "Iris-setosa\n",
      "('4.3', '3.0', '1.1', '0.1')\n",
      "Iris-virginica 4.761081701407293e-22\n",
      "Iris-setosa 1.8153603762491144\n",
      "Iris-versicolor 4.5938251555609586e-20\n",
      "pred: Iris-setosa real: Iris-setosa\n",
      "\n",
      "Iris-virginica\n",
      "('6.7', '2.5', '5.8', '1.8')\n",
      "Iris-virginica 5.114685411899848\n",
      "Iris-setosa 1.1008969565348757e-235\n",
      "Iris-versicolor 0.012584436979268645\n",
      "pred: Iris-virginica real: Iris-virginica\n",
      "\n",
      "Iris-setosa\n",
      "('4.9', '3.1', '1.5', '0.1')\n",
      "Iris-virginica 8.331502835039697e-20\n",
      "Iris-setosa 238.40627890296926\n",
      "Iris-versicolor 8.217600029406013e-17\n",
      "pred: Iris-setosa real: Iris-setosa\n",
      "\n",
      "Iris-setosa\n",
      "('5.0', '3.4', '1.5', '0.2')\n",
      "Iris-virginica 3.1987493436571545e-19\n",
      "Iris-setosa 1235.7820958590344\n",
      "Iris-versicolor 5.65956625099576e-16\n",
      "pred: Iris-setosa real: Iris-setosa\n",
      "\n",
      "Iris-versicolor\n",
      "('6.6', '2.9', '4.6', '1.3')\n",
      "Iris-virginica 0.0593840285430002\n",
      "Iris-setosa 2.8460581402218013e-121\n",
      "Iris-versicolor 7.874650137771889\n",
      "pred: Iris-versicolor real: Iris-versicolor\n",
      "\n",
      "Iris-versicolor\n",
      "('5.8', '2.7', '4.1', '1.0')\n",
      "Iris-virginica 0.0001125067798836826\n",
      "Iris-setosa 5.0022668376472685e-78\n",
      "Iris-versicolor 3.1247367543125586\n",
      "pred: Iris-versicolor real: Iris-versicolor\n",
      "\n",
      "Iris-setosa\n",
      "('4.8', '3.1', '1.6', '0.2')\n",
      "Iris-virginica 1.5561288830337598e-18\n",
      "Iris-setosa 320.1641452902427\n",
      "Iris-versicolor 3.679059232258648e-15\n",
      "pred: Iris-setosa real: Iris-setosa\n",
      "\n",
      "Iris-setosa\n",
      "('4.8', '3.4', '1.6', '0.2')\n",
      "Iris-virginica 5.581397935867587e-19\n",
      "Iris-setosa 775.0684817931194\n",
      "Iris-versicolor 1.3771588228041716e-15\n",
      "pred: Iris-setosa real: Iris-setosa\n",
      "\n",
      "Iris-setosa\n",
      "('5.4', '3.9', '1.3', '0.4')\n",
      "Iris-virginica 1.267133327890906e-19\n",
      "Iris-setosa 114.58839130108456\n",
      "Iris-versicolor 6.787735889136381e-16\n",
      "pred: Iris-setosa real: Iris-setosa\n",
      "\n",
      "Iris-versicolor\n",
      "('5.0', '2.3', '3.3', '1.0')\n",
      "Iris-virginica 1.2321982801699982e-07\n",
      "Iris-setosa 7.681880134528034e-45\n",
      "Iris-versicolor 0.09194797274054202\n",
      "pred: Iris-versicolor real: Iris-versicolor\n",
      "\n",
      "Iris-virginica\n",
      "('5.6', '2.8', '4.9', '2.0')\n",
      "Iris-virginica 1.880294617162427\n",
      "Iris-setosa 1.0306470235003019e-181\n",
      "Iris-versicolor 0.05685768214533864\n",
      "pred: Iris-virginica real: Iris-virginica\n",
      "\n",
      "Iris-setosa\n",
      "('4.4', '3.2', '1.3', '0.2')\n",
      "Iris-virginica 2.8097956475793055e-20\n",
      "Iris-setosa 115.62678185287497\n",
      "Iris-versicolor 1.1884343825810332e-17\n",
      "pred: Iris-setosa real: Iris-setosa\n",
      "\n",
      "Iris-virginica\n",
      "('6.4', '3.1', '5.5', '1.8')\n",
      "Iris-virginica 6.2456135816142355\n",
      "Iris-setosa 1.1306509885501371e-209\n",
      "Iris-versicolor 0.037568156074877436\n",
      "pred: Iris-virginica real: Iris-virginica\n",
      "\n",
      "Iris-virginica\n",
      "('5.8', '2.7', '5.1', '1.9')\n",
      "Iris-virginica 2.4158173496995787\n",
      "Iris-setosa 2.9532126060997477e-187\n",
      "Iris-versicolor 0.16336478931071605\n",
      "pred: Iris-virginica real: Iris-virginica\n",
      "\n",
      "Iris-virginica\n",
      "('6.3', '2.5', '5.0', '1.9')\n",
      "Iris-virginica 2.1606615998908487\n",
      "Iris-setosa 1.6492299375163023e-183\n",
      "Iris-versicolor 0.27832406628087925\n",
      "pred: Iris-virginica real: Iris-virginica\n",
      "\n",
      "Iris-virginica\n",
      "('7.9', '3.8', '6.4', '2.0')\n",
      "Iris-virginica 0.7201732318886542\n",
      "Iris-setosa 4.384353568824e-312\n",
      "Iris-versicolor 9.079513497414268e-09\n",
      "pred: Iris-virginica real: Iris-virginica\n",
      "\n",
      "Iris-virginica\n",
      "('6.4', '2.8', '5.6', '2.1')\n",
      "Iris-virginica 17.105378195079904\n",
      "Iris-setosa 4.352248371814627e-242\n",
      "Iris-versicolor 0.0007630677933437596\n",
      "pred: Iris-virginica real: Iris-virginica\n",
      "\n",
      "Iris-virginica\n",
      "('6.4', '3.2', '5.3', '2.3')\n",
      "Iris-virginica 9.344011918098236\n",
      "Iris-setosa 2.2942553588610806e-238\n",
      "Iris-versicolor 3.050865377809731e-05\n",
      "pred: Iris-virginica real: Iris-virginica\n",
      "\n",
      "Iris-setosa\n",
      "('5.4', '3.7', '1.5', '0.2')\n",
      "Iris-virginica 9.608503485734776e-20\n",
      "Iris-setosa 799.1515158297065\n",
      "Iris-versicolor 3.1319935199370193e-16\n",
      "pred: Iris-setosa real: Iris-setosa\n",
      "\n",
      "Iris-versicolor\n",
      "('6.0', '3.4', '4.5', '1.6')\n",
      "Iris-virginica 0.0702188157993892\n",
      "Iris-setosa 6.442197117780906e-129\n",
      "Iris-versicolor 1.3456543512360617\n",
      "pred: Iris-versicolor real: Iris-versicolor\n",
      "\n",
      "Iris-setosa\n",
      "('4.4', '2.9', '1.4', '0.2')\n",
      "Iris-virginica 1.1604711457540758e-19\n",
      "Iris-setosa 60.46706974738545\n",
      "Iris-versicolor 1.1074037395116672e-16\n",
      "pred: Iris-setosa real: Iris-setosa\n",
      "\n",
      "Iris-setosa\n",
      "('4.8', '3.4', '1.9', '0.2')\n",
      "Iris-virginica 8.48404348078802e-18\n",
      "Iris-setosa 19.12529793942362\n",
      "Iris-versicolor 6.230754803208713e-14\n",
      "pred: Iris-setosa real: Iris-setosa\n",
      "\n",
      "Iris-virginica\n",
      "('6.4', '2.7', '5.3', '1.9')\n",
      "Iris-virginica 7.210101442655766\n",
      "Iris-setosa 9.203870116323297e-204\n",
      "Iris-versicolor 0.07313749316054532\n",
      "pred: Iris-virginica real: Iris-virginica\n",
      "\n",
      "Iris-virginica\n",
      "('6.7', '3.3', '5.7', '2.1')\n",
      "Iris-virginica 12.325461333331758\n",
      "Iris-setosa 6.172081886801834e-251\n",
      "Iris-versicolor 8.676713091431837e-05\n",
      "pred: Iris-virginica real: Iris-virginica\n",
      "\n",
      "Iris-setosa\n",
      "('5.1', '3.5', '1.4', '0.2')\n",
      "Iris-virginica 8.487367752266457e-20\n",
      "Iris-setosa 1363.7675259308494\n",
      "Iris-versicolor 1.136666525939339e-16\n",
      "pred: Iris-setosa real: Iris-setosa\n",
      "\n",
      "Iris-virginica\n",
      "('6.3', '3.4', '5.6', '2.4')\n",
      "Iris-virginica 4.227357492701497\n",
      "Iris-setosa 2.5654352234921733e-269\n",
      "Iris-versicolor 3.809672108519286e-07\n",
      "pred: Iris-virginica real: Iris-virginica\n",
      "\n",
      "Iris-versicolor\n",
      "('5.7', '2.8', '4.5', '1.3')\n",
      "Iris-virginica 0.012785523310522257\n",
      "Iris-setosa 2.8243232331143934e-111\n",
      "Iris-versicolor 11.70450916215384\n",
      "pred: Iris-versicolor real: Iris-versicolor\n",
      "\n",
      "Iris-virginica\n",
      "('6.1', '3.0', '4.9', '1.8')\n",
      "Iris-virginica 2.0891515939510956\n",
      "Iris-setosa 2.005930241382999e-167\n",
      "Iris-versicolor 0.5497628862718656\n",
      "pred: Iris-virginica real: Iris-virginica\n",
      "\n",
      "Iris-versicolor\n",
      "('6.8', '2.8', '4.8', '1.4')\n",
      "Iris-virginica 0.2829497692882547\n",
      "Iris-setosa 4.954348030188809e-140\n",
      "Iris-versicolor 5.510856200136165\n",
      "pred: Iris-versicolor real: Iris-versicolor\n",
      "\n",
      "Iris-virginica\n",
      "('6.3', '2.7', '4.9', '1.8')\n",
      "Iris-virginica 2.2603179744090753\n",
      "Iris-setosa 4.864907998927356e-169\n",
      "Iris-versicolor 0.9108682291564432\n",
      "pred: Iris-virginica real: Iris-virginica\n",
      "\n",
      "Iris-virginica\n",
      "('7.7', '3.8', '6.7', '2.2')\n",
      "Iris-virginica 0.5171065587803714\n",
      "Iris-setosa 0.0\n",
      "Iris-versicolor 2.9065397186830863e-11\n",
      "pred: Iris-virginica real: Iris-virginica\n",
      "\n",
      "Iris-versicolor\n",
      "('5.1', '2.5', '3.0', '1.1')\n",
      "Iris-virginica 2.3560867722216435e-07\n",
      "Iris-setosa 4.518897301553404e-39\n",
      "Iris-versicolor 0.035148384890802305\n",
      "pred: Iris-versicolor real: Iris-versicolor\n",
      "\n",
      "Iris-virginica\n",
      "('6.3', '2.9', '5.6', '1.8')\n",
      "Iris-virginica 7.073952465631271\n",
      "Iris-setosa 7.730678477077564e-217\n",
      "Iris-versicolor 0.03675365531809537\n",
      "pred: Iris-virginica real: Iris-virginica\n",
      "\n",
      "Iris-setosa\n",
      "('5.1', '3.4', '1.5', '0.2')\n",
      "Iris-virginica 3.8663288036707926e-19\n",
      "Iris-setosa 1106.549863355247\n",
      "Iris-versicolor 6.970097848252351e-16\n",
      "pred: Iris-setosa real: Iris-setosa\n",
      "\n",
      "Iris-virginica\n",
      "('6.7', '3.3', '5.7', '2.5')\n",
      "Iris-virginica 8.393446185349095\n",
      "Iris-setosa 3.582133493020884e-290\n",
      "Iris-versicolor 1.8299591277707928e-08\n",
      "pred: Iris-virginica real: Iris-virginica\n",
      "\n",
      "Iris-virginica\n",
      "('6.1', '2.6', '5.6', '1.4')\n",
      "Iris-virginica 0.2569601794938526\n",
      "Iris-setosa 2.325444110544272e-190\n",
      "Iris-versicolor 0.5539435688490263\n",
      "pred: Iris-versicolor real: Iris-virginica\n",
      "\n",
      "Conj Teste: 75\n",
      "Acertos   : 73\n",
      "Acurácia  :  97.33333333333334\n"
     ]
    }
   ],
   "source": [
    "def validacaoCruzada(dados, porcentagem=0.7):\n",
    "    random.shuffle(dados)\n",
    "    dadosTreinamento = dados[:int(len(dados)*porcentagem)]\n",
    "    dadosTestes = dados[int(len(dados)*porcentagem):]\n",
    "    modelo = treinamento(dadosTreinamento)\n",
    "    ok = 0\n",
    "    for tupla in dadosTestes:\n",
    "        print(tupla[-1])\n",
    "        tupl = [ float(x) for x in tupla[:-1]]\n",
    "        tupl = tupla[:-1]\n",
    "        print(tupl)\n",
    "        pred = verificar(modelo, tupl, debug=True) \n",
    "        print('pred:',pred,'real:',tupla[-1])\n",
    "        if pred == tupla[-1]:\n",
    "            ok += 1\n",
    "        print()\n",
    "    print('Conj Teste:',len(dadosTestes))\n",
    "    print('Acertos   :',ok)\n",
    "    print('Acurácia  : ',ok/len(dadosTestes)*100)\n",
    "validacaoCruzada(iris, 0.5)"
   ]
  },
  {
   "cell_type": "code",
   "execution_count": 86,
   "metadata": {},
   "outputs": [
    {
     "name": "stdout",
     "output_type": "stream",
     "text": [
      "a\n"
     ]
    }
   ],
   "source": [
    "print('a')"
   ]
  },
  {
   "cell_type": "code",
   "execution_count": 205,
   "metadata": {},
   "outputs": [],
   "source": [
    "class Object(object):\n",
    "    modelo = None\n",
    "    \n",
    "    def predict(self, tupla):\n",
    "        print(tupla)\n",
    "        res = []\n",
    "        for t in tupla:\n",
    "            print('tupla',t)\n",
    "            res.append(verificar(self.modelo, t))\n",
    "        print(res[:3])\n",
    "        return(res)\n",
    "    pass\n",
    "nb = Object()\n",
    "#nb.predict = verificar"
   ]
  },
  {
   "cell_type": "code",
   "execution_count": 206,
   "metadata": {},
   "outputs": [
    {
     "name": "stdout",
     "output_type": "stream",
     "text": [
      "[[3.3, 1.0], [3.31299304, 1.0], [3.32598608, 1.0]]\n",
      "tupla [3.3, 1.0]\n"
     ]
    },
    {
     "ename": "TypeError",
     "evalue": "'NoneType' object is not subscriptable",
     "output_type": "error",
     "traceback": [
      "\u001b[0;31m---------------------------------------------------------------------------\u001b[0m",
      "\u001b[0;31mTypeError\u001b[0m                                 Traceback (most recent call last)",
      "\u001b[0;32m<ipython-input-206-234a58439568>\u001b[0m in \u001b[0;36m<module>\u001b[0;34m()\u001b[0m\n\u001b[1;32m      1\u001b[0m nb.predict([[3.3 ,       1.0        ],\n\u001b[1;32m      2\u001b[0m  \u001b[0;34m[\u001b[0m\u001b[0;36m3.31299304\u001b[0m\u001b[0;34m,\u001b[0m \u001b[0;36m1.\u001b[0m        \u001b[0;34m]\u001b[0m\u001b[0;34m,\u001b[0m\u001b[0;34m\u001b[0m\u001b[0;34m\u001b[0m\u001b[0m\n\u001b[0;32m----> 3\u001b[0;31m  [3.32598608, 1.        ]])\n\u001b[0m",
      "\u001b[0;32m<ipython-input-205-b670a1f5cc30>\u001b[0m in \u001b[0;36mpredict\u001b[0;34m(self, tupla)\u001b[0m\n\u001b[1;32m      7\u001b[0m         \u001b[0;32mfor\u001b[0m \u001b[0mt\u001b[0m \u001b[0;32min\u001b[0m \u001b[0mtupla\u001b[0m\u001b[0;34m:\u001b[0m\u001b[0;34m\u001b[0m\u001b[0;34m\u001b[0m\u001b[0m\n\u001b[1;32m      8\u001b[0m             \u001b[0mprint\u001b[0m\u001b[0;34m(\u001b[0m\u001b[0;34m'tupla'\u001b[0m\u001b[0;34m,\u001b[0m\u001b[0mt\u001b[0m\u001b[0;34m)\u001b[0m\u001b[0;34m\u001b[0m\u001b[0;34m\u001b[0m\u001b[0m\n\u001b[0;32m----> 9\u001b[0;31m             \u001b[0mres\u001b[0m\u001b[0;34m.\u001b[0m\u001b[0mappend\u001b[0m\u001b[0;34m(\u001b[0m\u001b[0mverificar\u001b[0m\u001b[0;34m(\u001b[0m\u001b[0mself\u001b[0m\u001b[0;34m.\u001b[0m\u001b[0mmodelo\u001b[0m\u001b[0;34m,\u001b[0m \u001b[0mt\u001b[0m\u001b[0;34m)\u001b[0m\u001b[0;34m)\u001b[0m\u001b[0;34m\u001b[0m\u001b[0;34m\u001b[0m\u001b[0m\n\u001b[0m\u001b[1;32m     10\u001b[0m         \u001b[0mprint\u001b[0m\u001b[0;34m(\u001b[0m\u001b[0mres\u001b[0m\u001b[0;34m[\u001b[0m\u001b[0;34m:\u001b[0m\u001b[0;36m3\u001b[0m\u001b[0;34m]\u001b[0m\u001b[0;34m)\u001b[0m\u001b[0;34m\u001b[0m\u001b[0;34m\u001b[0m\u001b[0m\n\u001b[1;32m     11\u001b[0m         \u001b[0;32mreturn\u001b[0m\u001b[0;34m(\u001b[0m\u001b[0mres\u001b[0m\u001b[0;34m)\u001b[0m\u001b[0;34m\u001b[0m\u001b[0;34m\u001b[0m\u001b[0m\n",
      "\u001b[0;32m<ipython-input-157-b763451f50ea>\u001b[0m in \u001b[0;36mverificar\u001b[0;34m(probdata, tupla, debug)\u001b[0m\n\u001b[1;32m      3\u001b[0m     \u001b[0mvalClasse\u001b[0m \u001b[0;34m=\u001b[0m \u001b[0;36m0\u001b[0m\u001b[0;34m\u001b[0m\u001b[0;34m\u001b[0m\u001b[0m\n\u001b[1;32m      4\u001b[0m     \u001b[0mmaxClasse\u001b[0m \u001b[0;34m=\u001b[0m \u001b[0;34m''\u001b[0m\u001b[0;34m\u001b[0m\u001b[0;34m\u001b[0m\u001b[0m\n\u001b[0;32m----> 5\u001b[0;31m     \u001b[0;32mfor\u001b[0m \u001b[0mclasse\u001b[0m \u001b[0;32min\u001b[0m \u001b[0mprobdata\u001b[0m\u001b[0;34m[\u001b[0m\u001b[0;34m'classes'\u001b[0m\u001b[0;34m]\u001b[0m\u001b[0;34m:\u001b[0m\u001b[0;34m\u001b[0m\u001b[0;34m\u001b[0m\u001b[0m\n\u001b[0m\u001b[1;32m      6\u001b[0m         \u001b[0mnumerador\u001b[0m \u001b[0;34m=\u001b[0m \u001b[0;36m1\u001b[0m\u001b[0;34m\u001b[0m\u001b[0;34m\u001b[0m\u001b[0m\n\u001b[1;32m      7\u001b[0m         \u001b[0mdenominador\u001b[0m \u001b[0;34m=\u001b[0m \u001b[0;36m1\u001b[0m\u001b[0;34m\u001b[0m\u001b[0;34m\u001b[0m\u001b[0m\n",
      "\u001b[0;31mTypeError\u001b[0m: 'NoneType' object is not subscriptable"
     ]
    }
   ],
   "source": [
    "nb.predict([[3.3 ,       1.0        ],\n",
    " [3.31299304, 1.        ],\n",
    " [3.32598608, 1.        ]])"
   ]
  },
  {
   "cell_type": "code",
   "execution_count": 176,
   "metadata": {},
   "outputs": [],
   "source": [
    "import pprint"
   ]
  },
  {
   "cell_type": "code",
   "execution_count": 184,
   "metadata": {},
   "outputs": [
    {
     "data": {
      "text/plain": [
       "'Iris-virginica'"
      ]
     },
     "execution_count": 184,
     "metadata": {},
     "output_type": "execute_result"
    }
   ],
   "source": [
    "nb.modelo = modeloIris\n",
    "tupla = ('6.7', '3.3', '5.7', '2.5')\n",
    "nb.predict(tupla)"
   ]
  },
  {
   "cell_type": "code",
   "execution_count": 169,
   "metadata": {},
   "outputs": [
    {
     "ename": "SyntaxError",
     "evalue": "invalid syntax (<ipython-input-169-74c5013e318c>, line 1)",
     "output_type": "error",
     "traceback": [
      "\u001b[0;36m  File \u001b[0;32m\"<ipython-input-169-74c5013e318c>\"\u001b[0;36m, line \u001b[0;32m1\u001b[0m\n\u001b[0;31m    nb = new Object()\u001b[0m\n\u001b[0m                  ^\u001b[0m\n\u001b[0;31mSyntaxError\u001b[0m\u001b[0;31m:\u001b[0m invalid syntax\n"
     ]
    }
   ],
   "source": [
    "nb = new Object()\n",
    "nb.predict = verificar"
   ]
  },
  {
   "cell_type": "code",
   "execution_count": 199,
   "metadata": {},
   "outputs": [
    {
     "name": "stdout",
     "output_type": "stream",
     "text": [
      "[[3.3        1.        ]\n",
      " [3.31299304 1.        ]\n",
      " [3.32598608 1.        ]\n",
      " ...\n",
      " [8.87401392 5.4       ]\n",
      " [8.88700696 5.4       ]\n",
      " [8.9        5.4       ]]\n"
     ]
    },
    {
     "ename": "TypeError",
     "evalue": "'NoneType' object is not subscriptable",
     "output_type": "error",
     "traceback": [
      "\u001b[0;31m---------------------------------------------------------------------------\u001b[0m",
      "\u001b[0;31mTypeError\u001b[0m                                 Traceback (most recent call last)",
      "\u001b[0;32m<ipython-input-199-d9cecaeb0c82>\u001b[0m in \u001b[0;36m<module>\u001b[0;34m()\u001b[0m\n\u001b[0;32m----> 1\u001b[0;31m \u001b[0mplot_decision_regions\u001b[0m\u001b[0;34m(\u001b[0m\u001b[0mX\u001b[0m\u001b[0;34m,\u001b[0m \u001b[0my\u001b[0m\u001b[0;34m,\u001b[0m \u001b[0mclf\u001b[0m\u001b[0;34m=\u001b[0m\u001b[0mnb\u001b[0m\u001b[0;34m,\u001b[0m \u001b[0mlegend\u001b[0m\u001b[0;34m=\u001b[0m\u001b[0;36m2\u001b[0m\u001b[0;34m)\u001b[0m\u001b[0;34m\u001b[0m\u001b[0;34m\u001b[0m\u001b[0m\n\u001b[0m",
      "\u001b[0;32m/usr/local/lib/python3.7/dist-packages/mlxtend/plotting/decision_regions.py\u001b[0m in \u001b[0;36mplot_decision_regions\u001b[0;34m(X, y, clf, feature_index, filler_feature_values, filler_feature_ranges, ax, X_highlight, res, zoom_factor, legend, hide_spines, markers, colors, scatter_kwargs, contourf_kwargs, scatter_highlight_kwargs)\u001b[0m\n\u001b[1;32m    228\u001b[0m             \u001b[0;32mfor\u001b[0m \u001b[0mfeature_idx\u001b[0m \u001b[0;32min\u001b[0m \u001b[0mfiller_feature_values\u001b[0m\u001b[0;34m:\u001b[0m\u001b[0;34m\u001b[0m\u001b[0;34m\u001b[0m\u001b[0m\n\u001b[1;32m    229\u001b[0m                 \u001b[0mX_predict\u001b[0m\u001b[0;34m[\u001b[0m\u001b[0;34m:\u001b[0m\u001b[0;34m,\u001b[0m \u001b[0mfeature_idx\u001b[0m\u001b[0;34m]\u001b[0m \u001b[0;34m=\u001b[0m \u001b[0mfiller_feature_values\u001b[0m\u001b[0;34m[\u001b[0m\u001b[0mfeature_idx\u001b[0m\u001b[0;34m]\u001b[0m\u001b[0;34m\u001b[0m\u001b[0;34m\u001b[0m\u001b[0m\n\u001b[0;32m--> 230\u001b[0;31m     \u001b[0mZ\u001b[0m \u001b[0;34m=\u001b[0m \u001b[0mclf\u001b[0m\u001b[0;34m.\u001b[0m\u001b[0mpredict\u001b[0m\u001b[0;34m(\u001b[0m\u001b[0mX_predict\u001b[0m\u001b[0;34m.\u001b[0m\u001b[0mastype\u001b[0m\u001b[0;34m(\u001b[0m\u001b[0mX\u001b[0m\u001b[0;34m.\u001b[0m\u001b[0mdtype\u001b[0m\u001b[0;34m)\u001b[0m\u001b[0;34m)\u001b[0m\u001b[0;34m\u001b[0m\u001b[0;34m\u001b[0m\u001b[0m\n\u001b[0m\u001b[1;32m    231\u001b[0m     \u001b[0mZ\u001b[0m \u001b[0;34m=\u001b[0m \u001b[0mZ\u001b[0m\u001b[0;34m.\u001b[0m\u001b[0mreshape\u001b[0m\u001b[0;34m(\u001b[0m\u001b[0mxx\u001b[0m\u001b[0;34m.\u001b[0m\u001b[0mshape\u001b[0m\u001b[0;34m)\u001b[0m\u001b[0;34m\u001b[0m\u001b[0;34m\u001b[0m\u001b[0m\n\u001b[1;32m    232\u001b[0m     \u001b[0;31m# Plot decisoin region\u001b[0m\u001b[0;34m\u001b[0m\u001b[0;34m\u001b[0m\u001b[0;34m\u001b[0m\u001b[0m\n",
      "\u001b[0;32m<ipython-input-198-8629c09854a5>\u001b[0m in \u001b[0;36mpredict\u001b[0;34m(self, tupla)\u001b[0m\n\u001b[1;32m      7\u001b[0m         \u001b[0;32mfor\u001b[0m \u001b[0mt\u001b[0m \u001b[0;32min\u001b[0m \u001b[0mtupla\u001b[0m\u001b[0;34m:\u001b[0m\u001b[0;34m\u001b[0m\u001b[0;34m\u001b[0m\u001b[0m\n\u001b[1;32m      8\u001b[0m             \u001b[0;31m#print(t)\u001b[0m\u001b[0;34m\u001b[0m\u001b[0;34m\u001b[0m\u001b[0;34m\u001b[0m\u001b[0m\n\u001b[0;32m----> 9\u001b[0;31m             \u001b[0mres\u001b[0m\u001b[0;34m.\u001b[0m\u001b[0mappend\u001b[0m\u001b[0;34m(\u001b[0m\u001b[0mverificar\u001b[0m\u001b[0;34m(\u001b[0m\u001b[0mself\u001b[0m\u001b[0;34m.\u001b[0m\u001b[0mmodelo\u001b[0m\u001b[0;34m,\u001b[0m \u001b[0mt\u001b[0m\u001b[0;34m)\u001b[0m\u001b[0;34m)\u001b[0m\u001b[0;34m\u001b[0m\u001b[0;34m\u001b[0m\u001b[0m\n\u001b[0m\u001b[1;32m     10\u001b[0m         \u001b[0mprint\u001b[0m\u001b[0;34m(\u001b[0m\u001b[0mres\u001b[0m\u001b[0;34m[\u001b[0m\u001b[0;34m:\u001b[0m\u001b[0;36m3\u001b[0m\u001b[0;34m]\u001b[0m\u001b[0;34m)\u001b[0m\u001b[0;34m\u001b[0m\u001b[0;34m\u001b[0m\u001b[0m\n\u001b[1;32m     11\u001b[0m         \u001b[0;32mreturn\u001b[0m\u001b[0;34m(\u001b[0m\u001b[0mres\u001b[0m\u001b[0;34m)\u001b[0m\u001b[0;34m\u001b[0m\u001b[0;34m\u001b[0m\u001b[0m\n",
      "\u001b[0;32m<ipython-input-157-b763451f50ea>\u001b[0m in \u001b[0;36mverificar\u001b[0;34m(probdata, tupla, debug)\u001b[0m\n\u001b[1;32m      3\u001b[0m     \u001b[0mvalClasse\u001b[0m \u001b[0;34m=\u001b[0m \u001b[0;36m0\u001b[0m\u001b[0;34m\u001b[0m\u001b[0;34m\u001b[0m\u001b[0m\n\u001b[1;32m      4\u001b[0m     \u001b[0mmaxClasse\u001b[0m \u001b[0;34m=\u001b[0m \u001b[0;34m''\u001b[0m\u001b[0;34m\u001b[0m\u001b[0;34m\u001b[0m\u001b[0m\n\u001b[0;32m----> 5\u001b[0;31m     \u001b[0;32mfor\u001b[0m \u001b[0mclasse\u001b[0m \u001b[0;32min\u001b[0m \u001b[0mprobdata\u001b[0m\u001b[0;34m[\u001b[0m\u001b[0;34m'classes'\u001b[0m\u001b[0;34m]\u001b[0m\u001b[0;34m:\u001b[0m\u001b[0;34m\u001b[0m\u001b[0;34m\u001b[0m\u001b[0m\n\u001b[0m\u001b[1;32m      6\u001b[0m         \u001b[0mnumerador\u001b[0m \u001b[0;34m=\u001b[0m \u001b[0;36m1\u001b[0m\u001b[0;34m\u001b[0m\u001b[0;34m\u001b[0m\u001b[0m\n\u001b[1;32m      7\u001b[0m         \u001b[0mdenominador\u001b[0m \u001b[0;34m=\u001b[0m \u001b[0;36m1\u001b[0m\u001b[0;34m\u001b[0m\u001b[0;34m\u001b[0m\u001b[0m\n",
      "\u001b[0;31mTypeError\u001b[0m: 'NoneType' object is not subscriptable"
     ]
    },
    {
     "data": {
      "image/png": "[encoded data removed]",
      "text/plain": [
       "<Figure size 432x288 with 1 Axes>"
      ]
     },
     "metadata": {
      "needs_background": "light"
     },
     "output_type": "display_data"
    }
   ],
   "source": [
    "plot_decision_regions(X, y, clf=nb, legend=2)"
   ]
  },
  {
   "cell_type": "code",
   "execution_count": 201,
   "metadata": {},
   "outputs": [
    {
     "data": {
      "text/plain": [
       "array([0, 0, 0])"
      ]
     },
     "execution_count": 201,
     "metadata": {},
     "output_type": "execute_result"
    }
   ],
   "source": [
    "svm.predict([[3.3 ,       1.0        ],\n",
    " [3.31299304, 1.        ],\n",
    " [3.32598608, 1.        ]])"
   ]
  },
  {
   "cell_type": "code",
   "execution_count": 160,
   "metadata": {},
   "outputs": [
    {
     "name": "stderr",
     "output_type": "stream",
     "text": [
      "/usr/local/lib/python3.7/dist-packages/mlxtend/plotting/decision_regions.py:249: MatplotlibDeprecationWarning: Passing unsupported keyword arguments to axis() will raise a TypeError in 3.3.\n",
      "  ax.axis(xmin=xx.min(), xmax=xx.max(), y_min=yy.min(), y_max=yy.max())\n"
     ]
    },
    {
     "data": {
      "image/png": "[encoded data removed]",
      "text/plain": [
       "<Figure size 432x288 with 1 Axes>"
      ]
     },
     "metadata": {
      "needs_background": "light"
     },
     "output_type": "display_data"
    }
   ],
   "source": [
    "from mlxtend.plotting import plot_decision_regions\n",
    "import matplotlib.pyplot as plt\n",
    "from sklearn import datasets\n",
    "from sklearn.svm import SVC\n",
    "\n",
    "# Loading some example data\n",
    "iris2 = datasets.load_iris()\n",
    "X = iris2.data[:, [0, 2]]\n",
    "y = iris2.target\n",
    "\n",
    "# Training a classifier\n",
    "svm = SVC(C=0.5, kernel='linear')\n",
    "svm.fit(X, y)\n",
    "\n",
    "\n",
    "# Plotting decision regions\n",
    "plot_decision_regions(X, y, clf=svm, legend=2)\n",
    "\n",
    "# Adding axes annotations\n",
    "plt.xlabel('sepal length [cm]')\n",
    "plt.ylabel('petal length [cm]')\n",
    "plt.title('SVM on Iris')\n",
    "plt.show()"
   ]
  },
  {
   "cell_type": "code",
   "execution_count": 142,
   "metadata": {},
   "outputs": [],
   "source": [
    "iris = datasets.load_iris()\n",
    "X = iris.data[:, [0, 2]]\n",
    "y = iris.target\n"
   ]
  },
  {
   "cell_type": "code",
   "execution_count": 144,
   "metadata": {},
   "outputs": [
    {
     "data": {
      "text/plain": [
       "array([0, 0, 0, 0, 0, 0, 0, 0, 0, 0, 0, 0, 0, 0, 0, 0, 0, 0, 0, 0, 0, 0,\n",
       "       0, 0, 0, 0, 0, 0, 0, 0, 0, 0, 0, 0, 0, 0, 0, 0, 0, 0, 0, 0, 0, 0,\n",
       "       0, 0, 0, 0, 0, 0, 1, 1, 1, 1, 1, 1, 1, 1, 1, 1, 1, 1, 1, 1, 1, 1,\n",
       "       1, 1, 1, 1, 1, 1, 1, 1, 1, 1, 1, 1, 1, 1, 1, 1, 1, 1, 1, 1, 1, 1,\n",
       "       1, 1, 1, 1, 1, 1, 1, 1, 1, 1, 1, 1, 2, 2, 2, 2, 2, 2, 2, 2, 2, 2,\n",
       "       2, 2, 2, 2, 2, 2, 2, 2, 2, 2, 2, 2, 2, 2, 2, 2, 2, 2, 2, 2, 2, 2,\n",
       "       2, 2, 2, 2, 2, 2, 2, 2, 2, 2, 2, 2, 2, 2, 2, 2, 2, 2])"
      ]
     },
     "execution_count": 144,
     "metadata": {},
     "output_type": "execute_result"
    }
   ],
   "source": [
    "y"
   ]
  },
  {
   "cell_type": "code",
   "execution_count": 143,
   "metadata": {},
   "outputs": [
    {
     "data": {
      "text/plain": [
       "array([[5.1, 1.4],\n",
       "       [4.9, 1.4],\n",
       "       [4.7, 1.3],\n",
       "       [4.6, 1.5],\n",
       "       [5. , 1.4],\n",
       "       [5.4, 1.7],\n",
       "       [4.6, 1.4],\n",
       "       [5. , 1.5],\n",
       "       [4.4, 1.4],\n",
       "       [4.9, 1.5],\n",
       "       [5.4, 1.5],\n",
       "       [4.8, 1.6],\n",
       "       [4.8, 1.4],\n",
       "       [4.3, 1.1],\n",
       "       [5.8, 1.2],\n",
       "       [5.7, 1.5],\n",
       "       [5.4, 1.3],\n",
       "       [5.1, 1.4],\n",
       "       [5.7, 1.7],\n",
       "       [5.1, 1.5],\n",
       "       [5.4, 1.7],\n",
       "       [5.1, 1.5],\n",
       "       [4.6, 1. ],\n",
       "       [5.1, 1.7],\n",
       "       [4.8, 1.9],\n",
       "       [5. , 1.6],\n",
       "       [5. , 1.6],\n",
       "       [5.2, 1.5],\n",
       "       [5.2, 1.4],\n",
       "       [4.7, 1.6],\n",
       "       [4.8, 1.6],\n",
       "       [5.4, 1.5],\n",
       "       [5.2, 1.5],\n",
       "       [5.5, 1.4],\n",
       "       [4.9, 1.5],\n",
       "       [5. , 1.2],\n",
       "       [5.5, 1.3],\n",
       "       [4.9, 1.4],\n",
       "       [4.4, 1.3],\n",
       "       [5.1, 1.5],\n",
       "       [5. , 1.3],\n",
       "       [4.5, 1.3],\n",
       "       [4.4, 1.3],\n",
       "       [5. , 1.6],\n",
       "       [5.1, 1.9],\n",
       "       [4.8, 1.4],\n",
       "       [5.1, 1.6],\n",
       "       [4.6, 1.4],\n",
       "       [5.3, 1.5],\n",
       "       [5. , 1.4],\n",
       "       [7. , 4.7],\n",
       "       [6.4, 4.5],\n",
       "       [6.9, 4.9],\n",
       "       [5.5, 4. ],\n",
       "       [6.5, 4.6],\n",
       "       [5.7, 4.5],\n",
       "       [6.3, 4.7],\n",
       "       [4.9, 3.3],\n",
       "       [6.6, 4.6],\n",
       "       [5.2, 3.9],\n",
       "       [5. , 3.5],\n",
       "       [5.9, 4.2],\n",
       "       [6. , 4. ],\n",
       "       [6.1, 4.7],\n",
       "       [5.6, 3.6],\n",
       "       [6.7, 4.4],\n",
       "       [5.6, 4.5],\n",
       "       [5.8, 4.1],\n",
       "       [6.2, 4.5],\n",
       "       [5.6, 3.9],\n",
       "       [5.9, 4.8],\n",
       "       [6.1, 4. ],\n",
       "       [6.3, 4.9],\n",
       "       [6.1, 4.7],\n",
       "       [6.4, 4.3],\n",
       "       [6.6, 4.4],\n",
       "       [6.8, 4.8],\n",
       "       [6.7, 5. ],\n",
       "       [6. , 4.5],\n",
       "       [5.7, 3.5],\n",
       "       [5.5, 3.8],\n",
       "       [5.5, 3.7],\n",
       "       [5.8, 3.9],\n",
       "       [6. , 5.1],\n",
       "       [5.4, 4.5],\n",
       "       [6. , 4.5],\n",
       "       [6.7, 4.7],\n",
       "       [6.3, 4.4],\n",
       "       [5.6, 4.1],\n",
       "       [5.5, 4. ],\n",
       "       [5.5, 4.4],\n",
       "       [6.1, 4.6],\n",
       "       [5.8, 4. ],\n",
       "       [5. , 3.3],\n",
       "       [5.6, 4.2],\n",
       "       [5.7, 4.2],\n",
       "       [5.7, 4.2],\n",
       "       [6.2, 4.3],\n",
       "       [5.1, 3. ],\n",
       "       [5.7, 4.1],\n",
       "       [6.3, 6. ],\n",
       "       [5.8, 5.1],\n",
       "       [7.1, 5.9],\n",
       "       [6.3, 5.6],\n",
       "       [6.5, 5.8],\n",
       "       [7.6, 6.6],\n",
       "       [4.9, 4.5],\n",
       "       [7.3, 6.3],\n",
       "       [6.7, 5.8],\n",
       "       [7.2, 6.1],\n",
       "       [6.5, 5.1],\n",
       "       [6.4, 5.3],\n",
       "       [6.8, 5.5],\n",
       "       [5.7, 5. ],\n",
       "       [5.8, 5.1],\n",
       "       [6.4, 5.3],\n",
       "       [6.5, 5.5],\n",
       "       [7.7, 6.7],\n",
       "       [7.7, 6.9],\n",
       "       [6. , 5. ],\n",
       "       [6.9, 5.7],\n",
       "       [5.6, 4.9],\n",
       "       [7.7, 6.7],\n",
       "       [6.3, 4.9],\n",
       "       [6.7, 5.7],\n",
       "       [7.2, 6. ],\n",
       "       [6.2, 4.8],\n",
       "       [6.1, 4.9],\n",
       "       [6.4, 5.6],\n",
       "       [7.2, 5.8],\n",
       "       [7.4, 6.1],\n",
       "       [7.9, 6.4],\n",
       "       [6.4, 5.6],\n",
       "       [6.3, 5.1],\n",
       "       [6.1, 5.6],\n",
       "       [7.7, 6.1],\n",
       "       [6.3, 5.6],\n",
       "       [6.4, 5.5],\n",
       "       [6. , 4.8],\n",
       "       [6.9, 5.4],\n",
       "       [6.7, 5.6],\n",
       "       [6.9, 5.1],\n",
       "       [5.8, 5.1],\n",
       "       [6.8, 5.9],\n",
       "       [6.7, 5.7],\n",
       "       [6.7, 5.2],\n",
       "       [6.3, 5. ],\n",
       "       [6.5, 5.2],\n",
       "       [6.2, 5.4],\n",
       "       [5.9, 5.1]])"
      ]
     },
     "execution_count": 143,
     "metadata": {},
     "output_type": "execute_result"
    }
   ],
   "source": [
    "X"
   ]
  },
  {
   "cell_type": "code",
   "execution_count": 123,
   "metadata": {},
   "outputs": [
    {
     "name": "stdout",
     "output_type": "stream",
     "text": [
      "Number of mislabeled points out of a total 75 points : 4\n"
     ]
    }
   ],
   "source": [
    "from sklearn.datasets import load_iris\n",
    "from sklearn.model_selection import train_test_split\n",
    "from sklearn.naive_bayes import GaussianNB\n",
    "X, y = load_iris(return_X_y=True)\n",
    "X_train, X_test, y_train, y_test = train_test_split(X, y, test_size=0.5, random_state=0)\n",
    "gnb = GaussianNB()\n",
    "y_pred = gnb.fit(X_train, y_train).predict(X_test)\n",
    "print(\"Number of mislabeled points out of a total %d points : %d\" % (X_test.shape[0], (y_test != y_pred).sum()))\n",
    "\n"
   ]
  },
  {
   "cell_type": "code",
   "execution_count": null,
   "metadata": {},
   "outputs": [],
   "source": []
  },
  {
   "cell_type": "code",
   "execution_count": 197,
   "metadata": {},
   "outputs": [
    {
     "data": {
      "image/png": "[encoded data removed]",
      "text/plain": [
       "<Figure size 432x288 with 1 Axes>"
      ]
     },
     "metadata": {
      "needs_background": "light"
     },
     "output_type": "display_data"
    },
    {
     "data": {
      "image/png": "[encoded data removed]",
      "text/plain": [
       "<Figure size 432x288 with 1 Axes>"
      ]
     },
     "metadata": {
      "needs_background": "light"
     },
     "output_type": "display_data"
    }
   ],
   "source": [
    "import numpy as np\n",
    "import matplotlib.pyplot as plt\n",
    "from matplotlib.colors import ListedColormap\n",
    "from sklearn import neighbors, datasets\n",
    "\n",
    "n_neighbors = 15\n",
    "\n",
    "# import some data to play with\n",
    "iris2 = datasets.load_iris()\n",
    "X = iris2.data[:, :2]  # we only take the first two features. We could\n",
    "                      # avoid this ugly slicing by using a two-dim dataset\n",
    "y = iris2.target\n",
    "\n",
    "h = .02  # step size in the mesh\n",
    "\n",
    "# Create color maps\n",
    "cmap_light = ListedColormap(['#FFAAAA', '#AAFFAA', '#AAAAFF'])\n",
    "cmap_bold = ListedColormap(['#FF0000', '#00FF00', '#0000FF'])\n",
    "\n",
    "for weights in ['uniform', 'distance']:\n",
    "    # we create an instance of Neighbours Classifier and fit the data.\n",
    "    clf = neighbors.KNeighborsClassifier(n_neighbors, weights=weights)\n",
    "    clf.fit(X, y)\n",
    "\n",
    "    # Plot the decision boundary. For that, we will assign a color to each\n",
    "    # point in the mesh [x_min, x_max]x[y_min, y_max].\n",
    "    x_min, x_max = X[:, 0].min() - 1, X[:, 0].max() + 1\n",
    "    y_min, y_max = X[:, 1].min() - 1, X[:, 1].max() + 1\n",
    "    xx, yy = np.meshgrid(np.arange(x_min, x_max, h),\n",
    "                         np.arange(y_min, y_max, h))\n",
    "    Z = clf.predict(np.c_[xx.ravel(), yy.ravel()])\n",
    "\n",
    "    # Put the result into a color plot\n",
    "    Z = Z.reshape(xx.shape)\n",
    "    plt.figure()\n",
    "    plt.pcolormesh(xx, yy, Z, cmap=cmap_light)\n",
    "\n",
    "    # Plot also the training points\n",
    "    plt.scatter(X[:, 0], X[:, 1], c=y, cmap=cmap_bold)\n",
    "    plt.xlim(xx.min(), xx.max())\n",
    "    plt.ylim(yy.min(), yy.max())\n",
    "    plt.title(\"3-Class classification (k = %i, weights = '%s')\"\n",
    "              % (n_neighbors, weights))\n",
    "\n",
    "plt.show()"
   ]
  }
 ],
 "metadata": {
  "kernelspec": {
   "display_name": "Python 3",
   "language": "python",
   "name": "python3"
  },
  "language_info": {
   "codemirror_mode": {
    "name": "ipython",
    "version": 3
   },
   "file_extension": ".py",
   "mimetype": "text/x-python",
   "name": "python",
   "nbconvert_exporter": "python",
   "pygments_lexer": "ipython3",
   "version": "3.7.3"
  }
 },
 "nbformat": 4,
 "nbformat_minor": 4
}
